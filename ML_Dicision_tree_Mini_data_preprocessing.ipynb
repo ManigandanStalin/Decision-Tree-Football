{
  "nbformat": 4,
  "nbformat_minor": 0,
  "metadata": {
    "colab": {
      "name": "ML Dicision tree Mini data preprocessing.ipynb",
      "provenance": []
    },
    "kernelspec": {
      "name": "python3",
      "display_name": "Python 3"
    },
    "language_info": {
      "name": "python"
    }
  },
  "cells": [
    {
      "cell_type": "code",
      "metadata": {
        "id": "-vPKVkTol17c"
      },
      "source": [
        "# import libraries\n",
        "import numpy as np\n",
        "import pandas as pd \n",
        "import matplotlib.pyplot as plt\n",
        "from google.colab import files\n"
      ],
      "execution_count": null,
      "outputs": []
    },
    {
      "cell_type": "code",
      "metadata": {
        "colab": {
          "resources": {
            "http://localhost:8080/nbextensions/google.colab/files.js": {
              "data": "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",
              "ok": true,
              "headers": [
                [
                  "content-type",
                  "application/javascript"
                ]
              ],
              "status": 200,
              "status_text": ""
            }
          },
          "base_uri": "https://localhost:8080/",
          "height": 73
        },
        "id": "icmYT_qkl8pN",
        "outputId": "f6a0ec68-581a-4f4f-862c-5278b96c490d"
      },
      "source": [
        "uploaded=files.upload()"
      ],
      "execution_count": null,
      "outputs": [
        {
          "output_type": "display_data",
          "data": {
            "text/html": [
              "\n",
              "     <input type=\"file\" id=\"files-d10ce591-d16f-411e-8db1-a4cb60a5a00c\" name=\"files[]\" multiple disabled\n",
              "        style=\"border:none\" />\n",
              "     <output id=\"result-d10ce591-d16f-411e-8db1-a4cb60a5a00c\">\n",
              "      Upload widget is only available when the cell has been executed in the\n",
              "      current browser session. Please rerun this cell to enable.\n",
              "      </output>\n",
              "      <script src=\"/nbextensions/google.colab/files.js\"></script> "
            ],
            "text/plain": [
              "<IPython.core.display.HTML object>"
            ]
          },
          "metadata": {}
        },
        {
          "output_type": "stream",
          "name": "stdout",
          "text": [
            "Saving football Decision Tree.xlsx to football Decision Tree.xlsx\n"
          ]
        }
      ]
    },
    {
      "cell_type": "code",
      "metadata": {
        "id": "QOvyxnCEmCTz"
      },
      "source": [
        "df=pd.read_excel('football Decision Tree.xlsx')"
      ],
      "execution_count": null,
      "outputs": []
    },
    {
      "cell_type": "code",
      "metadata": {
        "id": "oldi5S0om-h9"
      },
      "source": [
        "df1=pd.DataFrame(df)"
      ],
      "execution_count": null,
      "outputs": []
    },
    {
      "cell_type": "code",
      "metadata": {
        "colab": {
          "base_uri": "https://localhost:8080/",
          "height": 240
        },
        "id": "fEyfYSSsnBrA",
        "outputId": "397c395f-0a24-44c1-9758-67901d9c43e6"
      },
      "source": [
        "df1.head()"
      ],
      "execution_count": null,
      "outputs": [
        {
          "output_type": "execute_result",
          "data": {
            "text/html": [
              "<div>\n",
              "<style scoped>\n",
              "    .dataframe tbody tr th:only-of-type {\n",
              "        vertical-align: middle;\n",
              "    }\n",
              "\n",
              "    .dataframe tbody tr th {\n",
              "        vertical-align: top;\n",
              "    }\n",
              "\n",
              "    .dataframe thead th {\n",
              "        text-align: right;\n",
              "    }\n",
              "</style>\n",
              "<table border=\"1\" class=\"dataframe\">\n",
              "  <thead>\n",
              "    <tr style=\"text-align: right;\">\n",
              "      <th></th>\n",
              "      <th>Position</th>\n",
              "      <th>Crossing</th>\n",
              "      <th>Finishing</th>\n",
              "      <th>HeadingAccuracy</th>\n",
              "      <th>ShortPassing</th>\n",
              "      <th>Volleys</th>\n",
              "      <th>Dribbling</th>\n",
              "      <th>Curve</th>\n",
              "      <th>FKAccuracy</th>\n",
              "      <th>LongPassing</th>\n",
              "      <th>BallControl</th>\n",
              "      <th>Acceleration</th>\n",
              "      <th>SprintSpeed</th>\n",
              "      <th>Agility</th>\n",
              "      <th>Reactions</th>\n",
              "      <th>Balance</th>\n",
              "      <th>ShotPower</th>\n",
              "      <th>Jumping</th>\n",
              "      <th>Stamina</th>\n",
              "      <th>Strength</th>\n",
              "      <th>LongShots</th>\n",
              "      <th>Aggression</th>\n",
              "      <th>Interceptions</th>\n",
              "      <th>Positioning</th>\n",
              "      <th>Vision</th>\n",
              "      <th>Penalties</th>\n",
              "      <th>Composure</th>\n",
              "      <th>Marking</th>\n",
              "      <th>StandingTackle</th>\n",
              "      <th>SlidingTackle</th>\n",
              "      <th>GKDiving</th>\n",
              "      <th>GKHandling</th>\n",
              "      <th>GKKicking</th>\n",
              "      <th>GKPositioning</th>\n",
              "      <th>GKReflexes</th>\n",
              "      <th>International Reputation</th>\n",
              "    </tr>\n",
              "  </thead>\n",
              "  <tbody>\n",
              "    <tr>\n",
              "      <th>0</th>\n",
              "      <td>RF</td>\n",
              "      <td>84</td>\n",
              "      <td>95</td>\n",
              "      <td>70</td>\n",
              "      <td>90</td>\n",
              "      <td>86</td>\n",
              "      <td>97</td>\n",
              "      <td>93</td>\n",
              "      <td>94</td>\n",
              "      <td>87</td>\n",
              "      <td>96</td>\n",
              "      <td>91</td>\n",
              "      <td>86</td>\n",
              "      <td>91</td>\n",
              "      <td>95</td>\n",
              "      <td>95</td>\n",
              "      <td>85</td>\n",
              "      <td>68</td>\n",
              "      <td>72</td>\n",
              "      <td>59</td>\n",
              "      <td>94</td>\n",
              "      <td>48</td>\n",
              "      <td>22</td>\n",
              "      <td>94</td>\n",
              "      <td>94</td>\n",
              "      <td>75</td>\n",
              "      <td>96</td>\n",
              "      <td>33</td>\n",
              "      <td>28</td>\n",
              "      <td>26</td>\n",
              "      <td>6</td>\n",
              "      <td>11</td>\n",
              "      <td>15</td>\n",
              "      <td>14</td>\n",
              "      <td>8</td>\n",
              "      <td>5</td>\n",
              "    </tr>\n",
              "    <tr>\n",
              "      <th>1</th>\n",
              "      <td>ST</td>\n",
              "      <td>84</td>\n",
              "      <td>94</td>\n",
              "      <td>89</td>\n",
              "      <td>81</td>\n",
              "      <td>87</td>\n",
              "      <td>88</td>\n",
              "      <td>81</td>\n",
              "      <td>76</td>\n",
              "      <td>77</td>\n",
              "      <td>94</td>\n",
              "      <td>89</td>\n",
              "      <td>91</td>\n",
              "      <td>87</td>\n",
              "      <td>96</td>\n",
              "      <td>70</td>\n",
              "      <td>95</td>\n",
              "      <td>95</td>\n",
              "      <td>88</td>\n",
              "      <td>79</td>\n",
              "      <td>93</td>\n",
              "      <td>63</td>\n",
              "      <td>29</td>\n",
              "      <td>95</td>\n",
              "      <td>82</td>\n",
              "      <td>85</td>\n",
              "      <td>95</td>\n",
              "      <td>28</td>\n",
              "      <td>31</td>\n",
              "      <td>23</td>\n",
              "      <td>7</td>\n",
              "      <td>11</td>\n",
              "      <td>15</td>\n",
              "      <td>14</td>\n",
              "      <td>11</td>\n",
              "      <td>5</td>\n",
              "    </tr>\n",
              "    <tr>\n",
              "      <th>2</th>\n",
              "      <td>LW</td>\n",
              "      <td>79</td>\n",
              "      <td>87</td>\n",
              "      <td>62</td>\n",
              "      <td>84</td>\n",
              "      <td>84</td>\n",
              "      <td>96</td>\n",
              "      <td>88</td>\n",
              "      <td>87</td>\n",
              "      <td>78</td>\n",
              "      <td>95</td>\n",
              "      <td>94</td>\n",
              "      <td>90</td>\n",
              "      <td>96</td>\n",
              "      <td>94</td>\n",
              "      <td>84</td>\n",
              "      <td>80</td>\n",
              "      <td>61</td>\n",
              "      <td>81</td>\n",
              "      <td>49</td>\n",
              "      <td>82</td>\n",
              "      <td>56</td>\n",
              "      <td>36</td>\n",
              "      <td>89</td>\n",
              "      <td>87</td>\n",
              "      <td>81</td>\n",
              "      <td>94</td>\n",
              "      <td>27</td>\n",
              "      <td>24</td>\n",
              "      <td>33</td>\n",
              "      <td>9</td>\n",
              "      <td>9</td>\n",
              "      <td>15</td>\n",
              "      <td>15</td>\n",
              "      <td>11</td>\n",
              "      <td>5</td>\n",
              "    </tr>\n",
              "    <tr>\n",
              "      <th>3</th>\n",
              "      <td>GK</td>\n",
              "      <td>17</td>\n",
              "      <td>13</td>\n",
              "      <td>21</td>\n",
              "      <td>50</td>\n",
              "      <td>13</td>\n",
              "      <td>18</td>\n",
              "      <td>21</td>\n",
              "      <td>19</td>\n",
              "      <td>51</td>\n",
              "      <td>42</td>\n",
              "      <td>57</td>\n",
              "      <td>58</td>\n",
              "      <td>60</td>\n",
              "      <td>90</td>\n",
              "      <td>43</td>\n",
              "      <td>31</td>\n",
              "      <td>67</td>\n",
              "      <td>43</td>\n",
              "      <td>64</td>\n",
              "      <td>12</td>\n",
              "      <td>38</td>\n",
              "      <td>30</td>\n",
              "      <td>12</td>\n",
              "      <td>68</td>\n",
              "      <td>40</td>\n",
              "      <td>68</td>\n",
              "      <td>15</td>\n",
              "      <td>21</td>\n",
              "      <td>13</td>\n",
              "      <td>90</td>\n",
              "      <td>85</td>\n",
              "      <td>87</td>\n",
              "      <td>88</td>\n",
              "      <td>94</td>\n",
              "      <td>4</td>\n",
              "    </tr>\n",
              "    <tr>\n",
              "      <th>4</th>\n",
              "      <td>RCM</td>\n",
              "      <td>93</td>\n",
              "      <td>82</td>\n",
              "      <td>55</td>\n",
              "      <td>92</td>\n",
              "      <td>82</td>\n",
              "      <td>86</td>\n",
              "      <td>85</td>\n",
              "      <td>83</td>\n",
              "      <td>91</td>\n",
              "      <td>91</td>\n",
              "      <td>78</td>\n",
              "      <td>76</td>\n",
              "      <td>79</td>\n",
              "      <td>91</td>\n",
              "      <td>77</td>\n",
              "      <td>91</td>\n",
              "      <td>63</td>\n",
              "      <td>90</td>\n",
              "      <td>75</td>\n",
              "      <td>91</td>\n",
              "      <td>76</td>\n",
              "      <td>61</td>\n",
              "      <td>87</td>\n",
              "      <td>94</td>\n",
              "      <td>79</td>\n",
              "      <td>88</td>\n",
              "      <td>68</td>\n",
              "      <td>58</td>\n",
              "      <td>51</td>\n",
              "      <td>15</td>\n",
              "      <td>13</td>\n",
              "      <td>5</td>\n",
              "      <td>10</td>\n",
              "      <td>13</td>\n",
              "      <td>4</td>\n",
              "    </tr>\n",
              "  </tbody>\n",
              "</table>\n",
              "</div>"
            ],
            "text/plain": [
              "  Position  Crossing  ...  GKReflexes  International Reputation\n",
              "0       RF        84  ...           8                         5\n",
              "1       ST        84  ...          11                         5\n",
              "2       LW        79  ...          11                         5\n",
              "3       GK        17  ...          94                         4\n",
              "4      RCM        93  ...          13                         4\n",
              "\n",
              "[5 rows x 36 columns]"
            ]
          },
          "metadata": {},
          "execution_count": 11
        }
      ]
    },
    {
      "cell_type": "code",
      "metadata": {
        "colab": {
          "base_uri": "https://localhost:8080/"
        },
        "id": "oHm7TuxwnQT1",
        "outputId": "3caba933-f773-41cc-e042-f0dd8c69bf30"
      },
      "source": [
        "df1.isna().sum()"
      ],
      "execution_count": null,
      "outputs": [
        {
          "output_type": "execute_result",
          "data": {
            "text/plain": [
              "Position                    12\n",
              "Crossing                     0\n",
              "Finishing                    0\n",
              "HeadingAccuracy              0\n",
              "ShortPassing                 0\n",
              "Volleys                      0\n",
              "Dribbling                    0\n",
              "Curve                        0\n",
              "FKAccuracy                   0\n",
              "LongPassing                  0\n",
              "BallControl                  0\n",
              "Acceleration                 0\n",
              "SprintSpeed                  0\n",
              "Agility                      0\n",
              "Reactions                    0\n",
              "Balance                      0\n",
              "ShotPower                    0\n",
              "Jumping                      0\n",
              "Stamina                      0\n",
              "Strength                     0\n",
              "LongShots                    0\n",
              "Aggression                   0\n",
              "Interceptions                0\n",
              "Positioning                  0\n",
              "Vision                       0\n",
              "Penalties                    0\n",
              "Composure                    0\n",
              "Marking                      0\n",
              "StandingTackle               0\n",
              "SlidingTackle                0\n",
              "GKDiving                     0\n",
              "GKHandling                   0\n",
              "GKKicking                    0\n",
              "GKPositioning                0\n",
              "GKReflexes                   0\n",
              "International Reputation     0\n",
              "dtype: int64"
            ]
          },
          "metadata": {},
          "execution_count": 13
        }
      ]
    },
    {
      "cell_type": "code",
      "metadata": {
        "colab": {
          "base_uri": "https://localhost:8080/",
          "height": 454
        },
        "id": "oKbjTG9pplrU",
        "outputId": "f6f47af9-8f3e-459f-c357-a95ddd244582"
      },
      "source": [
        "df1[df1['Position']!=None]"
      ],
      "execution_count": null,
      "outputs": [
        {
          "output_type": "execute_result",
          "data": {
            "text/html": [
              "<div>\n",
              "<style scoped>\n",
              "    .dataframe tbody tr th:only-of-type {\n",
              "        vertical-align: middle;\n",
              "    }\n",
              "\n",
              "    .dataframe tbody tr th {\n",
              "        vertical-align: top;\n",
              "    }\n",
              "\n",
              "    .dataframe thead th {\n",
              "        text-align: right;\n",
              "    }\n",
              "</style>\n",
              "<table border=\"1\" class=\"dataframe\">\n",
              "  <thead>\n",
              "    <tr style=\"text-align: right;\">\n",
              "      <th></th>\n",
              "      <th>Position</th>\n",
              "      <th>Crossing</th>\n",
              "      <th>Finishing</th>\n",
              "      <th>HeadingAccuracy</th>\n",
              "      <th>ShortPassing</th>\n",
              "      <th>Volleys</th>\n",
              "      <th>Dribbling</th>\n",
              "      <th>Curve</th>\n",
              "      <th>FKAccuracy</th>\n",
              "      <th>LongPassing</th>\n",
              "      <th>BallControl</th>\n",
              "      <th>Acceleration</th>\n",
              "      <th>SprintSpeed</th>\n",
              "      <th>Agility</th>\n",
              "      <th>Reactions</th>\n",
              "      <th>Balance</th>\n",
              "      <th>ShotPower</th>\n",
              "      <th>Jumping</th>\n",
              "      <th>Stamina</th>\n",
              "      <th>Strength</th>\n",
              "      <th>LongShots</th>\n",
              "      <th>Aggression</th>\n",
              "      <th>Interceptions</th>\n",
              "      <th>Positioning</th>\n",
              "      <th>Vision</th>\n",
              "      <th>Penalties</th>\n",
              "      <th>Composure</th>\n",
              "      <th>Marking</th>\n",
              "      <th>StandingTackle</th>\n",
              "      <th>SlidingTackle</th>\n",
              "      <th>GKDiving</th>\n",
              "      <th>GKHandling</th>\n",
              "      <th>GKKicking</th>\n",
              "      <th>GKPositioning</th>\n",
              "      <th>GKReflexes</th>\n",
              "      <th>International Reputation</th>\n",
              "    </tr>\n",
              "  </thead>\n",
              "  <tbody>\n",
              "    <tr>\n",
              "      <th>0</th>\n",
              "      <td>RF</td>\n",
              "      <td>84</td>\n",
              "      <td>95</td>\n",
              "      <td>70</td>\n",
              "      <td>90</td>\n",
              "      <td>86</td>\n",
              "      <td>97</td>\n",
              "      <td>93</td>\n",
              "      <td>94</td>\n",
              "      <td>87</td>\n",
              "      <td>96</td>\n",
              "      <td>91</td>\n",
              "      <td>86</td>\n",
              "      <td>91</td>\n",
              "      <td>95</td>\n",
              "      <td>95</td>\n",
              "      <td>85</td>\n",
              "      <td>68</td>\n",
              "      <td>72</td>\n",
              "      <td>59</td>\n",
              "      <td>94</td>\n",
              "      <td>48</td>\n",
              "      <td>22</td>\n",
              "      <td>94</td>\n",
              "      <td>94</td>\n",
              "      <td>75</td>\n",
              "      <td>96</td>\n",
              "      <td>33</td>\n",
              "      <td>28</td>\n",
              "      <td>26</td>\n",
              "      <td>6</td>\n",
              "      <td>11</td>\n",
              "      <td>15</td>\n",
              "      <td>14</td>\n",
              "      <td>8</td>\n",
              "      <td>5</td>\n",
              "    </tr>\n",
              "    <tr>\n",
              "      <th>1</th>\n",
              "      <td>ST</td>\n",
              "      <td>84</td>\n",
              "      <td>94</td>\n",
              "      <td>89</td>\n",
              "      <td>81</td>\n",
              "      <td>87</td>\n",
              "      <td>88</td>\n",
              "      <td>81</td>\n",
              "      <td>76</td>\n",
              "      <td>77</td>\n",
              "      <td>94</td>\n",
              "      <td>89</td>\n",
              "      <td>91</td>\n",
              "      <td>87</td>\n",
              "      <td>96</td>\n",
              "      <td>70</td>\n",
              "      <td>95</td>\n",
              "      <td>95</td>\n",
              "      <td>88</td>\n",
              "      <td>79</td>\n",
              "      <td>93</td>\n",
              "      <td>63</td>\n",
              "      <td>29</td>\n",
              "      <td>95</td>\n",
              "      <td>82</td>\n",
              "      <td>85</td>\n",
              "      <td>95</td>\n",
              "      <td>28</td>\n",
              "      <td>31</td>\n",
              "      <td>23</td>\n",
              "      <td>7</td>\n",
              "      <td>11</td>\n",
              "      <td>15</td>\n",
              "      <td>14</td>\n",
              "      <td>11</td>\n",
              "      <td>5</td>\n",
              "    </tr>\n",
              "    <tr>\n",
              "      <th>2</th>\n",
              "      <td>LW</td>\n",
              "      <td>79</td>\n",
              "      <td>87</td>\n",
              "      <td>62</td>\n",
              "      <td>84</td>\n",
              "      <td>84</td>\n",
              "      <td>96</td>\n",
              "      <td>88</td>\n",
              "      <td>87</td>\n",
              "      <td>78</td>\n",
              "      <td>95</td>\n",
              "      <td>94</td>\n",
              "      <td>90</td>\n",
              "      <td>96</td>\n",
              "      <td>94</td>\n",
              "      <td>84</td>\n",
              "      <td>80</td>\n",
              "      <td>61</td>\n",
              "      <td>81</td>\n",
              "      <td>49</td>\n",
              "      <td>82</td>\n",
              "      <td>56</td>\n",
              "      <td>36</td>\n",
              "      <td>89</td>\n",
              "      <td>87</td>\n",
              "      <td>81</td>\n",
              "      <td>94</td>\n",
              "      <td>27</td>\n",
              "      <td>24</td>\n",
              "      <td>33</td>\n",
              "      <td>9</td>\n",
              "      <td>9</td>\n",
              "      <td>15</td>\n",
              "      <td>15</td>\n",
              "      <td>11</td>\n",
              "      <td>5</td>\n",
              "    </tr>\n",
              "    <tr>\n",
              "      <th>3</th>\n",
              "      <td>GK</td>\n",
              "      <td>17</td>\n",
              "      <td>13</td>\n",
              "      <td>21</td>\n",
              "      <td>50</td>\n",
              "      <td>13</td>\n",
              "      <td>18</td>\n",
              "      <td>21</td>\n",
              "      <td>19</td>\n",
              "      <td>51</td>\n",
              "      <td>42</td>\n",
              "      <td>57</td>\n",
              "      <td>58</td>\n",
              "      <td>60</td>\n",
              "      <td>90</td>\n",
              "      <td>43</td>\n",
              "      <td>31</td>\n",
              "      <td>67</td>\n",
              "      <td>43</td>\n",
              "      <td>64</td>\n",
              "      <td>12</td>\n",
              "      <td>38</td>\n",
              "      <td>30</td>\n",
              "      <td>12</td>\n",
              "      <td>68</td>\n",
              "      <td>40</td>\n",
              "      <td>68</td>\n",
              "      <td>15</td>\n",
              "      <td>21</td>\n",
              "      <td>13</td>\n",
              "      <td>90</td>\n",
              "      <td>85</td>\n",
              "      <td>87</td>\n",
              "      <td>88</td>\n",
              "      <td>94</td>\n",
              "      <td>4</td>\n",
              "    </tr>\n",
              "    <tr>\n",
              "      <th>4</th>\n",
              "      <td>RCM</td>\n",
              "      <td>93</td>\n",
              "      <td>82</td>\n",
              "      <td>55</td>\n",
              "      <td>92</td>\n",
              "      <td>82</td>\n",
              "      <td>86</td>\n",
              "      <td>85</td>\n",
              "      <td>83</td>\n",
              "      <td>91</td>\n",
              "      <td>91</td>\n",
              "      <td>78</td>\n",
              "      <td>76</td>\n",
              "      <td>79</td>\n",
              "      <td>91</td>\n",
              "      <td>77</td>\n",
              "      <td>91</td>\n",
              "      <td>63</td>\n",
              "      <td>90</td>\n",
              "      <td>75</td>\n",
              "      <td>91</td>\n",
              "      <td>76</td>\n",
              "      <td>61</td>\n",
              "      <td>87</td>\n",
              "      <td>94</td>\n",
              "      <td>79</td>\n",
              "      <td>88</td>\n",
              "      <td>68</td>\n",
              "      <td>58</td>\n",
              "      <td>51</td>\n",
              "      <td>15</td>\n",
              "      <td>13</td>\n",
              "      <td>5</td>\n",
              "      <td>10</td>\n",
              "      <td>13</td>\n",
              "      <td>4</td>\n",
              "    </tr>\n",
              "    <tr>\n",
              "      <th>...</th>\n",
              "      <td>...</td>\n",
              "      <td>...</td>\n",
              "      <td>...</td>\n",
              "      <td>...</td>\n",
              "      <td>...</td>\n",
              "      <td>...</td>\n",
              "      <td>...</td>\n",
              "      <td>...</td>\n",
              "      <td>...</td>\n",
              "      <td>...</td>\n",
              "      <td>...</td>\n",
              "      <td>...</td>\n",
              "      <td>...</td>\n",
              "      <td>...</td>\n",
              "      <td>...</td>\n",
              "      <td>...</td>\n",
              "      <td>...</td>\n",
              "      <td>...</td>\n",
              "      <td>...</td>\n",
              "      <td>...</td>\n",
              "      <td>...</td>\n",
              "      <td>...</td>\n",
              "      <td>...</td>\n",
              "      <td>...</td>\n",
              "      <td>...</td>\n",
              "      <td>...</td>\n",
              "      <td>...</td>\n",
              "      <td>...</td>\n",
              "      <td>...</td>\n",
              "      <td>...</td>\n",
              "      <td>...</td>\n",
              "      <td>...</td>\n",
              "      <td>...</td>\n",
              "      <td>...</td>\n",
              "      <td>...</td>\n",
              "      <td>...</td>\n",
              "    </tr>\n",
              "    <tr>\n",
              "      <th>18154</th>\n",
              "      <td>CM</td>\n",
              "      <td>34</td>\n",
              "      <td>38</td>\n",
              "      <td>40</td>\n",
              "      <td>49</td>\n",
              "      <td>25</td>\n",
              "      <td>42</td>\n",
              "      <td>30</td>\n",
              "      <td>34</td>\n",
              "      <td>45</td>\n",
              "      <td>43</td>\n",
              "      <td>54</td>\n",
              "      <td>57</td>\n",
              "      <td>60</td>\n",
              "      <td>49</td>\n",
              "      <td>76</td>\n",
              "      <td>43</td>\n",
              "      <td>55</td>\n",
              "      <td>40</td>\n",
              "      <td>47</td>\n",
              "      <td>38</td>\n",
              "      <td>46</td>\n",
              "      <td>46</td>\n",
              "      <td>39</td>\n",
              "      <td>52</td>\n",
              "      <td>43</td>\n",
              "      <td>45</td>\n",
              "      <td>40</td>\n",
              "      <td>48</td>\n",
              "      <td>47</td>\n",
              "      <td>10</td>\n",
              "      <td>13</td>\n",
              "      <td>7</td>\n",
              "      <td>8</td>\n",
              "      <td>9</td>\n",
              "      <td>1</td>\n",
              "    </tr>\n",
              "    <tr>\n",
              "      <th>18155</th>\n",
              "      <td>ST</td>\n",
              "      <td>23</td>\n",
              "      <td>52</td>\n",
              "      <td>52</td>\n",
              "      <td>43</td>\n",
              "      <td>36</td>\n",
              "      <td>39</td>\n",
              "      <td>32</td>\n",
              "      <td>20</td>\n",
              "      <td>25</td>\n",
              "      <td>40</td>\n",
              "      <td>41</td>\n",
              "      <td>39</td>\n",
              "      <td>38</td>\n",
              "      <td>40</td>\n",
              "      <td>52</td>\n",
              "      <td>41</td>\n",
              "      <td>47</td>\n",
              "      <td>43</td>\n",
              "      <td>67</td>\n",
              "      <td>42</td>\n",
              "      <td>47</td>\n",
              "      <td>16</td>\n",
              "      <td>46</td>\n",
              "      <td>33</td>\n",
              "      <td>43</td>\n",
              "      <td>42</td>\n",
              "      <td>22</td>\n",
              "      <td>15</td>\n",
              "      <td>19</td>\n",
              "      <td>10</td>\n",
              "      <td>9</td>\n",
              "      <td>9</td>\n",
              "      <td>5</td>\n",
              "      <td>12</td>\n",
              "      <td>1</td>\n",
              "    </tr>\n",
              "    <tr>\n",
              "      <th>18156</th>\n",
              "      <td>ST</td>\n",
              "      <td>25</td>\n",
              "      <td>40</td>\n",
              "      <td>46</td>\n",
              "      <td>38</td>\n",
              "      <td>38</td>\n",
              "      <td>45</td>\n",
              "      <td>38</td>\n",
              "      <td>27</td>\n",
              "      <td>28</td>\n",
              "      <td>44</td>\n",
              "      <td>70</td>\n",
              "      <td>69</td>\n",
              "      <td>50</td>\n",
              "      <td>47</td>\n",
              "      <td>58</td>\n",
              "      <td>45</td>\n",
              "      <td>60</td>\n",
              "      <td>55</td>\n",
              "      <td>32</td>\n",
              "      <td>45</td>\n",
              "      <td>32</td>\n",
              "      <td>15</td>\n",
              "      <td>48</td>\n",
              "      <td>43</td>\n",
              "      <td>55</td>\n",
              "      <td>41</td>\n",
              "      <td>32</td>\n",
              "      <td>13</td>\n",
              "      <td>11</td>\n",
              "      <td>6</td>\n",
              "      <td>5</td>\n",
              "      <td>10</td>\n",
              "      <td>6</td>\n",
              "      <td>13</td>\n",
              "      <td>1</td>\n",
              "    </tr>\n",
              "    <tr>\n",
              "      <th>18157</th>\n",
              "      <td>RW</td>\n",
              "      <td>44</td>\n",
              "      <td>50</td>\n",
              "      <td>39</td>\n",
              "      <td>42</td>\n",
              "      <td>40</td>\n",
              "      <td>51</td>\n",
              "      <td>34</td>\n",
              "      <td>32</td>\n",
              "      <td>32</td>\n",
              "      <td>52</td>\n",
              "      <td>61</td>\n",
              "      <td>60</td>\n",
              "      <td>52</td>\n",
              "      <td>21</td>\n",
              "      <td>71</td>\n",
              "      <td>64</td>\n",
              "      <td>42</td>\n",
              "      <td>40</td>\n",
              "      <td>48</td>\n",
              "      <td>34</td>\n",
              "      <td>33</td>\n",
              "      <td>22</td>\n",
              "      <td>44</td>\n",
              "      <td>47</td>\n",
              "      <td>50</td>\n",
              "      <td>46</td>\n",
              "      <td>20</td>\n",
              "      <td>25</td>\n",
              "      <td>27</td>\n",
              "      <td>14</td>\n",
              "      <td>6</td>\n",
              "      <td>14</td>\n",
              "      <td>8</td>\n",
              "      <td>9</td>\n",
              "      <td>1</td>\n",
              "    </tr>\n",
              "    <tr>\n",
              "      <th>18158</th>\n",
              "      <td>CM</td>\n",
              "      <td>41</td>\n",
              "      <td>34</td>\n",
              "      <td>46</td>\n",
              "      <td>48</td>\n",
              "      <td>30</td>\n",
              "      <td>43</td>\n",
              "      <td>40</td>\n",
              "      <td>34</td>\n",
              "      <td>44</td>\n",
              "      <td>51</td>\n",
              "      <td>57</td>\n",
              "      <td>55</td>\n",
              "      <td>55</td>\n",
              "      <td>51</td>\n",
              "      <td>63</td>\n",
              "      <td>43</td>\n",
              "      <td>62</td>\n",
              "      <td>47</td>\n",
              "      <td>60</td>\n",
              "      <td>32</td>\n",
              "      <td>56</td>\n",
              "      <td>42</td>\n",
              "      <td>34</td>\n",
              "      <td>49</td>\n",
              "      <td>33</td>\n",
              "      <td>43</td>\n",
              "      <td>40</td>\n",
              "      <td>43</td>\n",
              "      <td>50</td>\n",
              "      <td>10</td>\n",
              "      <td>15</td>\n",
              "      <td>9</td>\n",
              "      <td>12</td>\n",
              "      <td>9</td>\n",
              "      <td>1</td>\n",
              "    </tr>\n",
              "  </tbody>\n",
              "</table>\n",
              "<p>18159 rows × 36 columns</p>\n",
              "</div>"
            ],
            "text/plain": [
              "      Position  Crossing  ...  GKReflexes  International Reputation\n",
              "0           RF        84  ...           8                         5\n",
              "1           ST        84  ...          11                         5\n",
              "2           LW        79  ...          11                         5\n",
              "3           GK        17  ...          94                         4\n",
              "4          RCM        93  ...          13                         4\n",
              "...        ...       ...  ...         ...                       ...\n",
              "18154       CM        34  ...           9                         1\n",
              "18155       ST        23  ...          12                         1\n",
              "18156       ST        25  ...          13                         1\n",
              "18157       RW        44  ...           9                         1\n",
              "18158       CM        41  ...           9                         1\n",
              "\n",
              "[18159 rows x 36 columns]"
            ]
          },
          "metadata": {},
          "execution_count": 123
        }
      ]
    },
    {
      "cell_type": "code",
      "metadata": {
        "id": "a-d-dMTXpxn9"
      },
      "source": [
        "df1 = df1.dropna(how='any',axis=0) ## remove row null in any column"
      ],
      "execution_count": null,
      "outputs": []
    },
    {
      "cell_type": "code",
      "metadata": {
        "colab": {
          "base_uri": "https://localhost:8080/"
        },
        "id": "9485gH29qaQU",
        "outputId": "5add2b3a-dd61-453a-ccc0-f258ca317410"
      },
      "source": [
        "df1.isna().sum()"
      ],
      "execution_count": null,
      "outputs": [
        {
          "output_type": "execute_result",
          "data": {
            "text/plain": [
              "Position                    0\n",
              "Crossing                    0\n",
              "Finishing                   0\n",
              "HeadingAccuracy             0\n",
              "ShortPassing                0\n",
              "Volleys                     0\n",
              "Dribbling                   0\n",
              "Curve                       0\n",
              "FKAccuracy                  0\n",
              "LongPassing                 0\n",
              "BallControl                 0\n",
              "Acceleration                0\n",
              "SprintSpeed                 0\n",
              "Agility                     0\n",
              "Reactions                   0\n",
              "Balance                     0\n",
              "ShotPower                   0\n",
              "Jumping                     0\n",
              "Stamina                     0\n",
              "Strength                    0\n",
              "LongShots                   0\n",
              "Aggression                  0\n",
              "Interceptions               0\n",
              "Positioning                 0\n",
              "Vision                      0\n",
              "Penalties                   0\n",
              "Composure                   0\n",
              "Marking                     0\n",
              "StandingTackle              0\n",
              "SlidingTackle               0\n",
              "GKDiving                    0\n",
              "GKHandling                  0\n",
              "GKKicking                   0\n",
              "GKPositioning               0\n",
              "GKReflexes                  0\n",
              "International Reputation    0\n",
              "dtype: int64"
            ]
          },
          "metadata": {},
          "execution_count": 125
        }
      ]
    },
    {
      "cell_type": "code",
      "metadata": {
        "id": "WSI49By3rPX4"
      },
      "source": [
        "rep_1=df1[df1['International Reputation']==1]"
      ],
      "execution_count": null,
      "outputs": []
    },
    {
      "cell_type": "code",
      "metadata": {
        "id": "D9gMPlhCta3g"
      },
      "source": [
        "rep_2=df1[df1['International Reputation']==2]"
      ],
      "execution_count": null,
      "outputs": []
    },
    {
      "cell_type": "code",
      "metadata": {
        "id": "RWtVWrejvBQg"
      },
      "source": [
        "rep_3=df1[df1['International Reputation']==3]"
      ],
      "execution_count": null,
      "outputs": []
    },
    {
      "cell_type": "code",
      "metadata": {
        "id": "-xHvquLhvKrQ"
      },
      "source": [
        "rep_4=df1[df1['International Reputation']==4]"
      ],
      "execution_count": null,
      "outputs": []
    },
    {
      "cell_type": "code",
      "metadata": {
        "id": "OVbSR9fZvMgg"
      },
      "source": [
        "rep_5=df1[df1['International Reputation']==5]"
      ],
      "execution_count": null,
      "outputs": []
    },
    {
      "cell_type": "code",
      "metadata": {
        "colab": {
          "base_uri": "https://localhost:8080/",
          "height": 332
        },
        "id": "bSnZFz41vWqe",
        "outputId": "edb199d0-e805-4be8-d704-155cbd10971d"
      },
      "source": [
        "rep_2.describe()"
      ],
      "execution_count": 274,
      "outputs": [
        {
          "output_type": "execute_result",
          "data": {
            "text/html": [
              "<div>\n",
              "<style scoped>\n",
              "    .dataframe tbody tr th:only-of-type {\n",
              "        vertical-align: middle;\n",
              "    }\n",
              "\n",
              "    .dataframe tbody tr th {\n",
              "        vertical-align: top;\n",
              "    }\n",
              "\n",
              "    .dataframe thead th {\n",
              "        text-align: right;\n",
              "    }\n",
              "</style>\n",
              "<table border=\"1\" class=\"dataframe\">\n",
              "  <thead>\n",
              "    <tr style=\"text-align: right;\">\n",
              "      <th></th>\n",
              "      <th>Crossing</th>\n",
              "      <th>Finishing</th>\n",
              "      <th>HeadingAccuracy</th>\n",
              "      <th>ShortPassing</th>\n",
              "      <th>Volleys</th>\n",
              "      <th>Dribbling</th>\n",
              "      <th>Curve</th>\n",
              "      <th>FKAccuracy</th>\n",
              "      <th>LongPassing</th>\n",
              "      <th>BallControl</th>\n",
              "      <th>Acceleration</th>\n",
              "      <th>SprintSpeed</th>\n",
              "      <th>Agility</th>\n",
              "      <th>Reactions</th>\n",
              "      <th>Balance</th>\n",
              "      <th>ShotPower</th>\n",
              "      <th>Jumping</th>\n",
              "      <th>Stamina</th>\n",
              "      <th>Strength</th>\n",
              "      <th>LongShots</th>\n",
              "      <th>Aggression</th>\n",
              "      <th>Interceptions</th>\n",
              "      <th>Positioning</th>\n",
              "      <th>Vision</th>\n",
              "      <th>Penalties</th>\n",
              "      <th>Composure</th>\n",
              "      <th>Marking</th>\n",
              "      <th>StandingTackle</th>\n",
              "      <th>SlidingTackle</th>\n",
              "      <th>GKDiving</th>\n",
              "      <th>GKHandling</th>\n",
              "      <th>GKKicking</th>\n",
              "      <th>GKPositioning</th>\n",
              "      <th>GKReflexes</th>\n",
              "      <th>International Reputation</th>\n",
              "    </tr>\n",
              "  </thead>\n",
              "  <tbody>\n",
              "    <tr>\n",
              "      <th>count</th>\n",
              "      <td>1261.000000</td>\n",
              "      <td>1261.000000</td>\n",
              "      <td>1261.000000</td>\n",
              "      <td>1261.000000</td>\n",
              "      <td>1261.000000</td>\n",
              "      <td>1261.000000</td>\n",
              "      <td>1261.000000</td>\n",
              "      <td>1261.000000</td>\n",
              "      <td>1261.000000</td>\n",
              "      <td>1261.000000</td>\n",
              "      <td>1261.000000</td>\n",
              "      <td>1261.000000</td>\n",
              "      <td>1261.000000</td>\n",
              "      <td>1261.000000</td>\n",
              "      <td>1261.000000</td>\n",
              "      <td>1261.000000</td>\n",
              "      <td>1261.000000</td>\n",
              "      <td>1261.000000</td>\n",
              "      <td>1261.000000</td>\n",
              "      <td>1261.000000</td>\n",
              "      <td>1261.000000</td>\n",
              "      <td>1261.000000</td>\n",
              "      <td>1261.000000</td>\n",
              "      <td>1261.000000</td>\n",
              "      <td>1261.000000</td>\n",
              "      <td>1261.000000</td>\n",
              "      <td>1261.000000</td>\n",
              "      <td>1261.000000</td>\n",
              "      <td>1261.000000</td>\n",
              "      <td>1261.000000</td>\n",
              "      <td>1261.000000</td>\n",
              "      <td>1261.000000</td>\n",
              "      <td>1261.000000</td>\n",
              "      <td>1261.000000</td>\n",
              "      <td>1261.0</td>\n",
              "    </tr>\n",
              "    <tr>\n",
              "      <th>mean</th>\n",
              "      <td>60.513085</td>\n",
              "      <td>54.935765</td>\n",
              "      <td>60.915940</td>\n",
              "      <td>69.075337</td>\n",
              "      <td>55.068200</td>\n",
              "      <td>64.788263</td>\n",
              "      <td>59.770024</td>\n",
              "      <td>54.248216</td>\n",
              "      <td>63.659794</td>\n",
              "      <td>68.733545</td>\n",
              "      <td>65.212530</td>\n",
              "      <td>65.159397</td>\n",
              "      <td>67.087232</td>\n",
              "      <td>72.980174</td>\n",
              "      <td>65.528945</td>\n",
              "      <td>67.711340</td>\n",
              "      <td>69.478192</td>\n",
              "      <td>67.180809</td>\n",
              "      <td>70.739889</td>\n",
              "      <td>59.534496</td>\n",
              "      <td>66.390960</td>\n",
              "      <td>56.085646</td>\n",
              "      <td>60.199048</td>\n",
              "      <td>64.411578</td>\n",
              "      <td>58.112609</td>\n",
              "      <td>71.358446</td>\n",
              "      <td>55.179223</td>\n",
              "      <td>55.244251</td>\n",
              "      <td>52.108644</td>\n",
              "      <td>16.471848</td>\n",
              "      <td>16.182395</td>\n",
              "      <td>15.835845</td>\n",
              "      <td>16.497224</td>\n",
              "      <td>16.532910</td>\n",
              "      <td>2.0</td>\n",
              "    </tr>\n",
              "    <tr>\n",
              "      <th>std</th>\n",
              "      <td>19.243738</td>\n",
              "      <td>20.267963</td>\n",
              "      <td>18.471924</td>\n",
              "      <td>13.292612</td>\n",
              "      <td>19.510521</td>\n",
              "      <td>18.987809</td>\n",
              "      <td>19.885612</td>\n",
              "      <td>19.467704</td>\n",
              "      <td>13.967907</td>\n",
              "      <td>16.147054</td>\n",
              "      <td>15.177078</td>\n",
              "      <td>14.761892</td>\n",
              "      <td>13.977772</td>\n",
              "      <td>5.607995</td>\n",
              "      <td>14.290417</td>\n",
              "      <td>16.682586</td>\n",
              "      <td>11.282120</td>\n",
              "      <td>15.774119</td>\n",
              "      <td>11.145384</td>\n",
              "      <td>19.474317</td>\n",
              "      <td>16.694507</td>\n",
              "      <td>21.818238</td>\n",
              "      <td>20.597523</td>\n",
              "      <td>13.234017</td>\n",
              "      <td>16.692361</td>\n",
              "      <td>7.410524</td>\n",
              "      <td>21.424202</td>\n",
              "      <td>23.491315</td>\n",
              "      <td>23.966480</td>\n",
              "      <td>19.063974</td>\n",
              "      <td>18.307169</td>\n",
              "      <td>17.440716</td>\n",
              "      <td>18.861257</td>\n",
              "      <td>19.490818</td>\n",
              "      <td>0.0</td>\n",
              "    </tr>\n",
              "    <tr>\n",
              "      <th>min</th>\n",
              "      <td>9.000000</td>\n",
              "      <td>6.000000</td>\n",
              "      <td>8.000000</td>\n",
              "      <td>12.000000</td>\n",
              "      <td>7.000000</td>\n",
              "      <td>8.000000</td>\n",
              "      <td>6.000000</td>\n",
              "      <td>9.000000</td>\n",
              "      <td>12.000000</td>\n",
              "      <td>10.000000</td>\n",
              "      <td>22.000000</td>\n",
              "      <td>26.000000</td>\n",
              "      <td>14.000000</td>\n",
              "      <td>36.000000</td>\n",
              "      <td>17.000000</td>\n",
              "      <td>11.000000</td>\n",
              "      <td>30.000000</td>\n",
              "      <td>18.000000</td>\n",
              "      <td>27.000000</td>\n",
              "      <td>9.000000</td>\n",
              "      <td>11.000000</td>\n",
              "      <td>10.000000</td>\n",
              "      <td>4.000000</td>\n",
              "      <td>12.000000</td>\n",
              "      <td>11.000000</td>\n",
              "      <td>20.000000</td>\n",
              "      <td>7.000000</td>\n",
              "      <td>9.000000</td>\n",
              "      <td>8.000000</td>\n",
              "      <td>1.000000</td>\n",
              "      <td>1.000000</td>\n",
              "      <td>1.000000</td>\n",
              "      <td>1.000000</td>\n",
              "      <td>1.000000</td>\n",
              "      <td>2.0</td>\n",
              "    </tr>\n",
              "    <tr>\n",
              "      <th>25%</th>\n",
              "      <td>52.000000</td>\n",
              "      <td>41.000000</td>\n",
              "      <td>54.000000</td>\n",
              "      <td>67.000000</td>\n",
              "      <td>43.000000</td>\n",
              "      <td>61.000000</td>\n",
              "      <td>50.000000</td>\n",
              "      <td>42.000000</td>\n",
              "      <td>59.000000</td>\n",
              "      <td>67.000000</td>\n",
              "      <td>55.000000</td>\n",
              "      <td>55.000000</td>\n",
              "      <td>60.000000</td>\n",
              "      <td>70.000000</td>\n",
              "      <td>57.000000</td>\n",
              "      <td>65.000000</td>\n",
              "      <td>64.000000</td>\n",
              "      <td>61.000000</td>\n",
              "      <td>65.000000</td>\n",
              "      <td>53.000000</td>\n",
              "      <td>59.000000</td>\n",
              "      <td>35.000000</td>\n",
              "      <td>51.000000</td>\n",
              "      <td>57.000000</td>\n",
              "      <td>49.000000</td>\n",
              "      <td>68.000000</td>\n",
              "      <td>37.000000</td>\n",
              "      <td>34.000000</td>\n",
              "      <td>28.000000</td>\n",
              "      <td>8.000000</td>\n",
              "      <td>8.000000</td>\n",
              "      <td>8.000000</td>\n",
              "      <td>8.000000</td>\n",
              "      <td>8.000000</td>\n",
              "      <td>2.0</td>\n",
              "    </tr>\n",
              "    <tr>\n",
              "      <th>50%</th>\n",
              "      <td>67.000000</td>\n",
              "      <td>60.000000</td>\n",
              "      <td>66.000000</td>\n",
              "      <td>73.000000</td>\n",
              "      <td>61.000000</td>\n",
              "      <td>70.000000</td>\n",
              "      <td>66.000000</td>\n",
              "      <td>58.000000</td>\n",
              "      <td>68.000000</td>\n",
              "      <td>74.000000</td>\n",
              "      <td>67.000000</td>\n",
              "      <td>68.000000</td>\n",
              "      <td>69.000000</td>\n",
              "      <td>73.000000</td>\n",
              "      <td>68.000000</td>\n",
              "      <td>73.000000</td>\n",
              "      <td>71.000000</td>\n",
              "      <td>70.000000</td>\n",
              "      <td>72.000000</td>\n",
              "      <td>66.000000</td>\n",
              "      <td>71.000000</td>\n",
              "      <td>66.000000</td>\n",
              "      <td>68.000000</td>\n",
              "      <td>68.000000</td>\n",
              "      <td>62.000000</td>\n",
              "      <td>72.000000</td>\n",
              "      <td>63.000000</td>\n",
              "      <td>66.000000</td>\n",
              "      <td>61.000000</td>\n",
              "      <td>11.000000</td>\n",
              "      <td>11.000000</td>\n",
              "      <td>11.000000</td>\n",
              "      <td>11.000000</td>\n",
              "      <td>11.000000</td>\n",
              "      <td>2.0</td>\n",
              "    </tr>\n",
              "    <tr>\n",
              "      <th>75%</th>\n",
              "      <td>74.000000</td>\n",
              "      <td>71.000000</td>\n",
              "      <td>74.000000</td>\n",
              "      <td>77.000000</td>\n",
              "      <td>70.000000</td>\n",
              "      <td>77.000000</td>\n",
              "      <td>74.000000</td>\n",
              "      <td>70.000000</td>\n",
              "      <td>73.000000</td>\n",
              "      <td>78.000000</td>\n",
              "      <td>76.000000</td>\n",
              "      <td>76.000000</td>\n",
              "      <td>77.000000</td>\n",
              "      <td>77.000000</td>\n",
              "      <td>75.000000</td>\n",
              "      <td>78.000000</td>\n",
              "      <td>76.000000</td>\n",
              "      <td>77.000000</td>\n",
              "      <td>78.000000</td>\n",
              "      <td>73.000000</td>\n",
              "      <td>78.000000</td>\n",
              "      <td>75.000000</td>\n",
              "      <td>75.000000</td>\n",
              "      <td>74.000000</td>\n",
              "      <td>70.000000</td>\n",
              "      <td>76.000000</td>\n",
              "      <td>73.000000</td>\n",
              "      <td>76.000000</td>\n",
              "      <td>74.000000</td>\n",
              "      <td>14.000000</td>\n",
              "      <td>14.000000</td>\n",
              "      <td>14.000000</td>\n",
              "      <td>14.000000</td>\n",
              "      <td>14.000000</td>\n",
              "      <td>2.0</td>\n",
              "    </tr>\n",
              "    <tr>\n",
              "      <th>max</th>\n",
              "      <td>91.000000</td>\n",
              "      <td>88.000000</td>\n",
              "      <td>93.000000</td>\n",
              "      <td>90.000000</td>\n",
              "      <td>87.000000</td>\n",
              "      <td>92.000000</td>\n",
              "      <td>90.000000</td>\n",
              "      <td>93.000000</td>\n",
              "      <td>87.000000</td>\n",
              "      <td>91.000000</td>\n",
              "      <td>95.000000</td>\n",
              "      <td>96.000000</td>\n",
              "      <td>94.000000</td>\n",
              "      <td>86.000000</td>\n",
              "      <td>96.000000</td>\n",
              "      <td>91.000000</td>\n",
              "      <td>94.000000</td>\n",
              "      <td>96.000000</td>\n",
              "      <td>94.000000</td>\n",
              "      <td>89.000000</td>\n",
              "      <td>93.000000</td>\n",
              "      <td>87.000000</td>\n",
              "      <td>88.000000</td>\n",
              "      <td>87.000000</td>\n",
              "      <td>90.000000</td>\n",
              "      <td>88.000000</td>\n",
              "      <td>88.000000</td>\n",
              "      <td>90.000000</td>\n",
              "      <td>88.000000</td>\n",
              "      <td>86.000000</td>\n",
              "      <td>85.000000</td>\n",
              "      <td>91.000000</td>\n",
              "      <td>86.000000</td>\n",
              "      <td>90.000000</td>\n",
              "      <td>2.0</td>\n",
              "    </tr>\n",
              "  </tbody>\n",
              "</table>\n",
              "</div>"
            ],
            "text/plain": [
              "          Crossing    Finishing  ...   GKReflexes  International Reputation\n",
              "count  1261.000000  1261.000000  ...  1261.000000                    1261.0\n",
              "mean     60.513085    54.935765  ...    16.532910                       2.0\n",
              "std      19.243738    20.267963  ...    19.490818                       0.0\n",
              "min       9.000000     6.000000  ...     1.000000                       2.0\n",
              "25%      52.000000    41.000000  ...     8.000000                       2.0\n",
              "50%      67.000000    60.000000  ...    11.000000                       2.0\n",
              "75%      74.000000    71.000000  ...    14.000000                       2.0\n",
              "max      91.000000    88.000000  ...    90.000000                       2.0\n",
              "\n",
              "[8 rows x 35 columns]"
            ]
          },
          "metadata": {},
          "execution_count": 274
        }
      ]
    },
    {
      "cell_type": "code",
      "metadata": {
        "id": "JU5Vb0MNGCiR"
      },
      "source": [
        "def quar(q1,q3):\n",
        "  global lower\n",
        "  global upper\n",
        "  iqr=q3-q1\n",
        "  lower=q1-(1.5*iqr)\n",
        "  upper=q3+(1.5*iqr)\n",
        "  return lower,upper"
      ],
      "execution_count": null,
      "outputs": []
    },
    {
      "cell_type": "code",
      "metadata": {
        "colab": {
          "base_uri": "https://localhost:8080/"
        },
        "id": "JuZyRINsBBo6",
        "outputId": "5595ae9a-f32b-4b4a-cdd5-c8b97eddc831"
      },
      "source": [
        "quar(38,75)  "
      ],
      "execution_count": null,
      "outputs": [
        {
          "output_type": "execute_result",
          "data": {
            "text/plain": [
              "(-17.5, 130.5)"
            ]
          },
          "metadata": {},
          "execution_count": 147
        }
      ]
    },
    {
      "cell_type": "code",
      "metadata": {
        "id": "KtxK7d2zGTGU"
      },
      "source": [
        "def value_ch(inpu):\n",
        "    res=rep_5[rep_5[inpu].between(lower,upper)]\n",
        "    return rep_5[inpu].mean()"
      ],
      "execution_count": 571,
      "outputs": []
    },
    {
      "cell_type": "code",
      "metadata": {
        "colab": {
          "base_uri": "https://localhost:8080/"
        },
        "id": "y7SYjNjsGiVX",
        "outputId": "d8d8e975-af42-4b07-fec1-cdee0f0cdfc3"
      },
      "source": [
        "value_ch('Crossing')"
      ],
      "execution_count": null,
      "outputs": [
        {
          "output_type": "execute_result",
          "data": {
            "text/plain": [
              "48.59957627118644"
            ]
          },
          "metadata": {},
          "execution_count": 149
        }
      ]
    },
    {
      "cell_type": "code",
      "metadata": {
        "id": "Qc0b5EUzGk_G"
      },
      "source": [
        "def repla(inpu):\n",
        "    rep_5.loc[rep_5[inpu]<lower,inpu]=value_ch(inpu)\n",
        "    rep_5.loc[rep_5[inpu]>upper,inpu]=value_ch(inpu)\n",
        "    return rep_5[inpu].head(5)"
      ],
      "execution_count": 572,
      "outputs": []
    },
    {
      "cell_type": "code",
      "metadata": {
        "colab": {
          "base_uri": "https://localhost:8080/"
        },
        "id": "hBuW04doGvE9",
        "outputId": "3298f3b2-699f-44ce-c225-cdb435e10319"
      },
      "source": [
        "repla('Crossing')"
      ],
      "execution_count": null,
      "outputs": [
        {
          "output_type": "stream",
          "name": "stderr",
          "text": [
            "/usr/local/lib/python3.7/dist-packages/pandas/core/indexing.py:1763: SettingWithCopyWarning: \n",
            "A value is trying to be set on a copy of a slice from a DataFrame.\n",
            "Try using .loc[row_indexer,col_indexer] = value instead\n",
            "\n",
            "See the caveats in the documentation: https://pandas.pydata.org/pandas-docs/stable/user_guide/indexing.html#returning-a-view-versus-a-copy\n",
            "  isetter(loc, value)\n",
            "/usr/local/lib/python3.7/dist-packages/pandas/core/indexing.py:1763: SettingWithCopyWarning: \n",
            "A value is trying to be set on a copy of a slice from a DataFrame.\n",
            "Try using .loc[row_indexer,col_indexer] = value instead\n",
            "\n",
            "See the caveats in the documentation: https://pandas.pydata.org/pandas-docs/stable/user_guide/indexing.html#returning-a-view-versus-a-copy\n",
            "  isetter(loc, value)\n"
          ]
        },
        {
          "output_type": "execute_result",
          "data": {
            "text/plain": [
              "77     40.0\n",
              "157    83.0\n",
              "158    40.0\n",
              "159    56.0\n",
              "174    61.0\n",
              "177    25.0\n",
              "180    17.0\n",
              "225    11.0\n",
              "227    63.0\n",
              "228    70.0\n",
              "230    61.0\n",
              "231    40.0\n",
              "232    10.0\n",
              "234    76.0\n",
              "237    24.0\n",
              "238    78.0\n",
              "239    36.0\n",
              "241    86.0\n",
              "249    58.0\n",
              "250    67.0\n",
              "259    44.0\n",
              "320    73.0\n",
              "321    77.0\n",
              "323    75.0\n",
              "325    74.0\n",
              "326    72.0\n",
              "328    74.0\n",
              "330    79.0\n",
              "335    74.0\n",
              "338    18.0\n",
              "Name: Crossing, dtype: float64"
            ]
          },
          "metadata": {},
          "execution_count": 151
        }
      ]
    },
    {
      "cell_type": "code",
      "metadata": {
        "colab": {
          "base_uri": "https://localhost:8080/"
        },
        "id": "PjzeULzvG0PR",
        "outputId": "9358869f-b875-48f3-8fc3-7d84baaf1798"
      },
      "source": [
        "rep_4['Crossing'].describe()"
      ],
      "execution_count": 492,
      "outputs": [
        {
          "output_type": "execute_result",
          "data": {
            "text/plain": [
              "count    51.000000\n",
              "mean     67.803922\n",
              "std      21.887914\n",
              "min      13.000000\n",
              "25%      62.500000\n",
              "50%      76.000000\n",
              "75%      81.500000\n",
              "max      93.000000\n",
              "Name: Crossing, dtype: float64"
            ]
          },
          "metadata": {},
          "execution_count": 492
        }
      ]
    },
    {
      "cell_type": "code",
      "metadata": {
        "colab": {
          "base_uri": "https://localhost:8080/",
          "height": 265
        },
        "id": "Gp15q8BwG48Z",
        "outputId": "48adbea9-ba76-48fd-e224-f9c6c076e8f3"
      },
      "source": [
        "plt.boxplot(rep_5['Crossing'])\n",
        "plt.show()"
      ],
      "execution_count": 578,
      "outputs": [
        {
          "output_type": "display_data",
          "data": {
            "image/png": "[encoded data removed]",
            "text/plain": [
              "<Figure size 432x288 with 1 Axes>"
            ]
          },
          "metadata": {
            "needs_background": "light"
          }
        }
      ]
    },
    {
      "cell_type": "code",
      "metadata": {
        "colab": {
          "base_uri": "https://localhost:8080/"
        },
        "id": "2EJB-SuJpffx",
        "outputId": "fa9d10d0-e98b-45cc-8d9d-55aa9f96d89e"
      },
      "source": [
        "quar(74,82.75)"
      ],
      "execution_count": 575,
      "outputs": [
        {
          "output_type": "execute_result",
          "data": {
            "text/plain": [
              "(60.875, 95.875)"
            ]
          },
          "metadata": {},
          "execution_count": 575
        }
      ]
    },
    {
      "cell_type": "code",
      "metadata": {
        "colab": {
          "base_uri": "https://localhost:8080/"
        },
        "id": "dPiQ-fcOpqKC",
        "outputId": "7181763d-a23d-445b-828b-8368d4a3de36"
      },
      "source": [
        "value_ch('Crossing')"
      ],
      "execution_count": 576,
      "outputs": [
        {
          "output_type": "execute_result",
          "data": {
            "text/plain": [
              "68.66666666666667"
            ]
          },
          "metadata": {},
          "execution_count": 576
        }
      ]
    },
    {
      "cell_type": "code",
      "metadata": {
        "colab": {
          "base_uri": "https://localhost:8080/"
        },
        "id": "V95HNb2cpqNk",
        "outputId": "17202bed-23a0-4737-fcaa-82623de13741"
      },
      "source": [
        "repla('Crossing')"
      ],
      "execution_count": 577,
      "outputs": [
        {
          "output_type": "execute_result",
          "data": {
            "text/plain": [
              "0     84.000000\n",
              "1     84.000000\n",
              "2     79.000000\n",
              "7     77.000000\n",
              "22    68.666667\n",
              "Name: Crossing, dtype: float64"
            ]
          },
          "metadata": {},
          "execution_count": 577
        }
      ]
    },
    {
      "cell_type": "code",
      "metadata": {
        "id": "Z_KSCwqyHFeo"
      },
      "source": [
        "import warnings\n",
        "warnings.filterwarnings('ignore')"
      ],
      "execution_count": null,
      "outputs": []
    },
    {
      "cell_type": "code",
      "metadata": {
        "colab": {
          "base_uri": "https://localhost:8080/",
          "height": 332
        },
        "id": "vPdxrFsfHRq8",
        "outputId": "1985c5c4-5c0e-4c0b-c0b3-d6c639b6cc83"
      },
      "source": [
        "rep_2.describe()"
      ],
      "execution_count": 282,
      "outputs": [
        {
          "output_type": "execute_result",
          "data": {
            "text/html": [
              "<div>\n",
              "<style scoped>\n",
              "    .dataframe tbody tr th:only-of-type {\n",
              "        vertical-align: middle;\n",
              "    }\n",
              "\n",
              "    .dataframe tbody tr th {\n",
              "        vertical-align: top;\n",
              "    }\n",
              "\n",
              "    .dataframe thead th {\n",
              "        text-align: right;\n",
              "    }\n",
              "</style>\n",
              "<table border=\"1\" class=\"dataframe\">\n",
              "  <thead>\n",
              "    <tr style=\"text-align: right;\">\n",
              "      <th></th>\n",
              "      <th>Crossing</th>\n",
              "      <th>Finishing</th>\n",
              "      <th>HeadingAccuracy</th>\n",
              "      <th>ShortPassing</th>\n",
              "      <th>Volleys</th>\n",
              "      <th>Dribbling</th>\n",
              "      <th>Curve</th>\n",
              "      <th>FKAccuracy</th>\n",
              "      <th>LongPassing</th>\n",
              "      <th>BallControl</th>\n",
              "      <th>Acceleration</th>\n",
              "      <th>SprintSpeed</th>\n",
              "      <th>Agility</th>\n",
              "      <th>Reactions</th>\n",
              "      <th>Balance</th>\n",
              "      <th>ShotPower</th>\n",
              "      <th>Jumping</th>\n",
              "      <th>Stamina</th>\n",
              "      <th>Strength</th>\n",
              "      <th>LongShots</th>\n",
              "      <th>Aggression</th>\n",
              "      <th>Interceptions</th>\n",
              "      <th>Positioning</th>\n",
              "      <th>Vision</th>\n",
              "      <th>Penalties</th>\n",
              "      <th>Composure</th>\n",
              "      <th>Marking</th>\n",
              "      <th>StandingTackle</th>\n",
              "      <th>SlidingTackle</th>\n",
              "      <th>GKDiving</th>\n",
              "      <th>GKHandling</th>\n",
              "      <th>GKKicking</th>\n",
              "      <th>GKPositioning</th>\n",
              "      <th>GKReflexes</th>\n",
              "      <th>International Reputation</th>\n",
              "    </tr>\n",
              "  </thead>\n",
              "  <tbody>\n",
              "    <tr>\n",
              "      <th>count</th>\n",
              "      <td>1261.000000</td>\n",
              "      <td>1261.000000</td>\n",
              "      <td>1261.000000</td>\n",
              "      <td>1261.000000</td>\n",
              "      <td>1261.000000</td>\n",
              "      <td>1261.000000</td>\n",
              "      <td>1261.000000</td>\n",
              "      <td>1261.000000</td>\n",
              "      <td>1261.000000</td>\n",
              "      <td>1261.000000</td>\n",
              "      <td>1261.000000</td>\n",
              "      <td>1261.000000</td>\n",
              "      <td>1261.000000</td>\n",
              "      <td>1261.000000</td>\n",
              "      <td>1261.000000</td>\n",
              "      <td>1261.000000</td>\n",
              "      <td>1261.000000</td>\n",
              "      <td>1261.000000</td>\n",
              "      <td>1261.000000</td>\n",
              "      <td>1261.000000</td>\n",
              "      <td>1261.000000</td>\n",
              "      <td>1261.000000</td>\n",
              "      <td>1261.000000</td>\n",
              "      <td>1261.000000</td>\n",
              "      <td>1261.000000</td>\n",
              "      <td>1261.000000</td>\n",
              "      <td>1261.000000</td>\n",
              "      <td>1261.000000</td>\n",
              "      <td>1261.000000</td>\n",
              "      <td>1261.000000</td>\n",
              "      <td>1261.000000</td>\n",
              "      <td>1261.000000</td>\n",
              "      <td>1261.000000</td>\n",
              "      <td>1261.000000</td>\n",
              "      <td>1261.0</td>\n",
              "    </tr>\n",
              "    <tr>\n",
              "      <th>mean</th>\n",
              "      <td>64.098538</td>\n",
              "      <td>54.935765</td>\n",
              "      <td>60.915940</td>\n",
              "      <td>69.075337</td>\n",
              "      <td>55.068200</td>\n",
              "      <td>64.788263</td>\n",
              "      <td>59.770024</td>\n",
              "      <td>54.248216</td>\n",
              "      <td>63.659794</td>\n",
              "      <td>68.733545</td>\n",
              "      <td>65.212530</td>\n",
              "      <td>65.159397</td>\n",
              "      <td>67.087232</td>\n",
              "      <td>72.980174</td>\n",
              "      <td>65.528945</td>\n",
              "      <td>67.711340</td>\n",
              "      <td>69.478192</td>\n",
              "      <td>67.180809</td>\n",
              "      <td>70.739889</td>\n",
              "      <td>59.534496</td>\n",
              "      <td>66.390960</td>\n",
              "      <td>56.085646</td>\n",
              "      <td>60.199048</td>\n",
              "      <td>64.411578</td>\n",
              "      <td>58.112609</td>\n",
              "      <td>71.358446</td>\n",
              "      <td>55.179223</td>\n",
              "      <td>55.244251</td>\n",
              "      <td>52.108644</td>\n",
              "      <td>16.471848</td>\n",
              "      <td>16.182395</td>\n",
              "      <td>15.835845</td>\n",
              "      <td>16.497224</td>\n",
              "      <td>16.532910</td>\n",
              "      <td>2.0</td>\n",
              "    </tr>\n",
              "    <tr>\n",
              "      <th>std</th>\n",
              "      <td>13.712813</td>\n",
              "      <td>20.267963</td>\n",
              "      <td>18.471924</td>\n",
              "      <td>13.292612</td>\n",
              "      <td>19.510521</td>\n",
              "      <td>18.987809</td>\n",
              "      <td>19.885612</td>\n",
              "      <td>19.467704</td>\n",
              "      <td>13.967907</td>\n",
              "      <td>16.147054</td>\n",
              "      <td>15.177078</td>\n",
              "      <td>14.761892</td>\n",
              "      <td>13.977772</td>\n",
              "      <td>5.607995</td>\n",
              "      <td>14.290417</td>\n",
              "      <td>16.682586</td>\n",
              "      <td>11.282120</td>\n",
              "      <td>15.774119</td>\n",
              "      <td>11.145384</td>\n",
              "      <td>19.474317</td>\n",
              "      <td>16.694507</td>\n",
              "      <td>21.818238</td>\n",
              "      <td>20.597523</td>\n",
              "      <td>13.234017</td>\n",
              "      <td>16.692361</td>\n",
              "      <td>7.410524</td>\n",
              "      <td>21.424202</td>\n",
              "      <td>23.491315</td>\n",
              "      <td>23.966480</td>\n",
              "      <td>19.063974</td>\n",
              "      <td>18.307169</td>\n",
              "      <td>17.440716</td>\n",
              "      <td>18.861257</td>\n",
              "      <td>19.490818</td>\n",
              "      <td>0.0</td>\n",
              "    </tr>\n",
              "    <tr>\n",
              "      <th>min</th>\n",
              "      <td>19.000000</td>\n",
              "      <td>6.000000</td>\n",
              "      <td>8.000000</td>\n",
              "      <td>12.000000</td>\n",
              "      <td>7.000000</td>\n",
              "      <td>8.000000</td>\n",
              "      <td>6.000000</td>\n",
              "      <td>9.000000</td>\n",
              "      <td>12.000000</td>\n",
              "      <td>10.000000</td>\n",
              "      <td>22.000000</td>\n",
              "      <td>26.000000</td>\n",
              "      <td>14.000000</td>\n",
              "      <td>36.000000</td>\n",
              "      <td>17.000000</td>\n",
              "      <td>11.000000</td>\n",
              "      <td>30.000000</td>\n",
              "      <td>18.000000</td>\n",
              "      <td>27.000000</td>\n",
              "      <td>9.000000</td>\n",
              "      <td>11.000000</td>\n",
              "      <td>10.000000</td>\n",
              "      <td>4.000000</td>\n",
              "      <td>12.000000</td>\n",
              "      <td>11.000000</td>\n",
              "      <td>20.000000</td>\n",
              "      <td>7.000000</td>\n",
              "      <td>9.000000</td>\n",
              "      <td>8.000000</td>\n",
              "      <td>1.000000</td>\n",
              "      <td>1.000000</td>\n",
              "      <td>1.000000</td>\n",
              "      <td>1.000000</td>\n",
              "      <td>1.000000</td>\n",
              "      <td>2.0</td>\n",
              "    </tr>\n",
              "    <tr>\n",
              "      <th>25%</th>\n",
              "      <td>59.000000</td>\n",
              "      <td>41.000000</td>\n",
              "      <td>54.000000</td>\n",
              "      <td>67.000000</td>\n",
              "      <td>43.000000</td>\n",
              "      <td>61.000000</td>\n",
              "      <td>50.000000</td>\n",
              "      <td>42.000000</td>\n",
              "      <td>59.000000</td>\n",
              "      <td>67.000000</td>\n",
              "      <td>55.000000</td>\n",
              "      <td>55.000000</td>\n",
              "      <td>60.000000</td>\n",
              "      <td>70.000000</td>\n",
              "      <td>57.000000</td>\n",
              "      <td>65.000000</td>\n",
              "      <td>64.000000</td>\n",
              "      <td>61.000000</td>\n",
              "      <td>65.000000</td>\n",
              "      <td>53.000000</td>\n",
              "      <td>59.000000</td>\n",
              "      <td>35.000000</td>\n",
              "      <td>51.000000</td>\n",
              "      <td>57.000000</td>\n",
              "      <td>49.000000</td>\n",
              "      <td>68.000000</td>\n",
              "      <td>37.000000</td>\n",
              "      <td>34.000000</td>\n",
              "      <td>28.000000</td>\n",
              "      <td>8.000000</td>\n",
              "      <td>8.000000</td>\n",
              "      <td>8.000000</td>\n",
              "      <td>8.000000</td>\n",
              "      <td>8.000000</td>\n",
              "      <td>2.0</td>\n",
              "    </tr>\n",
              "    <tr>\n",
              "      <th>50%</th>\n",
              "      <td>67.000000</td>\n",
              "      <td>60.000000</td>\n",
              "      <td>66.000000</td>\n",
              "      <td>73.000000</td>\n",
              "      <td>61.000000</td>\n",
              "      <td>70.000000</td>\n",
              "      <td>66.000000</td>\n",
              "      <td>58.000000</td>\n",
              "      <td>68.000000</td>\n",
              "      <td>74.000000</td>\n",
              "      <td>67.000000</td>\n",
              "      <td>68.000000</td>\n",
              "      <td>69.000000</td>\n",
              "      <td>73.000000</td>\n",
              "      <td>68.000000</td>\n",
              "      <td>73.000000</td>\n",
              "      <td>71.000000</td>\n",
              "      <td>70.000000</td>\n",
              "      <td>72.000000</td>\n",
              "      <td>66.000000</td>\n",
              "      <td>71.000000</td>\n",
              "      <td>66.000000</td>\n",
              "      <td>68.000000</td>\n",
              "      <td>68.000000</td>\n",
              "      <td>62.000000</td>\n",
              "      <td>72.000000</td>\n",
              "      <td>63.000000</td>\n",
              "      <td>66.000000</td>\n",
              "      <td>61.000000</td>\n",
              "      <td>11.000000</td>\n",
              "      <td>11.000000</td>\n",
              "      <td>11.000000</td>\n",
              "      <td>11.000000</td>\n",
              "      <td>11.000000</td>\n",
              "      <td>2.0</td>\n",
              "    </tr>\n",
              "    <tr>\n",
              "      <th>75%</th>\n",
              "      <td>74.000000</td>\n",
              "      <td>71.000000</td>\n",
              "      <td>74.000000</td>\n",
              "      <td>77.000000</td>\n",
              "      <td>70.000000</td>\n",
              "      <td>77.000000</td>\n",
              "      <td>74.000000</td>\n",
              "      <td>70.000000</td>\n",
              "      <td>73.000000</td>\n",
              "      <td>78.000000</td>\n",
              "      <td>76.000000</td>\n",
              "      <td>76.000000</td>\n",
              "      <td>77.000000</td>\n",
              "      <td>77.000000</td>\n",
              "      <td>75.000000</td>\n",
              "      <td>78.000000</td>\n",
              "      <td>76.000000</td>\n",
              "      <td>77.000000</td>\n",
              "      <td>78.000000</td>\n",
              "      <td>73.000000</td>\n",
              "      <td>78.000000</td>\n",
              "      <td>75.000000</td>\n",
              "      <td>75.000000</td>\n",
              "      <td>74.000000</td>\n",
              "      <td>70.000000</td>\n",
              "      <td>76.000000</td>\n",
              "      <td>73.000000</td>\n",
              "      <td>76.000000</td>\n",
              "      <td>74.000000</td>\n",
              "      <td>14.000000</td>\n",
              "      <td>14.000000</td>\n",
              "      <td>14.000000</td>\n",
              "      <td>14.000000</td>\n",
              "      <td>14.000000</td>\n",
              "      <td>2.0</td>\n",
              "    </tr>\n",
              "    <tr>\n",
              "      <th>max</th>\n",
              "      <td>91.000000</td>\n",
              "      <td>88.000000</td>\n",
              "      <td>93.000000</td>\n",
              "      <td>90.000000</td>\n",
              "      <td>87.000000</td>\n",
              "      <td>92.000000</td>\n",
              "      <td>90.000000</td>\n",
              "      <td>93.000000</td>\n",
              "      <td>87.000000</td>\n",
              "      <td>91.000000</td>\n",
              "      <td>95.000000</td>\n",
              "      <td>96.000000</td>\n",
              "      <td>94.000000</td>\n",
              "      <td>86.000000</td>\n",
              "      <td>96.000000</td>\n",
              "      <td>91.000000</td>\n",
              "      <td>94.000000</td>\n",
              "      <td>96.000000</td>\n",
              "      <td>94.000000</td>\n",
              "      <td>89.000000</td>\n",
              "      <td>93.000000</td>\n",
              "      <td>87.000000</td>\n",
              "      <td>88.000000</td>\n",
              "      <td>87.000000</td>\n",
              "      <td>90.000000</td>\n",
              "      <td>88.000000</td>\n",
              "      <td>88.000000</td>\n",
              "      <td>90.000000</td>\n",
              "      <td>88.000000</td>\n",
              "      <td>86.000000</td>\n",
              "      <td>85.000000</td>\n",
              "      <td>91.000000</td>\n",
              "      <td>86.000000</td>\n",
              "      <td>90.000000</td>\n",
              "      <td>2.0</td>\n",
              "    </tr>\n",
              "  </tbody>\n",
              "</table>\n",
              "</div>"
            ],
            "text/plain": [
              "          Crossing    Finishing  ...   GKReflexes  International Reputation\n",
              "count  1261.000000  1261.000000  ...  1261.000000                    1261.0\n",
              "mean     64.098538    54.935765  ...    16.532910                       2.0\n",
              "std      13.712813    20.267963  ...    19.490818                       0.0\n",
              "min      19.000000     6.000000  ...     1.000000                       2.0\n",
              "25%      59.000000    41.000000  ...     8.000000                       2.0\n",
              "50%      67.000000    60.000000  ...    11.000000                       2.0\n",
              "75%      74.000000    71.000000  ...    14.000000                       2.0\n",
              "max      91.000000    88.000000  ...    90.000000                       2.0\n",
              "\n",
              "[8 rows x 35 columns]"
            ]
          },
          "metadata": {},
          "execution_count": 282
        }
      ]
    },
    {
      "cell_type": "code",
      "metadata": {
        "id": "KuaJKPCHPZEK",
        "colab": {
          "base_uri": "https://localhost:8080/"
        },
        "outputId": "1ccbea64-c974-4a02-8fa2-ca6ad70d18e5"
      },
      "source": [
        "quar(86.25,93.75)\n"
      ],
      "execution_count": 580,
      "outputs": [
        {
          "output_type": "execute_result",
          "data": {
            "text/plain": [
              "(75.0, 105.0)"
            ]
          },
          "metadata": {},
          "execution_count": 580
        }
      ]
    },
    {
      "cell_type": "code",
      "metadata": {
        "colab": {
          "base_uri": "https://localhost:8080/"
        },
        "id": "3L17VM_tPy_Q",
        "outputId": "51149fe6-e2d5-4a58-b902-f6768f53063b"
      },
      "source": [
        "value_ch('Finishing')"
      ],
      "execution_count": 581,
      "outputs": [
        {
          "output_type": "execute_result",
          "data": {
            "text/plain": [
              "78.0"
            ]
          },
          "metadata": {},
          "execution_count": 581
        }
      ]
    },
    {
      "cell_type": "code",
      "metadata": {
        "colab": {
          "base_uri": "https://localhost:8080/"
        },
        "id": "J56eptFyP_pl",
        "outputId": "d7b18dd0-1ed2-4ebf-ec3e-33039327117a"
      },
      "source": [
        "repla('Finishing')"
      ],
      "execution_count": 582,
      "outputs": [
        {
          "output_type": "execute_result",
          "data": {
            "text/plain": [
              "0     95.0\n",
              "1     94.0\n",
              "2     87.0\n",
              "7     93.0\n",
              "22    78.0\n",
              "Name: Finishing, dtype: float64"
            ]
          },
          "metadata": {},
          "execution_count": 582
        }
      ]
    },
    {
      "cell_type": "code",
      "metadata": {
        "colab": {
          "base_uri": "https://localhost:8080/",
          "height": 265
        },
        "id": "PmuVWx7VQELI",
        "outputId": "e80591bc-8948-4ae8-8ff6-077d80946d9e"
      },
      "source": [
        "plt.boxplot(rep_5['Finishing'])\n",
        "plt.show()"
      ],
      "execution_count": 583,
      "outputs": [
        {
          "output_type": "display_data",
          "data": {
            "image/png": "[encoded data removed]",
            "text/plain": [
              "<Figure size 432x288 with 1 Axes>"
            ]
          },
          "metadata": {
            "needs_background": "light"
          }
        }
      ]
    },
    {
      "cell_type": "code",
      "metadata": {
        "colab": {
          "base_uri": "https://localhost:8080/",
          "height": 265
        },
        "id": "YpNzp0aQQNsr",
        "outputId": "730bd20a-55f4-45f2-d5b9-85fef1131e85"
      },
      "source": [
        "plt.boxplot(rep_5['HeadingAccuracy'])\n",
        "plt.show()"
      ],
      "execution_count": 584,
      "outputs": [
        {
          "output_type": "display_data",
          "data": {
            "image/png": "[encoded data removed]",
            "text/plain": [
              "<Figure size 432x288 with 1 Axes>"
            ]
          },
          "metadata": {
            "needs_background": "light"
          }
        }
      ]
    },
    {
      "cell_type": "code",
      "metadata": {
        "colab": {
          "base_uri": "https://localhost:8080/"
        },
        "id": "y5pUO08EQeIc",
        "outputId": "5f641975-b275-4690-e05f-73872b09ef45"
      },
      "source": [
        "## rep_2 Heading accuracy\n",
        "quar(64,81.5)"
      ],
      "execution_count": 585,
      "outputs": [
        {
          "output_type": "execute_result",
          "data": {
            "text/plain": [
              "(37.75, 107.75)"
            ]
          },
          "metadata": {},
          "execution_count": 585
        }
      ]
    },
    {
      "cell_type": "code",
      "metadata": {
        "colab": {
          "base_uri": "https://localhost:8080/"
        },
        "id": "KGOhcElhQkgH",
        "outputId": "b3f0bc65-bf3d-4964-8a11-ef4029811fa5"
      },
      "source": [
        "value_ch('HeadingAccuracy')"
      ],
      "execution_count": 586,
      "outputs": [
        {
          "output_type": "execute_result",
          "data": {
            "text/plain": [
              "67.66666666666667"
            ]
          },
          "metadata": {},
          "execution_count": 586
        }
      ]
    },
    {
      "cell_type": "code",
      "metadata": {
        "colab": {
          "base_uri": "https://localhost:8080/"
        },
        "id": "vgUUsOmiQq-M",
        "outputId": "5779f83b-fdf6-4ec8-dbf4-deb2b11ab1ad"
      },
      "source": [
        "repla('HeadingAccuracy')"
      ],
      "execution_count": 587,
      "outputs": [
        {
          "output_type": "execute_result",
          "data": {
            "text/plain": [
              "0     70.000000\n",
              "1     89.000000\n",
              "2     62.000000\n",
              "7     77.000000\n",
              "22    67.666667\n",
              "Name: HeadingAccuracy, dtype: float64"
            ]
          },
          "metadata": {},
          "execution_count": 587
        }
      ]
    },
    {
      "cell_type": "code",
      "metadata": {
        "colab": {
          "base_uri": "https://localhost:8080/"
        },
        "id": "4AZrLu5VQ0wm",
        "outputId": "8e0478d9-827d-4ecd-fe19-cb816d03eda7"
      },
      "source": [
        "## ShortPassing\n",
        "quar(79.5,83.5)"
      ],
      "execution_count": 589,
      "outputs": [
        {
          "output_type": "execute_result",
          "data": {
            "text/plain": [
              "(73.5, 89.5)"
            ]
          },
          "metadata": {},
          "execution_count": 589
        }
      ]
    },
    {
      "cell_type": "code",
      "metadata": {
        "colab": {
          "base_uri": "https://localhost:8080/"
        },
        "id": "Xlbu9TEXRJO5",
        "outputId": "31846cc4-22d9-459c-f1b8-a7cc3f2d1bab"
      },
      "source": [
        "value_ch('ShortPassing')"
      ],
      "execution_count": 590,
      "outputs": [
        {
          "output_type": "execute_result",
          "data": {
            "text/plain": [
              "78.5"
            ]
          },
          "metadata": {},
          "execution_count": 590
        }
      ]
    },
    {
      "cell_type": "code",
      "metadata": {
        "colab": {
          "base_uri": "https://localhost:8080/"
        },
        "id": "EkfbM8jGRLlZ",
        "outputId": "79cdd321-15f8-47ba-aae9-a204c36559e5"
      },
      "source": [
        "repla('ShortPassing')"
      ],
      "execution_count": 591,
      "outputs": [
        {
          "output_type": "execute_result",
          "data": {
            "text/plain": [
              "0     82.416667\n",
              "1     81.000000\n",
              "2     84.000000\n",
              "7     82.000000\n",
              "22    78.500000\n",
              "Name: ShortPassing, dtype: float64"
            ]
          },
          "metadata": {},
          "execution_count": 591
        }
      ]
    },
    {
      "cell_type": "code",
      "metadata": {
        "colab": {
          "base_uri": "https://localhost:8080/",
          "height": 265
        },
        "id": "xfA_yH-RRNHS",
        "outputId": "ce15f537-80c9-4512-fb01-3de877f810ea"
      },
      "source": [
        "plt.boxplot(rep_5['ShortPassing'])\n",
        "plt.show()"
      ],
      "execution_count": 592,
      "outputs": [
        {
          "output_type": "display_data",
          "data": {
            "image/png": "[encoded data removed]",
            "text/plain": [
              "<Figure size 432x288 with 1 Axes>"
            ]
          },
          "metadata": {
            "needs_background": "light"
          }
        }
      ]
    },
    {
      "cell_type": "code",
      "metadata": {
        "colab": {
          "base_uri": "https://localhost:8080/",
          "height": 265
        },
        "id": "fJSu0iY4RRul",
        "outputId": "ebf6ff62-0f9a-4d9b-f23a-bc08a762c659"
      },
      "source": [
        "plt.boxplot(rep_5['Volleys'])\n",
        "plt.show()  # No outliers detected. hence we can leave as it is "
      ],
      "execution_count": 593,
      "outputs": [
        {
          "output_type": "display_data",
          "data": {
            "image/png": "[encoded data removed]",
            "text/plain": [
              "<Figure size 432x288 with 1 Axes>"
            ]
          },
          "metadata": {
            "needs_background": "light"
          }
        }
      ]
    },
    {
      "cell_type": "code",
      "metadata": {
        "colab": {
          "base_uri": "https://localhost:8080/"
        },
        "id": "s6b2JgZZzZwK",
        "outputId": "f6f05fbf-86f8-44af-a9a0-e7e157dbf09b"
      },
      "source": [
        "quar(84.5,86.75)"
      ],
      "execution_count": 594,
      "outputs": [
        {
          "output_type": "execute_result",
          "data": {
            "text/plain": [
              "(81.125, 90.125)"
            ]
          },
          "metadata": {},
          "execution_count": 594
        }
      ]
    },
    {
      "cell_type": "code",
      "metadata": {
        "colab": {
          "base_uri": "https://localhost:8080/"
        },
        "id": "jz3t8XQuzZ1O",
        "outputId": "c9f5a354-7adc-410f-b421-8837092c25fb"
      },
      "source": [
        "value_ch('Volleys')"
      ],
      "execution_count": 595,
      "outputs": [
        {
          "output_type": "execute_result",
          "data": {
            "text/plain": [
              "73.66666666666667"
            ]
          },
          "metadata": {},
          "execution_count": 595
        }
      ]
    },
    {
      "cell_type": "code",
      "metadata": {
        "colab": {
          "base_uri": "https://localhost:8080/"
        },
        "id": "S2KOaDgjzadb",
        "outputId": "03cd1eb2-bb98-4096-9771-13c93290c1d2"
      },
      "source": [
        "repla('Volleys')"
      ],
      "execution_count": 596,
      "outputs": [
        {
          "output_type": "execute_result",
          "data": {
            "text/plain": [
              "0     86.000000\n",
              "1     87.000000\n",
              "2     84.000000\n",
              "7     88.000000\n",
              "22    73.666667\n",
              "Name: Volleys, dtype: float64"
            ]
          },
          "metadata": {},
          "execution_count": 596
        }
      ]
    },
    {
      "cell_type": "code",
      "metadata": {
        "colab": {
          "base_uri": "https://localhost:8080/",
          "height": 268
        },
        "id": "jsV4Qn1yRU4f",
        "outputId": "faa9374f-51a4-4a3e-ec7d-85f43aeb332f"
      },
      "source": [
        "plt.boxplot(rep_5['Dribbling'])\n",
        "plt.show()"
      ],
      "execution_count": 597,
      "outputs": [
        {
          "output_type": "display_data",
          "data": {
            "image/png": "[encoded data removed]",
            "text/plain": [
              "<Figure size 432x288 with 1 Axes>"
            ]
          },
          "metadata": {
            "needs_background": "light"
          }
        }
      ]
    },
    {
      "cell_type": "code",
      "metadata": {
        "colab": {
          "base_uri": "https://localhost:8080/"
        },
        "id": "gtJCKyzPRZVX",
        "outputId": "f3e3c361-29f0-4483-c7a6-897322a3af7f"
      },
      "source": [
        "## rep_1='Dribbling'\n",
        "quar(81,94)"
      ],
      "execution_count": 598,
      "outputs": [
        {
          "output_type": "execute_result",
          "data": {
            "text/plain": [
              "(61.5, 113.5)"
            ]
          },
          "metadata": {},
          "execution_count": 598
        }
      ]
    },
    {
      "cell_type": "code",
      "metadata": {
        "colab": {
          "base_uri": "https://localhost:8080/"
        },
        "id": "eqOHLLLURiJK",
        "outputId": "f04e8807-20ec-4eeb-b92a-2647416213f4"
      },
      "source": [
        "value_ch('Dribbling')"
      ],
      "execution_count": 599,
      "outputs": [
        {
          "output_type": "execute_result",
          "data": {
            "text/plain": [
              "79.5"
            ]
          },
          "metadata": {},
          "execution_count": 599
        }
      ]
    },
    {
      "cell_type": "code",
      "metadata": {
        "colab": {
          "base_uri": "https://localhost:8080/"
        },
        "id": "eD-6gEcoRjCl",
        "outputId": "f60e3967-0808-486a-f1d4-d63f68d18ba0"
      },
      "source": [
        "repla('Dribbling')"
      ],
      "execution_count": 600,
      "outputs": [
        {
          "output_type": "execute_result",
          "data": {
            "text/plain": [
              "0     97.0\n",
              "1     88.0\n",
              "2     96.0\n",
              "7     87.0\n",
              "22    79.5\n",
              "Name: Dribbling, dtype: float64"
            ]
          },
          "metadata": {},
          "execution_count": 600
        }
      ]
    },
    {
      "cell_type": "code",
      "metadata": {
        "colab": {
          "base_uri": "https://localhost:8080/",
          "height": 265
        },
        "id": "2MH7JlNdRmD-",
        "outputId": "4ff8c826-d65d-4d22-9b6a-b98970689470"
      },
      "source": [
        "plt.boxplot(rep_5['Curve'])\n",
        "plt.show() # No outliers detected. hence we can leave as it is "
      ],
      "execution_count": 601,
      "outputs": [
        {
          "output_type": "display_data",
          "data": {
            "image/png": "[encoded data removed]",
            "text/plain": [
              "<Figure size 432x288 with 1 Axes>"
            ]
          },
          "metadata": {
            "needs_background": "light"
          }
        }
      ]
    },
    {
      "cell_type": "code",
      "metadata": {
        "colab": {
          "base_uri": "https://localhost:8080/"
        },
        "id": "2NbcQ7VgvFYE",
        "outputId": "0c3987a9-c30f-4179-b87b-12821659e560"
      },
      "source": [
        "quar(81.25,87.5)"
      ],
      "execution_count": 602,
      "outputs": [
        {
          "output_type": "execute_result",
          "data": {
            "text/plain": [
              "(71.875, 96.875)"
            ]
          },
          "metadata": {},
          "execution_count": 602
        }
      ]
    },
    {
      "cell_type": "code",
      "metadata": {
        "colab": {
          "base_uri": "https://localhost:8080/"
        },
        "id": "bOreoSJdvJ9P",
        "outputId": "225e51c3-8181-467f-c434-e39b881d2dac"
      },
      "source": [
        "value_ch('Curve')"
      ],
      "execution_count": 603,
      "outputs": [
        {
          "output_type": "execute_result",
          "data": {
            "text/plain": [
              "74.0"
            ]
          },
          "metadata": {},
          "execution_count": 603
        }
      ]
    },
    {
      "cell_type": "code",
      "metadata": {
        "colab": {
          "base_uri": "https://localhost:8080/"
        },
        "id": "TJ4f53yAvKBI",
        "outputId": "a7ce263f-a989-4411-d2c9-b211e39cdfff"
      },
      "source": [
        "repla('Curve')"
      ],
      "execution_count": 604,
      "outputs": [
        {
          "output_type": "execute_result",
          "data": {
            "text/plain": [
              "0     93\n",
              "1     81\n",
              "2     88\n",
              "7     86\n",
              "22    74\n",
              "Name: Curve, dtype: int64"
            ]
          },
          "metadata": {},
          "execution_count": 604
        }
      ]
    },
    {
      "cell_type": "code",
      "metadata": {
        "colab": {
          "base_uri": "https://localhost:8080/",
          "height": 265
        },
        "id": "SZi22q18RqkT",
        "outputId": "91c8eaee-a237-41ac-8bab-398740891bdf"
      },
      "source": [
        "plt.boxplot(rep_5['FKAccuracy'])\n",
        "plt.show()  # No outliers detected. hence we can leave as it is "
      ],
      "execution_count": 605,
      "outputs": [
        {
          "output_type": "display_data",
          "data": {
            "image/png": "[encoded data removed]",
            "text/plain": [
              "<Figure size 432x288 with 1 Axes>"
            ]
          },
          "metadata": {
            "needs_background": "light"
          }
        }
      ]
    },
    {
      "cell_type": "code",
      "metadata": {
        "colab": {
          "base_uri": "https://localhost:8080/"
        },
        "id": "80Jn4hQK2z3M",
        "outputId": "94f7f6cb-b84d-423a-d0f0-b4a3761ee841"
      },
      "source": [
        "quar(77.5,86.25)"
      ],
      "execution_count": 606,
      "outputs": [
        {
          "output_type": "execute_result",
          "data": {
            "text/plain": [
              "(64.375, 99.375)"
            ]
          },
          "metadata": {},
          "execution_count": 606
        }
      ]
    },
    {
      "cell_type": "code",
      "metadata": {
        "colab": {
          "base_uri": "https://localhost:8080/"
        },
        "id": "MiDVFf9-2z6t",
        "outputId": "36e53b4d-bf87-4e0e-d8c2-193f97534459"
      },
      "source": [
        "value_ch('FKAccuracy')"
      ],
      "execution_count": 607,
      "outputs": [
        {
          "output_type": "execute_result",
          "data": {
            "text/plain": [
              "72.33333333333333"
            ]
          },
          "metadata": {},
          "execution_count": 607
        }
      ]
    },
    {
      "cell_type": "code",
      "metadata": {
        "colab": {
          "base_uri": "https://localhost:8080/"
        },
        "id": "Mayrtpq_26Vy",
        "outputId": "803b784c-1e0b-4f20-e790-c34bb1e540a0"
      },
      "source": [
        "repla('FKAccuracy')"
      ],
      "execution_count": 608,
      "outputs": [
        {
          "output_type": "execute_result",
          "data": {
            "text/plain": [
              "0     94.000000\n",
              "1     76.000000\n",
              "2     87.000000\n",
              "7     84.000000\n",
              "22    72.333333\n",
              "Name: FKAccuracy, dtype: float64"
            ]
          },
          "metadata": {},
          "execution_count": 608
        }
      ]
    },
    {
      "cell_type": "code",
      "metadata": {
        "colab": {
          "base_uri": "https://localhost:8080/",
          "height": 265
        },
        "id": "3h1h88TISlU7",
        "outputId": "054fe1cd-45c5-4e4e-da3b-42b8c90140ea"
      },
      "source": [
        "plt.boxplot(rep_5['LongPassing'])\n",
        "plt.show()  # No outliers detected. hence we can leave as it is "
      ],
      "execution_count": 609,
      "outputs": [
        {
          "output_type": "display_data",
          "data": {
            "image/png": "[encoded data removed]",
            "text/plain": [
              "<Figure size 432x288 with 1 Axes>"
            ]
          },
          "metadata": {
            "needs_background": "light"
          }
        }
      ]
    },
    {
      "cell_type": "code",
      "metadata": {
        "colab": {
          "base_uri": "https://localhost:8080/"
        },
        "id": "feeOE-YZvUgc",
        "outputId": "37cad690-57ae-4d31-bbfc-6534be9d3103"
      },
      "source": [
        "quar(64.5,82.5)"
      ],
      "execution_count": 520,
      "outputs": [
        {
          "output_type": "execute_result",
          "data": {
            "text/plain": [
              "(37.5, 109.5)"
            ]
          },
          "metadata": {},
          "execution_count": 520
        }
      ]
    },
    {
      "cell_type": "code",
      "metadata": {
        "colab": {
          "base_uri": "https://localhost:8080/"
        },
        "id": "1-809nQXvVqt",
        "outputId": "f2da8a04-c674-40d5-f7e7-bc0f78be16d8"
      },
      "source": [
        "value_ch('LongPassing')"
      ],
      "execution_count": 521,
      "outputs": [
        {
          "output_type": "execute_result",
          "data": {
            "text/plain": [
              "71.90196078431373"
            ]
          },
          "metadata": {},
          "execution_count": 521
        }
      ]
    },
    {
      "cell_type": "code",
      "metadata": {
        "colab": {
          "base_uri": "https://localhost:8080/"
        },
        "id": "ezTBAxZLvUkO",
        "outputId": "7ecf8e8f-e15a-411f-dc4f-31c0839f63c4"
      },
      "source": [
        "repla('LongPassing')"
      ],
      "execution_count": 522,
      "outputs": [
        {
          "output_type": "execute_result",
          "data": {
            "text/plain": [
              "3    51.0\n",
              "4    91.0\n",
              "5    83.0\n",
              "6    88.0\n",
              "8    77.0\n",
              "Name: LongPassing, dtype: float64"
            ]
          },
          "metadata": {},
          "execution_count": 522
        }
      ]
    },
    {
      "cell_type": "code",
      "metadata": {
        "colab": {
          "base_uri": "https://localhost:8080/",
          "height": 265
        },
        "id": "gLAMrSfjSoy6",
        "outputId": "4862915c-af92-4663-c68f-d185137acb44"
      },
      "source": [
        "plt.boxplot(rep_5['BallControl'])\n",
        "plt.show() "
      ],
      "execution_count": 610,
      "outputs": [
        {
          "output_type": "display_data",
          "data": {
            "image/png": "[encoded data removed]",
            "text/plain": [
              "<Figure size 432x288 with 1 Axes>"
            ]
          },
          "metadata": {
            "needs_background": "light"
          }
        }
      ]
    },
    {
      "cell_type": "code",
      "metadata": {
        "id": "WNkBa2dWvhYj"
      },
      "source": [
        ""
      ],
      "execution_count": null,
      "outputs": []
    },
    {
      "cell_type": "code",
      "metadata": {
        "colab": {
          "base_uri": "https://localhost:8080/"
        },
        "id": "cZIwt4tVTCxe",
        "outputId": "15d4ac64-d583-450d-fc84-ef043c0d98ae"
      },
      "source": [
        "quar(85.5,94.75)"
      ],
      "execution_count": 611,
      "outputs": [
        {
          "output_type": "execute_result",
          "data": {
            "text/plain": [
              "(71.625, 108.625)"
            ]
          },
          "metadata": {},
          "execution_count": 611
        }
      ]
    },
    {
      "cell_type": "code",
      "metadata": {
        "colab": {
          "base_uri": "https://localhost:8080/"
        },
        "id": "WkBXFI_vTL9-",
        "outputId": "dea20e3f-e4a4-4134-b99b-c01cddb5c330"
      },
      "source": [
        "value_ch('BallControl')"
      ],
      "execution_count": 612,
      "outputs": [
        {
          "output_type": "execute_result",
          "data": {
            "text/plain": [
              "84.5"
            ]
          },
          "metadata": {},
          "execution_count": 612
        }
      ]
    },
    {
      "cell_type": "code",
      "metadata": {
        "colab": {
          "base_uri": "https://localhost:8080/"
        },
        "id": "dHjGkhk2TQa1",
        "outputId": "8a2854cf-8dbb-4ae7-8d7a-f84929347842"
      },
      "source": [
        "repla('BallControl')"
      ],
      "execution_count": 613,
      "outputs": [
        {
          "output_type": "execute_result",
          "data": {
            "text/plain": [
              "0     96.0\n",
              "1     94.0\n",
              "2     95.0\n",
              "7     90.0\n",
              "22    84.5\n",
              "Name: BallControl, dtype: float64"
            ]
          },
          "metadata": {},
          "execution_count": 613
        }
      ]
    },
    {
      "cell_type": "code",
      "metadata": {
        "colab": {
          "base_uri": "https://localhost:8080/",
          "height": 265
        },
        "id": "YY9GA5gITY4h",
        "outputId": "6c4fe027-3da9-4be1-b0b6-279c51ee40d9"
      },
      "source": [
        "plt.boxplot(rep_5['SprintSpeed'])\n",
        "plt.show()"
      ],
      "execution_count": 614,
      "outputs": [
        {
          "output_type": "display_data",
          "data": {
            "image/png": "[encoded data removed]",
            "text/plain": [
              "<Figure size 432x288 with 1 Axes>"
            ]
          },
          "metadata": {
            "needs_background": "light"
          }
        }
      ]
    },
    {
      "cell_type": "code",
      "metadata": {
        "colab": {
          "base_uri": "https://localhost:8080/"
        },
        "id": "q88tFxxhTec_",
        "outputId": "d827e714-d146-46a2-c1f3-2fca2c22db17"
      },
      "source": [
        "quar(62,79)"
      ],
      "execution_count": 436,
      "outputs": [
        {
          "output_type": "execute_result",
          "data": {
            "text/plain": [
              "(36.5, 104.5)"
            ]
          },
          "metadata": {},
          "execution_count": 436
        }
      ]
    },
    {
      "cell_type": "code",
      "metadata": {
        "colab": {
          "base_uri": "https://localhost:8080/"
        },
        "id": "7e0qx__qv9QJ",
        "outputId": "2313676b-1568-4a4c-81d6-a82fe869fb6e"
      },
      "source": [
        "value_ch('SprintSpeed')"
      ],
      "execution_count": 437,
      "outputs": [
        {
          "output_type": "execute_result",
          "data": {
            "text/plain": [
              "69.70873786407768"
            ]
          },
          "metadata": {},
          "execution_count": 437
        }
      ]
    },
    {
      "cell_type": "code",
      "metadata": {
        "colab": {
          "base_uri": "https://localhost:8080/"
        },
        "id": "wIuIYrdPv9Ud",
        "outputId": "0eb26188-aa69-416b-e675-18beec85bfcf"
      },
      "source": [
        "repla('SprintSpeed')"
      ],
      "execution_count": 438,
      "outputs": [
        {
          "output_type": "execute_result",
          "data": {
            "text/plain": [
              "9     60.0\n",
              "12    68.0\n",
              "14    78.0\n",
              "15    83.0\n",
              "16    72.0\n",
              "Name: SprintSpeed, dtype: float64"
            ]
          },
          "metadata": {},
          "execution_count": 438
        }
      ]
    },
    {
      "cell_type": "code",
      "metadata": {
        "colab": {
          "base_uri": "https://localhost:8080/",
          "height": 147
        },
        "id": "I-cuCPA2TzDk",
        "outputId": "3277a4c8-1900-4d4f-f744-e0fca653db2e"
      },
      "source": [
        "## We can drop sprint speed or Acceleration as it is highly correlated. It says the same\n",
        "rep_5.drop(labels='Acceleration',axis=1,inplace=True)\n",
        "rep_5.head(2)"
      ],
      "execution_count": 616,
      "outputs": [
        {
          "output_type": "execute_result",
          "data": {
            "text/html": [
              "<div>\n",
              "<style scoped>\n",
              "    .dataframe tbody tr th:only-of-type {\n",
              "        vertical-align: middle;\n",
              "    }\n",
              "\n",
              "    .dataframe tbody tr th {\n",
              "        vertical-align: top;\n",
              "    }\n",
              "\n",
              "    .dataframe thead th {\n",
              "        text-align: right;\n",
              "    }\n",
              "</style>\n",
              "<table border=\"1\" class=\"dataframe\">\n",
              "  <thead>\n",
              "    <tr style=\"text-align: right;\">\n",
              "      <th></th>\n",
              "      <th>Position</th>\n",
              "      <th>Crossing</th>\n",
              "      <th>Finishing</th>\n",
              "      <th>HeadingAccuracy</th>\n",
              "      <th>ShortPassing</th>\n",
              "      <th>Volleys</th>\n",
              "      <th>Dribbling</th>\n",
              "      <th>Curve</th>\n",
              "      <th>FKAccuracy</th>\n",
              "      <th>LongPassing</th>\n",
              "      <th>BallControl</th>\n",
              "      <th>SprintSpeed</th>\n",
              "      <th>Agility</th>\n",
              "      <th>Reactions</th>\n",
              "      <th>Balance</th>\n",
              "      <th>ShotPower</th>\n",
              "      <th>Jumping</th>\n",
              "      <th>Stamina</th>\n",
              "      <th>Strength</th>\n",
              "      <th>LongShots</th>\n",
              "      <th>Aggression</th>\n",
              "      <th>Interceptions</th>\n",
              "      <th>Positioning</th>\n",
              "      <th>Vision</th>\n",
              "      <th>Penalties</th>\n",
              "      <th>Composure</th>\n",
              "      <th>Marking</th>\n",
              "      <th>StandingTackle</th>\n",
              "      <th>SlidingTackle</th>\n",
              "      <th>GKDiving</th>\n",
              "      <th>GKHandling</th>\n",
              "      <th>GKKicking</th>\n",
              "      <th>GKPositioning</th>\n",
              "      <th>GKReflexes</th>\n",
              "      <th>International Reputation</th>\n",
              "    </tr>\n",
              "  </thead>\n",
              "  <tbody>\n",
              "    <tr>\n",
              "      <th>0</th>\n",
              "      <td>RF</td>\n",
              "      <td>84.0</td>\n",
              "      <td>95.0</td>\n",
              "      <td>70.0</td>\n",
              "      <td>82.416667</td>\n",
              "      <td>86.0</td>\n",
              "      <td>97.0</td>\n",
              "      <td>93</td>\n",
              "      <td>94.0</td>\n",
              "      <td>87</td>\n",
              "      <td>96.0</td>\n",
              "      <td>86</td>\n",
              "      <td>91</td>\n",
              "      <td>95</td>\n",
              "      <td>95</td>\n",
              "      <td>85</td>\n",
              "      <td>68</td>\n",
              "      <td>72</td>\n",
              "      <td>59</td>\n",
              "      <td>94</td>\n",
              "      <td>48</td>\n",
              "      <td>22</td>\n",
              "      <td>94</td>\n",
              "      <td>94</td>\n",
              "      <td>75</td>\n",
              "      <td>96</td>\n",
              "      <td>33</td>\n",
              "      <td>28</td>\n",
              "      <td>26</td>\n",
              "      <td>6</td>\n",
              "      <td>11</td>\n",
              "      <td>15</td>\n",
              "      <td>14</td>\n",
              "      <td>8</td>\n",
              "      <td>5</td>\n",
              "    </tr>\n",
              "    <tr>\n",
              "      <th>1</th>\n",
              "      <td>ST</td>\n",
              "      <td>84.0</td>\n",
              "      <td>94.0</td>\n",
              "      <td>89.0</td>\n",
              "      <td>81.000000</td>\n",
              "      <td>87.0</td>\n",
              "      <td>88.0</td>\n",
              "      <td>81</td>\n",
              "      <td>76.0</td>\n",
              "      <td>77</td>\n",
              "      <td>94.0</td>\n",
              "      <td>91</td>\n",
              "      <td>87</td>\n",
              "      <td>96</td>\n",
              "      <td>70</td>\n",
              "      <td>95</td>\n",
              "      <td>95</td>\n",
              "      <td>88</td>\n",
              "      <td>79</td>\n",
              "      <td>93</td>\n",
              "      <td>63</td>\n",
              "      <td>29</td>\n",
              "      <td>95</td>\n",
              "      <td>82</td>\n",
              "      <td>85</td>\n",
              "      <td>95</td>\n",
              "      <td>28</td>\n",
              "      <td>31</td>\n",
              "      <td>23</td>\n",
              "      <td>7</td>\n",
              "      <td>11</td>\n",
              "      <td>15</td>\n",
              "      <td>14</td>\n",
              "      <td>11</td>\n",
              "      <td>5</td>\n",
              "    </tr>\n",
              "  </tbody>\n",
              "</table>\n",
              "</div>"
            ],
            "text/plain": [
              "  Position  Crossing  ...  GKReflexes  International Reputation\n",
              "0       RF      84.0  ...           8                         5\n",
              "1       ST      84.0  ...          11                         5\n",
              "\n",
              "[2 rows x 35 columns]"
            ]
          },
          "metadata": {},
          "execution_count": 616
        }
      ]
    },
    {
      "cell_type": "code",
      "metadata": {
        "colab": {
          "base_uri": "https://localhost:8080/",
          "height": 265
        },
        "id": "fhHCTZu7UBUq",
        "outputId": "4587a6bf-27fa-4b83-9cd4-7b34f4c7470b"
      },
      "source": [
        "plt.boxplot(rep_5['Agility'])\n",
        "plt.show()"
      ],
      "execution_count": 617,
      "outputs": [
        {
          "output_type": "display_data",
          "data": {
            "image/png": "[encoded data removed]",
            "text/plain": [
              "<Figure size 432x288 with 1 Axes>"
            ]
          },
          "metadata": {
            "needs_background": "light"
          }
        }
      ]
    },
    {
      "cell_type": "code",
      "metadata": {
        "colab": {
          "base_uri": "https://localhost:8080/"
        },
        "id": "Xq6G75IBUq1a",
        "outputId": "aeedfb00-d256-4b4c-93a2-b8b5158f2017"
      },
      "source": [
        "quar(76.5,90)"
      ],
      "execution_count": 618,
      "outputs": [
        {
          "output_type": "execute_result",
          "data": {
            "text/plain": [
              "(56.25, 110.25)"
            ]
          },
          "metadata": {},
          "execution_count": 618
        }
      ]
    },
    {
      "cell_type": "code",
      "metadata": {
        "colab": {
          "base_uri": "https://localhost:8080/"
        },
        "id": "EhttwzrNUugr",
        "outputId": "93a6766d-bb87-4b06-a699-f531eae18ce0"
      },
      "source": [
        "value_ch('Agility')"
      ],
      "execution_count": 619,
      "outputs": [
        {
          "output_type": "execute_result",
          "data": {
            "text/plain": [
              "80.33333333333333"
            ]
          },
          "metadata": {},
          "execution_count": 619
        }
      ]
    },
    {
      "cell_type": "code",
      "metadata": {
        "colab": {
          "base_uri": "https://localhost:8080/"
        },
        "id": "lvX02tmiUwpi",
        "outputId": "4b351dc7-f3a7-4f29-fdab-3b3e7c150851"
      },
      "source": [
        "repla('Agility')"
      ],
      "execution_count": 620,
      "outputs": [
        {
          "output_type": "execute_result",
          "data": {
            "text/plain": [
              "0     91.000000\n",
              "1     87.000000\n",
              "2     96.000000\n",
              "7     82.000000\n",
              "22    80.333333\n",
              "Name: Agility, dtype: float64"
            ]
          },
          "metadata": {},
          "execution_count": 620
        }
      ]
    },
    {
      "cell_type": "code",
      "metadata": {
        "colab": {
          "base_uri": "https://localhost:8080/",
          "height": 265
        },
        "id": "syksN3oCUzzy",
        "outputId": "2da9f4c5-32be-48fc-c1b6-14fec30774f0"
      },
      "source": [
        "plt.boxplot(rep_5['Reactions'])\n",
        "plt.show()"
      ],
      "execution_count": 623,
      "outputs": [
        {
          "output_type": "display_data",
          "data": {
            "image/png": "[encoded data removed]",
            "text/plain": [
              "<Figure size 432x288 with 1 Axes>"
            ]
          },
          "metadata": {
            "needs_background": "light"
          }
        }
      ]
    },
    {
      "cell_type": "code",
      "metadata": {
        "colab": {
          "base_uri": "https://localhost:8080/"
        },
        "id": "OxZGOoEJVKu6",
        "outputId": "77026dc6-81d6-4e69-e32e-7e095ccf3d80"
      },
      "source": [
        "quar(82,87)"
      ],
      "execution_count": 622,
      "outputs": [
        {
          "output_type": "execute_result",
          "data": {
            "text/plain": [
              "(74.5, 94.5)"
            ]
          },
          "metadata": {},
          "execution_count": 622
        }
      ]
    },
    {
      "cell_type": "code",
      "metadata": {
        "colab": {
          "base_uri": "https://localhost:8080/"
        },
        "id": "fgIkKtyQVjVe",
        "outputId": "aacafcff-0d1a-4e18-c254-10a177d757a2"
      },
      "source": [
        "value_ch('Reactions')"
      ],
      "execution_count": 529,
      "outputs": [
        {
          "output_type": "execute_result",
          "data": {
            "text/plain": [
              "84.07843137254902"
            ]
          },
          "metadata": {},
          "execution_count": 529
        }
      ]
    },
    {
      "cell_type": "code",
      "metadata": {
        "colab": {
          "base_uri": "https://localhost:8080/"
        },
        "id": "KTLXdxvNVloq",
        "outputId": "1caa2aed-1fec-4944-bdfe-2532b8e4224c"
      },
      "source": [
        "repla('Reactions')"
      ],
      "execution_count": 530,
      "outputs": [
        {
          "output_type": "execute_result",
          "data": {
            "text/plain": [
              "3    90.0\n",
              "4    91.0\n",
              "5    90.0\n",
              "6    90.0\n",
              "8    85.0\n",
              "Name: Reactions, dtype: float64"
            ]
          },
          "metadata": {},
          "execution_count": 530
        }
      ]
    },
    {
      "cell_type": "code",
      "metadata": {
        "colab": {
          "base_uri": "https://localhost:8080/",
          "height": 265
        },
        "id": "tFv1gbczVpBT",
        "outputId": "352fe390-79f4-43c1-a325-6f8eac525009"
      },
      "source": [
        "plt.boxplot(rep_5['Balance'])\n",
        "plt.show()"
      ],
      "execution_count": 624,
      "outputs": [
        {
          "output_type": "display_data",
          "data": {
            "image/png": "[encoded data removed]",
            "text/plain": [
              "<Figure size 432x288 with 1 Axes>"
            ]
          },
          "metadata": {
            "needs_background": "light"
          }
        }
      ]
    },
    {
      "cell_type": "code",
      "metadata": {
        "colab": {
          "base_uri": "https://localhost:8080/"
        },
        "id": "zP4SKHq3Vsfl",
        "outputId": "6b1c76af-268e-48a9-a611-852530c6b724"
      },
      "source": [
        "quar(57,75)"
      ],
      "execution_count": 327,
      "outputs": [
        {
          "output_type": "execute_result",
          "data": {
            "text/plain": [
              "(30.0, 102.0)"
            ]
          },
          "metadata": {},
          "execution_count": 327
        }
      ]
    },
    {
      "cell_type": "code",
      "metadata": {
        "colab": {
          "base_uri": "https://localhost:8080/"
        },
        "id": "XWcJRjbfV1gs",
        "outputId": "2691fd72-076c-4722-f22b-6b02dc32518d"
      },
      "source": [
        "value_ch('Balance')"
      ],
      "execution_count": 328,
      "outputs": [
        {
          "output_type": "execute_result",
          "data": {
            "text/plain": [
              "65.97494467402164"
            ]
          },
          "metadata": {},
          "execution_count": 328
        }
      ]
    },
    {
      "cell_type": "code",
      "metadata": {
        "colab": {
          "base_uri": "https://localhost:8080/"
        },
        "id": "ozQuJhn2V3s4",
        "outputId": "3cbcce22-23cc-4c63-c780-8de7db48605f"
      },
      "source": [
        "repla('Balance')"
      ],
      "execution_count": 329,
      "outputs": [
        {
          "output_type": "execute_result",
          "data": {
            "text/plain": [
              "55    81.0\n",
              "56    88.0\n",
              "57    48.0\n",
              "78    59.0\n",
              "90    72.0\n",
              "Name: Balance, dtype: float64"
            ]
          },
          "metadata": {},
          "execution_count": 329
        }
      ]
    },
    {
      "cell_type": "code",
      "metadata": {
        "colab": {
          "base_uri": "https://localhost:8080/",
          "height": 265
        },
        "id": "9ZXJ3kJlV5OC",
        "outputId": "b5e97e99-7b15-417f-e88e-53364bfa944e"
      },
      "source": [
        "plt.boxplot(rep_5['ShotPower'])\n",
        "plt.show()"
      ],
      "execution_count": 625,
      "outputs": [
        {
          "output_type": "display_data",
          "data": {
            "image/png": "[encoded data removed]",
            "text/plain": [
              "<Figure size 432x288 with 1 Axes>"
            ]
          },
          "metadata": {
            "needs_background": "light"
          }
        }
      ]
    },
    {
      "cell_type": "code",
      "metadata": {
        "colab": {
          "base_uri": "https://localhost:8080/"
        },
        "id": "WXTb4y66V8Xc",
        "outputId": "db5dfbc8-1ef7-4879-f653-c0239b05c765"
      },
      "source": [
        "quar(81.25,89)"
      ],
      "execution_count": 626,
      "outputs": [
        {
          "output_type": "execute_result",
          "data": {
            "text/plain": [
              "(69.625, 100.625)"
            ]
          },
          "metadata": {},
          "execution_count": 626
        }
      ]
    },
    {
      "cell_type": "code",
      "metadata": {
        "colab": {
          "base_uri": "https://localhost:8080/"
        },
        "id": "G1QFSRvgWBIn",
        "outputId": "8b8ad495-28b7-47db-a754-68990a5139b8"
      },
      "source": [
        "value_ch('ShotPower')"
      ],
      "execution_count": 627,
      "outputs": [
        {
          "output_type": "execute_result",
          "data": {
            "text/plain": [
              "76.83333333333333"
            ]
          },
          "metadata": {},
          "execution_count": 627
        }
      ]
    },
    {
      "cell_type": "code",
      "metadata": {
        "colab": {
          "base_uri": "https://localhost:8080/"
        },
        "id": "L34ZAdkpWFgi",
        "outputId": "8614058b-311b-4f9b-fda8-2e20d0ebd8d1"
      },
      "source": [
        "repla('ShotPower')"
      ],
      "execution_count": 628,
      "outputs": [
        {
          "output_type": "execute_result",
          "data": {
            "text/plain": [
              "0     85.000000\n",
              "1     95.000000\n",
              "2     80.000000\n",
              "7     86.000000\n",
              "22    76.833333\n",
              "Name: ShotPower, dtype: float64"
            ]
          },
          "metadata": {},
          "execution_count": 628
        }
      ]
    },
    {
      "cell_type": "code",
      "metadata": {
        "colab": {
          "base_uri": "https://localhost:8080/",
          "height": 265
        },
        "id": "vGdS1WALWIB5",
        "outputId": "3485855e-d17e-446b-e665-2d57ae438f3a"
      },
      "source": [
        "plt.boxplot(rep_5['Jumping'])\n",
        "plt.show()"
      ],
      "execution_count": 629,
      "outputs": [
        {
          "output_type": "display_data",
          "data": {
            "image/png": "[encoded data removed]",
            "text/plain": [
              "<Figure size 432x288 with 1 Axes>"
            ]
          },
          "metadata": {
            "needs_background": "light"
          }
        }
      ]
    },
    {
      "cell_type": "code",
      "metadata": {
        "colab": {
          "base_uri": "https://localhost:8080/"
        },
        "id": "q5PpXtMMWLsa",
        "outputId": "9470c963-85fd-42d0-a84e-73b83539b3d2"
      },
      "source": [
        "quar(68,75)"
      ],
      "execution_count": 630,
      "outputs": [
        {
          "output_type": "execute_result",
          "data": {
            "text/plain": [
              "(57.5, 85.5)"
            ]
          },
          "metadata": {},
          "execution_count": 630
        }
      ]
    },
    {
      "cell_type": "code",
      "metadata": {
        "colab": {
          "base_uri": "https://localhost:8080/"
        },
        "id": "4PaSmth1WOop",
        "outputId": "94792e33-a0a1-47da-c9d9-3e32b4d287a7"
      },
      "source": [
        "value_ch('Jumping')"
      ],
      "execution_count": 631,
      "outputs": [
        {
          "output_type": "execute_result",
          "data": {
            "text/plain": [
              "73.0"
            ]
          },
          "metadata": {},
          "execution_count": 631
        }
      ]
    },
    {
      "cell_type": "code",
      "metadata": {
        "colab": {
          "base_uri": "https://localhost:8080/"
        },
        "id": "U_TSFixrWQZw",
        "outputId": "1d6b2fb3-fc32-4030-d204-bdb6903cb43a"
      },
      "source": [
        "repla('Jumping')"
      ],
      "execution_count": 632,
      "outputs": [
        {
          "output_type": "execute_result",
          "data": {
            "text/plain": [
              "0     68\n",
              "1     73\n",
              "2     61\n",
              "7     69\n",
              "22    77\n",
              "Name: Jumping, dtype: int64"
            ]
          },
          "metadata": {},
          "execution_count": 632
        }
      ]
    },
    {
      "cell_type": "code",
      "metadata": {
        "colab": {
          "base_uri": "https://localhost:8080/",
          "height": 265
        },
        "id": "nnY2TKPpWSCH",
        "outputId": "4b7c0eb2-b5b3-40e4-f610-e6abcb35a97d"
      },
      "source": [
        "plt.boxplot(rep_5['Jumping'])\n",
        "plt.show()"
      ],
      "execution_count": 633,
      "outputs": [
        {
          "output_type": "display_data",
          "data": {
            "image/png": "[encoded data removed]",
            "text/plain": [
              "<Figure size 432x288 with 1 Axes>"
            ]
          },
          "metadata": {
            "needs_background": "light"
          }
        }
      ]
    },
    {
      "cell_type": "code",
      "metadata": {
        "colab": {
          "base_uri": "https://localhost:8080/",
          "height": 265
        },
        "id": "BzbKDcsbWaNJ",
        "outputId": "fff3b7e9-b5b9-431d-e202-8d91e981c668"
      },
      "source": [
        "plt.boxplot(rep_5['Stamina'])\n",
        "plt.show()"
      ],
      "execution_count": 634,
      "outputs": [
        {
          "output_type": "display_data",
          "data": {
            "image/png": "[encoded data removed]",
            "text/plain": [
              "<Figure size 432x288 with 1 Axes>"
            ]
          },
          "metadata": {
            "needs_background": "light"
          }
        }
      ]
    },
    {
      "cell_type": "code",
      "metadata": {
        "colab": {
          "base_uri": "https://localhost:8080/"
        },
        "id": "J4w9TcBCWhGd",
        "outputId": "5ec5d4c5-3d61-43e9-8793-f499c23b4b30"
      },
      "source": [
        "quar(65.5,83)"
      ],
      "execution_count": 542,
      "outputs": [
        {
          "output_type": "execute_result",
          "data": {
            "text/plain": [
              "(39.25, 109.25)"
            ]
          },
          "metadata": {},
          "execution_count": 542
        }
      ]
    },
    {
      "cell_type": "code",
      "metadata": {
        "colab": {
          "base_uri": "https://localhost:8080/"
        },
        "id": "6tdZjvnyWnRK",
        "outputId": "1338ff2e-0294-4f33-d01d-cb405833e249"
      },
      "source": [
        "value_ch('Stamina')"
      ],
      "execution_count": 543,
      "outputs": [
        {
          "output_type": "execute_result",
          "data": {
            "text/plain": [
              "70.86274509803921"
            ]
          },
          "metadata": {},
          "execution_count": 543
        }
      ]
    },
    {
      "cell_type": "code",
      "metadata": {
        "colab": {
          "base_uri": "https://localhost:8080/"
        },
        "id": "VaF5beGXWowI",
        "outputId": "a5a7561a-b259-47a2-d9ce-3d03325b019e"
      },
      "source": [
        "repla('Stamina')"
      ],
      "execution_count": 544,
      "outputs": [
        {
          "output_type": "execute_result",
          "data": {
            "text/plain": [
              "3    43.0\n",
              "4    90.0\n",
              "5    83.0\n",
              "6    89.0\n",
              "8    84.0\n",
              "Name: Stamina, dtype: float64"
            ]
          },
          "metadata": {},
          "execution_count": 544
        }
      ]
    },
    {
      "cell_type": "code",
      "metadata": {
        "colab": {
          "base_uri": "https://localhost:8080/",
          "height": 265
        },
        "id": "C27uCoZyWr-n",
        "outputId": "cf6c7b87-7250-4533-c077-bdbfa522236b"
      },
      "source": [
        "plt.boxplot(rep_5['Strength'])\n",
        "plt.show()"
      ],
      "execution_count": 635,
      "outputs": [
        {
          "output_type": "display_data",
          "data": {
            "image/png": "[encoded data removed]",
            "text/plain": [
              "<Figure size 432x288 with 1 Axes>"
            ]
          },
          "metadata": {
            "needs_background": "light"
          }
        }
      ]
    },
    {
      "cell_type": "code",
      "metadata": {
        "colab": {
          "base_uri": "https://localhost:8080/"
        },
        "id": "4uPg0c_cWvOY",
        "outputId": "b90f3bb3-b8dd-4224-dca5-8f81cf090cb1"
      },
      "source": [
        "quar(64,79)"
      ],
      "execution_count": 457,
      "outputs": [
        {
          "output_type": "execute_result",
          "data": {
            "text/plain": [
              "(41.5, 101.5)"
            ]
          },
          "metadata": {},
          "execution_count": 457
        }
      ]
    },
    {
      "cell_type": "code",
      "metadata": {
        "colab": {
          "base_uri": "https://localhost:8080/"
        },
        "id": "3gl7zA-zWy2N",
        "outputId": "42b98b2d-7b0d-4142-9d8f-5a951c70f291"
      },
      "source": [
        "value_ch('Strength')"
      ],
      "execution_count": 458,
      "outputs": [
        {
          "output_type": "execute_result",
          "data": {
            "text/plain": [
              "71.12297734627832"
            ]
          },
          "metadata": {},
          "execution_count": 458
        }
      ]
    },
    {
      "cell_type": "code",
      "metadata": {
        "colab": {
          "base_uri": "https://localhost:8080/"
        },
        "id": "on28kTOTW01O",
        "outputId": "2a4cac50-86f0-4da4-9b26-5dda443b9da3"
      },
      "source": [
        "repla('Strength')"
      ],
      "execution_count": 459,
      "outputs": [
        {
          "output_type": "execute_result",
          "data": {
            "text/plain": [
              "9     78.0\n",
              "12    88.0\n",
              "14    76.0\n",
              "15    65.0\n",
              "16    84.0\n",
              "Name: Strength, dtype: float64"
            ]
          },
          "metadata": {},
          "execution_count": 459
        }
      ]
    },
    {
      "cell_type": "code",
      "metadata": {
        "colab": {
          "base_uri": "https://localhost:8080/",
          "height": 265
        },
        "id": "Ndv3f2eLW3RA",
        "outputId": "f727a3fb-868b-45ce-a65f-f13d979ff03e"
      },
      "source": [
        "plt.boxplot(rep_5['LongShots'])\n",
        "plt.show()"
      ],
      "execution_count": 636,
      "outputs": [
        {
          "output_type": "display_data",
          "data": {
            "image/png": "[encoded data removed]",
            "text/plain": [
              "<Figure size 432x288 with 1 Axes>"
            ]
          },
          "metadata": {
            "needs_background": "light"
          }
        }
      ]
    },
    {
      "cell_type": "code",
      "metadata": {
        "colab": {
          "base_uri": "https://localhost:8080/"
        },
        "id": "IjAH79vcsCo2",
        "outputId": "1b995c85-1b3c-44b5-94ad-18b23d801867"
      },
      "source": [
        "quar(82,91)"
      ],
      "execution_count": 637,
      "outputs": [
        {
          "output_type": "execute_result",
          "data": {
            "text/plain": [
              "(68.5, 104.5)"
            ]
          },
          "metadata": {},
          "execution_count": 637
        }
      ]
    },
    {
      "cell_type": "code",
      "metadata": {
        "colab": {
          "base_uri": "https://localhost:8080/"
        },
        "id": "9ka7xUZusCsT",
        "outputId": "13d0e76b-f6d3-4b14-c020-6121f543c82c"
      },
      "source": [
        "value_ch('LongShots')"
      ],
      "execution_count": 638,
      "outputs": [
        {
          "output_type": "execute_result",
          "data": {
            "text/plain": [
              "75.33333333333333"
            ]
          },
          "metadata": {},
          "execution_count": 638
        }
      ]
    },
    {
      "cell_type": "code",
      "metadata": {
        "colab": {
          "base_uri": "https://localhost:8080/"
        },
        "id": "rKGWg7_gsCwP",
        "outputId": "cddaaa71-bc3c-4f18-8c60-0a8dc5021ab2"
      },
      "source": [
        "repla('LongShots')"
      ],
      "execution_count": 639,
      "outputs": [
        {
          "output_type": "execute_result",
          "data": {
            "text/plain": [
              "0     94.000000\n",
              "1     93.000000\n",
              "2     82.000000\n",
              "7     85.000000\n",
              "22    75.333333\n",
              "Name: LongShots, dtype: float64"
            ]
          },
          "metadata": {},
          "execution_count": 639
        }
      ]
    },
    {
      "cell_type": "code",
      "metadata": {
        "colab": {
          "base_uri": "https://localhost:8080/",
          "height": 265
        },
        "id": "KNT_X1dOXFEo",
        "outputId": "e2f5ff60-2c39-46d8-9a59-ab75e78c4282"
      },
      "source": [
        "plt.boxplot(rep_5['Aggression'])\n",
        "plt.show()"
      ],
      "execution_count": 640,
      "outputs": [
        {
          "output_type": "display_data",
          "data": {
            "image/png": "[encoded data removed]",
            "text/plain": [
              "<Figure size 432x288 with 1 Axes>"
            ]
          },
          "metadata": {
            "needs_background": "light"
          }
        }
      ]
    },
    {
      "cell_type": "code",
      "metadata": {
        "colab": {
          "base_uri": "https://localhost:8080/"
        },
        "id": "YN9Gpi0ssRWh",
        "outputId": "9a6e8fa0-8e03-4e01-cef0-1fc8d37ad403"
      },
      "source": [
        "quar(,78)"
      ],
      "execution_count": 354,
      "outputs": [
        {
          "output_type": "execute_result",
          "data": {
            "text/plain": [
              "(30.5, 106.5)"
            ]
          },
          "metadata": {},
          "execution_count": 354
        }
      ]
    },
    {
      "cell_type": "code",
      "metadata": {
        "colab": {
          "base_uri": "https://localhost:8080/"
        },
        "id": "4fBZMguIsWNH",
        "outputId": "a3297078-9f20-4c5c-df69-a318493ccc1c"
      },
      "source": [
        "value_ch('Aggression')"
      ],
      "execution_count": 355,
      "outputs": [
        {
          "output_type": "execute_result",
          "data": {
            "text/plain": [
              "66.39095955590801"
            ]
          },
          "metadata": {},
          "execution_count": 355
        }
      ]
    },
    {
      "cell_type": "code",
      "metadata": {
        "colab": {
          "base_uri": "https://localhost:8080/"
        },
        "id": "12p3zaH4sWRF",
        "outputId": "dedcc631-ad67-455f-8c9d-75676c53b309"
      },
      "source": [
        "repla('Aggression')"
      ],
      "execution_count": 356,
      "outputs": [
        {
          "output_type": "execute_result",
          "data": {
            "text/plain": [
              "55    61.0\n",
              "56    58.0\n",
              "57    35.0\n",
              "78    73.0\n",
              "90    58.0\n",
              "Name: Aggression, dtype: float64"
            ]
          },
          "metadata": {},
          "execution_count": 356
        }
      ]
    },
    {
      "cell_type": "code",
      "metadata": {
        "colab": {
          "base_uri": "https://localhost:8080/",
          "height": 265
        },
        "id": "n_Fg6kzpXJoX",
        "outputId": "775a99c1-ade2-4111-ff8c-724591e06686"
      },
      "source": [
        "plt.boxplot(rep_5['Interceptions'])\n",
        "plt.show()"
      ],
      "execution_count": 641,
      "outputs": [
        {
          "output_type": "display_data",
          "data": {
            "image/png": "[encoded data removed]",
            "text/plain": [
              "<Figure size 432x288 with 1 Axes>"
            ]
          },
          "metadata": {
            "needs_background": "light"
          }
        }
      ]
    },
    {
      "cell_type": "code",
      "metadata": {
        "colab": {
          "base_uri": "https://localhost:8080/",
          "height": 265
        },
        "id": "geDXxO30XMKF",
        "outputId": "d3ac4744-f281-4c5a-bb24-345fca18162c"
      },
      "source": [
        "plt.boxplot(rep_5['Positioning'])\n",
        "plt.show()"
      ],
      "execution_count": 642,
      "outputs": [
        {
          "output_type": "display_data",
          "data": {
            "image/png": "[encoded data removed]",
            "text/plain": [
              "<Figure size 432x288 with 1 Axes>"
            ]
          },
          "metadata": {
            "needs_background": "light"
          }
        }
      ]
    },
    {
      "cell_type": "code",
      "metadata": {
        "colab": {
          "base_uri": "https://localhost:8080/"
        },
        "id": "HdiVIhrvsfxn",
        "outputId": "b3bf662d-7de4-41bf-e457-3b7903ab397f"
      },
      "source": [
        "quar(86,93.5)"
      ],
      "execution_count": 643,
      "outputs": [
        {
          "output_type": "execute_result",
          "data": {
            "text/plain": [
              "(74.75, 104.75)"
            ]
          },
          "metadata": {},
          "execution_count": 643
        }
      ]
    },
    {
      "cell_type": "code",
      "metadata": {
        "colab": {
          "base_uri": "https://localhost:8080/"
        },
        "id": "qyfXmJEJsf0r",
        "outputId": "c02b7994-bfcc-45a1-dac3-9180d8f1bcd4"
      },
      "source": [
        "value_ch('Positioning')"
      ],
      "execution_count": 644,
      "outputs": [
        {
          "output_type": "execute_result",
          "data": {
            "text/plain": [
              "77.83333333333333"
            ]
          },
          "metadata": {},
          "execution_count": 644
        }
      ]
    },
    {
      "cell_type": "code",
      "metadata": {
        "colab": {
          "base_uri": "https://localhost:8080/"
        },
        "id": "RjJoKaf5sr2U",
        "outputId": "4732a9ec-c3df-4dee-a81c-65cc9fe43dd7"
      },
      "source": [
        "repla('Positioning')"
      ],
      "execution_count": 645,
      "outputs": [
        {
          "output_type": "execute_result",
          "data": {
            "text/plain": [
              "0     94.000000\n",
              "1     95.000000\n",
              "2     89.000000\n",
              "7     92.000000\n",
              "22    77.833333\n",
              "Name: Positioning, dtype: float64"
            ]
          },
          "metadata": {},
          "execution_count": 645
        }
      ]
    },
    {
      "cell_type": "code",
      "metadata": {
        "colab": {
          "base_uri": "https://localhost:8080/",
          "height": 268
        },
        "id": "vY5_bGvhXOYg",
        "outputId": "b5238665-8867-4dd5-8b6c-e793d0e4b14d"
      },
      "source": [
        "plt.boxplot(rep_5['Vision'])\n",
        "plt.show()"
      ],
      "execution_count": 646,
      "outputs": [
        {
          "output_type": "display_data",
          "data": {
            "image/png": "[encoded data removed]",
            "text/plain": [
              "<Figure size 432x288 with 1 Axes>"
            ]
          },
          "metadata": {
            "needs_background": "light"
          }
        }
      ]
    },
    {
      "cell_type": "code",
      "metadata": {
        "colab": {
          "base_uri": "https://localhost:8080/"
        },
        "id": "UdodNVZyXP5C",
        "outputId": "ba22f8a9-42cb-419b-9424-eba01da3dfa8"
      },
      "source": [
        "quar(70.5,86)"
      ],
      "execution_count": 557,
      "outputs": [
        {
          "output_type": "execute_result",
          "data": {
            "text/plain": [
              "(47.25, 109.25)"
            ]
          },
          "metadata": {},
          "execution_count": 557
        }
      ]
    },
    {
      "cell_type": "code",
      "metadata": {
        "colab": {
          "base_uri": "https://localhost:8080/"
        },
        "id": "iubegMx-XVUg",
        "outputId": "20360ca9-59be-4d1b-fadc-65785d9d9870"
      },
      "source": [
        "value_ch('Vision')"
      ],
      "execution_count": 558,
      "outputs": [
        {
          "output_type": "execute_result",
          "data": {
            "text/plain": [
              "76.03921568627452"
            ]
          },
          "metadata": {},
          "execution_count": 558
        }
      ]
    },
    {
      "cell_type": "code",
      "metadata": {
        "colab": {
          "base_uri": "https://localhost:8080/"
        },
        "id": "4_OnpX4GXYw6",
        "outputId": "51f8f579-1bae-45ab-c941-8538137efd9a"
      },
      "source": [
        "repla('Vision')"
      ],
      "execution_count": 559,
      "outputs": [
        {
          "output_type": "execute_result",
          "data": {
            "text/plain": [
              "3    68.0\n",
              "4    94.0\n",
              "5    89.0\n",
              "6    92.0\n",
              "8    63.0\n",
              "Name: Vision, dtype: float64"
            ]
          },
          "metadata": {},
          "execution_count": 559
        }
      ]
    },
    {
      "cell_type": "code",
      "metadata": {
        "colab": {
          "base_uri": "https://localhost:8080/",
          "height": 265
        },
        "id": "3qmNvWL1Xdvj",
        "outputId": "37e147e0-04d8-4f4a-a96e-5db771fdd943"
      },
      "source": [
        "plt.boxplot(rep_5['Penalties'])\n",
        "plt.show()"
      ],
      "execution_count": 647,
      "outputs": [
        {
          "output_type": "display_data",
          "data": {
            "image/png": "[encoded data removed]",
            "text/plain": [
              "<Figure size 432x288 with 1 Axes>"
            ]
          },
          "metadata": {
            "needs_background": "light"
          }
        }
      ]
    },
    {
      "cell_type": "code",
      "metadata": {
        "colab": {
          "base_uri": "https://localhost:8080/"
        },
        "id": "TAdm6ex0tBEH",
        "outputId": "2dff37ed-2406-4d6c-84ec-f2f9c10737cc"
      },
      "source": [
        "quar(76.5,85.)"
      ],
      "execution_count": 648,
      "outputs": [
        {
          "output_type": "execute_result",
          "data": {
            "text/plain": [
              "(63.75, 97.75)"
            ]
          },
          "metadata": {},
          "execution_count": 648
        }
      ]
    },
    {
      "cell_type": "code",
      "metadata": {
        "colab": {
          "base_uri": "https://localhost:8080/"
        },
        "id": "2lbKSXZFtBNw",
        "outputId": "571453d3-9c98-490c-fab9-a892e704cdee"
      },
      "source": [
        "value_ch('Penalties')"
      ],
      "execution_count": 649,
      "outputs": [
        {
          "output_type": "execute_result",
          "data": {
            "text/plain": [
              "77.0"
            ]
          },
          "metadata": {},
          "execution_count": 649
        }
      ]
    },
    {
      "cell_type": "code",
      "metadata": {
        "colab": {
          "base_uri": "https://localhost:8080/"
        },
        "id": "cUsEi4DttLXc",
        "outputId": "94bbc9a4-c08b-4222-d6db-a02f86d0e015"
      },
      "source": [
        "repla('Penalties')"
      ],
      "execution_count": 650,
      "outputs": [
        {
          "output_type": "execute_result",
          "data": {
            "text/plain": [
              "0     75\n",
              "1     85\n",
              "2     81\n",
              "7     85\n",
              "22    77\n",
              "Name: Penalties, dtype: int64"
            ]
          },
          "metadata": {},
          "execution_count": 650
        }
      ]
    },
    {
      "cell_type": "code",
      "metadata": {
        "colab": {
          "base_uri": "https://localhost:8080/",
          "height": 265
        },
        "id": "8spJZ5NlXgbx",
        "outputId": "5a62efa9-0e8a-4ed2-8d2b-102069542df3"
      },
      "source": [
        "plt.boxplot(rep_5['Composure'])\n",
        "plt.show()"
      ],
      "execution_count": 651,
      "outputs": [
        {
          "output_type": "display_data",
          "data": {
            "image/png": "[encoded data removed]",
            "text/plain": [
              "<Figure size 432x288 with 1 Axes>"
            ]
          },
          "metadata": {
            "needs_background": "light"
          }
        }
      ]
    },
    {
      "cell_type": "code",
      "metadata": {
        "colab": {
          "base_uri": "https://localhost:8080/"
        },
        "id": "i86GG8OfXiuM",
        "outputId": "2f7e6e17-925f-4d6c-d2d6-3db19d5eedda"
      },
      "source": [
        "quar(86.25,94.75)"
      ],
      "execution_count": 652,
      "outputs": [
        {
          "output_type": "execute_result",
          "data": {
            "text/plain": [
              "(73.5, 107.5)"
            ]
          },
          "metadata": {},
          "execution_count": 652
        }
      ]
    },
    {
      "cell_type": "code",
      "metadata": {
        "colab": {
          "base_uri": "https://localhost:8080/"
        },
        "id": "8QC-UNhVXlgV",
        "outputId": "d5c47eab-76f8-46cb-d547-07079bc6936b"
      },
      "source": [
        "value_ch('Composure')"
      ],
      "execution_count": 653,
      "outputs": [
        {
          "output_type": "execute_result",
          "data": {
            "text/plain": [
              "88.33333333333333"
            ]
          },
          "metadata": {},
          "execution_count": 653
        }
      ]
    },
    {
      "cell_type": "code",
      "metadata": {
        "colab": {
          "base_uri": "https://localhost:8080/"
        },
        "id": "37XgyCxkXnR-",
        "outputId": "012812c4-46b5-4a13-ce95-d7219e4e5b78"
      },
      "source": [
        "repla('Composure')"
      ],
      "execution_count": 654,
      "outputs": [
        {
          "output_type": "execute_result",
          "data": {
            "text/plain": [
              "0     96.000000\n",
              "1     95.000000\n",
              "2     94.000000\n",
              "7     85.000000\n",
              "22    88.333333\n",
              "Name: Composure, dtype: float64"
            ]
          },
          "metadata": {},
          "execution_count": 654
        }
      ]
    },
    {
      "cell_type": "code",
      "metadata": {
        "colab": {
          "base_uri": "https://localhost:8080/",
          "height": 332
        },
        "id": "EccOh7RlXpsh",
        "outputId": "44413b85-8fa2-4983-aeaa-90601dd1b4ad"
      },
      "source": [
        "rep_1.describe()"
      ],
      "execution_count": null,
      "outputs": [
        {
          "output_type": "execute_result",
          "data": {
            "text/html": [
              "<div>\n",
              "<style scoped>\n",
              "    .dataframe tbody tr th:only-of-type {\n",
              "        vertical-align: middle;\n",
              "    }\n",
              "\n",
              "    .dataframe tbody tr th {\n",
              "        vertical-align: top;\n",
              "    }\n",
              "\n",
              "    .dataframe thead th {\n",
              "        text-align: right;\n",
              "    }\n",
              "</style>\n",
              "<table border=\"1\" class=\"dataframe\">\n",
              "  <thead>\n",
              "    <tr style=\"text-align: right;\">\n",
              "      <th></th>\n",
              "      <th>Crossing</th>\n",
              "      <th>Finishing</th>\n",
              "      <th>HeadingAccuracy</th>\n",
              "      <th>ShortPassing</th>\n",
              "      <th>Volleys</th>\n",
              "      <th>Dribbling</th>\n",
              "      <th>Curve</th>\n",
              "      <th>FKAccuracy</th>\n",
              "      <th>LongPassing</th>\n",
              "      <th>BallControl</th>\n",
              "      <th>SprintSpeed</th>\n",
              "      <th>Agility</th>\n",
              "      <th>Reactions</th>\n",
              "      <th>Balance</th>\n",
              "      <th>ShotPower</th>\n",
              "      <th>Jumping</th>\n",
              "      <th>Stamina</th>\n",
              "      <th>Strength</th>\n",
              "      <th>LongShots</th>\n",
              "      <th>Aggression</th>\n",
              "      <th>Interceptions</th>\n",
              "      <th>Positioning</th>\n",
              "      <th>Vision</th>\n",
              "      <th>Penalties</th>\n",
              "      <th>Composure</th>\n",
              "      <th>Marking</th>\n",
              "      <th>StandingTackle</th>\n",
              "      <th>SlidingTackle</th>\n",
              "      <th>GKDiving</th>\n",
              "      <th>GKHandling</th>\n",
              "      <th>GKKicking</th>\n",
              "      <th>GKPositioning</th>\n",
              "      <th>GKReflexes</th>\n",
              "      <th>International Reputation</th>\n",
              "    </tr>\n",
              "  </thead>\n",
              "  <tbody>\n",
              "    <tr>\n",
              "      <th>count</th>\n",
              "      <td>16520.000000</td>\n",
              "      <td>16520.000000</td>\n",
              "      <td>16520.000000</td>\n",
              "      <td>16520.000000</td>\n",
              "      <td>16520.000000</td>\n",
              "      <td>16520.000000</td>\n",
              "      <td>16520.000000</td>\n",
              "      <td>16520.000000</td>\n",
              "      <td>16520.000000</td>\n",
              "      <td>16520.000000</td>\n",
              "      <td>16520.000000</td>\n",
              "      <td>16520.000000</td>\n",
              "      <td>16520.000000</td>\n",
              "      <td>16520.000000</td>\n",
              "      <td>16520.000000</td>\n",
              "      <td>16520.000000</td>\n",
              "      <td>16520.000000</td>\n",
              "      <td>16520.000000</td>\n",
              "      <td>16520.000000</td>\n",
              "      <td>16520.000000</td>\n",
              "      <td>16520.000000</td>\n",
              "      <td>16520.000000</td>\n",
              "      <td>16520.000000</td>\n",
              "      <td>16520.000000</td>\n",
              "      <td>16520.000000</td>\n",
              "      <td>16520.000000</td>\n",
              "      <td>16520.000000</td>\n",
              "      <td>16520.000000</td>\n",
              "      <td>16520.000000</td>\n",
              "      <td>16520.000000</td>\n",
              "      <td>16520.000000</td>\n",
              "      <td>16520.000000</td>\n",
              "      <td>16520.000000</td>\n",
              "      <td>16520.0</td>\n",
              "    </tr>\n",
              "    <tr>\n",
              "      <th>mean</th>\n",
              "      <td>48.599576</td>\n",
              "      <td>44.479479</td>\n",
              "      <td>54.531889</td>\n",
              "      <td>60.707070</td>\n",
              "      <td>41.564891</td>\n",
              "      <td>58.608706</td>\n",
              "      <td>45.809806</td>\n",
              "      <td>41.630085</td>\n",
              "      <td>51.546429</td>\n",
              "      <td>61.502078</td>\n",
              "      <td>64.581356</td>\n",
              "      <td>63.519185</td>\n",
              "      <td>60.764762</td>\n",
              "      <td>64.304507</td>\n",
              "      <td>56.270269</td>\n",
              "      <td>65.325786</td>\n",
              "      <td>64.570825</td>\n",
              "      <td>65.281610</td>\n",
              "      <td>45.788680</td>\n",
              "      <td>54.841162</td>\n",
              "      <td>45.773850</td>\n",
              "      <td>48.836077</td>\n",
              "      <td>52.270831</td>\n",
              "      <td>47.479056</td>\n",
              "      <td>57.598421</td>\n",
              "      <td>46.496610</td>\n",
              "      <td>46.981416</td>\n",
              "      <td>45.056659</td>\n",
              "      <td>16.611441</td>\n",
              "      <td>16.394370</td>\n",
              "      <td>16.251271</td>\n",
              "      <td>16.366223</td>\n",
              "      <td>16.712530</td>\n",
              "      <td>1.0</td>\n",
              "    </tr>\n",
              "    <tr>\n",
              "      <th>std</th>\n",
              "      <td>17.821362</td>\n",
              "      <td>19.042897</td>\n",
              "      <td>12.458096</td>\n",
              "      <td>9.310836</td>\n",
              "      <td>16.832917</td>\n",
              "      <td>12.063098</td>\n",
              "      <td>17.603186</td>\n",
              "      <td>16.707767</td>\n",
              "      <td>14.910806</td>\n",
              "      <td>8.957726</td>\n",
              "      <td>14.643713</td>\n",
              "      <td>14.127006</td>\n",
              "      <td>7.917893</td>\n",
              "      <td>13.281840</td>\n",
              "      <td>13.121581</td>\n",
              "      <td>10.723415</td>\n",
              "      <td>13.194710</td>\n",
              "      <td>11.814837</td>\n",
              "      <td>18.665871</td>\n",
              "      <td>17.068305</td>\n",
              "      <td>20.291354</td>\n",
              "      <td>18.974068</td>\n",
              "      <td>13.415849</td>\n",
              "      <td>15.137253</td>\n",
              "      <td>10.141305</td>\n",
              "      <td>19.511772</td>\n",
              "      <td>21.272354</td>\n",
              "      <td>20.842720</td>\n",
              "      <td>17.478566</td>\n",
              "      <td>16.682638</td>\n",
              "      <td>16.345748</td>\n",
              "      <td>16.765209</td>\n",
              "      <td>17.720779</td>\n",
              "      <td>0.0</td>\n",
              "    </tr>\n",
              "    <tr>\n",
              "      <th>min</th>\n",
              "      <td>5.000000</td>\n",
              "      <td>2.000000</td>\n",
              "      <td>16.000000</td>\n",
              "      <td>32.000000</td>\n",
              "      <td>4.000000</td>\n",
              "      <td>20.000000</td>\n",
              "      <td>6.000000</td>\n",
              "      <td>3.000000</td>\n",
              "      <td>9.000000</td>\n",
              "      <td>31.000000</td>\n",
              "      <td>12.000000</td>\n",
              "      <td>27.000000</td>\n",
              "      <td>39.000000</td>\n",
              "      <td>29.000000</td>\n",
              "      <td>23.000000</td>\n",
              "      <td>36.000000</td>\n",
              "      <td>28.000000</td>\n",
              "      <td>34.000000</td>\n",
              "      <td>3.000000</td>\n",
              "      <td>11.000000</td>\n",
              "      <td>3.000000</td>\n",
              "      <td>2.000000</td>\n",
              "      <td>13.000000</td>\n",
              "      <td>5.000000</td>\n",
              "      <td>28.000000</td>\n",
              "      <td>3.000000</td>\n",
              "      <td>2.000000</td>\n",
              "      <td>3.000000</td>\n",
              "      <td>1.000000</td>\n",
              "      <td>1.000000</td>\n",
              "      <td>1.000000</td>\n",
              "      <td>1.000000</td>\n",
              "      <td>1.000000</td>\n",
              "      <td>1.0</td>\n",
              "    </tr>\n",
              "    <tr>\n",
              "      <th>25%</th>\n",
              "      <td>37.000000</td>\n",
              "      <td>29.000000</td>\n",
              "      <td>48.000000</td>\n",
              "      <td>57.000000</td>\n",
              "      <td>30.000000</td>\n",
              "      <td>54.316889</td>\n",
              "      <td>33.000000</td>\n",
              "      <td>30.000000</td>\n",
              "      <td>42.000000</td>\n",
              "      <td>57.231356</td>\n",
              "      <td>57.000000</td>\n",
              "      <td>56.000000</td>\n",
              "      <td>55.000000</td>\n",
              "      <td>57.000000</td>\n",
              "      <td>49.000000</td>\n",
              "      <td>58.000000</td>\n",
              "      <td>58.000000</td>\n",
              "      <td>58.000000</td>\n",
              "      <td>32.000000</td>\n",
              "      <td>43.000000</td>\n",
              "      <td>25.000000</td>\n",
              "      <td>37.000000</td>\n",
              "      <td>43.000000</td>\n",
              "      <td>38.000000</td>\n",
              "      <td>51.000000</td>\n",
              "      <td>29.000000</td>\n",
              "      <td>26.000000</td>\n",
              "      <td>24.000000</td>\n",
              "      <td>8.000000</td>\n",
              "      <td>8.000000</td>\n",
              "      <td>8.000000</td>\n",
              "      <td>8.000000</td>\n",
              "      <td>8.000000</td>\n",
              "      <td>1.0</td>\n",
              "    </tr>\n",
              "    <tr>\n",
              "      <th>50%</th>\n",
              "      <td>53.000000</td>\n",
              "      <td>48.000000</td>\n",
              "      <td>55.000000</td>\n",
              "      <td>62.000000</td>\n",
              "      <td>43.000000</td>\n",
              "      <td>60.000000</td>\n",
              "      <td>47.000000</td>\n",
              "      <td>40.000000</td>\n",
              "      <td>55.000000</td>\n",
              "      <td>62.000000</td>\n",
              "      <td>67.000000</td>\n",
              "      <td>65.000000</td>\n",
              "      <td>61.000000</td>\n",
              "      <td>66.000000</td>\n",
              "      <td>57.000000</td>\n",
              "      <td>65.000000</td>\n",
              "      <td>66.000000</td>\n",
              "      <td>66.000000</td>\n",
              "      <td>50.000000</td>\n",
              "      <td>58.000000</td>\n",
              "      <td>52.000000</td>\n",
              "      <td>54.000000</td>\n",
              "      <td>54.000000</td>\n",
              "      <td>49.000000</td>\n",
              "      <td>58.000000</td>\n",
              "      <td>52.000000</td>\n",
              "      <td>54.000000</td>\n",
              "      <td>52.000000</td>\n",
              "      <td>11.000000</td>\n",
              "      <td>11.000000</td>\n",
              "      <td>11.000000</td>\n",
              "      <td>11.000000</td>\n",
              "      <td>11.000000</td>\n",
              "      <td>1.0</td>\n",
              "    </tr>\n",
              "    <tr>\n",
              "      <th>75%</th>\n",
              "      <td>62.000000</td>\n",
              "      <td>61.000000</td>\n",
              "      <td>63.000000</td>\n",
              "      <td>67.000000</td>\n",
              "      <td>55.000000</td>\n",
              "      <td>67.000000</td>\n",
              "      <td>60.000000</td>\n",
              "      <td>55.000000</td>\n",
              "      <td>63.000000</td>\n",
              "      <td>68.000000</td>\n",
              "      <td>75.000000</td>\n",
              "      <td>74.000000</td>\n",
              "      <td>66.000000</td>\n",
              "      <td>74.000000</td>\n",
              "      <td>66.000000</td>\n",
              "      <td>73.000000</td>\n",
              "      <td>73.000000</td>\n",
              "      <td>74.000000</td>\n",
              "      <td>61.000000</td>\n",
              "      <td>68.000000</td>\n",
              "      <td>63.000000</td>\n",
              "      <td>63.000000</td>\n",
              "      <td>63.000000</td>\n",
              "      <td>59.000000</td>\n",
              "      <td>65.000000</td>\n",
              "      <td>63.000000</td>\n",
              "      <td>65.000000</td>\n",
              "      <td>63.000000</td>\n",
              "      <td>14.000000</td>\n",
              "      <td>14.000000</td>\n",
              "      <td>14.000000</td>\n",
              "      <td>14.000000</td>\n",
              "      <td>14.000000</td>\n",
              "      <td>1.0</td>\n",
              "    </tr>\n",
              "    <tr>\n",
              "      <th>max</th>\n",
              "      <td>91.000000</td>\n",
              "      <td>86.000000</td>\n",
              "      <td>91.000000</td>\n",
              "      <td>87.000000</td>\n",
              "      <td>84.000000</td>\n",
              "      <td>89.000000</td>\n",
              "      <td>89.000000</td>\n",
              "      <td>91.000000</td>\n",
              "      <td>83.000000</td>\n",
              "      <td>88.000000</td>\n",
              "      <td>96.000000</td>\n",
              "      <td>95.000000</td>\n",
              "      <td>82.000000</td>\n",
              "      <td>96.000000</td>\n",
              "      <td>79.000000</td>\n",
              "      <td>94.000000</td>\n",
              "      <td>96.000000</td>\n",
              "      <td>97.000000</td>\n",
              "      <td>87.000000</td>\n",
              "      <td>95.000000</td>\n",
              "      <td>86.000000</td>\n",
              "      <td>88.000000</td>\n",
              "      <td>86.000000</td>\n",
              "      <td>89.000000</td>\n",
              "      <td>86.000000</td>\n",
              "      <td>92.000000</td>\n",
              "      <td>88.000000</td>\n",
              "      <td>86.000000</td>\n",
              "      <td>85.000000</td>\n",
              "      <td>84.000000</td>\n",
              "      <td>88.000000</td>\n",
              "      <td>83.000000</td>\n",
              "      <td>86.000000</td>\n",
              "      <td>1.0</td>\n",
              "    </tr>\n",
              "  </tbody>\n",
              "</table>\n",
              "</div>"
            ],
            "text/plain": [
              "           Crossing     Finishing  ...    GKReflexes  International Reputation\n",
              "count  16520.000000  16520.000000  ...  16520.000000                   16520.0\n",
              "mean      48.599576     44.479479  ...     16.712530                       1.0\n",
              "std       17.821362     19.042897  ...     17.720779                       0.0\n",
              "min        5.000000      2.000000  ...      1.000000                       1.0\n",
              "25%       37.000000     29.000000  ...      8.000000                       1.0\n",
              "50%       53.000000     48.000000  ...     11.000000                       1.0\n",
              "75%       62.000000     61.000000  ...     14.000000                       1.0\n",
              "max       91.000000     86.000000  ...     86.000000                       1.0\n",
              "\n",
              "[8 rows x 34 columns]"
            ]
          },
          "metadata": {},
          "execution_count": 244
        }
      ]
    },
    {
      "cell_type": "code",
      "metadata": {
        "colab": {
          "base_uri": "https://localhost:8080/",
          "height": 265
        },
        "id": "5o43nhv0XtQA",
        "outputId": "f5809210-c97e-4341-d17f-8c92b884643f"
      },
      "source": [
        "plt.boxplot(rep_5['Marking'])\n",
        "plt.show()"
      ],
      "execution_count": 655,
      "outputs": [
        {
          "output_type": "display_data",
          "data": {
            "image/png": "[encoded data removed]",
            "text/plain": [
              "<Figure size 432x288 with 1 Axes>"
            ]
          },
          "metadata": {
            "needs_background": "light"
          }
        }
      ]
    },
    {
      "cell_type": "code",
      "metadata": {
        "colab": {
          "base_uri": "https://localhost:8080/"
        },
        "id": "_G8zkYqO4y68",
        "outputId": "59028c83-68c4-493c-8eea-61e437f25886"
      },
      "source": [
        "quar(27.25,31.75)"
      ],
      "execution_count": 656,
      "outputs": [
        {
          "output_type": "execute_result",
          "data": {
            "text/plain": [
              "(20.5, 38.5)"
            ]
          },
          "metadata": {},
          "execution_count": 656
        }
      ]
    },
    {
      "cell_type": "code",
      "metadata": {
        "colab": {
          "base_uri": "https://localhost:8080/"
        },
        "id": "lP9zkf_v4y_Y",
        "outputId": "ccb140d8-7178-49e4-f9be-12e4eb3dbb68"
      },
      "source": [
        "value_ch('Marking')"
      ],
      "execution_count": 657,
      "outputs": [
        {
          "output_type": "execute_result",
          "data": {
            "text/plain": [
              "32.5"
            ]
          },
          "metadata": {},
          "execution_count": 657
        }
      ]
    },
    {
      "cell_type": "code",
      "metadata": {
        "colab": {
          "base_uri": "https://localhost:8080/"
        },
        "id": "twQ253Ta4zDn",
        "outputId": "86e6da29-6a64-45e2-ffed-cf135c857bba"
      },
      "source": [
        "repla('Marking')"
      ],
      "execution_count": 658,
      "outputs": [
        {
          "output_type": "execute_result",
          "data": {
            "text/plain": [
              "0     33.000000\n",
              "1     28.000000\n",
              "2     27.000000\n",
              "7     35.083333\n",
              "22    32.500000\n",
              "Name: Marking, dtype: float64"
            ]
          },
          "metadata": {},
          "execution_count": 658
        }
      ]
    },
    {
      "cell_type": "code",
      "metadata": {
        "colab": {
          "base_uri": "https://localhost:8080/",
          "height": 265
        },
        "id": "RE_5midQX5Xf",
        "outputId": "5f6fff33-9cee-462f-a6b5-9e5271165035"
      },
      "source": [
        "plt.boxplot(rep_5['StandingTackle'])\n",
        "plt.show()"
      ],
      "execution_count": 659,
      "outputs": [
        {
          "output_type": "display_data",
          "data": {
            "image/png": "[encoded data removed]",
            "text/plain": [
              "<Figure size 432x288 with 1 Axes>"
            ]
          },
          "metadata": {
            "needs_background": "light"
          }
        }
      ]
    },
    {
      "cell_type": "code",
      "metadata": {
        "colab": {
          "base_uri": "https://localhost:8080/",
          "height": 265
        },
        "id": "0638AbxmX8GD",
        "outputId": "692b1431-33e5-440e-808b-24944c1f7c43"
      },
      "source": [
        "plt.boxplot(rep_5['SlidingTackle'])\n",
        "plt.show()"
      ],
      "execution_count": 660,
      "outputs": [
        {
          "output_type": "display_data",
          "data": {
            "image/png": "[encoded data removed]",
            "text/plain": [
              "<Figure size 432x288 with 1 Axes>"
            ]
          },
          "metadata": {
            "needs_background": "light"
          }
        }
      ]
    },
    {
      "cell_type": "code",
      "metadata": {
        "colab": {
          "base_uri": "https://localhost:8080/",
          "height": 265
        },
        "id": "GDjzdpGNYAFk",
        "outputId": "fe8ccf6b-2f23-4b4f-e4d3-394637f99cbf"
      },
      "source": [
        "plt.boxplot(rep_3['GKDiving'])\n",
        "plt.show()"
      ],
      "execution_count": 486,
      "outputs": [
        {
          "output_type": "display_data",
          "data": {
            "image/png": "[encoded data removed]",
            "text/plain": [
              "<Figure size 432x288 with 1 Axes>"
            ]
          },
          "metadata": {
            "needs_background": "light"
          }
        }
      ]
    },
    {
      "cell_type": "code",
      "metadata": {
        "colab": {
          "base_uri": "https://localhost:8080/"
        },
        "id": "qt_-bR7d5Dx-",
        "outputId": "bdb6787b-6fbc-4128-b27e-993f374e2377"
      },
      "source": [
        "quar(25,35.5)"
      ],
      "execution_count": 661,
      "outputs": [
        {
          "output_type": "execute_result",
          "data": {
            "text/plain": [
              "(9.25, 51.25)"
            ]
          },
          "metadata": {},
          "execution_count": 661
        }
      ]
    },
    {
      "cell_type": "code",
      "metadata": {
        "colab": {
          "base_uri": "https://localhost:8080/"
        },
        "id": "t2fEOjke5D2B",
        "outputId": "a0c1a80b-6383-47d4-fc5d-cabcf376cb5c"
      },
      "source": [
        "value_ch('SlidingTackle')"
      ],
      "execution_count": 662,
      "outputs": [
        {
          "output_type": "execute_result",
          "data": {
            "text/plain": [
              "25.833333333333332"
            ]
          },
          "metadata": {},
          "execution_count": 662
        }
      ]
    },
    {
      "cell_type": "code",
      "metadata": {
        "colab": {
          "base_uri": "https://localhost:8080/"
        },
        "id": "JPur89wX5NRL",
        "outputId": "1ccd60e3-d290-43f2-9eca-e452975266f1"
      },
      "source": [
        "repla('SlidingTackle')"
      ],
      "execution_count": 663,
      "outputs": [
        {
          "output_type": "execute_result",
          "data": {
            "text/plain": [
              "0     26.0\n",
              "1     23.0\n",
              "2     33.0\n",
              "7     38.0\n",
              "22    11.0\n",
              "Name: SlidingTackle, dtype: float64"
            ]
          },
          "metadata": {},
          "execution_count": 663
        }
      ]
    },
    {
      "cell_type": "code",
      "metadata": {
        "colab": {
          "base_uri": "https://localhost:8080/"
        },
        "id": "Sx5v0gDdYDCp",
        "outputId": "001300f2-b085-4457-bc6b-718959ddec1f"
      },
      "source": [
        "quar(8,14)"
      ],
      "execution_count": 381,
      "outputs": [
        {
          "output_type": "execute_result",
          "data": {
            "text/plain": [
              "(-1.0, 23.0)"
            ]
          },
          "metadata": {},
          "execution_count": 381
        }
      ]
    },
    {
      "cell_type": "code",
      "metadata": {
        "colab": {
          "base_uri": "https://localhost:8080/"
        },
        "id": "xmRuq1eJYItm",
        "outputId": "82bd0d8b-7016-4a60-dfbe-76c23571935b"
      },
      "source": [
        "value_ch('GKDiving')"
      ],
      "execution_count": 382,
      "outputs": [
        {
          "output_type": "execute_result",
          "data": {
            "text/plain": [
              "16.471847739888975"
            ]
          },
          "metadata": {},
          "execution_count": 382
        }
      ]
    },
    {
      "cell_type": "code",
      "metadata": {
        "colab": {
          "base_uri": "https://localhost:8080/"
        },
        "id": "w9C3AKZ0YLBl",
        "outputId": "8ea22727-e4c4-44ca-eb3a-a95d00f26b05"
      },
      "source": [
        "repla('GKDiving')"
      ],
      "execution_count": 383,
      "outputs": [
        {
          "output_type": "execute_result",
          "data": {
            "text/plain": [
              "55     8.000000\n",
              "56     9.000000\n",
              "57    16.471848\n",
              "78     7.000000\n",
              "90     5.000000\n",
              "Name: GKDiving, dtype: float64"
            ]
          },
          "metadata": {},
          "execution_count": 383
        }
      ]
    },
    {
      "cell_type": "code",
      "metadata": {
        "colab": {
          "base_uri": "https://localhost:8080/",
          "height": 265
        },
        "id": "lt7wWBP4YNRm",
        "outputId": "8735c13f-846f-4d3d-dcdc-5de3665a4fc7"
      },
      "source": [
        "plt.boxplot(rep_2['GKHandling'])\n",
        "plt.show()"
      ],
      "execution_count": 384,
      "outputs": [
        {
          "output_type": "display_data",
          "data": {
            "image/png": "[encoded data removed]",
            "text/plain": [
              "<Figure size 432x288 with 1 Axes>"
            ]
          },
          "metadata": {
            "needs_background": "light"
          }
        }
      ]
    },
    {
      "cell_type": "code",
      "metadata": {
        "id": "4oxtCEr9YQ-i"
      },
      "source": [
        "## GK handling and GK diving is highly correlated. We can drop GK handling \n",
        "rep_2.drop(labels='GKHandling', axis=1,inplace=True)"
      ],
      "execution_count": 386,
      "outputs": []
    },
    {
      "cell_type": "code",
      "metadata": {
        "colab": {
          "base_uri": "https://localhost:8080/",
          "height": 265
        },
        "id": "4PfzrCeEYrCr",
        "outputId": "34a080b6-1254-4844-80ae-a3c4c24a9779"
      },
      "source": [
        "plt.boxplot(rep_2['GKPositioning'])\n",
        "plt.show()"
      ],
      "execution_count": 387,
      "outputs": [
        {
          "output_type": "display_data",
          "data": {
            "image/png": "[encoded data removed]",
            "text/plain": [
              "<Figure size 432x288 with 1 Axes>"
            ]
          },
          "metadata": {
            "needs_background": "light"
          }
        }
      ]
    },
    {
      "cell_type": "code",
      "metadata": {
        "colab": {
          "base_uri": "https://localhost:8080/"
        },
        "id": "J5Mqze9gZANE",
        "outputId": "39e6bc70-db68-41aa-d1e0-faca2e0517f1"
      },
      "source": [
        "quar(8,14)"
      ],
      "execution_count": 388,
      "outputs": [
        {
          "output_type": "execute_result",
          "data": {
            "text/plain": [
              "(-1.0, 23.0)"
            ]
          },
          "metadata": {},
          "execution_count": 388
        }
      ]
    },
    {
      "cell_type": "code",
      "metadata": {
        "colab": {
          "base_uri": "https://localhost:8080/"
        },
        "id": "10b8DyIPZHek",
        "outputId": "90d6c6d7-5a69-4e99-d8b8-d173e01ed072"
      },
      "source": [
        "value_ch('GKPositioning')"
      ],
      "execution_count": 389,
      "outputs": [
        {
          "output_type": "execute_result",
          "data": {
            "text/plain": [
              "16.497224425059475"
            ]
          },
          "metadata": {},
          "execution_count": 389
        }
      ]
    },
    {
      "cell_type": "code",
      "metadata": {
        "colab": {
          "base_uri": "https://localhost:8080/"
        },
        "id": "2J6QL_p8ZK2P",
        "outputId": "e048afd7-8f89-4d7f-c306-12e39b7a4c20"
      },
      "source": [
        "repla('GKPositioning')"
      ],
      "execution_count": 390,
      "outputs": [
        {
          "output_type": "execute_result",
          "data": {
            "text/plain": [
              "55     9.000000\n",
              "56    12.000000\n",
              "57    16.497224\n",
              "78    16.000000\n",
              "90    14.000000\n",
              "Name: GKPositioning, dtype: float64"
            ]
          },
          "metadata": {},
          "execution_count": 390
        }
      ]
    },
    {
      "cell_type": "code",
      "metadata": {
        "colab": {
          "base_uri": "https://localhost:8080/",
          "height": 265
        },
        "id": "0v2kk0v3ZPWB",
        "outputId": "97bedd65-fd99-4774-c1f5-5005fcfed1c3"
      },
      "source": [
        "plt.boxplot(rep_2['GKReflexes'])\n",
        "plt.show()"
      ],
      "execution_count": 391,
      "outputs": [
        {
          "output_type": "display_data",
          "data": {
            "image/png": "[encoded data removed]",
            "text/plain": [
              "<Figure size 432x288 with 1 Axes>"
            ]
          },
          "metadata": {
            "needs_background": "light"
          }
        }
      ]
    },
    {
      "cell_type": "code",
      "metadata": {
        "colab": {
          "base_uri": "https://localhost:8080/"
        },
        "id": "ofAOiNvTZV41",
        "outputId": "ceeb6820-decc-4f85-b469-d5ff7243a412"
      },
      "source": [
        "quar(8,14)"
      ],
      "execution_count": 392,
      "outputs": [
        {
          "output_type": "execute_result",
          "data": {
            "text/plain": [
              "(-1.0, 23.0)"
            ]
          },
          "metadata": {},
          "execution_count": 392
        }
      ]
    },
    {
      "cell_type": "code",
      "metadata": {
        "colab": {
          "base_uri": "https://localhost:8080/"
        },
        "id": "ZqGNAtxzZsss",
        "outputId": "7cc66ab8-7fc3-4661-c099-8cc887504408"
      },
      "source": [
        "value_ch('GKReflexes')"
      ],
      "execution_count": 393,
      "outputs": [
        {
          "output_type": "execute_result",
          "data": {
            "text/plain": [
              "16.532910388580493"
            ]
          },
          "metadata": {},
          "execution_count": 393
        }
      ]
    },
    {
      "cell_type": "code",
      "metadata": {
        "colab": {
          "base_uri": "https://localhost:8080/"
        },
        "id": "E2FuW7iVZvSA",
        "outputId": "5a8be14f-179e-4a30-b522-13c5e5dab1a6"
      },
      "source": [
        "repla('GKReflexes')"
      ],
      "execution_count": 394,
      "outputs": [
        {
          "output_type": "execute_result",
          "data": {
            "text/plain": [
              "55    14.00000\n",
              "56     9.00000\n",
              "57    16.53291\n",
              "78     7.00000\n",
              "90     8.00000\n",
              "Name: GKReflexes, dtype: float64"
            ]
          },
          "metadata": {},
          "execution_count": 394
        }
      ]
    },
    {
      "cell_type": "code",
      "metadata": {
        "colab": {
          "base_uri": "https://localhost:8080/"
        },
        "id": "kKqA4yAhbAhZ",
        "outputId": "7aa3c9f4-ed56-4a58-ee60-c385f579ddfb"
      },
      "source": [
        "rep_3.count()"
      ],
      "execution_count": 395,
      "outputs": [
        {
          "output_type": "execute_result",
          "data": {
            "text/plain": [
              "Position                    309\n",
              "Crossing                    309\n",
              "Finishing                   309\n",
              "HeadingAccuracy             309\n",
              "ShortPassing                309\n",
              "Volleys                     309\n",
              "Dribbling                   309\n",
              "Curve                       309\n",
              "FKAccuracy                  309\n",
              "LongPassing                 309\n",
              "BallControl                 309\n",
              "Acceleration                309\n",
              "SprintSpeed                 309\n",
              "Agility                     309\n",
              "Reactions                   309\n",
              "Balance                     309\n",
              "ShotPower                   309\n",
              "Jumping                     309\n",
              "Stamina                     309\n",
              "Strength                    309\n",
              "LongShots                   309\n",
              "Aggression                  309\n",
              "Interceptions               309\n",
              "Positioning                 309\n",
              "Vision                      309\n",
              "Penalties                   309\n",
              "Composure                   309\n",
              "Marking                     309\n",
              "StandingTackle              309\n",
              "SlidingTackle               309\n",
              "GKDiving                    309\n",
              "GKHandling                  309\n",
              "GKKicking                   309\n",
              "GKPositioning               309\n",
              "GKReflexes                  309\n",
              "International Reputation    309\n",
              "dtype: int64"
            ]
          },
          "metadata": {},
          "execution_count": 395
        }
      ]
    },
    {
      "cell_type": "code",
      "metadata": {
        "colab": {
          "base_uri": "https://localhost:8080/",
          "height": 454
        },
        "id": "xODXhOeobNy1",
        "outputId": "81069a51-6997-4a6b-d848-15cd26aa507f"
      },
      "source": [
        "rep_3"
      ],
      "execution_count": 396,
      "outputs": [
        {
          "output_type": "execute_result",
          "data": {
            "text/html": [
              "<div>\n",
              "<style scoped>\n",
              "    .dataframe tbody tr th:only-of-type {\n",
              "        vertical-align: middle;\n",
              "    }\n",
              "\n",
              "    .dataframe tbody tr th {\n",
              "        vertical-align: top;\n",
              "    }\n",
              "\n",
              "    .dataframe thead th {\n",
              "        text-align: right;\n",
              "    }\n",
              "</style>\n",
              "<table border=\"1\" class=\"dataframe\">\n",
              "  <thead>\n",
              "    <tr style=\"text-align: right;\">\n",
              "      <th></th>\n",
              "      <th>Position</th>\n",
              "      <th>Crossing</th>\n",
              "      <th>Finishing</th>\n",
              "      <th>HeadingAccuracy</th>\n",
              "      <th>ShortPassing</th>\n",
              "      <th>Volleys</th>\n",
              "      <th>Dribbling</th>\n",
              "      <th>Curve</th>\n",
              "      <th>FKAccuracy</th>\n",
              "      <th>LongPassing</th>\n",
              "      <th>BallControl</th>\n",
              "      <th>Acceleration</th>\n",
              "      <th>SprintSpeed</th>\n",
              "      <th>Agility</th>\n",
              "      <th>Reactions</th>\n",
              "      <th>Balance</th>\n",
              "      <th>ShotPower</th>\n",
              "      <th>Jumping</th>\n",
              "      <th>Stamina</th>\n",
              "      <th>Strength</th>\n",
              "      <th>LongShots</th>\n",
              "      <th>Aggression</th>\n",
              "      <th>Interceptions</th>\n",
              "      <th>Positioning</th>\n",
              "      <th>Vision</th>\n",
              "      <th>Penalties</th>\n",
              "      <th>Composure</th>\n",
              "      <th>Marking</th>\n",
              "      <th>StandingTackle</th>\n",
              "      <th>SlidingTackle</th>\n",
              "      <th>GKDiving</th>\n",
              "      <th>GKHandling</th>\n",
              "      <th>GKKicking</th>\n",
              "      <th>GKPositioning</th>\n",
              "      <th>GKReflexes</th>\n",
              "      <th>International Reputation</th>\n",
              "    </tr>\n",
              "  </thead>\n",
              "  <tbody>\n",
              "    <tr>\n",
              "      <th>9</th>\n",
              "      <td>GK</td>\n",
              "      <td>13</td>\n",
              "      <td>11</td>\n",
              "      <td>15</td>\n",
              "      <td>29</td>\n",
              "      <td>13</td>\n",
              "      <td>12</td>\n",
              "      <td>13</td>\n",
              "      <td>14</td>\n",
              "      <td>26</td>\n",
              "      <td>16</td>\n",
              "      <td>43</td>\n",
              "      <td>60</td>\n",
              "      <td>67</td>\n",
              "      <td>86</td>\n",
              "      <td>49</td>\n",
              "      <td>22</td>\n",
              "      <td>76</td>\n",
              "      <td>41</td>\n",
              "      <td>78</td>\n",
              "      <td>12</td>\n",
              "      <td>34</td>\n",
              "      <td>19</td>\n",
              "      <td>11</td>\n",
              "      <td>70</td>\n",
              "      <td>11</td>\n",
              "      <td>70</td>\n",
              "      <td>27</td>\n",
              "      <td>12</td>\n",
              "      <td>18</td>\n",
              "      <td>86</td>\n",
              "      <td>92</td>\n",
              "      <td>78</td>\n",
              "      <td>88</td>\n",
              "      <td>89</td>\n",
              "      <td>3</td>\n",
              "    </tr>\n",
              "    <tr>\n",
              "      <th>12</th>\n",
              "      <td>CB</td>\n",
              "      <td>55</td>\n",
              "      <td>42</td>\n",
              "      <td>92</td>\n",
              "      <td>79</td>\n",
              "      <td>47</td>\n",
              "      <td>53</td>\n",
              "      <td>49</td>\n",
              "      <td>51</td>\n",
              "      <td>70</td>\n",
              "      <td>76</td>\n",
              "      <td>68</td>\n",
              "      <td>68</td>\n",
              "      <td>58</td>\n",
              "      <td>85</td>\n",
              "      <td>54</td>\n",
              "      <td>67</td>\n",
              "      <td>91</td>\n",
              "      <td>66</td>\n",
              "      <td>88</td>\n",
              "      <td>43</td>\n",
              "      <td>89</td>\n",
              "      <td>88</td>\n",
              "      <td>48</td>\n",
              "      <td>52</td>\n",
              "      <td>50</td>\n",
              "      <td>82</td>\n",
              "      <td>90</td>\n",
              "      <td>89</td>\n",
              "      <td>89</td>\n",
              "      <td>6</td>\n",
              "      <td>8</td>\n",
              "      <td>15</td>\n",
              "      <td>5</td>\n",
              "      <td>15</td>\n",
              "      <td>3</td>\n",
              "    </tr>\n",
              "    <tr>\n",
              "      <th>14</th>\n",
              "      <td>LDM</td>\n",
              "      <td>68</td>\n",
              "      <td>65</td>\n",
              "      <td>54</td>\n",
              "      <td>86</td>\n",
              "      <td>56</td>\n",
              "      <td>79</td>\n",
              "      <td>49</td>\n",
              "      <td>49</td>\n",
              "      <td>81</td>\n",
              "      <td>80</td>\n",
              "      <td>82</td>\n",
              "      <td>78</td>\n",
              "      <td>82</td>\n",
              "      <td>93</td>\n",
              "      <td>92</td>\n",
              "      <td>71</td>\n",
              "      <td>77</td>\n",
              "      <td>96</td>\n",
              "      <td>76</td>\n",
              "      <td>69</td>\n",
              "      <td>90</td>\n",
              "      <td>92</td>\n",
              "      <td>71</td>\n",
              "      <td>79</td>\n",
              "      <td>54</td>\n",
              "      <td>85</td>\n",
              "      <td>90</td>\n",
              "      <td>91</td>\n",
              "      <td>85</td>\n",
              "      <td>15</td>\n",
              "      <td>12</td>\n",
              "      <td>10</td>\n",
              "      <td>7</td>\n",
              "      <td>10</td>\n",
              "      <td>3</td>\n",
              "    </tr>\n",
              "    <tr>\n",
              "      <th>15</th>\n",
              "      <td>LF</td>\n",
              "      <td>82</td>\n",
              "      <td>84</td>\n",
              "      <td>68</td>\n",
              "      <td>87</td>\n",
              "      <td>88</td>\n",
              "      <td>92</td>\n",
              "      <td>88</td>\n",
              "      <td>88</td>\n",
              "      <td>75</td>\n",
              "      <td>92</td>\n",
              "      <td>87</td>\n",
              "      <td>83</td>\n",
              "      <td>91</td>\n",
              "      <td>86</td>\n",
              "      <td>85</td>\n",
              "      <td>82</td>\n",
              "      <td>75</td>\n",
              "      <td>80</td>\n",
              "      <td>65</td>\n",
              "      <td>88</td>\n",
              "      <td>48</td>\n",
              "      <td>32</td>\n",
              "      <td>84</td>\n",
              "      <td>87</td>\n",
              "      <td>86</td>\n",
              "      <td>84</td>\n",
              "      <td>23</td>\n",
              "      <td>20</td>\n",
              "      <td>20</td>\n",
              "      <td>5</td>\n",
              "      <td>4</td>\n",
              "      <td>4</td>\n",
              "      <td>5</td>\n",
              "      <td>8</td>\n",
              "      <td>3</td>\n",
              "    </tr>\n",
              "    <tr>\n",
              "      <th>16</th>\n",
              "      <td>ST</td>\n",
              "      <td>75</td>\n",
              "      <td>94</td>\n",
              "      <td>85</td>\n",
              "      <td>80</td>\n",
              "      <td>84</td>\n",
              "      <td>80</td>\n",
              "      <td>78</td>\n",
              "      <td>68</td>\n",
              "      <td>82</td>\n",
              "      <td>84</td>\n",
              "      <td>68</td>\n",
              "      <td>72</td>\n",
              "      <td>71</td>\n",
              "      <td>91</td>\n",
              "      <td>71</td>\n",
              "      <td>88</td>\n",
              "      <td>78</td>\n",
              "      <td>89</td>\n",
              "      <td>84</td>\n",
              "      <td>85</td>\n",
              "      <td>76</td>\n",
              "      <td>35</td>\n",
              "      <td>93</td>\n",
              "      <td>80</td>\n",
              "      <td>90</td>\n",
              "      <td>89</td>\n",
              "      <td>56</td>\n",
              "      <td>36</td>\n",
              "      <td>38</td>\n",
              "      <td>8</td>\n",
              "      <td>10</td>\n",
              "      <td>11</td>\n",
              "      <td>14</td>\n",
              "      <td>11</td>\n",
              "      <td>3</td>\n",
              "    </tr>\n",
              "    <tr>\n",
              "      <th>...</th>\n",
              "      <td>...</td>\n",
              "      <td>...</td>\n",
              "      <td>...</td>\n",
              "      <td>...</td>\n",
              "      <td>...</td>\n",
              "      <td>...</td>\n",
              "      <td>...</td>\n",
              "      <td>...</td>\n",
              "      <td>...</td>\n",
              "      <td>...</td>\n",
              "      <td>...</td>\n",
              "      <td>...</td>\n",
              "      <td>...</td>\n",
              "      <td>...</td>\n",
              "      <td>...</td>\n",
              "      <td>...</td>\n",
              "      <td>...</td>\n",
              "      <td>...</td>\n",
              "      <td>...</td>\n",
              "      <td>...</td>\n",
              "      <td>...</td>\n",
              "      <td>...</td>\n",
              "      <td>...</td>\n",
              "      <td>...</td>\n",
              "      <td>...</td>\n",
              "      <td>...</td>\n",
              "      <td>...</td>\n",
              "      <td>...</td>\n",
              "      <td>...</td>\n",
              "      <td>...</td>\n",
              "      <td>...</td>\n",
              "      <td>...</td>\n",
              "      <td>...</td>\n",
              "      <td>...</td>\n",
              "      <td>...</td>\n",
              "      <td>...</td>\n",
              "    </tr>\n",
              "    <tr>\n",
              "      <th>3603</th>\n",
              "      <td>GK</td>\n",
              "      <td>16</td>\n",
              "      <td>13</td>\n",
              "      <td>12</td>\n",
              "      <td>33</td>\n",
              "      <td>12</td>\n",
              "      <td>13</td>\n",
              "      <td>14</td>\n",
              "      <td>14</td>\n",
              "      <td>32</td>\n",
              "      <td>29</td>\n",
              "      <td>49</td>\n",
              "      <td>39</td>\n",
              "      <td>38</td>\n",
              "      <td>68</td>\n",
              "      <td>50</td>\n",
              "      <td>26</td>\n",
              "      <td>69</td>\n",
              "      <td>26</td>\n",
              "      <td>74</td>\n",
              "      <td>15</td>\n",
              "      <td>34</td>\n",
              "      <td>17</td>\n",
              "      <td>13</td>\n",
              "      <td>57</td>\n",
              "      <td>33</td>\n",
              "      <td>54</td>\n",
              "      <td>18</td>\n",
              "      <td>12</td>\n",
              "      <td>14</td>\n",
              "      <td>72</td>\n",
              "      <td>73</td>\n",
              "      <td>72</td>\n",
              "      <td>72</td>\n",
              "      <td>70</td>\n",
              "      <td>3</td>\n",
              "    </tr>\n",
              "    <tr>\n",
              "      <th>4056</th>\n",
              "      <td>LB</td>\n",
              "      <td>71</td>\n",
              "      <td>40</td>\n",
              "      <td>61</td>\n",
              "      <td>70</td>\n",
              "      <td>57</td>\n",
              "      <td>70</td>\n",
              "      <td>69</td>\n",
              "      <td>46</td>\n",
              "      <td>70</td>\n",
              "      <td>72</td>\n",
              "      <td>65</td>\n",
              "      <td>64</td>\n",
              "      <td>74</td>\n",
              "      <td>71</td>\n",
              "      <td>75</td>\n",
              "      <td>66</td>\n",
              "      <td>73</td>\n",
              "      <td>66</td>\n",
              "      <td>66</td>\n",
              "      <td>48</td>\n",
              "      <td>77</td>\n",
              "      <td>69</td>\n",
              "      <td>65</td>\n",
              "      <td>70</td>\n",
              "      <td>58</td>\n",
              "      <td>73</td>\n",
              "      <td>70</td>\n",
              "      <td>67</td>\n",
              "      <td>71</td>\n",
              "      <td>14</td>\n",
              "      <td>7</td>\n",
              "      <td>14</td>\n",
              "      <td>6</td>\n",
              "      <td>6</td>\n",
              "      <td>3</td>\n",
              "    </tr>\n",
              "    <tr>\n",
              "      <th>4470</th>\n",
              "      <td>RCM</td>\n",
              "      <td>78</td>\n",
              "      <td>67</td>\n",
              "      <td>60</td>\n",
              "      <td>75</td>\n",
              "      <td>64</td>\n",
              "      <td>69</td>\n",
              "      <td>82</td>\n",
              "      <td>86</td>\n",
              "      <td>74</td>\n",
              "      <td>73</td>\n",
              "      <td>35</td>\n",
              "      <td>33</td>\n",
              "      <td>63</td>\n",
              "      <td>75</td>\n",
              "      <td>60</td>\n",
              "      <td>75</td>\n",
              "      <td>67</td>\n",
              "      <td>60</td>\n",
              "      <td>76</td>\n",
              "      <td>71</td>\n",
              "      <td>68</td>\n",
              "      <td>68</td>\n",
              "      <td>70</td>\n",
              "      <td>77</td>\n",
              "      <td>82</td>\n",
              "      <td>79</td>\n",
              "      <td>66</td>\n",
              "      <td>68</td>\n",
              "      <td>66</td>\n",
              "      <td>15</td>\n",
              "      <td>9</td>\n",
              "      <td>15</td>\n",
              "      <td>14</td>\n",
              "      <td>7</td>\n",
              "      <td>3</td>\n",
              "    </tr>\n",
              "    <tr>\n",
              "      <th>6888</th>\n",
              "      <td>CAM</td>\n",
              "      <td>61</td>\n",
              "      <td>62</td>\n",
              "      <td>52</td>\n",
              "      <td>63</td>\n",
              "      <td>58</td>\n",
              "      <td>74</td>\n",
              "      <td>66</td>\n",
              "      <td>57</td>\n",
              "      <td>56</td>\n",
              "      <td>71</td>\n",
              "      <td>76</td>\n",
              "      <td>75</td>\n",
              "      <td>77</td>\n",
              "      <td>62</td>\n",
              "      <td>78</td>\n",
              "      <td>65</td>\n",
              "      <td>77</td>\n",
              "      <td>31</td>\n",
              "      <td>46</td>\n",
              "      <td>57</td>\n",
              "      <td>40</td>\n",
              "      <td>32</td>\n",
              "      <td>67</td>\n",
              "      <td>68</td>\n",
              "      <td>62</td>\n",
              "      <td>67</td>\n",
              "      <td>35</td>\n",
              "      <td>23</td>\n",
              "      <td>22</td>\n",
              "      <td>15</td>\n",
              "      <td>8</td>\n",
              "      <td>12</td>\n",
              "      <td>12</td>\n",
              "      <td>7</td>\n",
              "      <td>3</td>\n",
              "    </tr>\n",
              "    <tr>\n",
              "      <th>7039</th>\n",
              "      <td>ST</td>\n",
              "      <td>65</td>\n",
              "      <td>74</td>\n",
              "      <td>67</td>\n",
              "      <td>57</td>\n",
              "      <td>83</td>\n",
              "      <td>58</td>\n",
              "      <td>80</td>\n",
              "      <td>70</td>\n",
              "      <td>58</td>\n",
              "      <td>64</td>\n",
              "      <td>33</td>\n",
              "      <td>54</td>\n",
              "      <td>29</td>\n",
              "      <td>70</td>\n",
              "      <td>63</td>\n",
              "      <td>68</td>\n",
              "      <td>74</td>\n",
              "      <td>38</td>\n",
              "      <td>67</td>\n",
              "      <td>67</td>\n",
              "      <td>44</td>\n",
              "      <td>33</td>\n",
              "      <td>75</td>\n",
              "      <td>67</td>\n",
              "      <td>86</td>\n",
              "      <td>72</td>\n",
              "      <td>32</td>\n",
              "      <td>15</td>\n",
              "      <td>16</td>\n",
              "      <td>11</td>\n",
              "      <td>6</td>\n",
              "      <td>12</td>\n",
              "      <td>10</td>\n",
              "      <td>9</td>\n",
              "      <td>3</td>\n",
              "    </tr>\n",
              "  </tbody>\n",
              "</table>\n",
              "<p>309 rows × 36 columns</p>\n",
              "</div>"
            ],
            "text/plain": [
              "     Position  Crossing  ...  GKReflexes  International Reputation\n",
              "9          GK        13  ...          89                         3\n",
              "12         CB        55  ...          15                         3\n",
              "14        LDM        68  ...          10                         3\n",
              "15         LF        82  ...           8                         3\n",
              "16         ST        75  ...          11                         3\n",
              "...       ...       ...  ...         ...                       ...\n",
              "3603       GK        16  ...          70                         3\n",
              "4056       LB        71  ...           6                         3\n",
              "4470      RCM        78  ...           7                         3\n",
              "6888      CAM        61  ...           7                         3\n",
              "7039       ST        65  ...           9                         3\n",
              "\n",
              "[309 rows x 36 columns]"
            ]
          },
          "metadata": {},
          "execution_count": 396
        }
      ]
    },
    {
      "cell_type": "code",
      "metadata": {
        "id": "iLVH1RSmoLHf",
        "colab": {
          "base_uri": "https://localhost:8080/",
          "height": 332
        },
        "outputId": "1db42a17-0438-43e8-b6ee-b6248130cd4e"
      },
      "source": [
        "rep_5.describe()"
      ],
      "execution_count": 573,
      "outputs": [
        {
          "output_type": "execute_result",
          "data": {
            "text/html": [
              "<div>\n",
              "<style scoped>\n",
              "    .dataframe tbody tr th:only-of-type {\n",
              "        vertical-align: middle;\n",
              "    }\n",
              "\n",
              "    .dataframe tbody tr th {\n",
              "        vertical-align: top;\n",
              "    }\n",
              "\n",
              "    .dataframe thead th {\n",
              "        text-align: right;\n",
              "    }\n",
              "</style>\n",
              "<table border=\"1\" class=\"dataframe\">\n",
              "  <thead>\n",
              "    <tr style=\"text-align: right;\">\n",
              "      <th></th>\n",
              "      <th>Crossing</th>\n",
              "      <th>Finishing</th>\n",
              "      <th>HeadingAccuracy</th>\n",
              "      <th>ShortPassing</th>\n",
              "      <th>Volleys</th>\n",
              "      <th>Dribbling</th>\n",
              "      <th>Curve</th>\n",
              "      <th>FKAccuracy</th>\n",
              "      <th>LongPassing</th>\n",
              "      <th>BallControl</th>\n",
              "      <th>Acceleration</th>\n",
              "      <th>SprintSpeed</th>\n",
              "      <th>Agility</th>\n",
              "      <th>Reactions</th>\n",
              "      <th>Balance</th>\n",
              "      <th>ShotPower</th>\n",
              "      <th>Jumping</th>\n",
              "      <th>Stamina</th>\n",
              "      <th>Strength</th>\n",
              "      <th>LongShots</th>\n",
              "      <th>Aggression</th>\n",
              "      <th>Interceptions</th>\n",
              "      <th>Positioning</th>\n",
              "      <th>Vision</th>\n",
              "      <th>Penalties</th>\n",
              "      <th>Composure</th>\n",
              "      <th>Marking</th>\n",
              "      <th>StandingTackle</th>\n",
              "      <th>SlidingTackle</th>\n",
              "      <th>GKDiving</th>\n",
              "      <th>GKHandling</th>\n",
              "      <th>GKKicking</th>\n",
              "      <th>GKPositioning</th>\n",
              "      <th>GKReflexes</th>\n",
              "      <th>International Reputation</th>\n",
              "    </tr>\n",
              "  </thead>\n",
              "  <tbody>\n",
              "    <tr>\n",
              "      <th>count</th>\n",
              "      <td>6.000000</td>\n",
              "      <td>6.000000</td>\n",
              "      <td>6.000000</td>\n",
              "      <td>6.000000</td>\n",
              "      <td>6.000000</td>\n",
              "      <td>6.000000</td>\n",
              "      <td>6.00000</td>\n",
              "      <td>6.000000</td>\n",
              "      <td>6.000000</td>\n",
              "      <td>6.000000</td>\n",
              "      <td>6.000000</td>\n",
              "      <td>6.000000</td>\n",
              "      <td>6.000000</td>\n",
              "      <td>6.000000</td>\n",
              "      <td>6.000000</td>\n",
              "      <td>6.000000</td>\n",
              "      <td>6.000000</td>\n",
              "      <td>6.000000</td>\n",
              "      <td>6.000000</td>\n",
              "      <td>6.000000</td>\n",
              "      <td>6.000000</td>\n",
              "      <td>6.000000</td>\n",
              "      <td>6.000000</td>\n",
              "      <td>6.000000</td>\n",
              "      <td>6.000000</td>\n",
              "      <td>6.000000</td>\n",
              "      <td>6.000000</td>\n",
              "      <td>6.000000</td>\n",
              "      <td>6.000000</td>\n",
              "      <td>6.000000</td>\n",
              "      <td>6.000000</td>\n",
              "      <td>6.00000</td>\n",
              "      <td>6.000000</td>\n",
              "      <td>6.000000</td>\n",
              "      <td>6.0</td>\n",
              "    </tr>\n",
              "    <tr>\n",
              "      <th>mean</th>\n",
              "      <td>68.666667</td>\n",
              "      <td>78.000000</td>\n",
              "      <td>67.666667</td>\n",
              "      <td>78.500000</td>\n",
              "      <td>73.666667</td>\n",
              "      <td>79.500000</td>\n",
              "      <td>74.00000</td>\n",
              "      <td>72.333333</td>\n",
              "      <td>73.000000</td>\n",
              "      <td>84.500000</td>\n",
              "      <td>78.666667</td>\n",
              "      <td>76.833333</td>\n",
              "      <td>80.333333</td>\n",
              "      <td>90.500000</td>\n",
              "      <td>67.666667</td>\n",
              "      <td>76.833333</td>\n",
              "      <td>73.000000</td>\n",
              "      <td>72.500000</td>\n",
              "      <td>72.666667</td>\n",
              "      <td>75.333333</td>\n",
              "      <td>61.166667</td>\n",
              "      <td>29.666667</td>\n",
              "      <td>77.833333</td>\n",
              "      <td>82.666667</td>\n",
              "      <td>77.000000</td>\n",
              "      <td>88.333333</td>\n",
              "      <td>32.500000</td>\n",
              "      <td>29.166667</td>\n",
              "      <td>25.833333</td>\n",
              "      <td>25.333333</td>\n",
              "      <td>26.166667</td>\n",
              "      <td>29.50000</td>\n",
              "      <td>28.666667</td>\n",
              "      <td>27.666667</td>\n",
              "      <td>5.0</td>\n",
              "    </tr>\n",
              "    <tr>\n",
              "      <th>std</th>\n",
              "      <td>26.628306</td>\n",
              "      <td>32.062439</td>\n",
              "      <td>22.957933</td>\n",
              "      <td>12.111978</td>\n",
              "      <td>30.728922</td>\n",
              "      <td>25.129664</td>\n",
              "      <td>29.71195</td>\n",
              "      <td>30.624609</td>\n",
              "      <td>10.139033</td>\n",
              "      <td>18.414668</td>\n",
              "      <td>17.795130</td>\n",
              "      <td>14.579666</td>\n",
              "      <td>16.095548</td>\n",
              "      <td>5.991661</td>\n",
              "      <td>25.073226</td>\n",
              "      <td>25.887577</td>\n",
              "      <td>11.916375</td>\n",
              "      <td>18.008331</td>\n",
              "      <td>15.002222</td>\n",
              "      <td>29.540932</td>\n",
              "      <td>22.031039</td>\n",
              "      <td>8.016649</td>\n",
              "      <td>32.455611</td>\n",
              "      <td>8.041559</td>\n",
              "      <td>15.440207</td>\n",
              "      <td>9.852242</td>\n",
              "      <td>15.372053</td>\n",
              "      <td>11.923366</td>\n",
              "      <td>9.282600</td>\n",
              "      <td>32.598568</td>\n",
              "      <td>29.869159</td>\n",
              "      <td>30.96934</td>\n",
              "      <td>29.750070</td>\n",
              "      <td>30.968802</td>\n",
              "      <td>0.0</td>\n",
              "    </tr>\n",
              "    <tr>\n",
              "      <th>min</th>\n",
              "      <td>15.000000</td>\n",
              "      <td>13.000000</td>\n",
              "      <td>25.000000</td>\n",
              "      <td>55.000000</td>\n",
              "      <td>11.000000</td>\n",
              "      <td>30.000000</td>\n",
              "      <td>14.00000</td>\n",
              "      <td>11.000000</td>\n",
              "      <td>59.000000</td>\n",
              "      <td>48.000000</td>\n",
              "      <td>54.000000</td>\n",
              "      <td>59.000000</td>\n",
              "      <td>51.000000</td>\n",
              "      <td>82.000000</td>\n",
              "      <td>35.000000</td>\n",
              "      <td>25.000000</td>\n",
              "      <td>61.000000</td>\n",
              "      <td>43.000000</td>\n",
              "      <td>49.000000</td>\n",
              "      <td>16.000000</td>\n",
              "      <td>29.000000</td>\n",
              "      <td>20.000000</td>\n",
              "      <td>12.000000</td>\n",
              "      <td>70.000000</td>\n",
              "      <td>47.000000</td>\n",
              "      <td>70.000000</td>\n",
              "      <td>17.000000</td>\n",
              "      <td>10.000000</td>\n",
              "      <td>11.000000</td>\n",
              "      <td>6.000000</td>\n",
              "      <td>9.000000</td>\n",
              "      <td>10.00000</td>\n",
              "      <td>9.000000</td>\n",
              "      <td>8.000000</td>\n",
              "      <td>5.0</td>\n",
              "    </tr>\n",
              "    <tr>\n",
              "      <th>25%</th>\n",
              "      <td>74.000000</td>\n",
              "      <td>86.250000</td>\n",
              "      <td>64.000000</td>\n",
              "      <td>79.500000</td>\n",
              "      <td>84.500000</td>\n",
              "      <td>81.000000</td>\n",
              "      <td>81.25000</td>\n",
              "      <td>77.500000</td>\n",
              "      <td>66.250000</td>\n",
              "      <td>85.500000</td>\n",
              "      <td>65.000000</td>\n",
              "      <td>63.750000</td>\n",
              "      <td>76.750000</td>\n",
              "      <td>86.000000</td>\n",
              "      <td>46.750000</td>\n",
              "      <td>81.250000</td>\n",
              "      <td>68.000000</td>\n",
              "      <td>63.750000</td>\n",
              "      <td>64.000000</td>\n",
              "      <td>82.000000</td>\n",
              "      <td>50.000000</td>\n",
              "      <td>23.750000</td>\n",
              "      <td>86.000000</td>\n",
              "      <td>79.750000</td>\n",
              "      <td>76.500000</td>\n",
              "      <td>86.250000</td>\n",
              "      <td>27.250000</td>\n",
              "      <td>25.000000</td>\n",
              "      <td>23.250000</td>\n",
              "      <td>7.500000</td>\n",
              "      <td>11.000000</td>\n",
              "      <td>15.00000</td>\n",
              "      <td>14.000000</td>\n",
              "      <td>11.000000</td>\n",
              "      <td>5.0</td>\n",
              "    </tr>\n",
              "    <tr>\n",
              "      <th>50%</th>\n",
              "      <td>78.000000</td>\n",
              "      <td>90.000000</td>\n",
              "      <td>73.500000</td>\n",
              "      <td>81.500000</td>\n",
              "      <td>86.000000</td>\n",
              "      <td>87.500000</td>\n",
              "      <td>84.00000</td>\n",
              "      <td>83.000000</td>\n",
              "      <td>75.000000</td>\n",
              "      <td>92.000000</td>\n",
              "      <td>87.500000</td>\n",
              "      <td>80.500000</td>\n",
              "      <td>84.500000</td>\n",
              "      <td>93.000000</td>\n",
              "      <td>76.500000</td>\n",
              "      <td>85.500000</td>\n",
              "      <td>68.500000</td>\n",
              "      <td>76.500000</td>\n",
              "      <td>79.500000</td>\n",
              "      <td>83.500000</td>\n",
              "      <td>59.500000</td>\n",
              "      <td>29.500000</td>\n",
              "      <td>90.500000</td>\n",
              "      <td>83.000000</td>\n",
              "      <td>83.000000</td>\n",
              "      <td>92.000000</td>\n",
              "      <td>28.000000</td>\n",
              "      <td>29.500000</td>\n",
              "      <td>25.000000</td>\n",
              "      <td>11.000000</td>\n",
              "      <td>13.000000</td>\n",
              "      <td>15.00000</td>\n",
              "      <td>14.500000</td>\n",
              "      <td>11.500000</td>\n",
              "      <td>5.0</td>\n",
              "    </tr>\n",
              "    <tr>\n",
              "      <th>75%</th>\n",
              "      <td>82.750000</td>\n",
              "      <td>93.750000</td>\n",
              "      <td>81.500000</td>\n",
              "      <td>83.500000</td>\n",
              "      <td>86.750000</td>\n",
              "      <td>94.000000</td>\n",
              "      <td>87.50000</td>\n",
              "      <td>86.250000</td>\n",
              "      <td>77.750000</td>\n",
              "      <td>94.750000</td>\n",
              "      <td>90.500000</td>\n",
              "      <td>89.000000</td>\n",
              "      <td>90.000000</td>\n",
              "      <td>94.750000</td>\n",
              "      <td>83.750000</td>\n",
              "      <td>89.000000</td>\n",
              "      <td>75.000000</td>\n",
              "      <td>86.250000</td>\n",
              "      <td>82.250000</td>\n",
              "      <td>91.000000</td>\n",
              "      <td>78.750000</td>\n",
              "      <td>34.500000</td>\n",
              "      <td>93.500000</td>\n",
              "      <td>86.250000</td>\n",
              "      <td>85.000000</td>\n",
              "      <td>94.750000</td>\n",
              "      <td>31.750000</td>\n",
              "      <td>35.500000</td>\n",
              "      <td>31.250000</td>\n",
              "      <td>23.500000</td>\n",
              "      <td>22.500000</td>\n",
              "      <td>27.00000</td>\n",
              "      <td>28.500000</td>\n",
              "      <td>30.750000</td>\n",
              "      <td>5.0</td>\n",
              "    </tr>\n",
              "    <tr>\n",
              "      <th>max</th>\n",
              "      <td>84.000000</td>\n",
              "      <td>95.000000</td>\n",
              "      <td>89.000000</td>\n",
              "      <td>90.000000</td>\n",
              "      <td>88.000000</td>\n",
              "      <td>97.000000</td>\n",
              "      <td>93.00000</td>\n",
              "      <td>94.000000</td>\n",
              "      <td>87.000000</td>\n",
              "      <td>96.000000</td>\n",
              "      <td>94.000000</td>\n",
              "      <td>91.000000</td>\n",
              "      <td>96.000000</td>\n",
              "      <td>96.000000</td>\n",
              "      <td>95.000000</td>\n",
              "      <td>95.000000</td>\n",
              "      <td>95.000000</td>\n",
              "      <td>90.000000</td>\n",
              "      <td>86.000000</td>\n",
              "      <td>94.000000</td>\n",
              "      <td>87.000000</td>\n",
              "      <td>41.000000</td>\n",
              "      <td>95.000000</td>\n",
              "      <td>94.000000</td>\n",
              "      <td>89.000000</td>\n",
              "      <td>96.000000</td>\n",
              "      <td>62.000000</td>\n",
              "      <td>45.000000</td>\n",
              "      <td>38.000000</td>\n",
              "      <td>90.000000</td>\n",
              "      <td>86.000000</td>\n",
              "      <td>91.00000</td>\n",
              "      <td>87.000000</td>\n",
              "      <td>87.000000</td>\n",
              "      <td>5.0</td>\n",
              "    </tr>\n",
              "  </tbody>\n",
              "</table>\n",
              "</div>"
            ],
            "text/plain": [
              "        Crossing  Finishing  ...  GKReflexes  International Reputation\n",
              "count   6.000000   6.000000  ...    6.000000                       6.0\n",
              "mean   68.666667  78.000000  ...   27.666667                       5.0\n",
              "std    26.628306  32.062439  ...   30.968802                       0.0\n",
              "min    15.000000  13.000000  ...    8.000000                       5.0\n",
              "25%    74.000000  86.250000  ...   11.000000                       5.0\n",
              "50%    78.000000  90.000000  ...   11.500000                       5.0\n",
              "75%    82.750000  93.750000  ...   30.750000                       5.0\n",
              "max    84.000000  95.000000  ...   87.000000                       5.0\n",
              "\n",
              "[8 rows x 35 columns]"
            ]
          },
          "metadata": {},
          "execution_count": 573
        }
      ]
    },
    {
      "cell_type": "code",
      "metadata": {
        "id": "kB2A6DQ6t3In"
      },
      "source": [
        "df3=rep_1"
      ],
      "execution_count": 667,
      "outputs": []
    },
    {
      "cell_type": "code",
      "metadata": {
        "colab": {
          "base_uri": "https://localhost:8080/",
          "height": 454
        },
        "id": "PsmEBPGA5rmD",
        "outputId": "38c6bdb5-320d-483d-be7f-362569a63a62"
      },
      "source": [
        "df3.append(rep_5)"
      ],
      "execution_count": 671,
      "outputs": [
        {
          "output_type": "execute_result",
          "data": {
            "text/html": [
              "<div>\n",
              "<style scoped>\n",
              "    .dataframe tbody tr th:only-of-type {\n",
              "        vertical-align: middle;\n",
              "    }\n",
              "\n",
              "    .dataframe tbody tr th {\n",
              "        vertical-align: top;\n",
              "    }\n",
              "\n",
              "    .dataframe thead th {\n",
              "        text-align: right;\n",
              "    }\n",
              "</style>\n",
              "<table border=\"1\" class=\"dataframe\">\n",
              "  <thead>\n",
              "    <tr style=\"text-align: right;\">\n",
              "      <th></th>\n",
              "      <th>Position</th>\n",
              "      <th>Crossing</th>\n",
              "      <th>Finishing</th>\n",
              "      <th>HeadingAccuracy</th>\n",
              "      <th>ShortPassing</th>\n",
              "      <th>Volleys</th>\n",
              "      <th>Dribbling</th>\n",
              "      <th>Curve</th>\n",
              "      <th>FKAccuracy</th>\n",
              "      <th>LongPassing</th>\n",
              "      <th>BallControl</th>\n",
              "      <th>SprintSpeed</th>\n",
              "      <th>Agility</th>\n",
              "      <th>Reactions</th>\n",
              "      <th>Balance</th>\n",
              "      <th>ShotPower</th>\n",
              "      <th>Jumping</th>\n",
              "      <th>Stamina</th>\n",
              "      <th>Strength</th>\n",
              "      <th>LongShots</th>\n",
              "      <th>Aggression</th>\n",
              "      <th>Interceptions</th>\n",
              "      <th>Positioning</th>\n",
              "      <th>Vision</th>\n",
              "      <th>Penalties</th>\n",
              "      <th>Composure</th>\n",
              "      <th>Marking</th>\n",
              "      <th>StandingTackle</th>\n",
              "      <th>SlidingTackle</th>\n",
              "      <th>GKDiving</th>\n",
              "      <th>GKKicking</th>\n",
              "      <th>GKPositioning</th>\n",
              "      <th>GKReflexes</th>\n",
              "      <th>International Reputation</th>\n",
              "      <th>GKHandling</th>\n",
              "    </tr>\n",
              "  </thead>\n",
              "  <tbody>\n",
              "    <tr>\n",
              "      <th>77</th>\n",
              "      <td>LCB</td>\n",
              "      <td>40.000000</td>\n",
              "      <td>42.0</td>\n",
              "      <td>80.000000</td>\n",
              "      <td>70.0</td>\n",
              "      <td>40.000000</td>\n",
              "      <td>59.0</td>\n",
              "      <td>34</td>\n",
              "      <td>30.000000</td>\n",
              "      <td>68</td>\n",
              "      <td>67.0</td>\n",
              "      <td>73</td>\n",
              "      <td>48.000000</td>\n",
              "      <td>81.000000</td>\n",
              "      <td>48.0</td>\n",
              "      <td>50.000000</td>\n",
              "      <td>78.0</td>\n",
              "      <td>77.0</td>\n",
              "      <td>83.0</td>\n",
              "      <td>30.000000</td>\n",
              "      <td>86</td>\n",
              "      <td>86</td>\n",
              "      <td>30.000000</td>\n",
              "      <td>57.0</td>\n",
              "      <td>56</td>\n",
              "      <td>80.000000</td>\n",
              "      <td>92.000000</td>\n",
              "      <td>88</td>\n",
              "      <td>82.0</td>\n",
              "      <td>10.0</td>\n",
              "      <td>12</td>\n",
              "      <td>8.0</td>\n",
              "      <td>12.0</td>\n",
              "      <td>1</td>\n",
              "      <td>NaN</td>\n",
              "    </tr>\n",
              "    <tr>\n",
              "      <th>157</th>\n",
              "      <td>RW</td>\n",
              "      <td>83.000000</td>\n",
              "      <td>74.0</td>\n",
              "      <td>64.000000</td>\n",
              "      <td>83.0</td>\n",
              "      <td>76.000000</td>\n",
              "      <td>85.0</td>\n",
              "      <td>86</td>\n",
              "      <td>78.000000</td>\n",
              "      <td>82</td>\n",
              "      <td>83.0</td>\n",
              "      <td>87</td>\n",
              "      <td>85.000000</td>\n",
              "      <td>60.778818</td>\n",
              "      <td>76.0</td>\n",
              "      <td>56.700621</td>\n",
              "      <td>64.0</td>\n",
              "      <td>86.0</td>\n",
              "      <td>70.0</td>\n",
              "      <td>78.000000</td>\n",
              "      <td>62</td>\n",
              "      <td>40</td>\n",
              "      <td>82.000000</td>\n",
              "      <td>83.0</td>\n",
              "      <td>77</td>\n",
              "      <td>81.000000</td>\n",
              "      <td>24.000000</td>\n",
              "      <td>35</td>\n",
              "      <td>33.0</td>\n",
              "      <td>12.0</td>\n",
              "      <td>13</td>\n",
              "      <td>15.0</td>\n",
              "      <td>13.0</td>\n",
              "      <td>1</td>\n",
              "      <td>NaN</td>\n",
              "    </tr>\n",
              "    <tr>\n",
              "      <th>158</th>\n",
              "      <td>LCB</td>\n",
              "      <td>40.000000</td>\n",
              "      <td>38.0</td>\n",
              "      <td>83.000000</td>\n",
              "      <td>74.0</td>\n",
              "      <td>44.000000</td>\n",
              "      <td>56.0</td>\n",
              "      <td>45</td>\n",
              "      <td>49.000000</td>\n",
              "      <td>61</td>\n",
              "      <td>70.0</td>\n",
              "      <td>78</td>\n",
              "      <td>77.000000</td>\n",
              "      <td>60.778818</td>\n",
              "      <td>68.0</td>\n",
              "      <td>53.000000</td>\n",
              "      <td>69.0</td>\n",
              "      <td>76.0</td>\n",
              "      <td>73.0</td>\n",
              "      <td>41.000000</td>\n",
              "      <td>88</td>\n",
              "      <td>84</td>\n",
              "      <td>38.000000</td>\n",
              "      <td>42.0</td>\n",
              "      <td>56</td>\n",
              "      <td>71.000000</td>\n",
              "      <td>85.000000</td>\n",
              "      <td>87</td>\n",
              "      <td>82.0</td>\n",
              "      <td>16.0</td>\n",
              "      <td>13</td>\n",
              "      <td>15.0</td>\n",
              "      <td>10.0</td>\n",
              "      <td>1</td>\n",
              "      <td>NaN</td>\n",
              "    </tr>\n",
              "    <tr>\n",
              "      <th>159</th>\n",
              "      <td>ST</td>\n",
              "      <td>56.000000</td>\n",
              "      <td>85.0</td>\n",
              "      <td>83.000000</td>\n",
              "      <td>73.0</td>\n",
              "      <td>82.000000</td>\n",
              "      <td>75.0</td>\n",
              "      <td>59</td>\n",
              "      <td>67.000000</td>\n",
              "      <td>47</td>\n",
              "      <td>74.0</td>\n",
              "      <td>83</td>\n",
              "      <td>55.000000</td>\n",
              "      <td>60.778818</td>\n",
              "      <td>55.0</td>\n",
              "      <td>56.700621</td>\n",
              "      <td>84.0</td>\n",
              "      <td>56.0</td>\n",
              "      <td>87.0</td>\n",
              "      <td>82.000000</td>\n",
              "      <td>65</td>\n",
              "      <td>32</td>\n",
              "      <td>83.000000</td>\n",
              "      <td>58.0</td>\n",
              "      <td>77</td>\n",
              "      <td>79.000000</td>\n",
              "      <td>26.000000</td>\n",
              "      <td>27</td>\n",
              "      <td>24.0</td>\n",
              "      <td>8.0</td>\n",
              "      <td>20</td>\n",
              "      <td>19.0</td>\n",
              "      <td>20.0</td>\n",
              "      <td>1</td>\n",
              "      <td>NaN</td>\n",
              "    </tr>\n",
              "    <tr>\n",
              "      <th>174</th>\n",
              "      <td>LS</td>\n",
              "      <td>61.000000</td>\n",
              "      <td>83.0</td>\n",
              "      <td>80.000000</td>\n",
              "      <td>78.0</td>\n",
              "      <td>79.000000</td>\n",
              "      <td>78.0</td>\n",
              "      <td>71</td>\n",
              "      <td>56.000000</td>\n",
              "      <td>56</td>\n",
              "      <td>81.0</td>\n",
              "      <td>80</td>\n",
              "      <td>70.000000</td>\n",
              "      <td>82.000000</td>\n",
              "      <td>69.0</td>\n",
              "      <td>56.700621</td>\n",
              "      <td>72.0</td>\n",
              "      <td>72.0</td>\n",
              "      <td>74.0</td>\n",
              "      <td>77.000000</td>\n",
              "      <td>55</td>\n",
              "      <td>40</td>\n",
              "      <td>83.000000</td>\n",
              "      <td>58.0</td>\n",
              "      <td>73</td>\n",
              "      <td>72.000000</td>\n",
              "      <td>43.000000</td>\n",
              "      <td>41</td>\n",
              "      <td>41.0</td>\n",
              "      <td>15.0</td>\n",
              "      <td>7</td>\n",
              "      <td>12.0</td>\n",
              "      <td>10.0</td>\n",
              "      <td>1</td>\n",
              "      <td>NaN</td>\n",
              "    </tr>\n",
              "    <tr>\n",
              "      <th>...</th>\n",
              "      <td>...</td>\n",
              "      <td>...</td>\n",
              "      <td>...</td>\n",
              "      <td>...</td>\n",
              "      <td>...</td>\n",
              "      <td>...</td>\n",
              "      <td>...</td>\n",
              "      <td>...</td>\n",
              "      <td>...</td>\n",
              "      <td>...</td>\n",
              "      <td>...</td>\n",
              "      <td>...</td>\n",
              "      <td>...</td>\n",
              "      <td>...</td>\n",
              "      <td>...</td>\n",
              "      <td>...</td>\n",
              "      <td>...</td>\n",
              "      <td>...</td>\n",
              "      <td>...</td>\n",
              "      <td>...</td>\n",
              "      <td>...</td>\n",
              "      <td>...</td>\n",
              "      <td>...</td>\n",
              "      <td>...</td>\n",
              "      <td>...</td>\n",
              "      <td>...</td>\n",
              "      <td>...</td>\n",
              "      <td>...</td>\n",
              "      <td>...</td>\n",
              "      <td>...</td>\n",
              "      <td>...</td>\n",
              "      <td>...</td>\n",
              "      <td>...</td>\n",
              "      <td>...</td>\n",
              "      <td>...</td>\n",
              "    </tr>\n",
              "    <tr>\n",
              "      <th>1</th>\n",
              "      <td>ST</td>\n",
              "      <td>84.000000</td>\n",
              "      <td>94.0</td>\n",
              "      <td>89.000000</td>\n",
              "      <td>81.0</td>\n",
              "      <td>87.000000</td>\n",
              "      <td>88.0</td>\n",
              "      <td>81</td>\n",
              "      <td>76.000000</td>\n",
              "      <td>77</td>\n",
              "      <td>94.0</td>\n",
              "      <td>91</td>\n",
              "      <td>87.000000</td>\n",
              "      <td>96.000000</td>\n",
              "      <td>70.0</td>\n",
              "      <td>95.000000</td>\n",
              "      <td>73.0</td>\n",
              "      <td>88.0</td>\n",
              "      <td>79.0</td>\n",
              "      <td>93.000000</td>\n",
              "      <td>63</td>\n",
              "      <td>29</td>\n",
              "      <td>95.000000</td>\n",
              "      <td>82.0</td>\n",
              "      <td>85</td>\n",
              "      <td>95.000000</td>\n",
              "      <td>28.000000</td>\n",
              "      <td>31</td>\n",
              "      <td>23.0</td>\n",
              "      <td>7.0</td>\n",
              "      <td>15</td>\n",
              "      <td>14.0</td>\n",
              "      <td>11.0</td>\n",
              "      <td>5</td>\n",
              "      <td>11.0</td>\n",
              "    </tr>\n",
              "    <tr>\n",
              "      <th>2</th>\n",
              "      <td>LW</td>\n",
              "      <td>79.000000</td>\n",
              "      <td>87.0</td>\n",
              "      <td>62.000000</td>\n",
              "      <td>84.0</td>\n",
              "      <td>84.000000</td>\n",
              "      <td>96.0</td>\n",
              "      <td>88</td>\n",
              "      <td>87.000000</td>\n",
              "      <td>78</td>\n",
              "      <td>95.0</td>\n",
              "      <td>90</td>\n",
              "      <td>96.000000</td>\n",
              "      <td>94.000000</td>\n",
              "      <td>84.0</td>\n",
              "      <td>80.000000</td>\n",
              "      <td>61.0</td>\n",
              "      <td>81.0</td>\n",
              "      <td>49.0</td>\n",
              "      <td>82.000000</td>\n",
              "      <td>56</td>\n",
              "      <td>36</td>\n",
              "      <td>89.000000</td>\n",
              "      <td>87.0</td>\n",
              "      <td>81</td>\n",
              "      <td>94.000000</td>\n",
              "      <td>27.000000</td>\n",
              "      <td>24</td>\n",
              "      <td>33.0</td>\n",
              "      <td>9.0</td>\n",
              "      <td>15</td>\n",
              "      <td>15.0</td>\n",
              "      <td>11.0</td>\n",
              "      <td>5</td>\n",
              "      <td>9.0</td>\n",
              "    </tr>\n",
              "    <tr>\n",
              "      <th>7</th>\n",
              "      <td>RS</td>\n",
              "      <td>77.000000</td>\n",
              "      <td>93.0</td>\n",
              "      <td>77.000000</td>\n",
              "      <td>82.0</td>\n",
              "      <td>88.000000</td>\n",
              "      <td>87.0</td>\n",
              "      <td>86</td>\n",
              "      <td>84.000000</td>\n",
              "      <td>64</td>\n",
              "      <td>90.0</td>\n",
              "      <td>75</td>\n",
              "      <td>82.000000</td>\n",
              "      <td>92.000000</td>\n",
              "      <td>83.0</td>\n",
              "      <td>86.000000</td>\n",
              "      <td>69.0</td>\n",
              "      <td>90.0</td>\n",
              "      <td>83.0</td>\n",
              "      <td>85.000000</td>\n",
              "      <td>87</td>\n",
              "      <td>41</td>\n",
              "      <td>92.000000</td>\n",
              "      <td>84.0</td>\n",
              "      <td>85</td>\n",
              "      <td>85.000000</td>\n",
              "      <td>35.083333</td>\n",
              "      <td>45</td>\n",
              "      <td>38.0</td>\n",
              "      <td>27.0</td>\n",
              "      <td>31</td>\n",
              "      <td>33.0</td>\n",
              "      <td>37.0</td>\n",
              "      <td>5</td>\n",
              "      <td>25.0</td>\n",
              "    </tr>\n",
              "    <tr>\n",
              "      <th>22</th>\n",
              "      <td>GK</td>\n",
              "      <td>68.666667</td>\n",
              "      <td>78.0</td>\n",
              "      <td>67.666667</td>\n",
              "      <td>78.5</td>\n",
              "      <td>73.666667</td>\n",
              "      <td>79.5</td>\n",
              "      <td>74</td>\n",
              "      <td>72.333333</td>\n",
              "      <td>59</td>\n",
              "      <td>84.5</td>\n",
              "      <td>60</td>\n",
              "      <td>80.333333</td>\n",
              "      <td>84.000000</td>\n",
              "      <td>35.0</td>\n",
              "      <td>76.833333</td>\n",
              "      <td>77.0</td>\n",
              "      <td>43.0</td>\n",
              "      <td>80.0</td>\n",
              "      <td>75.333333</td>\n",
              "      <td>29</td>\n",
              "      <td>30</td>\n",
              "      <td>77.833333</td>\n",
              "      <td>70.0</td>\n",
              "      <td>77</td>\n",
              "      <td>88.333333</td>\n",
              "      <td>32.500000</td>\n",
              "      <td>10</td>\n",
              "      <td>11.0</td>\n",
              "      <td>90.0</td>\n",
              "      <td>91</td>\n",
              "      <td>87.0</td>\n",
              "      <td>87.0</td>\n",
              "      <td>5</td>\n",
              "      <td>86.0</td>\n",
              "    </tr>\n",
              "    <tr>\n",
              "      <th>109</th>\n",
              "      <td>RS</td>\n",
              "      <td>73.000000</td>\n",
              "      <td>86.0</td>\n",
              "      <td>83.000000</td>\n",
              "      <td>79.0</td>\n",
              "      <td>86.000000</td>\n",
              "      <td>79.0</td>\n",
              "      <td>82</td>\n",
              "      <td>82.000000</td>\n",
              "      <td>73</td>\n",
              "      <td>84.0</td>\n",
              "      <td>59</td>\n",
              "      <td>75.000000</td>\n",
              "      <td>82.000000</td>\n",
              "      <td>39.0</td>\n",
              "      <td>90.000000</td>\n",
              "      <td>68.0</td>\n",
              "      <td>61.0</td>\n",
              "      <td>86.0</td>\n",
              "      <td>82.000000</td>\n",
              "      <td>84</td>\n",
              "      <td>20</td>\n",
              "      <td>85.000000</td>\n",
              "      <td>79.0</td>\n",
              "      <td>89</td>\n",
              "      <td>90.000000</td>\n",
              "      <td>28.000000</td>\n",
              "      <td>37</td>\n",
              "      <td>24.0</td>\n",
              "      <td>13.0</td>\n",
              "      <td>10</td>\n",
              "      <td>9.0</td>\n",
              "      <td>12.0</td>\n",
              "      <td>5</td>\n",
              "      <td>15.0</td>\n",
              "    </tr>\n",
              "  </tbody>\n",
              "</table>\n",
              "<p>16526 rows × 35 columns</p>\n",
              "</div>"
            ],
            "text/plain": [
              "    Position   Crossing  ...  International Reputation  GKHandling\n",
              "77       LCB  40.000000  ...                         1         NaN\n",
              "157       RW  83.000000  ...                         1         NaN\n",
              "158      LCB  40.000000  ...                         1         NaN\n",
              "159       ST  56.000000  ...                         1         NaN\n",
              "174       LS  61.000000  ...                         1         NaN\n",
              "..       ...        ...  ...                       ...         ...\n",
              "1         ST  84.000000  ...                         5        11.0\n",
              "2         LW  79.000000  ...                         5         9.0\n",
              "7         RS  77.000000  ...                         5        25.0\n",
              "22        GK  68.666667  ...                         5        86.0\n",
              "109       RS  73.000000  ...                         5        15.0\n",
              "\n",
              "[16526 rows x 35 columns]"
            ]
          },
          "metadata": {},
          "execution_count": 671
        }
      ]
    },
    {
      "cell_type": "code",
      "metadata": {
        "id": "Z6UMhJaU6cbg"
      },
      "source": [
        "df3.drop(labels=['GKDiving','GKKicking','GKPositioning','GKReflexes'],axis=1,inplace=True)"
      ],
      "execution_count": 674,
      "outputs": []
    },
    {
      "cell_type": "code",
      "metadata": {
        "id": "mq0RDKIK66fg"
      },
      "source": [
        "df3.to_excel('Final ML CLass Football Decision or KNN.xlsx')"
      ],
      "execution_count": 676,
      "outputs": []
    },
    {
      "cell_type": "code",
      "metadata": {
        "colab": {
          "resources": {
            "http://localhost:8080/nbextensions/google.colab/files.js": {
              "data": "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",
              "ok": true,
              "headers": [
                [
                  "content-type",
                  "application/javascript"
                ]
              ],
              "status": 200,
              "status_text": ""
            }
          },
          "base_uri": "https://localhost:8080/",
          "height": 110
        },
        "id": "QqyPOwsd7OO2",
        "outputId": "d56d0524-a4a7-4ba8-9cda-5eb3c191ec61"
      },
      "source": [
        "uploaded=files.upload()"
      ],
      "execution_count": 677,
      "outputs": [
        {
          "output_type": "display_data",
          "data": {
            "text/html": [
              "\n",
              "     <input type=\"file\" id=\"files-612bda18-928b-408b-9edb-2f6a43f3b413\" name=\"files[]\" multiple disabled\n",
              "        style=\"border:none\" />\n",
              "     <output id=\"result-612bda18-928b-408b-9edb-2f6a43f3b413\">\n",
              "      Upload widget is only available when the cell has been executed in the\n",
              "      current browser session. Please rerun this cell to enable.\n",
              "      </output>\n",
              "      <script src=\"/nbextensions/google.colab/files.js\"></script> "
            ],
            "text/plain": [
              "<IPython.core.display.HTML object>"
            ]
          },
          "metadata": {}
        },
        {
          "output_type": "stream",
          "name": "stdout",
          "text": [
            "Saving Final ML CLass Football Decision or KNN.xlsx to Final ML CLass Football Decision or KNN (1).xlsx\n"
          ]
        }
      ]
    },
    {
      "cell_type": "code",
      "metadata": {
        "id": "N3aRni_W84jc"
      },
      "source": [
        "df_check=pd.read_excel('Final ML CLass Football Decision or KNN (1).xlsx')"
      ],
      "execution_count": 678,
      "outputs": []
    },
    {
      "cell_type": "code",
      "metadata": {
        "colab": {
          "base_uri": "https://localhost:8080/"
        },
        "id": "Jz3kdQNm9e6T",
        "outputId": "6b55f2aa-c09c-43c7-d078-9736dc2a645e"
      },
      "source": [
        "df_check.info()"
      ],
      "execution_count": 681,
      "outputs": [
        {
          "output_type": "stream",
          "name": "stdout",
          "text": [
            "<class 'pandas.core.frame.DataFrame'>\n",
            "RangeIndex: 16520 entries, 0 to 16519\n",
            "Data columns (total 31 columns):\n",
            " #   Column                    Non-Null Count  Dtype  \n",
            "---  ------                    --------------  -----  \n",
            " 0   Unnamed: 0                16520 non-null  int64  \n",
            " 1   Position                  16520 non-null  object \n",
            " 2   Crossing                  16520 non-null  int64  \n",
            " 3   Finishing                 16520 non-null  int64  \n",
            " 4   HeadingAccuracy           16520 non-null  float64\n",
            " 5   ShortPassing              16520 non-null  float64\n",
            " 6   Volleys                   16520 non-null  int64  \n",
            " 7   Dribbling                 16520 non-null  float64\n",
            " 8   Curve                     16520 non-null  int64  \n",
            " 9   FKAccuracy                16520 non-null  int64  \n",
            " 10  LongPassing               16520 non-null  int64  \n",
            " 11  BallControl               16520 non-null  float64\n",
            " 12  SprintSpeed               16520 non-null  int64  \n",
            " 13  Agility                   16520 non-null  float64\n",
            " 14  Reactions                 16520 non-null  float64\n",
            " 15  Balance                   16520 non-null  float64\n",
            " 16  ShotPower                 16520 non-null  float64\n",
            " 17  Jumping                   16520 non-null  float64\n",
            " 18  Stamina                   16520 non-null  float64\n",
            " 19  Strength                  16520 non-null  float64\n",
            " 20  LongShots                 16520 non-null  int64  \n",
            " 21  Aggression                16520 non-null  int64  \n",
            " 22  Interceptions             16520 non-null  int64  \n",
            " 23  Positioning               16520 non-null  int64  \n",
            " 24  Vision                    16520 non-null  float64\n",
            " 25  Penalties                 16520 non-null  int64  \n",
            " 26  Composure                 16520 non-null  float64\n",
            " 27  Marking                   16520 non-null  int64  \n",
            " 28  StandingTackle            16520 non-null  int64  \n",
            " 29  SlidingTackle             16520 non-null  int64  \n",
            " 30  International Reputation  16520 non-null  int64  \n",
            "dtypes: float64(13), int64(17), object(1)\n",
            "memory usage: 3.9+ MB\n"
          ]
        }
      ]
    },
    {
      "cell_type": "code",
      "metadata": {
        "id": "BAImwA-s9hZt"
      },
      "source": [
        "df_check.drop(labels='Unnamed: 0',axis=1,inplace=True)"
      ],
      "execution_count": 682,
      "outputs": []
    },
    {
      "cell_type": "code",
      "metadata": {
        "colab": {
          "base_uri": "https://localhost:8080/"
        },
        "id": "zhcAr1tp9-5U",
        "outputId": "8d687fde-f601-4b24-9e34-a9448b769578"
      },
      "source": [
        "df_check.info()"
      ],
      "execution_count": 684,
      "outputs": [
        {
          "output_type": "stream",
          "name": "stdout",
          "text": [
            "<class 'pandas.core.frame.DataFrame'>\n",
            "RangeIndex: 16520 entries, 0 to 16519\n",
            "Data columns (total 30 columns):\n",
            " #   Column                    Non-Null Count  Dtype  \n",
            "---  ------                    --------------  -----  \n",
            " 0   Position                  16520 non-null  object \n",
            " 1   Crossing                  16520 non-null  int64  \n",
            " 2   Finishing                 16520 non-null  int64  \n",
            " 3   HeadingAccuracy           16520 non-null  float64\n",
            " 4   ShortPassing              16520 non-null  float64\n",
            " 5   Volleys                   16520 non-null  int64  \n",
            " 6   Dribbling                 16520 non-null  float64\n",
            " 7   Curve                     16520 non-null  int64  \n",
            " 8   FKAccuracy                16520 non-null  int64  \n",
            " 9   LongPassing               16520 non-null  int64  \n",
            " 10  BallControl               16520 non-null  float64\n",
            " 11  SprintSpeed               16520 non-null  int64  \n",
            " 12  Agility                   16520 non-null  float64\n",
            " 13  Reactions                 16520 non-null  float64\n",
            " 14  Balance                   16520 non-null  float64\n",
            " 15  ShotPower                 16520 non-null  float64\n",
            " 16  Jumping                   16520 non-null  float64\n",
            " 17  Stamina                   16520 non-null  float64\n",
            " 18  Strength                  16520 non-null  float64\n",
            " 19  LongShots                 16520 non-null  int64  \n",
            " 20  Aggression                16520 non-null  int64  \n",
            " 21  Interceptions             16520 non-null  int64  \n",
            " 22  Positioning               16520 non-null  int64  \n",
            " 23  Vision                    16520 non-null  float64\n",
            " 24  Penalties                 16520 non-null  int64  \n",
            " 25  Composure                 16520 non-null  float64\n",
            " 26  Marking                   16520 non-null  int64  \n",
            " 27  StandingTackle            16520 non-null  int64  \n",
            " 28  SlidingTackle             16520 non-null  int64  \n",
            " 29  International Reputation  16520 non-null  int64  \n",
            "dtypes: float64(13), int64(16), object(1)\n",
            "memory usage: 3.8+ MB\n"
          ]
        }
      ]
    },
    {
      "cell_type": "code",
      "metadata": {
        "id": "XQ3DuPOD-Bgw"
      },
      "source": [
        "df_check.to_excel('Final Checked ML deccision or KNN data.xlsx')"
      ],
      "execution_count": 686,
      "outputs": []
    },
    {
      "cell_type": "code",
      "metadata": {
        "id": "qc4tkmmqBYFM"
      },
      "source": [
        "rep_5.drop(labels=['GKDiving','GKKicking','GKPositioning','GKReflexes','GKHandling'],axis=1,inplace=True)"
      ],
      "execution_count": 701,
      "outputs": []
    },
    {
      "cell_type": "code",
      "metadata": {
        "colab": {
          "base_uri": "https://localhost:8080/"
        },
        "id": "nqPZaij2Bh2b",
        "outputId": "a0ad5a2f-b37d-4198-ae02-3f9dd17e0698"
      },
      "source": [
        "rep_5.info()"
      ],
      "execution_count": 700,
      "outputs": [
        {
          "output_type": "stream",
          "name": "stdout",
          "text": [
            "<class 'pandas.core.frame.DataFrame'>\n",
            "Int64Index: 6 entries, 0 to 109\n",
            "Data columns (total 35 columns):\n",
            " #   Column                    Non-Null Count  Dtype  \n",
            "---  ------                    --------------  -----  \n",
            " 0   Position                  6 non-null      object \n",
            " 1   Crossing                  6 non-null      float64\n",
            " 2   Finishing                 6 non-null      float64\n",
            " 3   HeadingAccuracy           6 non-null      float64\n",
            " 4   ShortPassing              6 non-null      float64\n",
            " 5   Volleys                   6 non-null      float64\n",
            " 6   Dribbling                 6 non-null      float64\n",
            " 7   Curve                     6 non-null      int64  \n",
            " 8   FKAccuracy                6 non-null      float64\n",
            " 9   LongPassing               6 non-null      int64  \n",
            " 10  BallControl               6 non-null      float64\n",
            " 11  SprintSpeed               6 non-null      int64  \n",
            " 12  Agility                   6 non-null      float64\n",
            " 13  Reactions                 6 non-null      int64  \n",
            " 14  Balance                   6 non-null      int64  \n",
            " 15  ShotPower                 6 non-null      float64\n",
            " 16  Jumping                   6 non-null      int64  \n",
            " 17  Stamina                   6 non-null      int64  \n",
            " 18  Strength                  6 non-null      int64  \n",
            " 19  LongShots                 6 non-null      float64\n",
            " 20  Aggression                6 non-null      int64  \n",
            " 21  Interceptions             6 non-null      int64  \n",
            " 22  Positioning               6 non-null      float64\n",
            " 23  Vision                    6 non-null      int64  \n",
            " 24  Penalties                 6 non-null      int64  \n",
            " 25  Composure                 6 non-null      float64\n",
            " 26  Marking                   6 non-null      float64\n",
            " 27  StandingTackle            6 non-null      int64  \n",
            " 28  SlidingTackle             6 non-null      float64\n",
            " 29  GKDiving                  6 non-null      int64  \n",
            " 30  GKHandling                6 non-null      int64  \n",
            " 31  GKKicking                 6 non-null      int64  \n",
            " 32  GKPositioning             6 non-null      int64  \n",
            " 33  GKReflexes                6 non-null      int64  \n",
            " 34  International Reputation  6 non-null      int64  \n",
            "dtypes: float64(15), int64(19), object(1)\n",
            "memory usage: 1.7+ KB\n"
          ]
        }
      ]
    },
    {
      "cell_type": "code",
      "metadata": {
        "colab": {
          "base_uri": "https://localhost:8080/",
          "height": 454
        },
        "id": "InBnyIAz-W1v",
        "outputId": "b6648fc1-1095-4cc0-abaf-d45fcf00142e"
      },
      "source": [
        "rep_1"
      ],
      "execution_count": 688,
      "outputs": [
        {
          "output_type": "execute_result",
          "data": {
            "text/html": [
              "<div>\n",
              "<style scoped>\n",
              "    .dataframe tbody tr th:only-of-type {\n",
              "        vertical-align: middle;\n",
              "    }\n",
              "\n",
              "    .dataframe tbody tr th {\n",
              "        vertical-align: top;\n",
              "    }\n",
              "\n",
              "    .dataframe thead th {\n",
              "        text-align: right;\n",
              "    }\n",
              "</style>\n",
              "<table border=\"1\" class=\"dataframe\">\n",
              "  <thead>\n",
              "    <tr style=\"text-align: right;\">\n",
              "      <th></th>\n",
              "      <th>Position</th>\n",
              "      <th>Crossing</th>\n",
              "      <th>Finishing</th>\n",
              "      <th>HeadingAccuracy</th>\n",
              "      <th>ShortPassing</th>\n",
              "      <th>Volleys</th>\n",
              "      <th>Dribbling</th>\n",
              "      <th>Curve</th>\n",
              "      <th>FKAccuracy</th>\n",
              "      <th>LongPassing</th>\n",
              "      <th>BallControl</th>\n",
              "      <th>SprintSpeed</th>\n",
              "      <th>Agility</th>\n",
              "      <th>Reactions</th>\n",
              "      <th>Balance</th>\n",
              "      <th>ShotPower</th>\n",
              "      <th>Jumping</th>\n",
              "      <th>Stamina</th>\n",
              "      <th>Strength</th>\n",
              "      <th>LongShots</th>\n",
              "      <th>Aggression</th>\n",
              "      <th>Interceptions</th>\n",
              "      <th>Positioning</th>\n",
              "      <th>Vision</th>\n",
              "      <th>Penalties</th>\n",
              "      <th>Composure</th>\n",
              "      <th>Marking</th>\n",
              "      <th>StandingTackle</th>\n",
              "      <th>SlidingTackle</th>\n",
              "      <th>International Reputation</th>\n",
              "    </tr>\n",
              "  </thead>\n",
              "  <tbody>\n",
              "    <tr>\n",
              "      <th>77</th>\n",
              "      <td>LCB</td>\n",
              "      <td>40.0</td>\n",
              "      <td>42.0</td>\n",
              "      <td>80.0</td>\n",
              "      <td>70.0</td>\n",
              "      <td>40</td>\n",
              "      <td>59.0</td>\n",
              "      <td>34</td>\n",
              "      <td>30</td>\n",
              "      <td>68</td>\n",
              "      <td>67.0</td>\n",
              "      <td>73</td>\n",
              "      <td>48.0</td>\n",
              "      <td>81.000000</td>\n",
              "      <td>48.0</td>\n",
              "      <td>50.000000</td>\n",
              "      <td>78.0</td>\n",
              "      <td>77.0</td>\n",
              "      <td>83.000000</td>\n",
              "      <td>30</td>\n",
              "      <td>86</td>\n",
              "      <td>86</td>\n",
              "      <td>30</td>\n",
              "      <td>57.0</td>\n",
              "      <td>56</td>\n",
              "      <td>80.0</td>\n",
              "      <td>92</td>\n",
              "      <td>88</td>\n",
              "      <td>82</td>\n",
              "      <td>1</td>\n",
              "    </tr>\n",
              "    <tr>\n",
              "      <th>157</th>\n",
              "      <td>RW</td>\n",
              "      <td>83.0</td>\n",
              "      <td>74.0</td>\n",
              "      <td>64.0</td>\n",
              "      <td>83.0</td>\n",
              "      <td>76</td>\n",
              "      <td>85.0</td>\n",
              "      <td>86</td>\n",
              "      <td>78</td>\n",
              "      <td>82</td>\n",
              "      <td>83.0</td>\n",
              "      <td>87</td>\n",
              "      <td>85.0</td>\n",
              "      <td>60.778818</td>\n",
              "      <td>76.0</td>\n",
              "      <td>56.700621</td>\n",
              "      <td>64.0</td>\n",
              "      <td>86.0</td>\n",
              "      <td>70.000000</td>\n",
              "      <td>78</td>\n",
              "      <td>62</td>\n",
              "      <td>40</td>\n",
              "      <td>82</td>\n",
              "      <td>83.0</td>\n",
              "      <td>77</td>\n",
              "      <td>81.0</td>\n",
              "      <td>24</td>\n",
              "      <td>35</td>\n",
              "      <td>33</td>\n",
              "      <td>1</td>\n",
              "    </tr>\n",
              "    <tr>\n",
              "      <th>158</th>\n",
              "      <td>LCB</td>\n",
              "      <td>40.0</td>\n",
              "      <td>38.0</td>\n",
              "      <td>83.0</td>\n",
              "      <td>74.0</td>\n",
              "      <td>44</td>\n",
              "      <td>56.0</td>\n",
              "      <td>45</td>\n",
              "      <td>49</td>\n",
              "      <td>61</td>\n",
              "      <td>70.0</td>\n",
              "      <td>78</td>\n",
              "      <td>77.0</td>\n",
              "      <td>60.778818</td>\n",
              "      <td>68.0</td>\n",
              "      <td>53.000000</td>\n",
              "      <td>69.0</td>\n",
              "      <td>76.0</td>\n",
              "      <td>73.000000</td>\n",
              "      <td>41</td>\n",
              "      <td>88</td>\n",
              "      <td>84</td>\n",
              "      <td>38</td>\n",
              "      <td>42.0</td>\n",
              "      <td>56</td>\n",
              "      <td>71.0</td>\n",
              "      <td>85</td>\n",
              "      <td>87</td>\n",
              "      <td>82</td>\n",
              "      <td>1</td>\n",
              "    </tr>\n",
              "    <tr>\n",
              "      <th>159</th>\n",
              "      <td>ST</td>\n",
              "      <td>56.0</td>\n",
              "      <td>85.0</td>\n",
              "      <td>83.0</td>\n",
              "      <td>73.0</td>\n",
              "      <td>82</td>\n",
              "      <td>75.0</td>\n",
              "      <td>59</td>\n",
              "      <td>67</td>\n",
              "      <td>47</td>\n",
              "      <td>74.0</td>\n",
              "      <td>83</td>\n",
              "      <td>55.0</td>\n",
              "      <td>60.778818</td>\n",
              "      <td>55.0</td>\n",
              "      <td>56.700621</td>\n",
              "      <td>84.0</td>\n",
              "      <td>56.0</td>\n",
              "      <td>87.000000</td>\n",
              "      <td>82</td>\n",
              "      <td>65</td>\n",
              "      <td>32</td>\n",
              "      <td>83</td>\n",
              "      <td>58.0</td>\n",
              "      <td>77</td>\n",
              "      <td>79.0</td>\n",
              "      <td>26</td>\n",
              "      <td>27</td>\n",
              "      <td>24</td>\n",
              "      <td>1</td>\n",
              "    </tr>\n",
              "    <tr>\n",
              "      <th>174</th>\n",
              "      <td>LS</td>\n",
              "      <td>61.0</td>\n",
              "      <td>83.0</td>\n",
              "      <td>80.0</td>\n",
              "      <td>78.0</td>\n",
              "      <td>79</td>\n",
              "      <td>78.0</td>\n",
              "      <td>71</td>\n",
              "      <td>56</td>\n",
              "      <td>56</td>\n",
              "      <td>81.0</td>\n",
              "      <td>80</td>\n",
              "      <td>70.0</td>\n",
              "      <td>82.000000</td>\n",
              "      <td>69.0</td>\n",
              "      <td>56.700621</td>\n",
              "      <td>72.0</td>\n",
              "      <td>72.0</td>\n",
              "      <td>74.000000</td>\n",
              "      <td>77</td>\n",
              "      <td>55</td>\n",
              "      <td>40</td>\n",
              "      <td>83</td>\n",
              "      <td>58.0</td>\n",
              "      <td>73</td>\n",
              "      <td>72.0</td>\n",
              "      <td>43</td>\n",
              "      <td>41</td>\n",
              "      <td>41</td>\n",
              "      <td>1</td>\n",
              "    </tr>\n",
              "    <tr>\n",
              "      <th>...</th>\n",
              "      <td>...</td>\n",
              "      <td>...</td>\n",
              "      <td>...</td>\n",
              "      <td>...</td>\n",
              "      <td>...</td>\n",
              "      <td>...</td>\n",
              "      <td>...</td>\n",
              "      <td>...</td>\n",
              "      <td>...</td>\n",
              "      <td>...</td>\n",
              "      <td>...</td>\n",
              "      <td>...</td>\n",
              "      <td>...</td>\n",
              "      <td>...</td>\n",
              "      <td>...</td>\n",
              "      <td>...</td>\n",
              "      <td>...</td>\n",
              "      <td>...</td>\n",
              "      <td>...</td>\n",
              "      <td>...</td>\n",
              "      <td>...</td>\n",
              "      <td>...</td>\n",
              "      <td>...</td>\n",
              "      <td>...</td>\n",
              "      <td>...</td>\n",
              "      <td>...</td>\n",
              "      <td>...</td>\n",
              "      <td>...</td>\n",
              "      <td>...</td>\n",
              "      <td>...</td>\n",
              "    </tr>\n",
              "    <tr>\n",
              "      <th>18154</th>\n",
              "      <td>CM</td>\n",
              "      <td>34.0</td>\n",
              "      <td>38.0</td>\n",
              "      <td>40.0</td>\n",
              "      <td>49.0</td>\n",
              "      <td>25</td>\n",
              "      <td>42.0</td>\n",
              "      <td>30</td>\n",
              "      <td>34</td>\n",
              "      <td>45</td>\n",
              "      <td>43.0</td>\n",
              "      <td>57</td>\n",
              "      <td>60.0</td>\n",
              "      <td>49.000000</td>\n",
              "      <td>76.0</td>\n",
              "      <td>43.000000</td>\n",
              "      <td>55.0</td>\n",
              "      <td>40.0</td>\n",
              "      <td>47.000000</td>\n",
              "      <td>38</td>\n",
              "      <td>46</td>\n",
              "      <td>46</td>\n",
              "      <td>39</td>\n",
              "      <td>52.0</td>\n",
              "      <td>43</td>\n",
              "      <td>45.0</td>\n",
              "      <td>40</td>\n",
              "      <td>48</td>\n",
              "      <td>47</td>\n",
              "      <td>1</td>\n",
              "    </tr>\n",
              "    <tr>\n",
              "      <th>18155</th>\n",
              "      <td>ST</td>\n",
              "      <td>23.0</td>\n",
              "      <td>52.0</td>\n",
              "      <td>52.0</td>\n",
              "      <td>43.0</td>\n",
              "      <td>36</td>\n",
              "      <td>39.0</td>\n",
              "      <td>32</td>\n",
              "      <td>20</td>\n",
              "      <td>25</td>\n",
              "      <td>40.0</td>\n",
              "      <td>39</td>\n",
              "      <td>38.0</td>\n",
              "      <td>40.000000</td>\n",
              "      <td>52.0</td>\n",
              "      <td>41.000000</td>\n",
              "      <td>47.0</td>\n",
              "      <td>43.0</td>\n",
              "      <td>67.000000</td>\n",
              "      <td>42</td>\n",
              "      <td>47</td>\n",
              "      <td>16</td>\n",
              "      <td>46</td>\n",
              "      <td>33.0</td>\n",
              "      <td>43</td>\n",
              "      <td>42.0</td>\n",
              "      <td>22</td>\n",
              "      <td>15</td>\n",
              "      <td>19</td>\n",
              "      <td>1</td>\n",
              "    </tr>\n",
              "    <tr>\n",
              "      <th>18156</th>\n",
              "      <td>ST</td>\n",
              "      <td>25.0</td>\n",
              "      <td>40.0</td>\n",
              "      <td>46.0</td>\n",
              "      <td>38.0</td>\n",
              "      <td>38</td>\n",
              "      <td>45.0</td>\n",
              "      <td>38</td>\n",
              "      <td>27</td>\n",
              "      <td>28</td>\n",
              "      <td>44.0</td>\n",
              "      <td>69</td>\n",
              "      <td>50.0</td>\n",
              "      <td>47.000000</td>\n",
              "      <td>58.0</td>\n",
              "      <td>45.000000</td>\n",
              "      <td>60.0</td>\n",
              "      <td>55.0</td>\n",
              "      <td>64.769734</td>\n",
              "      <td>45</td>\n",
              "      <td>32</td>\n",
              "      <td>15</td>\n",
              "      <td>48</td>\n",
              "      <td>43.0</td>\n",
              "      <td>55</td>\n",
              "      <td>41.0</td>\n",
              "      <td>32</td>\n",
              "      <td>13</td>\n",
              "      <td>11</td>\n",
              "      <td>1</td>\n",
              "    </tr>\n",
              "    <tr>\n",
              "      <th>18157</th>\n",
              "      <td>RW</td>\n",
              "      <td>44.0</td>\n",
              "      <td>50.0</td>\n",
              "      <td>39.0</td>\n",
              "      <td>42.0</td>\n",
              "      <td>40</td>\n",
              "      <td>51.0</td>\n",
              "      <td>34</td>\n",
              "      <td>32</td>\n",
              "      <td>32</td>\n",
              "      <td>52.0</td>\n",
              "      <td>60</td>\n",
              "      <td>52.0</td>\n",
              "      <td>60.589346</td>\n",
              "      <td>71.0</td>\n",
              "      <td>64.000000</td>\n",
              "      <td>42.0</td>\n",
              "      <td>40.0</td>\n",
              "      <td>48.000000</td>\n",
              "      <td>34</td>\n",
              "      <td>33</td>\n",
              "      <td>22</td>\n",
              "      <td>44</td>\n",
              "      <td>47.0</td>\n",
              "      <td>50</td>\n",
              "      <td>46.0</td>\n",
              "      <td>20</td>\n",
              "      <td>25</td>\n",
              "      <td>27</td>\n",
              "      <td>1</td>\n",
              "    </tr>\n",
              "    <tr>\n",
              "      <th>18158</th>\n",
              "      <td>CM</td>\n",
              "      <td>41.0</td>\n",
              "      <td>34.0</td>\n",
              "      <td>46.0</td>\n",
              "      <td>48.0</td>\n",
              "      <td>30</td>\n",
              "      <td>43.0</td>\n",
              "      <td>40</td>\n",
              "      <td>34</td>\n",
              "      <td>44</td>\n",
              "      <td>51.0</td>\n",
              "      <td>55</td>\n",
              "      <td>55.0</td>\n",
              "      <td>51.000000</td>\n",
              "      <td>63.0</td>\n",
              "      <td>43.000000</td>\n",
              "      <td>62.0</td>\n",
              "      <td>47.0</td>\n",
              "      <td>60.000000</td>\n",
              "      <td>32</td>\n",
              "      <td>56</td>\n",
              "      <td>42</td>\n",
              "      <td>34</td>\n",
              "      <td>49.0</td>\n",
              "      <td>33</td>\n",
              "      <td>43.0</td>\n",
              "      <td>40</td>\n",
              "      <td>43</td>\n",
              "      <td>50</td>\n",
              "      <td>1</td>\n",
              "    </tr>\n",
              "  </tbody>\n",
              "</table>\n",
              "<p>16520 rows × 30 columns</p>\n",
              "</div>"
            ],
            "text/plain": [
              "      Position  Crossing  ...  SlidingTackle  International Reputation\n",
              "77         LCB      40.0  ...             82                         1\n",
              "157         RW      83.0  ...             33                         1\n",
              "158        LCB      40.0  ...             82                         1\n",
              "159         ST      56.0  ...             24                         1\n",
              "174         LS      61.0  ...             41                         1\n",
              "...        ...       ...  ...            ...                       ...\n",
              "18154       CM      34.0  ...             47                         1\n",
              "18155       ST      23.0  ...             19                         1\n",
              "18156       ST      25.0  ...             11                         1\n",
              "18157       RW      44.0  ...             27                         1\n",
              "18158       CM      41.0  ...             50                         1\n",
              "\n",
              "[16520 rows x 30 columns]"
            ]
          },
          "metadata": {},
          "execution_count": 688
        }
      ]
    },
    {
      "cell_type": "code",
      "metadata": {
        "colab": {
          "base_uri": "https://localhost:8080/",
          "height": 454
        },
        "id": "BTgwmfO3CEOx",
        "outputId": "94ea0df5-405a-454c-d220-b9e00b832d2f"
      },
      "source": [
        "rep_2"
      ],
      "execution_count": 702,
      "outputs": [
        {
          "output_type": "execute_result",
          "data": {
            "text/html": [
              "<div>\n",
              "<style scoped>\n",
              "    .dataframe tbody tr th:only-of-type {\n",
              "        vertical-align: middle;\n",
              "    }\n",
              "\n",
              "    .dataframe tbody tr th {\n",
              "        vertical-align: top;\n",
              "    }\n",
              "\n",
              "    .dataframe thead th {\n",
              "        text-align: right;\n",
              "    }\n",
              "</style>\n",
              "<table border=\"1\" class=\"dataframe\">\n",
              "  <thead>\n",
              "    <tr style=\"text-align: right;\">\n",
              "      <th></th>\n",
              "      <th>Position</th>\n",
              "      <th>Crossing</th>\n",
              "      <th>Finishing</th>\n",
              "      <th>HeadingAccuracy</th>\n",
              "      <th>ShortPassing</th>\n",
              "      <th>Volleys</th>\n",
              "      <th>Dribbling</th>\n",
              "      <th>Curve</th>\n",
              "      <th>FKAccuracy</th>\n",
              "      <th>LongPassing</th>\n",
              "      <th>BallControl</th>\n",
              "      <th>SprintSpeed</th>\n",
              "      <th>Agility</th>\n",
              "      <th>Reactions</th>\n",
              "      <th>Balance</th>\n",
              "      <th>ShotPower</th>\n",
              "      <th>Jumping</th>\n",
              "      <th>Stamina</th>\n",
              "      <th>Strength</th>\n",
              "      <th>LongShots</th>\n",
              "      <th>Aggression</th>\n",
              "      <th>Interceptions</th>\n",
              "      <th>Positioning</th>\n",
              "      <th>Vision</th>\n",
              "      <th>Penalties</th>\n",
              "      <th>Composure</th>\n",
              "      <th>Marking</th>\n",
              "      <th>StandingTackle</th>\n",
              "      <th>SlidingTackle</th>\n",
              "      <th>International Reputation</th>\n",
              "    </tr>\n",
              "  </thead>\n",
              "  <tbody>\n",
              "    <tr>\n",
              "      <th>55</th>\n",
              "      <td>LW</td>\n",
              "      <td>83.0</td>\n",
              "      <td>81.0</td>\n",
              "      <td>72.00000</td>\n",
              "      <td>79.0</td>\n",
              "      <td>85</td>\n",
              "      <td>88.000000</td>\n",
              "      <td>82</td>\n",
              "      <td>68</td>\n",
              "      <td>64</td>\n",
              "      <td>85.000000</td>\n",
              "      <td>96</td>\n",
              "      <td>88.000000</td>\n",
              "      <td>81.000000</td>\n",
              "      <td>81.0</td>\n",
              "      <td>86.00000</td>\n",
              "      <td>64.000000</td>\n",
              "      <td>79.000000</td>\n",
              "      <td>70.000000</td>\n",
              "      <td>78.000000</td>\n",
              "      <td>61.0</td>\n",
              "      <td>34</td>\n",
              "      <td>84.0</td>\n",
              "      <td>82.0</td>\n",
              "      <td>71.000000</td>\n",
              "      <td>78.0</td>\n",
              "      <td>36</td>\n",
              "      <td>32</td>\n",
              "      <td>35</td>\n",
              "      <td>2</td>\n",
              "    </tr>\n",
              "    <tr>\n",
              "      <th>56</th>\n",
              "      <td>RW</td>\n",
              "      <td>85.0</td>\n",
              "      <td>75.0</td>\n",
              "      <td>51.00000</td>\n",
              "      <td>85.0</td>\n",
              "      <td>69</td>\n",
              "      <td>92.000000</td>\n",
              "      <td>83</td>\n",
              "      <td>67</td>\n",
              "      <td>79</td>\n",
              "      <td>91.000000</td>\n",
              "      <td>74</td>\n",
              "      <td>90.000000</td>\n",
              "      <td>82.000000</td>\n",
              "      <td>88.0</td>\n",
              "      <td>70.00000</td>\n",
              "      <td>50.000000</td>\n",
              "      <td>78.000000</td>\n",
              "      <td>48.000000</td>\n",
              "      <td>72.000000</td>\n",
              "      <td>58.0</td>\n",
              "      <td>49</td>\n",
              "      <td>83.0</td>\n",
              "      <td>86.0</td>\n",
              "      <td>68.000000</td>\n",
              "      <td>85.0</td>\n",
              "      <td>49</td>\n",
              "      <td>44</td>\n",
              "      <td>35</td>\n",
              "      <td>2</td>\n",
              "    </tr>\n",
              "    <tr>\n",
              "      <th>57</th>\n",
              "      <td>GK</td>\n",
              "      <td>20.0</td>\n",
              "      <td>14.0</td>\n",
              "      <td>60.91594</td>\n",
              "      <td>56.0</td>\n",
              "      <td>18</td>\n",
              "      <td>64.788263</td>\n",
              "      <td>15</td>\n",
              "      <td>20</td>\n",
              "      <td>58</td>\n",
              "      <td>68.733545</td>\n",
              "      <td>63</td>\n",
              "      <td>60.000000</td>\n",
              "      <td>86.000000</td>\n",
              "      <td>48.0</td>\n",
              "      <td>67.71134</td>\n",
              "      <td>58.000000</td>\n",
              "      <td>41.000000</td>\n",
              "      <td>68.000000</td>\n",
              "      <td>59.534496</td>\n",
              "      <td>35.0</td>\n",
              "      <td>25</td>\n",
              "      <td>20.0</td>\n",
              "      <td>67.0</td>\n",
              "      <td>58.112609</td>\n",
              "      <td>70.0</td>\n",
              "      <td>28</td>\n",
              "      <td>15</td>\n",
              "      <td>8</td>\n",
              "      <td>2</td>\n",
              "    </tr>\n",
              "    <tr>\n",
              "      <th>78</th>\n",
              "      <td>CM</td>\n",
              "      <td>64.0</td>\n",
              "      <td>80.0</td>\n",
              "      <td>86.00000</td>\n",
              "      <td>85.0</td>\n",
              "      <td>74</td>\n",
              "      <td>86.000000</td>\n",
              "      <td>78</td>\n",
              "      <td>75</td>\n",
              "      <td>85</td>\n",
              "      <td>87.000000</td>\n",
              "      <td>70</td>\n",
              "      <td>66.000000</td>\n",
              "      <td>80.000000</td>\n",
              "      <td>59.0</td>\n",
              "      <td>83.00000</td>\n",
              "      <td>85.000000</td>\n",
              "      <td>85.000000</td>\n",
              "      <td>88.000000</td>\n",
              "      <td>80.000000</td>\n",
              "      <td>73.0</td>\n",
              "      <td>78</td>\n",
              "      <td>79.0</td>\n",
              "      <td>85.0</td>\n",
              "      <td>56.000000</td>\n",
              "      <td>82.0</td>\n",
              "      <td>75</td>\n",
              "      <td>77</td>\n",
              "      <td>72</td>\n",
              "      <td>2</td>\n",
              "    </tr>\n",
              "    <tr>\n",
              "      <th>90</th>\n",
              "      <td>RCM</td>\n",
              "      <td>84.0</td>\n",
              "      <td>79.0</td>\n",
              "      <td>61.00000</td>\n",
              "      <td>90.0</td>\n",
              "      <td>72</td>\n",
              "      <td>78.000000</td>\n",
              "      <td>89</td>\n",
              "      <td>90</td>\n",
              "      <td>87</td>\n",
              "      <td>84.000000</td>\n",
              "      <td>43</td>\n",
              "      <td>66.000000</td>\n",
              "      <td>78.000000</td>\n",
              "      <td>72.0</td>\n",
              "      <td>78.00000</td>\n",
              "      <td>51.000000</td>\n",
              "      <td>78.000000</td>\n",
              "      <td>72.000000</td>\n",
              "      <td>82.000000</td>\n",
              "      <td>58.0</td>\n",
              "      <td>81</td>\n",
              "      <td>81.0</td>\n",
              "      <td>86.0</td>\n",
              "      <td>83.000000</td>\n",
              "      <td>78.0</td>\n",
              "      <td>69</td>\n",
              "      <td>68</td>\n",
              "      <td>60</td>\n",
              "      <td>2</td>\n",
              "    </tr>\n",
              "    <tr>\n",
              "      <th>...</th>\n",
              "      <td>...</td>\n",
              "      <td>...</td>\n",
              "      <td>...</td>\n",
              "      <td>...</td>\n",
              "      <td>...</td>\n",
              "      <td>...</td>\n",
              "      <td>...</td>\n",
              "      <td>...</td>\n",
              "      <td>...</td>\n",
              "      <td>...</td>\n",
              "      <td>...</td>\n",
              "      <td>...</td>\n",
              "      <td>...</td>\n",
              "      <td>...</td>\n",
              "      <td>...</td>\n",
              "      <td>...</td>\n",
              "      <td>...</td>\n",
              "      <td>...</td>\n",
              "      <td>...</td>\n",
              "      <td>...</td>\n",
              "      <td>...</td>\n",
              "      <td>...</td>\n",
              "      <td>...</td>\n",
              "      <td>...</td>\n",
              "      <td>...</td>\n",
              "      <td>...</td>\n",
              "      <td>...</td>\n",
              "      <td>...</td>\n",
              "      <td>...</td>\n",
              "      <td>...</td>\n",
              "    </tr>\n",
              "    <tr>\n",
              "      <th>13417</th>\n",
              "      <td>CDM</td>\n",
              "      <td>56.0</td>\n",
              "      <td>40.0</td>\n",
              "      <td>58.00000</td>\n",
              "      <td>64.0</td>\n",
              "      <td>44</td>\n",
              "      <td>61.000000</td>\n",
              "      <td>58</td>\n",
              "      <td>50</td>\n",
              "      <td>60</td>\n",
              "      <td>62.000000</td>\n",
              "      <td>56</td>\n",
              "      <td>66.000000</td>\n",
              "      <td>63.000000</td>\n",
              "      <td>63.0</td>\n",
              "      <td>67.71134</td>\n",
              "      <td>64.000000</td>\n",
              "      <td>58.000000</td>\n",
              "      <td>59.000000</td>\n",
              "      <td>39.000000</td>\n",
              "      <td>65.0</td>\n",
              "      <td>60</td>\n",
              "      <td>29.0</td>\n",
              "      <td>60.0</td>\n",
              "      <td>58.112609</td>\n",
              "      <td>64.0</td>\n",
              "      <td>61</td>\n",
              "      <td>62</td>\n",
              "      <td>61</td>\n",
              "      <td>2</td>\n",
              "    </tr>\n",
              "    <tr>\n",
              "      <th>13903</th>\n",
              "      <td>LB</td>\n",
              "      <td>68.0</td>\n",
              "      <td>47.0</td>\n",
              "      <td>52.00000</td>\n",
              "      <td>67.0</td>\n",
              "      <td>30</td>\n",
              "      <td>67.000000</td>\n",
              "      <td>72</td>\n",
              "      <td>63</td>\n",
              "      <td>58</td>\n",
              "      <td>64.000000</td>\n",
              "      <td>63</td>\n",
              "      <td>70.000000</td>\n",
              "      <td>72.980174</td>\n",
              "      <td>52.0</td>\n",
              "      <td>58.00000</td>\n",
              "      <td>76.000000</td>\n",
              "      <td>69.000000</td>\n",
              "      <td>72.000000</td>\n",
              "      <td>44.000000</td>\n",
              "      <td>68.0</td>\n",
              "      <td>62</td>\n",
              "      <td>59.0</td>\n",
              "      <td>66.0</td>\n",
              "      <td>58.112609</td>\n",
              "      <td>67.0</td>\n",
              "      <td>48</td>\n",
              "      <td>64</td>\n",
              "      <td>52</td>\n",
              "      <td>2</td>\n",
              "    </tr>\n",
              "    <tr>\n",
              "      <th>14081</th>\n",
              "      <td>CB</td>\n",
              "      <td>44.0</td>\n",
              "      <td>40.0</td>\n",
              "      <td>67.00000</td>\n",
              "      <td>62.0</td>\n",
              "      <td>40</td>\n",
              "      <td>40.000000</td>\n",
              "      <td>47</td>\n",
              "      <td>35</td>\n",
              "      <td>59</td>\n",
              "      <td>63.000000</td>\n",
              "      <td>30</td>\n",
              "      <td>67.087232</td>\n",
              "      <td>72.980174</td>\n",
              "      <td>50.0</td>\n",
              "      <td>59.00000</td>\n",
              "      <td>69.478192</td>\n",
              "      <td>67.180809</td>\n",
              "      <td>55.000000</td>\n",
              "      <td>59.534496</td>\n",
              "      <td>69.0</td>\n",
              "      <td>61</td>\n",
              "      <td>21.0</td>\n",
              "      <td>66.0</td>\n",
              "      <td>58.112609</td>\n",
              "      <td>69.0</td>\n",
              "      <td>64</td>\n",
              "      <td>64</td>\n",
              "      <td>57</td>\n",
              "      <td>2</td>\n",
              "    </tr>\n",
              "    <tr>\n",
              "      <th>14810</th>\n",
              "      <td>CM</td>\n",
              "      <td>63.0</td>\n",
              "      <td>53.0</td>\n",
              "      <td>49.00000</td>\n",
              "      <td>62.0</td>\n",
              "      <td>46</td>\n",
              "      <td>54.000000</td>\n",
              "      <td>66</td>\n",
              "      <td>63</td>\n",
              "      <td>61</td>\n",
              "      <td>63.000000</td>\n",
              "      <td>37</td>\n",
              "      <td>56.000000</td>\n",
              "      <td>64.000000</td>\n",
              "      <td>56.0</td>\n",
              "      <td>64.00000</td>\n",
              "      <td>52.000000</td>\n",
              "      <td>40.000000</td>\n",
              "      <td>55.000000</td>\n",
              "      <td>59.000000</td>\n",
              "      <td>53.0</td>\n",
              "      <td>50</td>\n",
              "      <td>56.0</td>\n",
              "      <td>62.0</td>\n",
              "      <td>60.000000</td>\n",
              "      <td>74.0</td>\n",
              "      <td>50</td>\n",
              "      <td>58</td>\n",
              "      <td>55</td>\n",
              "      <td>2</td>\n",
              "    </tr>\n",
              "    <tr>\n",
              "      <th>17418</th>\n",
              "      <td>CM</td>\n",
              "      <td>56.0</td>\n",
              "      <td>50.0</td>\n",
              "      <td>46.00000</td>\n",
              "      <td>65.0</td>\n",
              "      <td>49</td>\n",
              "      <td>48.000000</td>\n",
              "      <td>58</td>\n",
              "      <td>57</td>\n",
              "      <td>52</td>\n",
              "      <td>62.000000</td>\n",
              "      <td>33</td>\n",
              "      <td>50.000000</td>\n",
              "      <td>72.980174</td>\n",
              "      <td>69.0</td>\n",
              "      <td>58.00000</td>\n",
              "      <td>69.478192</td>\n",
              "      <td>67.180809</td>\n",
              "      <td>70.739889</td>\n",
              "      <td>50.000000</td>\n",
              "      <td>55.0</td>\n",
              "      <td>40</td>\n",
              "      <td>63.0</td>\n",
              "      <td>62.0</td>\n",
              "      <td>58.000000</td>\n",
              "      <td>67.0</td>\n",
              "      <td>38</td>\n",
              "      <td>40</td>\n",
              "      <td>31</td>\n",
              "      <td>2</td>\n",
              "    </tr>\n",
              "  </tbody>\n",
              "</table>\n",
              "<p>1261 rows × 30 columns</p>\n",
              "</div>"
            ],
            "text/plain": [
              "      Position  Crossing  ...  SlidingTackle  International Reputation\n",
              "55          LW      83.0  ...             35                         2\n",
              "56          RW      85.0  ...             35                         2\n",
              "57          GK      20.0  ...              8                         2\n",
              "78          CM      64.0  ...             72                         2\n",
              "90         RCM      84.0  ...             60                         2\n",
              "...        ...       ...  ...            ...                       ...\n",
              "13417      CDM      56.0  ...             61                         2\n",
              "13903       LB      68.0  ...             52                         2\n",
              "14081       CB      44.0  ...             57                         2\n",
              "14810       CM      63.0  ...             55                         2\n",
              "17418       CM      56.0  ...             31                         2\n",
              "\n",
              "[1261 rows x 30 columns]"
            ]
          },
          "metadata": {},
          "execution_count": 702
        }
      ]
    },
    {
      "cell_type": "code",
      "metadata": {
        "colab": {
          "base_uri": "https://localhost:8080/",
          "height": 454
        },
        "id": "jFmTPGULCk_F",
        "outputId": "6e0683d2-9eab-4625-bd67-d132f283cd1f"
      },
      "source": [
        "rep_3"
      ],
      "execution_count": 703,
      "outputs": [
        {
          "output_type": "execute_result",
          "data": {
            "text/html": [
              "<div>\n",
              "<style scoped>\n",
              "    .dataframe tbody tr th:only-of-type {\n",
              "        vertical-align: middle;\n",
              "    }\n",
              "\n",
              "    .dataframe tbody tr th {\n",
              "        vertical-align: top;\n",
              "    }\n",
              "\n",
              "    .dataframe thead th {\n",
              "        text-align: right;\n",
              "    }\n",
              "</style>\n",
              "<table border=\"1\" class=\"dataframe\">\n",
              "  <thead>\n",
              "    <tr style=\"text-align: right;\">\n",
              "      <th></th>\n",
              "      <th>Position</th>\n",
              "      <th>Crossing</th>\n",
              "      <th>Finishing</th>\n",
              "      <th>HeadingAccuracy</th>\n",
              "      <th>ShortPassing</th>\n",
              "      <th>Volleys</th>\n",
              "      <th>Dribbling</th>\n",
              "      <th>Curve</th>\n",
              "      <th>FKAccuracy</th>\n",
              "      <th>LongPassing</th>\n",
              "      <th>BallControl</th>\n",
              "      <th>SprintSpeed</th>\n",
              "      <th>Agility</th>\n",
              "      <th>Reactions</th>\n",
              "      <th>Balance</th>\n",
              "      <th>ShotPower</th>\n",
              "      <th>Jumping</th>\n",
              "      <th>Stamina</th>\n",
              "      <th>Strength</th>\n",
              "      <th>LongShots</th>\n",
              "      <th>Aggression</th>\n",
              "      <th>Interceptions</th>\n",
              "      <th>Positioning</th>\n",
              "      <th>Vision</th>\n",
              "      <th>Penalties</th>\n",
              "      <th>Composure</th>\n",
              "      <th>Marking</th>\n",
              "      <th>StandingTackle</th>\n",
              "      <th>SlidingTackle</th>\n",
              "      <th>International Reputation</th>\n",
              "    </tr>\n",
              "  </thead>\n",
              "  <tbody>\n",
              "    <tr>\n",
              "      <th>9</th>\n",
              "      <td>GK</td>\n",
              "      <td>63.304207</td>\n",
              "      <td>11.0</td>\n",
              "      <td>62.76699</td>\n",
              "      <td>73.540453</td>\n",
              "      <td>13</td>\n",
              "      <td>70.381877</td>\n",
              "      <td>64.579288</td>\n",
              "      <td>14</td>\n",
              "      <td>67.339806</td>\n",
              "      <td>73.563107</td>\n",
              "      <td>60.000000</td>\n",
              "      <td>67</td>\n",
              "      <td>86</td>\n",
              "      <td>49</td>\n",
              "      <td>70.430421</td>\n",
              "      <td>76.0</td>\n",
              "      <td>70.326861</td>\n",
              "      <td>78.0</td>\n",
              "      <td>63.317152</td>\n",
              "      <td>34</td>\n",
              "      <td>19</td>\n",
              "      <td>64.841424</td>\n",
              "      <td>70.0</td>\n",
              "      <td>62.695793</td>\n",
              "      <td>70.000000</td>\n",
              "      <td>27</td>\n",
              "      <td>12</td>\n",
              "      <td>18</td>\n",
              "      <td>3</td>\n",
              "    </tr>\n",
              "    <tr>\n",
              "      <th>12</th>\n",
              "      <td>CB</td>\n",
              "      <td>55.000000</td>\n",
              "      <td>42.0</td>\n",
              "      <td>92.00000</td>\n",
              "      <td>79.000000</td>\n",
              "      <td>47</td>\n",
              "      <td>53.000000</td>\n",
              "      <td>49.000000</td>\n",
              "      <td>51</td>\n",
              "      <td>70.000000</td>\n",
              "      <td>76.000000</td>\n",
              "      <td>68.000000</td>\n",
              "      <td>58</td>\n",
              "      <td>85</td>\n",
              "      <td>54</td>\n",
              "      <td>67.000000</td>\n",
              "      <td>91.0</td>\n",
              "      <td>66.000000</td>\n",
              "      <td>88.0</td>\n",
              "      <td>43.000000</td>\n",
              "      <td>89</td>\n",
              "      <td>88</td>\n",
              "      <td>48.000000</td>\n",
              "      <td>52.0</td>\n",
              "      <td>50.000000</td>\n",
              "      <td>82.000000</td>\n",
              "      <td>90</td>\n",
              "      <td>89</td>\n",
              "      <td>89</td>\n",
              "      <td>3</td>\n",
              "    </tr>\n",
              "    <tr>\n",
              "      <th>14</th>\n",
              "      <td>LDM</td>\n",
              "      <td>68.000000</td>\n",
              "      <td>65.0</td>\n",
              "      <td>54.00000</td>\n",
              "      <td>86.000000</td>\n",
              "      <td>56</td>\n",
              "      <td>79.000000</td>\n",
              "      <td>49.000000</td>\n",
              "      <td>49</td>\n",
              "      <td>81.000000</td>\n",
              "      <td>80.000000</td>\n",
              "      <td>78.000000</td>\n",
              "      <td>82</td>\n",
              "      <td>93</td>\n",
              "      <td>92</td>\n",
              "      <td>71.000000</td>\n",
              "      <td>77.0</td>\n",
              "      <td>96.000000</td>\n",
              "      <td>76.0</td>\n",
              "      <td>69.000000</td>\n",
              "      <td>90</td>\n",
              "      <td>92</td>\n",
              "      <td>71.000000</td>\n",
              "      <td>79.0</td>\n",
              "      <td>54.000000</td>\n",
              "      <td>85.000000</td>\n",
              "      <td>90</td>\n",
              "      <td>91</td>\n",
              "      <td>85</td>\n",
              "      <td>3</td>\n",
              "    </tr>\n",
              "    <tr>\n",
              "      <th>15</th>\n",
              "      <td>LF</td>\n",
              "      <td>82.000000</td>\n",
              "      <td>84.0</td>\n",
              "      <td>68.00000</td>\n",
              "      <td>87.000000</td>\n",
              "      <td>88</td>\n",
              "      <td>92.000000</td>\n",
              "      <td>88.000000</td>\n",
              "      <td>88</td>\n",
              "      <td>75.000000</td>\n",
              "      <td>92.000000</td>\n",
              "      <td>83.000000</td>\n",
              "      <td>91</td>\n",
              "      <td>86</td>\n",
              "      <td>85</td>\n",
              "      <td>82.000000</td>\n",
              "      <td>75.0</td>\n",
              "      <td>80.000000</td>\n",
              "      <td>65.0</td>\n",
              "      <td>88.000000</td>\n",
              "      <td>48</td>\n",
              "      <td>32</td>\n",
              "      <td>84.000000</td>\n",
              "      <td>87.0</td>\n",
              "      <td>86.000000</td>\n",
              "      <td>84.000000</td>\n",
              "      <td>23</td>\n",
              "      <td>20</td>\n",
              "      <td>20</td>\n",
              "      <td>3</td>\n",
              "    </tr>\n",
              "    <tr>\n",
              "      <th>16</th>\n",
              "      <td>ST</td>\n",
              "      <td>75.000000</td>\n",
              "      <td>94.0</td>\n",
              "      <td>85.00000</td>\n",
              "      <td>80.000000</td>\n",
              "      <td>84</td>\n",
              "      <td>80.000000</td>\n",
              "      <td>78.000000</td>\n",
              "      <td>68</td>\n",
              "      <td>82.000000</td>\n",
              "      <td>84.000000</td>\n",
              "      <td>72.000000</td>\n",
              "      <td>71</td>\n",
              "      <td>91</td>\n",
              "      <td>71</td>\n",
              "      <td>88.000000</td>\n",
              "      <td>78.0</td>\n",
              "      <td>89.000000</td>\n",
              "      <td>84.0</td>\n",
              "      <td>85.000000</td>\n",
              "      <td>76</td>\n",
              "      <td>35</td>\n",
              "      <td>93.000000</td>\n",
              "      <td>80.0</td>\n",
              "      <td>90.000000</td>\n",
              "      <td>89.000000</td>\n",
              "      <td>56</td>\n",
              "      <td>36</td>\n",
              "      <td>38</td>\n",
              "      <td>3</td>\n",
              "    </tr>\n",
              "    <tr>\n",
              "      <th>...</th>\n",
              "      <td>...</td>\n",
              "      <td>...</td>\n",
              "      <td>...</td>\n",
              "      <td>...</td>\n",
              "      <td>...</td>\n",
              "      <td>...</td>\n",
              "      <td>...</td>\n",
              "      <td>...</td>\n",
              "      <td>...</td>\n",
              "      <td>...</td>\n",
              "      <td>...</td>\n",
              "      <td>...</td>\n",
              "      <td>...</td>\n",
              "      <td>...</td>\n",
              "      <td>...</td>\n",
              "      <td>...</td>\n",
              "      <td>...</td>\n",
              "      <td>...</td>\n",
              "      <td>...</td>\n",
              "      <td>...</td>\n",
              "      <td>...</td>\n",
              "      <td>...</td>\n",
              "      <td>...</td>\n",
              "      <td>...</td>\n",
              "      <td>...</td>\n",
              "      <td>...</td>\n",
              "      <td>...</td>\n",
              "      <td>...</td>\n",
              "      <td>...</td>\n",
              "      <td>...</td>\n",
              "    </tr>\n",
              "    <tr>\n",
              "      <th>3603</th>\n",
              "      <td>GK</td>\n",
              "      <td>63.304207</td>\n",
              "      <td>13.0</td>\n",
              "      <td>62.76699</td>\n",
              "      <td>73.540453</td>\n",
              "      <td>12</td>\n",
              "      <td>70.381877</td>\n",
              "      <td>64.579288</td>\n",
              "      <td>14</td>\n",
              "      <td>67.339806</td>\n",
              "      <td>73.563107</td>\n",
              "      <td>39.000000</td>\n",
              "      <td>38</td>\n",
              "      <td>68</td>\n",
              "      <td>50</td>\n",
              "      <td>70.430421</td>\n",
              "      <td>69.0</td>\n",
              "      <td>70.326861</td>\n",
              "      <td>74.0</td>\n",
              "      <td>63.317152</td>\n",
              "      <td>34</td>\n",
              "      <td>17</td>\n",
              "      <td>64.841424</td>\n",
              "      <td>57.0</td>\n",
              "      <td>33.000000</td>\n",
              "      <td>77.702265</td>\n",
              "      <td>18</td>\n",
              "      <td>12</td>\n",
              "      <td>14</td>\n",
              "      <td>3</td>\n",
              "    </tr>\n",
              "    <tr>\n",
              "      <th>4056</th>\n",
              "      <td>LB</td>\n",
              "      <td>71.000000</td>\n",
              "      <td>40.0</td>\n",
              "      <td>61.00000</td>\n",
              "      <td>70.000000</td>\n",
              "      <td>57</td>\n",
              "      <td>70.000000</td>\n",
              "      <td>69.000000</td>\n",
              "      <td>46</td>\n",
              "      <td>70.000000</td>\n",
              "      <td>72.000000</td>\n",
              "      <td>64.000000</td>\n",
              "      <td>74</td>\n",
              "      <td>71</td>\n",
              "      <td>75</td>\n",
              "      <td>66.000000</td>\n",
              "      <td>73.0</td>\n",
              "      <td>66.000000</td>\n",
              "      <td>66.0</td>\n",
              "      <td>48.000000</td>\n",
              "      <td>77</td>\n",
              "      <td>69</td>\n",
              "      <td>65.000000</td>\n",
              "      <td>70.0</td>\n",
              "      <td>58.000000</td>\n",
              "      <td>73.000000</td>\n",
              "      <td>70</td>\n",
              "      <td>67</td>\n",
              "      <td>71</td>\n",
              "      <td>3</td>\n",
              "    </tr>\n",
              "    <tr>\n",
              "      <th>4470</th>\n",
              "      <td>RCM</td>\n",
              "      <td>78.000000</td>\n",
              "      <td>67.0</td>\n",
              "      <td>60.00000</td>\n",
              "      <td>75.000000</td>\n",
              "      <td>64</td>\n",
              "      <td>69.000000</td>\n",
              "      <td>82.000000</td>\n",
              "      <td>86</td>\n",
              "      <td>74.000000</td>\n",
              "      <td>73.000000</td>\n",
              "      <td>69.708738</td>\n",
              "      <td>63</td>\n",
              "      <td>75</td>\n",
              "      <td>60</td>\n",
              "      <td>75.000000</td>\n",
              "      <td>67.0</td>\n",
              "      <td>60.000000</td>\n",
              "      <td>76.0</td>\n",
              "      <td>71.000000</td>\n",
              "      <td>68</td>\n",
              "      <td>68</td>\n",
              "      <td>70.000000</td>\n",
              "      <td>77.0</td>\n",
              "      <td>82.000000</td>\n",
              "      <td>79.000000</td>\n",
              "      <td>66</td>\n",
              "      <td>68</td>\n",
              "      <td>66</td>\n",
              "      <td>3</td>\n",
              "    </tr>\n",
              "    <tr>\n",
              "      <th>6888</th>\n",
              "      <td>CAM</td>\n",
              "      <td>61.000000</td>\n",
              "      <td>62.0</td>\n",
              "      <td>52.00000</td>\n",
              "      <td>63.000000</td>\n",
              "      <td>58</td>\n",
              "      <td>74.000000</td>\n",
              "      <td>66.000000</td>\n",
              "      <td>57</td>\n",
              "      <td>56.000000</td>\n",
              "      <td>71.000000</td>\n",
              "      <td>75.000000</td>\n",
              "      <td>77</td>\n",
              "      <td>62</td>\n",
              "      <td>78</td>\n",
              "      <td>65.000000</td>\n",
              "      <td>77.0</td>\n",
              "      <td>70.326861</td>\n",
              "      <td>46.0</td>\n",
              "      <td>57.000000</td>\n",
              "      <td>40</td>\n",
              "      <td>32</td>\n",
              "      <td>67.000000</td>\n",
              "      <td>68.0</td>\n",
              "      <td>62.000000</td>\n",
              "      <td>67.000000</td>\n",
              "      <td>35</td>\n",
              "      <td>23</td>\n",
              "      <td>22</td>\n",
              "      <td>3</td>\n",
              "    </tr>\n",
              "    <tr>\n",
              "      <th>7039</th>\n",
              "      <td>ST</td>\n",
              "      <td>65.000000</td>\n",
              "      <td>74.0</td>\n",
              "      <td>67.00000</td>\n",
              "      <td>57.000000</td>\n",
              "      <td>83</td>\n",
              "      <td>58.000000</td>\n",
              "      <td>80.000000</td>\n",
              "      <td>70</td>\n",
              "      <td>58.000000</td>\n",
              "      <td>64.000000</td>\n",
              "      <td>54.000000</td>\n",
              "      <td>29</td>\n",
              "      <td>70</td>\n",
              "      <td>63</td>\n",
              "      <td>68.000000</td>\n",
              "      <td>74.0</td>\n",
              "      <td>70.326861</td>\n",
              "      <td>67.0</td>\n",
              "      <td>67.000000</td>\n",
              "      <td>44</td>\n",
              "      <td>33</td>\n",
              "      <td>75.000000</td>\n",
              "      <td>67.0</td>\n",
              "      <td>86.000000</td>\n",
              "      <td>72.000000</td>\n",
              "      <td>32</td>\n",
              "      <td>15</td>\n",
              "      <td>16</td>\n",
              "      <td>3</td>\n",
              "    </tr>\n",
              "  </tbody>\n",
              "</table>\n",
              "<p>309 rows × 30 columns</p>\n",
              "</div>"
            ],
            "text/plain": [
              "     Position   Crossing  ...  SlidingTackle  International Reputation\n",
              "9          GK  63.304207  ...             18                         3\n",
              "12         CB  55.000000  ...             89                         3\n",
              "14        LDM  68.000000  ...             85                         3\n",
              "15         LF  82.000000  ...             20                         3\n",
              "16         ST  75.000000  ...             38                         3\n",
              "...       ...        ...  ...            ...                       ...\n",
              "3603       GK  63.304207  ...             14                         3\n",
              "4056       LB  71.000000  ...             71                         3\n",
              "4470      RCM  78.000000  ...             66                         3\n",
              "6888      CAM  61.000000  ...             22                         3\n",
              "7039       ST  65.000000  ...             16                         3\n",
              "\n",
              "[309 rows x 30 columns]"
            ]
          },
          "metadata": {},
          "execution_count": 703
        }
      ]
    },
    {
      "cell_type": "code",
      "metadata": {
        "colab": {
          "base_uri": "https://localhost:8080/",
          "height": 1000
        },
        "id": "RSWo1iXeClxA",
        "outputId": "4d44cfef-49b5-40ae-e84b-12bff76596b8"
      },
      "source": [
        "rep_4"
      ],
      "execution_count": 704,
      "outputs": [
        {
          "output_type": "execute_result",
          "data": {
            "text/html": [
              "<div>\n",
              "<style scoped>\n",
              "    .dataframe tbody tr th:only-of-type {\n",
              "        vertical-align: middle;\n",
              "    }\n",
              "\n",
              "    .dataframe tbody tr th {\n",
              "        vertical-align: top;\n",
              "    }\n",
              "\n",
              "    .dataframe thead th {\n",
              "        text-align: right;\n",
              "    }\n",
              "</style>\n",
              "<table border=\"1\" class=\"dataframe\">\n",
              "  <thead>\n",
              "    <tr style=\"text-align: right;\">\n",
              "      <th></th>\n",
              "      <th>Position</th>\n",
              "      <th>Crossing</th>\n",
              "      <th>Finishing</th>\n",
              "      <th>HeadingAccuracy</th>\n",
              "      <th>ShortPassing</th>\n",
              "      <th>Volleys</th>\n",
              "      <th>Dribbling</th>\n",
              "      <th>Curve</th>\n",
              "      <th>FKAccuracy</th>\n",
              "      <th>LongPassing</th>\n",
              "      <th>BallControl</th>\n",
              "      <th>SprintSpeed</th>\n",
              "      <th>Agility</th>\n",
              "      <th>Reactions</th>\n",
              "      <th>Balance</th>\n",
              "      <th>ShotPower</th>\n",
              "      <th>Jumping</th>\n",
              "      <th>Stamina</th>\n",
              "      <th>Strength</th>\n",
              "      <th>LongShots</th>\n",
              "      <th>Aggression</th>\n",
              "      <th>Interceptions</th>\n",
              "      <th>Positioning</th>\n",
              "      <th>Vision</th>\n",
              "      <th>Penalties</th>\n",
              "      <th>Composure</th>\n",
              "      <th>Marking</th>\n",
              "      <th>StandingTackle</th>\n",
              "      <th>SlidingTackle</th>\n",
              "      <th>International Reputation</th>\n",
              "    </tr>\n",
              "  </thead>\n",
              "  <tbody>\n",
              "    <tr>\n",
              "      <th>3</th>\n",
              "      <td>GK</td>\n",
              "      <td>67.803922</td>\n",
              "      <td>13.000000</td>\n",
              "      <td>21</td>\n",
              "      <td>76.862745</td>\n",
              "      <td>13.000000</td>\n",
              "      <td>71.666667</td>\n",
              "      <td>69.823529</td>\n",
              "      <td>19</td>\n",
              "      <td>51.000000</td>\n",
              "      <td>42</td>\n",
              "      <td>58</td>\n",
              "      <td>60</td>\n",
              "      <td>90.000000</td>\n",
              "      <td>43</td>\n",
              "      <td>74.27451</td>\n",
              "      <td>67.000000</td>\n",
              "      <td>43.000000</td>\n",
              "      <td>64</td>\n",
              "      <td>67.529412</td>\n",
              "      <td>38</td>\n",
              "      <td>30</td>\n",
              "      <td>68.196078</td>\n",
              "      <td>68.000000</td>\n",
              "      <td>40.000000</td>\n",
              "      <td>82.333333</td>\n",
              "      <td>15</td>\n",
              "      <td>21</td>\n",
              "      <td>13</td>\n",
              "      <td>4</td>\n",
              "    </tr>\n",
              "    <tr>\n",
              "      <th>4</th>\n",
              "      <td>RCM</td>\n",
              "      <td>93.000000</td>\n",
              "      <td>82.000000</td>\n",
              "      <td>55</td>\n",
              "      <td>92.000000</td>\n",
              "      <td>82.000000</td>\n",
              "      <td>86.000000</td>\n",
              "      <td>85.000000</td>\n",
              "      <td>83</td>\n",
              "      <td>91.000000</td>\n",
              "      <td>91</td>\n",
              "      <td>76</td>\n",
              "      <td>79</td>\n",
              "      <td>91.000000</td>\n",
              "      <td>77</td>\n",
              "      <td>91.00000</td>\n",
              "      <td>63.000000</td>\n",
              "      <td>90.000000</td>\n",
              "      <td>75</td>\n",
              "      <td>91.000000</td>\n",
              "      <td>76</td>\n",
              "      <td>61</td>\n",
              "      <td>87.000000</td>\n",
              "      <td>94.000000</td>\n",
              "      <td>79.000000</td>\n",
              "      <td>88.000000</td>\n",
              "      <td>68</td>\n",
              "      <td>58</td>\n",
              "      <td>51</td>\n",
              "      <td>4</td>\n",
              "    </tr>\n",
              "    <tr>\n",
              "      <th>5</th>\n",
              "      <td>LF</td>\n",
              "      <td>81.000000</td>\n",
              "      <td>84.000000</td>\n",
              "      <td>61</td>\n",
              "      <td>89.000000</td>\n",
              "      <td>80.000000</td>\n",
              "      <td>95.000000</td>\n",
              "      <td>83.000000</td>\n",
              "      <td>79</td>\n",
              "      <td>83.000000</td>\n",
              "      <td>94</td>\n",
              "      <td>88</td>\n",
              "      <td>95</td>\n",
              "      <td>90.000000</td>\n",
              "      <td>94</td>\n",
              "      <td>82.00000</td>\n",
              "      <td>56.000000</td>\n",
              "      <td>83.000000</td>\n",
              "      <td>66</td>\n",
              "      <td>80.000000</td>\n",
              "      <td>54</td>\n",
              "      <td>41</td>\n",
              "      <td>87.000000</td>\n",
              "      <td>89.000000</td>\n",
              "      <td>86.000000</td>\n",
              "      <td>91.000000</td>\n",
              "      <td>34</td>\n",
              "      <td>27</td>\n",
              "      <td>22</td>\n",
              "      <td>4</td>\n",
              "    </tr>\n",
              "    <tr>\n",
              "      <th>6</th>\n",
              "      <td>RCM</td>\n",
              "      <td>86.000000</td>\n",
              "      <td>72.000000</td>\n",
              "      <td>55</td>\n",
              "      <td>93.000000</td>\n",
              "      <td>76.000000</td>\n",
              "      <td>90.000000</td>\n",
              "      <td>85.000000</td>\n",
              "      <td>78</td>\n",
              "      <td>88.000000</td>\n",
              "      <td>93</td>\n",
              "      <td>72</td>\n",
              "      <td>93</td>\n",
              "      <td>90.000000</td>\n",
              "      <td>94</td>\n",
              "      <td>79.00000</td>\n",
              "      <td>68.000000</td>\n",
              "      <td>89.000000</td>\n",
              "      <td>58</td>\n",
              "      <td>82.000000</td>\n",
              "      <td>62</td>\n",
              "      <td>83</td>\n",
              "      <td>79.000000</td>\n",
              "      <td>92.000000</td>\n",
              "      <td>82.000000</td>\n",
              "      <td>84.000000</td>\n",
              "      <td>60</td>\n",
              "      <td>76</td>\n",
              "      <td>73</td>\n",
              "      <td>4</td>\n",
              "    </tr>\n",
              "    <tr>\n",
              "      <th>8</th>\n",
              "      <td>RCB</td>\n",
              "      <td>66.000000</td>\n",
              "      <td>60.000000</td>\n",
              "      <td>91</td>\n",
              "      <td>78.000000</td>\n",
              "      <td>66.000000</td>\n",
              "      <td>63.000000</td>\n",
              "      <td>74.000000</td>\n",
              "      <td>72</td>\n",
              "      <td>77.000000</td>\n",
              "      <td>84</td>\n",
              "      <td>75</td>\n",
              "      <td>78</td>\n",
              "      <td>85.000000</td>\n",
              "      <td>66</td>\n",
              "      <td>79.00000</td>\n",
              "      <td>93.000000</td>\n",
              "      <td>84.000000</td>\n",
              "      <td>83</td>\n",
              "      <td>59.000000</td>\n",
              "      <td>88</td>\n",
              "      <td>90</td>\n",
              "      <td>60.000000</td>\n",
              "      <td>63.000000</td>\n",
              "      <td>75.000000</td>\n",
              "      <td>82.000000</td>\n",
              "      <td>87</td>\n",
              "      <td>92</td>\n",
              "      <td>91</td>\n",
              "      <td>4</td>\n",
              "    </tr>\n",
              "    <tr>\n",
              "      <th>10</th>\n",
              "      <td>ST</td>\n",
              "      <td>62.000000</td>\n",
              "      <td>91.000000</td>\n",
              "      <td>85</td>\n",
              "      <td>83.000000</td>\n",
              "      <td>89.000000</td>\n",
              "      <td>85.000000</td>\n",
              "      <td>77.000000</td>\n",
              "      <td>86</td>\n",
              "      <td>65.000000</td>\n",
              "      <td>89</td>\n",
              "      <td>78</td>\n",
              "      <td>78</td>\n",
              "      <td>90.000000</td>\n",
              "      <td>78</td>\n",
              "      <td>88.00000</td>\n",
              "      <td>84.000000</td>\n",
              "      <td>78.000000</td>\n",
              "      <td>84</td>\n",
              "      <td>84.000000</td>\n",
              "      <td>80</td>\n",
              "      <td>39</td>\n",
              "      <td>91.000000</td>\n",
              "      <td>77.000000</td>\n",
              "      <td>88.000000</td>\n",
              "      <td>86.000000</td>\n",
              "      <td>34</td>\n",
              "      <td>42</td>\n",
              "      <td>19</td>\n",
              "      <td>4</td>\n",
              "    </tr>\n",
              "    <tr>\n",
              "      <th>11</th>\n",
              "      <td>LCM</td>\n",
              "      <td>88.000000</td>\n",
              "      <td>76.000000</td>\n",
              "      <td>54</td>\n",
              "      <td>92.000000</td>\n",
              "      <td>82.000000</td>\n",
              "      <td>81.000000</td>\n",
              "      <td>86.000000</td>\n",
              "      <td>84</td>\n",
              "      <td>93.000000</td>\n",
              "      <td>90</td>\n",
              "      <td>62</td>\n",
              "      <td>70</td>\n",
              "      <td>89.000000</td>\n",
              "      <td>71</td>\n",
              "      <td>87.00000</td>\n",
              "      <td>70.686275</td>\n",
              "      <td>75.000000</td>\n",
              "      <td>73</td>\n",
              "      <td>92.000000</td>\n",
              "      <td>60</td>\n",
              "      <td>82</td>\n",
              "      <td>79.000000</td>\n",
              "      <td>86.000000</td>\n",
              "      <td>73.000000</td>\n",
              "      <td>85.000000</td>\n",
              "      <td>72</td>\n",
              "      <td>79</td>\n",
              "      <td>69</td>\n",
              "      <td>4</td>\n",
              "    </tr>\n",
              "    <tr>\n",
              "      <th>13</th>\n",
              "      <td>LCM</td>\n",
              "      <td>84.000000</td>\n",
              "      <td>76.000000</td>\n",
              "      <td>54</td>\n",
              "      <td>93.000000</td>\n",
              "      <td>82.000000</td>\n",
              "      <td>89.000000</td>\n",
              "      <td>82.000000</td>\n",
              "      <td>77</td>\n",
              "      <td>87.000000</td>\n",
              "      <td>94</td>\n",
              "      <td>64</td>\n",
              "      <td>92</td>\n",
              "      <td>90.000000</td>\n",
              "      <td>90</td>\n",
              "      <td>72.00000</td>\n",
              "      <td>64.000000</td>\n",
              "      <td>78.000000</td>\n",
              "      <td>52</td>\n",
              "      <td>75.000000</td>\n",
              "      <td>57</td>\n",
              "      <td>50</td>\n",
              "      <td>89.000000</td>\n",
              "      <td>92.000000</td>\n",
              "      <td>75.000000</td>\n",
              "      <td>93.000000</td>\n",
              "      <td>59</td>\n",
              "      <td>53</td>\n",
              "      <td>29</td>\n",
              "      <td>4</td>\n",
              "    </tr>\n",
              "    <tr>\n",
              "      <th>17</th>\n",
              "      <td>CAM</td>\n",
              "      <td>82.000000</td>\n",
              "      <td>90.000000</td>\n",
              "      <td>84</td>\n",
              "      <td>83.000000</td>\n",
              "      <td>87.000000</td>\n",
              "      <td>88.000000</td>\n",
              "      <td>84.000000</td>\n",
              "      <td>78</td>\n",
              "      <td>76.000000</td>\n",
              "      <td>90</td>\n",
              "      <td>85</td>\n",
              "      <td>90</td>\n",
              "      <td>90.000000</td>\n",
              "      <td>80</td>\n",
              "      <td>80.00000</td>\n",
              "      <td>90.000000</td>\n",
              "      <td>83.000000</td>\n",
              "      <td>62</td>\n",
              "      <td>82.000000</td>\n",
              "      <td>69</td>\n",
              "      <td>35</td>\n",
              "      <td>91.000000</td>\n",
              "      <td>83.000000</td>\n",
              "      <td>79.000000</td>\n",
              "      <td>87.000000</td>\n",
              "      <td>59</td>\n",
              "      <td>47</td>\n",
              "      <td>48</td>\n",
              "      <td>4</td>\n",
              "    </tr>\n",
              "    <tr>\n",
              "      <th>19</th>\n",
              "      <td>GK</td>\n",
              "      <td>67.803922</td>\n",
              "      <td>14.000000</td>\n",
              "      <td>13</td>\n",
              "      <td>76.862745</td>\n",
              "      <td>66.686275</td>\n",
              "      <td>71.666667</td>\n",
              "      <td>69.823529</td>\n",
              "      <td>20</td>\n",
              "      <td>71.901961</td>\n",
              "      <td>23</td>\n",
              "      <td>52</td>\n",
              "      <td>61</td>\n",
              "      <td>84.000000</td>\n",
              "      <td>45</td>\n",
              "      <td>74.27451</td>\n",
              "      <td>68.000000</td>\n",
              "      <td>70.862745</td>\n",
              "      <td>70</td>\n",
              "      <td>67.529412</td>\n",
              "      <td>23</td>\n",
              "      <td>15</td>\n",
              "      <td>68.196078</td>\n",
              "      <td>76.039216</td>\n",
              "      <td>68.666667</td>\n",
              "      <td>82.333333</td>\n",
              "      <td>20</td>\n",
              "      <td>18</td>\n",
              "      <td>16</td>\n",
              "      <td>4</td>\n",
              "    </tr>\n",
              "    <tr>\n",
              "      <th>20</th>\n",
              "      <td>CDM</td>\n",
              "      <td>62.000000</td>\n",
              "      <td>67.000000</td>\n",
              "      <td>68</td>\n",
              "      <td>89.000000</td>\n",
              "      <td>44.000000</td>\n",
              "      <td>80.000000</td>\n",
              "      <td>66.000000</td>\n",
              "      <td>68</td>\n",
              "      <td>82.000000</td>\n",
              "      <td>88</td>\n",
              "      <td>52</td>\n",
              "      <td>66</td>\n",
              "      <td>87.000000</td>\n",
              "      <td>52</td>\n",
              "      <td>61.00000</td>\n",
              "      <td>66.000000</td>\n",
              "      <td>86.000000</td>\n",
              "      <td>77</td>\n",
              "      <td>54.000000</td>\n",
              "      <td>85</td>\n",
              "      <td>87</td>\n",
              "      <td>77.000000</td>\n",
              "      <td>87.000000</td>\n",
              "      <td>60.000000</td>\n",
              "      <td>90.000000</td>\n",
              "      <td>90</td>\n",
              "      <td>86</td>\n",
              "      <td>80</td>\n",
              "      <td>4</td>\n",
              "    </tr>\n",
              "    <tr>\n",
              "      <th>21</th>\n",
              "      <td>LS</td>\n",
              "      <td>70.000000</td>\n",
              "      <td>89.000000</td>\n",
              "      <td>89</td>\n",
              "      <td>78.000000</td>\n",
              "      <td>90.000000</td>\n",
              "      <td>80.000000</td>\n",
              "      <td>77.000000</td>\n",
              "      <td>76</td>\n",
              "      <td>52.000000</td>\n",
              "      <td>82</td>\n",
              "      <td>76</td>\n",
              "      <td>77</td>\n",
              "      <td>91.000000</td>\n",
              "      <td>59</td>\n",
              "      <td>87.00000</td>\n",
              "      <td>88.000000</td>\n",
              "      <td>92.000000</td>\n",
              "      <td>78</td>\n",
              "      <td>79.000000</td>\n",
              "      <td>84</td>\n",
              "      <td>48</td>\n",
              "      <td>93.000000</td>\n",
              "      <td>77.000000</td>\n",
              "      <td>85.000000</td>\n",
              "      <td>82.000000</td>\n",
              "      <td>52</td>\n",
              "      <td>45</td>\n",
              "      <td>39</td>\n",
              "      <td>4</td>\n",
              "    </tr>\n",
              "    <tr>\n",
              "      <th>23</th>\n",
              "      <td>ST</td>\n",
              "      <td>70.000000</td>\n",
              "      <td>93.000000</td>\n",
              "      <td>77</td>\n",
              "      <td>81.000000</td>\n",
              "      <td>85.000000</td>\n",
              "      <td>89.000000</td>\n",
              "      <td>82.000000</td>\n",
              "      <td>73</td>\n",
              "      <td>64.000000</td>\n",
              "      <td>89</td>\n",
              "      <td>80</td>\n",
              "      <td>86</td>\n",
              "      <td>90.000000</td>\n",
              "      <td>91</td>\n",
              "      <td>88.00000</td>\n",
              "      <td>81.000000</td>\n",
              "      <td>76.000000</td>\n",
              "      <td>73</td>\n",
              "      <td>83.000000</td>\n",
              "      <td>65</td>\n",
              "      <td>24</td>\n",
              "      <td>92.000000</td>\n",
              "      <td>83.000000</td>\n",
              "      <td>83.000000</td>\n",
              "      <td>90.000000</td>\n",
              "      <td>30</td>\n",
              "      <td>20</td>\n",
              "      <td>12</td>\n",
              "      <td>4</td>\n",
              "    </tr>\n",
              "    <tr>\n",
              "      <th>24</th>\n",
              "      <td>LCB</td>\n",
              "      <td>58.000000</td>\n",
              "      <td>33.000000</td>\n",
              "      <td>83</td>\n",
              "      <td>76.862745</td>\n",
              "      <td>45.000000</td>\n",
              "      <td>58.000000</td>\n",
              "      <td>60.000000</td>\n",
              "      <td>31</td>\n",
              "      <td>59.000000</td>\n",
              "      <td>57</td>\n",
              "      <td>75</td>\n",
              "      <td>54</td>\n",
              "      <td>82.000000</td>\n",
              "      <td>55</td>\n",
              "      <td>78.00000</td>\n",
              "      <td>89.000000</td>\n",
              "      <td>65.000000</td>\n",
              "      <td>89</td>\n",
              "      <td>49.000000</td>\n",
              "      <td>92</td>\n",
              "      <td>88</td>\n",
              "      <td>28.000000</td>\n",
              "      <td>50.000000</td>\n",
              "      <td>50.000000</td>\n",
              "      <td>84.000000</td>\n",
              "      <td>93</td>\n",
              "      <td>93</td>\n",
              "      <td>90</td>\n",
              "      <td>4</td>\n",
              "    </tr>\n",
              "    <tr>\n",
              "      <th>28</th>\n",
              "      <td>LAM</td>\n",
              "      <td>90.000000</td>\n",
              "      <td>83.000000</td>\n",
              "      <td>62</td>\n",
              "      <td>89.000000</td>\n",
              "      <td>90.000000</td>\n",
              "      <td>85.000000</td>\n",
              "      <td>89.000000</td>\n",
              "      <td>86</td>\n",
              "      <td>83.000000</td>\n",
              "      <td>90</td>\n",
              "      <td>67</td>\n",
              "      <td>83</td>\n",
              "      <td>85.000000</td>\n",
              "      <td>76</td>\n",
              "      <td>86.00000</td>\n",
              "      <td>54.000000</td>\n",
              "      <td>70.000000</td>\n",
              "      <td>68</td>\n",
              "      <td>92.000000</td>\n",
              "      <td>64</td>\n",
              "      <td>55</td>\n",
              "      <td>80.000000</td>\n",
              "      <td>89.000000</td>\n",
              "      <td>81.000000</td>\n",
              "      <td>87.000000</td>\n",
              "      <td>52</td>\n",
              "      <td>41</td>\n",
              "      <td>44</td>\n",
              "      <td>4</td>\n",
              "    </tr>\n",
              "    <tr>\n",
              "      <th>34</th>\n",
              "      <td>LCB</td>\n",
              "      <td>64.000000</td>\n",
              "      <td>55.000000</td>\n",
              "      <td>87</td>\n",
              "      <td>81.000000</td>\n",
              "      <td>60.000000</td>\n",
              "      <td>68.000000</td>\n",
              "      <td>65.000000</td>\n",
              "      <td>53</td>\n",
              "      <td>85.000000</td>\n",
              "      <td>81</td>\n",
              "      <td>64</td>\n",
              "      <td>63</td>\n",
              "      <td>87.000000</td>\n",
              "      <td>60</td>\n",
              "      <td>71.00000</td>\n",
              "      <td>68.000000</td>\n",
              "      <td>66.000000</td>\n",
              "      <td>84</td>\n",
              "      <td>51.000000</td>\n",
              "      <td>69</td>\n",
              "      <td>92</td>\n",
              "      <td>56.000000</td>\n",
              "      <td>79.000000</td>\n",
              "      <td>68.000000</td>\n",
              "      <td>91.000000</td>\n",
              "      <td>88</td>\n",
              "      <td>90</td>\n",
              "      <td>88</td>\n",
              "      <td>4</td>\n",
              "    </tr>\n",
              "    <tr>\n",
              "      <th>35</th>\n",
              "      <td>LB</td>\n",
              "      <td>90.000000</td>\n",
              "      <td>70.000000</td>\n",
              "      <td>75</td>\n",
              "      <td>84.000000</td>\n",
              "      <td>54.000000</td>\n",
              "      <td>90.000000</td>\n",
              "      <td>85.000000</td>\n",
              "      <td>67</td>\n",
              "      <td>76.000000</td>\n",
              "      <td>92</td>\n",
              "      <td>82</td>\n",
              "      <td>86</td>\n",
              "      <td>88.000000</td>\n",
              "      <td>86</td>\n",
              "      <td>83.00000</td>\n",
              "      <td>76.000000</td>\n",
              "      <td>91.000000</td>\n",
              "      <td>78</td>\n",
              "      <td>70.000000</td>\n",
              "      <td>84</td>\n",
              "      <td>85</td>\n",
              "      <td>85.000000</td>\n",
              "      <td>82.000000</td>\n",
              "      <td>59.000000</td>\n",
              "      <td>86.000000</td>\n",
              "      <td>71</td>\n",
              "      <td>85</td>\n",
              "      <td>86</td>\n",
              "      <td>4</td>\n",
              "    </tr>\n",
              "    <tr>\n",
              "      <th>36</th>\n",
              "      <td>ST</td>\n",
              "      <td>87.000000</td>\n",
              "      <td>86.000000</td>\n",
              "      <td>84</td>\n",
              "      <td>85.000000</td>\n",
              "      <td>85.000000</td>\n",
              "      <td>87.000000</td>\n",
              "      <td>90.000000</td>\n",
              "      <td>87</td>\n",
              "      <td>80.000000</td>\n",
              "      <td>85</td>\n",
              "      <td>95</td>\n",
              "      <td>82</td>\n",
              "      <td>85.000000</td>\n",
              "      <td>65</td>\n",
              "      <td>92.00000</td>\n",
              "      <td>87.000000</td>\n",
              "      <td>75.000000</td>\n",
              "      <td>80</td>\n",
              "      <td>91.000000</td>\n",
              "      <td>65</td>\n",
              "      <td>59</td>\n",
              "      <td>85.000000</td>\n",
              "      <td>79.000000</td>\n",
              "      <td>76.000000</td>\n",
              "      <td>86.000000</td>\n",
              "      <td>54</td>\n",
              "      <td>55</td>\n",
              "      <td>52</td>\n",
              "      <td>4</td>\n",
              "    </tr>\n",
              "    <tr>\n",
              "      <th>37</th>\n",
              "      <td>GK</td>\n",
              "      <td>67.803922</td>\n",
              "      <td>64.941176</td>\n",
              "      <td>10</td>\n",
              "      <td>76.862745</td>\n",
              "      <td>66.686275</td>\n",
              "      <td>71.666667</td>\n",
              "      <td>69.823529</td>\n",
              "      <td>10</td>\n",
              "      <td>50.000000</td>\n",
              "      <td>34</td>\n",
              "      <td>62</td>\n",
              "      <td>55</td>\n",
              "      <td>85.000000</td>\n",
              "      <td>54</td>\n",
              "      <td>74.27451</td>\n",
              "      <td>74.000000</td>\n",
              "      <td>41.000000</td>\n",
              "      <td>43</td>\n",
              "      <td>67.529412</td>\n",
              "      <td>31</td>\n",
              "      <td>27</td>\n",
              "      <td>68.196078</td>\n",
              "      <td>76.039216</td>\n",
              "      <td>40.000000</td>\n",
              "      <td>82.333333</td>\n",
              "      <td>29</td>\n",
              "      <td>10</td>\n",
              "      <td>18</td>\n",
              "      <td>4</td>\n",
              "    </tr>\n",
              "    <tr>\n",
              "      <th>38</th>\n",
              "      <td>LS</td>\n",
              "      <td>68.000000</td>\n",
              "      <td>92.000000</td>\n",
              "      <td>80</td>\n",
              "      <td>75.000000</td>\n",
              "      <td>90.000000</td>\n",
              "      <td>84.000000</td>\n",
              "      <td>74.000000</td>\n",
              "      <td>62</td>\n",
              "      <td>59.000000</td>\n",
              "      <td>85</td>\n",
              "      <td>73</td>\n",
              "      <td>75</td>\n",
              "      <td>86.000000</td>\n",
              "      <td>69</td>\n",
              "      <td>86.00000</td>\n",
              "      <td>79.000000</td>\n",
              "      <td>70.000000</td>\n",
              "      <td>85</td>\n",
              "      <td>80.000000</td>\n",
              "      <td>50</td>\n",
              "      <td>20</td>\n",
              "      <td>92.000000</td>\n",
              "      <td>74.000000</td>\n",
              "      <td>70.000000</td>\n",
              "      <td>86.000000</td>\n",
              "      <td>35</td>\n",
              "      <td>22</td>\n",
              "      <td>18</td>\n",
              "      <td>4</td>\n",
              "    </tr>\n",
              "    <tr>\n",
              "      <th>39</th>\n",
              "      <td>RCB</td>\n",
              "      <td>60.000000</td>\n",
              "      <td>38.000000</td>\n",
              "      <td>81</td>\n",
              "      <td>80.000000</td>\n",
              "      <td>63.000000</td>\n",
              "      <td>62.000000</td>\n",
              "      <td>61.000000</td>\n",
              "      <td>64</td>\n",
              "      <td>80.000000</td>\n",
              "      <td>80</td>\n",
              "      <td>72</td>\n",
              "      <td>68</td>\n",
              "      <td>82.000000</td>\n",
              "      <td>68</td>\n",
              "      <td>71.00000</td>\n",
              "      <td>90.000000</td>\n",
              "      <td>74.000000</td>\n",
              "      <td>82</td>\n",
              "      <td>68.000000</td>\n",
              "      <td>76</td>\n",
              "      <td>89</td>\n",
              "      <td>59.000000</td>\n",
              "      <td>72.000000</td>\n",
              "      <td>60.000000</td>\n",
              "      <td>81.000000</td>\n",
              "      <td>88</td>\n",
              "      <td>89</td>\n",
              "      <td>85</td>\n",
              "      <td>4</td>\n",
              "    </tr>\n",
              "    <tr>\n",
              "      <th>41</th>\n",
              "      <td>GK</td>\n",
              "      <td>67.803922</td>\n",
              "      <td>15.000000</td>\n",
              "      <td>13</td>\n",
              "      <td>76.862745</td>\n",
              "      <td>17.000000</td>\n",
              "      <td>71.666667</td>\n",
              "      <td>69.823529</td>\n",
              "      <td>13</td>\n",
              "      <td>71.901961</td>\n",
              "      <td>28</td>\n",
              "      <td>43</td>\n",
              "      <td>55</td>\n",
              "      <td>79.000000</td>\n",
              "      <td>49</td>\n",
              "      <td>74.27451</td>\n",
              "      <td>75.000000</td>\n",
              "      <td>70.862745</td>\n",
              "      <td>69</td>\n",
              "      <td>67.529412</td>\n",
              "      <td>38</td>\n",
              "      <td>28</td>\n",
              "      <td>68.196078</td>\n",
              "      <td>50.000000</td>\n",
              "      <td>68.666667</td>\n",
              "      <td>82.333333</td>\n",
              "      <td>13</td>\n",
              "      <td>11</td>\n",
              "      <td>11</td>\n",
              "      <td>4</td>\n",
              "    </tr>\n",
              "    <tr>\n",
              "      <th>45</th>\n",
              "      <td>RDM</td>\n",
              "      <td>80.000000</td>\n",
              "      <td>73.000000</td>\n",
              "      <td>73</td>\n",
              "      <td>86.000000</td>\n",
              "      <td>85.000000</td>\n",
              "      <td>87.000000</td>\n",
              "      <td>84.000000</td>\n",
              "      <td>82</td>\n",
              "      <td>90.000000</td>\n",
              "      <td>90</td>\n",
              "      <td>79</td>\n",
              "      <td>74</td>\n",
              "      <td>81.000000</td>\n",
              "      <td>64</td>\n",
              "      <td>90.00000</td>\n",
              "      <td>83.000000</td>\n",
              "      <td>88.000000</td>\n",
              "      <td>89</td>\n",
              "      <td>81.000000</td>\n",
              "      <td>78</td>\n",
              "      <td>66</td>\n",
              "      <td>81.000000</td>\n",
              "      <td>87.000000</td>\n",
              "      <td>81.000000</td>\n",
              "      <td>87.000000</td>\n",
              "      <td>66</td>\n",
              "      <td>70</td>\n",
              "      <td>68</td>\n",
              "      <td>4</td>\n",
              "    </tr>\n",
              "    <tr>\n",
              "      <th>53</th>\n",
              "      <td>RCM</td>\n",
              "      <td>84.000000</td>\n",
              "      <td>83.000000</td>\n",
              "      <td>58</td>\n",
              "      <td>87.000000</td>\n",
              "      <td>80.000000</td>\n",
              "      <td>84.000000</td>\n",
              "      <td>88.000000</td>\n",
              "      <td>84</td>\n",
              "      <td>90.000000</td>\n",
              "      <td>87</td>\n",
              "      <td>59</td>\n",
              "      <td>72</td>\n",
              "      <td>77.000000</td>\n",
              "      <td>66</td>\n",
              "      <td>84.00000</td>\n",
              "      <td>70.686275</td>\n",
              "      <td>84.000000</td>\n",
              "      <td>66</td>\n",
              "      <td>90.000000</td>\n",
              "      <td>67</td>\n",
              "      <td>75</td>\n",
              "      <td>79.000000</td>\n",
              "      <td>86.000000</td>\n",
              "      <td>82.000000</td>\n",
              "      <td>81.000000</td>\n",
              "      <td>72</td>\n",
              "      <td>74</td>\n",
              "      <td>70</td>\n",
              "      <td>4</td>\n",
              "    </tr>\n",
              "    <tr>\n",
              "      <th>54</th>\n",
              "      <td>RCB</td>\n",
              "      <td>57.000000</td>\n",
              "      <td>64.000000</td>\n",
              "      <td>83</td>\n",
              "      <td>81.000000</td>\n",
              "      <td>57.000000</td>\n",
              "      <td>59.000000</td>\n",
              "      <td>58.000000</td>\n",
              "      <td>43</td>\n",
              "      <td>80.000000</td>\n",
              "      <td>78</td>\n",
              "      <td>60</td>\n",
              "      <td>58</td>\n",
              "      <td>84.000000</td>\n",
              "      <td>36</td>\n",
              "      <td>62.00000</td>\n",
              "      <td>74.000000</td>\n",
              "      <td>65.000000</td>\n",
              "      <td>83</td>\n",
              "      <td>51.000000</td>\n",
              "      <td>72</td>\n",
              "      <td>88</td>\n",
              "      <td>58.000000</td>\n",
              "      <td>62.000000</td>\n",
              "      <td>69.000000</td>\n",
              "      <td>86.000000</td>\n",
              "      <td>91</td>\n",
              "      <td>86</td>\n",
              "      <td>84</td>\n",
              "      <td>4</td>\n",
              "    </tr>\n",
              "    <tr>\n",
              "      <th>66</th>\n",
              "      <td>CAM</td>\n",
              "      <td>79.000000</td>\n",
              "      <td>87.000000</td>\n",
              "      <td>82</td>\n",
              "      <td>83.000000</td>\n",
              "      <td>84.000000</td>\n",
              "      <td>75.000000</td>\n",
              "      <td>81.000000</td>\n",
              "      <td>59</td>\n",
              "      <td>72.000000</td>\n",
              "      <td>82</td>\n",
              "      <td>75</td>\n",
              "      <td>75</td>\n",
              "      <td>91.000000</td>\n",
              "      <td>72</td>\n",
              "      <td>78.00000</td>\n",
              "      <td>81.000000</td>\n",
              "      <td>87.000000</td>\n",
              "      <td>68</td>\n",
              "      <td>80.000000</td>\n",
              "      <td>57</td>\n",
              "      <td>58</td>\n",
              "      <td>92.000000</td>\n",
              "      <td>85.000000</td>\n",
              "      <td>60.000000</td>\n",
              "      <td>83.000000</td>\n",
              "      <td>44</td>\n",
              "      <td>41</td>\n",
              "      <td>44</td>\n",
              "      <td>4</td>\n",
              "    </tr>\n",
              "    <tr>\n",
              "      <th>68</th>\n",
              "      <td>LM</td>\n",
              "      <td>79.000000</td>\n",
              "      <td>87.000000</td>\n",
              "      <td>49</td>\n",
              "      <td>86.000000</td>\n",
              "      <td>90.000000</td>\n",
              "      <td>87.000000</td>\n",
              "      <td>89.000000</td>\n",
              "      <td>84</td>\n",
              "      <td>75.000000</td>\n",
              "      <td>86</td>\n",
              "      <td>85</td>\n",
              "      <td>86</td>\n",
              "      <td>87.000000</td>\n",
              "      <td>81</td>\n",
              "      <td>88.00000</td>\n",
              "      <td>70.000000</td>\n",
              "      <td>73.000000</td>\n",
              "      <td>67</td>\n",
              "      <td>86.000000</td>\n",
              "      <td>49</td>\n",
              "      <td>50</td>\n",
              "      <td>88.000000</td>\n",
              "      <td>86.000000</td>\n",
              "      <td>89.000000</td>\n",
              "      <td>84.000000</td>\n",
              "      <td>47</td>\n",
              "      <td>36</td>\n",
              "      <td>45</td>\n",
              "      <td>4</td>\n",
              "    </tr>\n",
              "    <tr>\n",
              "      <th>74</th>\n",
              "      <td>CAM</td>\n",
              "      <td>83.000000</td>\n",
              "      <td>73.000000</td>\n",
              "      <td>54</td>\n",
              "      <td>89.000000</td>\n",
              "      <td>80.000000</td>\n",
              "      <td>84.000000</td>\n",
              "      <td>84.000000</td>\n",
              "      <td>77</td>\n",
              "      <td>82.000000</td>\n",
              "      <td>90</td>\n",
              "      <td>69</td>\n",
              "      <td>79</td>\n",
              "      <td>84.000000</td>\n",
              "      <td>70</td>\n",
              "      <td>70.00000</td>\n",
              "      <td>48.000000</td>\n",
              "      <td>69.000000</td>\n",
              "      <td>57</td>\n",
              "      <td>75.000000</td>\n",
              "      <td>48</td>\n",
              "      <td>24</td>\n",
              "      <td>83.000000</td>\n",
              "      <td>91.000000</td>\n",
              "      <td>67.000000</td>\n",
              "      <td>82.000000</td>\n",
              "      <td>24</td>\n",
              "      <td>16</td>\n",
              "      <td>19</td>\n",
              "      <td>4</td>\n",
              "    </tr>\n",
              "    <tr>\n",
              "      <th>76</th>\n",
              "      <td>LF</td>\n",
              "      <td>77.000000</td>\n",
              "      <td>70.000000</td>\n",
              "      <td>54</td>\n",
              "      <td>90.000000</td>\n",
              "      <td>74.000000</td>\n",
              "      <td>90.000000</td>\n",
              "      <td>80.000000</td>\n",
              "      <td>70</td>\n",
              "      <td>85.000000</td>\n",
              "      <td>92</td>\n",
              "      <td>67</td>\n",
              "      <td>79</td>\n",
              "      <td>86.000000</td>\n",
              "      <td>84</td>\n",
              "      <td>65.00000</td>\n",
              "      <td>47.000000</td>\n",
              "      <td>55.000000</td>\n",
              "      <td>58</td>\n",
              "      <td>71.000000</td>\n",
              "      <td>58</td>\n",
              "      <td>66</td>\n",
              "      <td>81.000000</td>\n",
              "      <td>93.000000</td>\n",
              "      <td>71.000000</td>\n",
              "      <td>89.000000</td>\n",
              "      <td>67</td>\n",
              "      <td>57</td>\n",
              "      <td>56</td>\n",
              "      <td>4</td>\n",
              "    </tr>\n",
              "    <tr>\n",
              "      <th>85</th>\n",
              "      <td>LB</td>\n",
              "      <td>81.000000</td>\n",
              "      <td>63.000000</td>\n",
              "      <td>75</td>\n",
              "      <td>82.000000</td>\n",
              "      <td>68.000000</td>\n",
              "      <td>79.000000</td>\n",
              "      <td>78.000000</td>\n",
              "      <td>84</td>\n",
              "      <td>80.000000</td>\n",
              "      <td>83</td>\n",
              "      <td>86</td>\n",
              "      <td>79</td>\n",
              "      <td>84.000000</td>\n",
              "      <td>77</td>\n",
              "      <td>83.00000</td>\n",
              "      <td>82.000000</td>\n",
              "      <td>87.000000</td>\n",
              "      <td>71</td>\n",
              "      <td>82.000000</td>\n",
              "      <td>69</td>\n",
              "      <td>84</td>\n",
              "      <td>76.000000</td>\n",
              "      <td>77.000000</td>\n",
              "      <td>80.000000</td>\n",
              "      <td>79.000000</td>\n",
              "      <td>80</td>\n",
              "      <td>82</td>\n",
              "      <td>80</td>\n",
              "      <td>4</td>\n",
              "    </tr>\n",
              "    <tr>\n",
              "      <th>93</th>\n",
              "      <td>RW</td>\n",
              "      <td>77.000000</td>\n",
              "      <td>80.000000</td>\n",
              "      <td>73</td>\n",
              "      <td>77.000000</td>\n",
              "      <td>83.000000</td>\n",
              "      <td>87.000000</td>\n",
              "      <td>79.000000</td>\n",
              "      <td>78</td>\n",
              "      <td>75.000000</td>\n",
              "      <td>86</td>\n",
              "      <td>79</td>\n",
              "      <td>90</td>\n",
              "      <td>83.000000</td>\n",
              "      <td>87</td>\n",
              "      <td>84.00000</td>\n",
              "      <td>87.000000</td>\n",
              "      <td>83.000000</td>\n",
              "      <td>72</td>\n",
              "      <td>81.000000</td>\n",
              "      <td>79</td>\n",
              "      <td>46</td>\n",
              "      <td>84.000000</td>\n",
              "      <td>82.000000</td>\n",
              "      <td>77.000000</td>\n",
              "      <td>84.000000</td>\n",
              "      <td>38</td>\n",
              "      <td>44</td>\n",
              "      <td>35</td>\n",
              "      <td>4</td>\n",
              "    </tr>\n",
              "    <tr>\n",
              "      <th>95</th>\n",
              "      <td>RCB</td>\n",
              "      <td>69.000000</td>\n",
              "      <td>34.000000</td>\n",
              "      <td>85</td>\n",
              "      <td>75.000000</td>\n",
              "      <td>52.000000</td>\n",
              "      <td>64.000000</td>\n",
              "      <td>53.000000</td>\n",
              "      <td>31</td>\n",
              "      <td>83.000000</td>\n",
              "      <td>70</td>\n",
              "      <td>72</td>\n",
              "      <td>56</td>\n",
              "      <td>82.000000</td>\n",
              "      <td>52</td>\n",
              "      <td>78.00000</td>\n",
              "      <td>74.000000</td>\n",
              "      <td>69.000000</td>\n",
              "      <td>91</td>\n",
              "      <td>58.000000</td>\n",
              "      <td>81</td>\n",
              "      <td>81</td>\n",
              "      <td>47.000000</td>\n",
              "      <td>75.000000</td>\n",
              "      <td>46.000000</td>\n",
              "      <td>84.000000</td>\n",
              "      <td>84</td>\n",
              "      <td>87</td>\n",
              "      <td>87</td>\n",
              "      <td>4</td>\n",
              "    </tr>\n",
              "    <tr>\n",
              "      <th>96</th>\n",
              "      <td>CAM</td>\n",
              "      <td>76.000000</td>\n",
              "      <td>75.000000</td>\n",
              "      <td>82</td>\n",
              "      <td>83.000000</td>\n",
              "      <td>78.000000</td>\n",
              "      <td>76.000000</td>\n",
              "      <td>76.000000</td>\n",
              "      <td>68</td>\n",
              "      <td>79.000000</td>\n",
              "      <td>82</td>\n",
              "      <td>55</td>\n",
              "      <td>74</td>\n",
              "      <td>84.000000</td>\n",
              "      <td>75</td>\n",
              "      <td>86.00000</td>\n",
              "      <td>85.000000</td>\n",
              "      <td>83.000000</td>\n",
              "      <td>79</td>\n",
              "      <td>85.000000</td>\n",
              "      <td>93</td>\n",
              "      <td>84</td>\n",
              "      <td>80.000000</td>\n",
              "      <td>80.000000</td>\n",
              "      <td>81.000000</td>\n",
              "      <td>81.000000</td>\n",
              "      <td>82</td>\n",
              "      <td>87</td>\n",
              "      <td>86</td>\n",
              "      <td>4</td>\n",
              "    </tr>\n",
              "    <tr>\n",
              "      <th>100</th>\n",
              "      <td>LS</td>\n",
              "      <td>65.000000</td>\n",
              "      <td>87.000000</td>\n",
              "      <td>82</td>\n",
              "      <td>65.000000</td>\n",
              "      <td>81.000000</td>\n",
              "      <td>77.000000</td>\n",
              "      <td>62.000000</td>\n",
              "      <td>59</td>\n",
              "      <td>52.000000</td>\n",
              "      <td>83</td>\n",
              "      <td>76</td>\n",
              "      <td>58</td>\n",
              "      <td>85.000000</td>\n",
              "      <td>53</td>\n",
              "      <td>83.00000</td>\n",
              "      <td>64.000000</td>\n",
              "      <td>76.000000</td>\n",
              "      <td>92</td>\n",
              "      <td>74.000000</td>\n",
              "      <td>93</td>\n",
              "      <td>40</td>\n",
              "      <td>87.000000</td>\n",
              "      <td>74.000000</td>\n",
              "      <td>75.000000</td>\n",
              "      <td>83.000000</td>\n",
              "      <td>58</td>\n",
              "      <td>39</td>\n",
              "      <td>34</td>\n",
              "      <td>4</td>\n",
              "    </tr>\n",
              "    <tr>\n",
              "      <th>105</th>\n",
              "      <td>ST</td>\n",
              "      <td>75.000000</td>\n",
              "      <td>81.000000</td>\n",
              "      <td>80</td>\n",
              "      <td>83.000000</td>\n",
              "      <td>82.000000</td>\n",
              "      <td>83.000000</td>\n",
              "      <td>79.000000</td>\n",
              "      <td>73</td>\n",
              "      <td>62.000000</td>\n",
              "      <td>86</td>\n",
              "      <td>76</td>\n",
              "      <td>76</td>\n",
              "      <td>83.000000</td>\n",
              "      <td>66</td>\n",
              "      <td>81.00000</td>\n",
              "      <td>73.000000</td>\n",
              "      <td>75.000000</td>\n",
              "      <td>80</td>\n",
              "      <td>75.000000</td>\n",
              "      <td>65</td>\n",
              "      <td>22</td>\n",
              "      <td>86.000000</td>\n",
              "      <td>85.000000</td>\n",
              "      <td>82.000000</td>\n",
              "      <td>79.000000</td>\n",
              "      <td>47</td>\n",
              "      <td>15</td>\n",
              "      <td>12</td>\n",
              "      <td>4</td>\n",
              "    </tr>\n",
              "    <tr>\n",
              "      <th>107</th>\n",
              "      <td>CB</td>\n",
              "      <td>61.000000</td>\n",
              "      <td>45.000000</td>\n",
              "      <td>84</td>\n",
              "      <td>73.000000</td>\n",
              "      <td>46.000000</td>\n",
              "      <td>63.000000</td>\n",
              "      <td>61.000000</td>\n",
              "      <td>52</td>\n",
              "      <td>66.000000</td>\n",
              "      <td>70</td>\n",
              "      <td>59</td>\n",
              "      <td>57</td>\n",
              "      <td>87.000000</td>\n",
              "      <td>41</td>\n",
              "      <td>75.00000</td>\n",
              "      <td>72.000000</td>\n",
              "      <td>66.000000</td>\n",
              "      <td>87</td>\n",
              "      <td>55.000000</td>\n",
              "      <td>87</td>\n",
              "      <td>82</td>\n",
              "      <td>41.000000</td>\n",
              "      <td>59.000000</td>\n",
              "      <td>63.000000</td>\n",
              "      <td>81.000000</td>\n",
              "      <td>87</td>\n",
              "      <td>85</td>\n",
              "      <td>84</td>\n",
              "      <td>4</td>\n",
              "    </tr>\n",
              "    <tr>\n",
              "      <th>108</th>\n",
              "      <td>RCB</td>\n",
              "      <td>46.000000</td>\n",
              "      <td>46.000000</td>\n",
              "      <td>80</td>\n",
              "      <td>70.000000</td>\n",
              "      <td>23.000000</td>\n",
              "      <td>58.000000</td>\n",
              "      <td>44.000000</td>\n",
              "      <td>47</td>\n",
              "      <td>61.000000</td>\n",
              "      <td>62</td>\n",
              "      <td>70</td>\n",
              "      <td>63</td>\n",
              "      <td>83.000000</td>\n",
              "      <td>49</td>\n",
              "      <td>63.00000</td>\n",
              "      <td>76.000000</td>\n",
              "      <td>60.000000</td>\n",
              "      <td>86</td>\n",
              "      <td>56.000000</td>\n",
              "      <td>94</td>\n",
              "      <td>85</td>\n",
              "      <td>40.000000</td>\n",
              "      <td>48.000000</td>\n",
              "      <td>57.000000</td>\n",
              "      <td>79.000000</td>\n",
              "      <td>86</td>\n",
              "      <td>85</td>\n",
              "      <td>82</td>\n",
              "      <td>4</td>\n",
              "    </tr>\n",
              "    <tr>\n",
              "      <th>138</th>\n",
              "      <td>RM</td>\n",
              "      <td>83.000000</td>\n",
              "      <td>72.000000</td>\n",
              "      <td>51</td>\n",
              "      <td>82.000000</td>\n",
              "      <td>77.000000</td>\n",
              "      <td>86.000000</td>\n",
              "      <td>84.000000</td>\n",
              "      <td>82</td>\n",
              "      <td>79.000000</td>\n",
              "      <td>85</td>\n",
              "      <td>84</td>\n",
              "      <td>92</td>\n",
              "      <td>80.000000</td>\n",
              "      <td>77</td>\n",
              "      <td>83.00000</td>\n",
              "      <td>72.000000</td>\n",
              "      <td>73.000000</td>\n",
              "      <td>60</td>\n",
              "      <td>77.000000</td>\n",
              "      <td>73</td>\n",
              "      <td>38</td>\n",
              "      <td>82.000000</td>\n",
              "      <td>82.000000</td>\n",
              "      <td>73.000000</td>\n",
              "      <td>82.000000</td>\n",
              "      <td>35</td>\n",
              "      <td>59</td>\n",
              "      <td>56</td>\n",
              "      <td>4</td>\n",
              "    </tr>\n",
              "    <tr>\n",
              "      <th>154</th>\n",
              "      <td>RM</td>\n",
              "      <td>80.000000</td>\n",
              "      <td>85.000000</td>\n",
              "      <td>51</td>\n",
              "      <td>82.000000</td>\n",
              "      <td>86.000000</td>\n",
              "      <td>89.000000</td>\n",
              "      <td>90.000000</td>\n",
              "      <td>81</td>\n",
              "      <td>71.000000</td>\n",
              "      <td>88</td>\n",
              "      <td>76</td>\n",
              "      <td>87</td>\n",
              "      <td>85.000000</td>\n",
              "      <td>90</td>\n",
              "      <td>86.00000</td>\n",
              "      <td>60.000000</td>\n",
              "      <td>64.000000</td>\n",
              "      <td>67</td>\n",
              "      <td>86.000000</td>\n",
              "      <td>47</td>\n",
              "      <td>37</td>\n",
              "      <td>84.000000</td>\n",
              "      <td>80.000000</td>\n",
              "      <td>78.000000</td>\n",
              "      <td>85.000000</td>\n",
              "      <td>30</td>\n",
              "      <td>26</td>\n",
              "      <td>26</td>\n",
              "      <td>4</td>\n",
              "    </tr>\n",
              "    <tr>\n",
              "      <th>206</th>\n",
              "      <td>LS</td>\n",
              "      <td>68.000000</td>\n",
              "      <td>85.000000</td>\n",
              "      <td>67</td>\n",
              "      <td>78.000000</td>\n",
              "      <td>78.000000</td>\n",
              "      <td>81.000000</td>\n",
              "      <td>78.000000</td>\n",
              "      <td>78</td>\n",
              "      <td>66.000000</td>\n",
              "      <td>85</td>\n",
              "      <td>82</td>\n",
              "      <td>71</td>\n",
              "      <td>84.078431</td>\n",
              "      <td>50</td>\n",
              "      <td>89.00000</td>\n",
              "      <td>74.000000</td>\n",
              "      <td>66.000000</td>\n",
              "      <td>86</td>\n",
              "      <td>79.000000</td>\n",
              "      <td>70</td>\n",
              "      <td>30</td>\n",
              "      <td>79.000000</td>\n",
              "      <td>74.000000</td>\n",
              "      <td>92.000000</td>\n",
              "      <td>81.000000</td>\n",
              "      <td>10</td>\n",
              "      <td>22</td>\n",
              "      <td>20</td>\n",
              "      <td>4</td>\n",
              "    </tr>\n",
              "    <tr>\n",
              "      <th>209</th>\n",
              "      <td>LCB</td>\n",
              "      <td>68.000000</td>\n",
              "      <td>55.000000</td>\n",
              "      <td>81</td>\n",
              "      <td>77.000000</td>\n",
              "      <td>63.000000</td>\n",
              "      <td>66.000000</td>\n",
              "      <td>70.000000</td>\n",
              "      <td>76</td>\n",
              "      <td>77.000000</td>\n",
              "      <td>79</td>\n",
              "      <td>62</td>\n",
              "      <td>69</td>\n",
              "      <td>75.000000</td>\n",
              "      <td>56</td>\n",
              "      <td>79.00000</td>\n",
              "      <td>78.000000</td>\n",
              "      <td>66.000000</td>\n",
              "      <td>79</td>\n",
              "      <td>73.000000</td>\n",
              "      <td>85</td>\n",
              "      <td>85</td>\n",
              "      <td>54.000000</td>\n",
              "      <td>69.000000</td>\n",
              "      <td>75.000000</td>\n",
              "      <td>77.000000</td>\n",
              "      <td>79</td>\n",
              "      <td>83</td>\n",
              "      <td>82</td>\n",
              "      <td>4</td>\n",
              "    </tr>\n",
              "    <tr>\n",
              "      <th>219</th>\n",
              "      <td>CM</td>\n",
              "      <td>85.000000</td>\n",
              "      <td>72.000000</td>\n",
              "      <td>74</td>\n",
              "      <td>90.000000</td>\n",
              "      <td>81.000000</td>\n",
              "      <td>79.000000</td>\n",
              "      <td>78.000000</td>\n",
              "      <td>81</td>\n",
              "      <td>89.000000</td>\n",
              "      <td>85</td>\n",
              "      <td>54</td>\n",
              "      <td>62</td>\n",
              "      <td>81.000000</td>\n",
              "      <td>75</td>\n",
              "      <td>77.00000</td>\n",
              "      <td>63.000000</td>\n",
              "      <td>56.000000</td>\n",
              "      <td>61</td>\n",
              "      <td>70.000000</td>\n",
              "      <td>45</td>\n",
              "      <td>50</td>\n",
              "      <td>72.000000</td>\n",
              "      <td>91.000000</td>\n",
              "      <td>78.000000</td>\n",
              "      <td>92.000000</td>\n",
              "      <td>64</td>\n",
              "      <td>59</td>\n",
              "      <td>58</td>\n",
              "      <td>4</td>\n",
              "    </tr>\n",
              "    <tr>\n",
              "      <th>221</th>\n",
              "      <td>LM</td>\n",
              "      <td>80.000000</td>\n",
              "      <td>74.000000</td>\n",
              "      <td>41</td>\n",
              "      <td>83.000000</td>\n",
              "      <td>79.000000</td>\n",
              "      <td>84.000000</td>\n",
              "      <td>83.000000</td>\n",
              "      <td>81</td>\n",
              "      <td>74.000000</td>\n",
              "      <td>87</td>\n",
              "      <td>78</td>\n",
              "      <td>84</td>\n",
              "      <td>83.000000</td>\n",
              "      <td>90</td>\n",
              "      <td>75.00000</td>\n",
              "      <td>70.686275</td>\n",
              "      <td>58.000000</td>\n",
              "      <td>60</td>\n",
              "      <td>71.000000</td>\n",
              "      <td>51</td>\n",
              "      <td>33</td>\n",
              "      <td>77.000000</td>\n",
              "      <td>84.000000</td>\n",
              "      <td>78.000000</td>\n",
              "      <td>85.000000</td>\n",
              "      <td>31</td>\n",
              "      <td>25</td>\n",
              "      <td>26</td>\n",
              "      <td>4</td>\n",
              "    </tr>\n",
              "    <tr>\n",
              "      <th>280</th>\n",
              "      <td>CM</td>\n",
              "      <td>78.000000</td>\n",
              "      <td>75.000000</td>\n",
              "      <td>51</td>\n",
              "      <td>87.000000</td>\n",
              "      <td>86.000000</td>\n",
              "      <td>84.000000</td>\n",
              "      <td>81.000000</td>\n",
              "      <td>72</td>\n",
              "      <td>82.000000</td>\n",
              "      <td>90</td>\n",
              "      <td>64</td>\n",
              "      <td>86</td>\n",
              "      <td>84.000000</td>\n",
              "      <td>85</td>\n",
              "      <td>68.00000</td>\n",
              "      <td>58.000000</td>\n",
              "      <td>73.000000</td>\n",
              "      <td>68</td>\n",
              "      <td>66.000000</td>\n",
              "      <td>58</td>\n",
              "      <td>65</td>\n",
              "      <td>81.000000</td>\n",
              "      <td>86.000000</td>\n",
              "      <td>77.000000</td>\n",
              "      <td>85.000000</td>\n",
              "      <td>63</td>\n",
              "      <td>53</td>\n",
              "      <td>57</td>\n",
              "      <td>4</td>\n",
              "    </tr>\n",
              "    <tr>\n",
              "      <th>314</th>\n",
              "      <td>RB</td>\n",
              "      <td>85.000000</td>\n",
              "      <td>61.000000</td>\n",
              "      <td>72</td>\n",
              "      <td>81.000000</td>\n",
              "      <td>68.000000</td>\n",
              "      <td>84.000000</td>\n",
              "      <td>80.000000</td>\n",
              "      <td>74</td>\n",
              "      <td>79.000000</td>\n",
              "      <td>86</td>\n",
              "      <td>79</td>\n",
              "      <td>84</td>\n",
              "      <td>77.000000</td>\n",
              "      <td>87</td>\n",
              "      <td>86.00000</td>\n",
              "      <td>80.000000</td>\n",
              "      <td>74.000000</td>\n",
              "      <td>55</td>\n",
              "      <td>78.000000</td>\n",
              "      <td>78</td>\n",
              "      <td>79</td>\n",
              "      <td>74.000000</td>\n",
              "      <td>78.000000</td>\n",
              "      <td>70.000000</td>\n",
              "      <td>80.000000</td>\n",
              "      <td>72</td>\n",
              "      <td>79</td>\n",
              "      <td>82</td>\n",
              "      <td>4</td>\n",
              "    </tr>\n",
              "    <tr>\n",
              "      <th>317</th>\n",
              "      <td>GK</td>\n",
              "      <td>67.803922</td>\n",
              "      <td>64.941176</td>\n",
              "      <td>19</td>\n",
              "      <td>76.862745</td>\n",
              "      <td>17.000000</td>\n",
              "      <td>71.666667</td>\n",
              "      <td>69.823529</td>\n",
              "      <td>19</td>\n",
              "      <td>71.901961</td>\n",
              "      <td>22</td>\n",
              "      <td>38</td>\n",
              "      <td>46</td>\n",
              "      <td>77.000000</td>\n",
              "      <td>34</td>\n",
              "      <td>74.27451</td>\n",
              "      <td>50.000000</td>\n",
              "      <td>70.862745</td>\n",
              "      <td>63</td>\n",
              "      <td>67.529412</td>\n",
              "      <td>17</td>\n",
              "      <td>23</td>\n",
              "      <td>68.196078</td>\n",
              "      <td>53.000000</td>\n",
              "      <td>68.666667</td>\n",
              "      <td>82.333333</td>\n",
              "      <td>12</td>\n",
              "      <td>13</td>\n",
              "      <td>12</td>\n",
              "      <td>4</td>\n",
              "    </tr>\n",
              "    <tr>\n",
              "      <th>318</th>\n",
              "      <td>GK</td>\n",
              "      <td>67.803922</td>\n",
              "      <td>64.941176</td>\n",
              "      <td>25</td>\n",
              "      <td>76.862745</td>\n",
              "      <td>14.000000</td>\n",
              "      <td>71.666667</td>\n",
              "      <td>69.823529</td>\n",
              "      <td>13</td>\n",
              "      <td>71.901961</td>\n",
              "      <td>23</td>\n",
              "      <td>57</td>\n",
              "      <td>62</td>\n",
              "      <td>77.000000</td>\n",
              "      <td>46</td>\n",
              "      <td>74.27451</td>\n",
              "      <td>77.000000</td>\n",
              "      <td>43.000000</td>\n",
              "      <td>70</td>\n",
              "      <td>67.529412</td>\n",
              "      <td>23</td>\n",
              "      <td>22</td>\n",
              "      <td>16.000000</td>\n",
              "      <td>65.000000</td>\n",
              "      <td>68.666667</td>\n",
              "      <td>82.333333</td>\n",
              "      <td>24</td>\n",
              "      <td>11</td>\n",
              "      <td>13</td>\n",
              "      <td>4</td>\n",
              "    </tr>\n",
              "    <tr>\n",
              "      <th>378</th>\n",
              "      <td>RCM</td>\n",
              "      <td>76.000000</td>\n",
              "      <td>81.000000</td>\n",
              "      <td>69</td>\n",
              "      <td>78.000000</td>\n",
              "      <td>73.000000</td>\n",
              "      <td>82.000000</td>\n",
              "      <td>78.000000</td>\n",
              "      <td>81</td>\n",
              "      <td>72.000000</td>\n",
              "      <td>79</td>\n",
              "      <td>80</td>\n",
              "      <td>69</td>\n",
              "      <td>82.000000</td>\n",
              "      <td>59</td>\n",
              "      <td>94.00000</td>\n",
              "      <td>69.000000</td>\n",
              "      <td>86.000000</td>\n",
              "      <td>92</td>\n",
              "      <td>90.000000</td>\n",
              "      <td>83</td>\n",
              "      <td>48</td>\n",
              "      <td>82.000000</td>\n",
              "      <td>75.000000</td>\n",
              "      <td>78.000000</td>\n",
              "      <td>75.000000</td>\n",
              "      <td>50</td>\n",
              "      <td>41</td>\n",
              "      <td>28</td>\n",
              "      <td>4</td>\n",
              "    </tr>\n",
              "    <tr>\n",
              "      <th>547</th>\n",
              "      <td>LDM</td>\n",
              "      <td>63.000000</td>\n",
              "      <td>42.000000</td>\n",
              "      <td>66</td>\n",
              "      <td>79.000000</td>\n",
              "      <td>51.000000</td>\n",
              "      <td>58.000000</td>\n",
              "      <td>63.000000</td>\n",
              "      <td>50</td>\n",
              "      <td>75.000000</td>\n",
              "      <td>80</td>\n",
              "      <td>62</td>\n",
              "      <td>72</td>\n",
              "      <td>79.000000</td>\n",
              "      <td>78</td>\n",
              "      <td>76.00000</td>\n",
              "      <td>80.000000</td>\n",
              "      <td>76.000000</td>\n",
              "      <td>72</td>\n",
              "      <td>55.000000</td>\n",
              "      <td>88</td>\n",
              "      <td>85</td>\n",
              "      <td>51.000000</td>\n",
              "      <td>68.000000</td>\n",
              "      <td>60.000000</td>\n",
              "      <td>81.000000</td>\n",
              "      <td>78</td>\n",
              "      <td>81</td>\n",
              "      <td>82</td>\n",
              "      <td>4</td>\n",
              "    </tr>\n",
              "    <tr>\n",
              "      <th>550</th>\n",
              "      <td>LCB</td>\n",
              "      <td>76.000000</td>\n",
              "      <td>69.000000</td>\n",
              "      <td>75</td>\n",
              "      <td>82.000000</td>\n",
              "      <td>79.000000</td>\n",
              "      <td>71.000000</td>\n",
              "      <td>82.000000</td>\n",
              "      <td>74</td>\n",
              "      <td>83.000000</td>\n",
              "      <td>78</td>\n",
              "      <td>37</td>\n",
              "      <td>61</td>\n",
              "      <td>81.000000</td>\n",
              "      <td>63</td>\n",
              "      <td>81.00000</td>\n",
              "      <td>71.000000</td>\n",
              "      <td>67.000000</td>\n",
              "      <td>75</td>\n",
              "      <td>77.000000</td>\n",
              "      <td>77</td>\n",
              "      <td>77</td>\n",
              "      <td>73.000000</td>\n",
              "      <td>81.000000</td>\n",
              "      <td>77.000000</td>\n",
              "      <td>87.000000</td>\n",
              "      <td>76</td>\n",
              "      <td>74</td>\n",
              "      <td>75</td>\n",
              "      <td>4</td>\n",
              "    </tr>\n",
              "    <tr>\n",
              "      <th>552</th>\n",
              "      <td>ST</td>\n",
              "      <td>77.000000</td>\n",
              "      <td>80.000000</td>\n",
              "      <td>75</td>\n",
              "      <td>81.000000</td>\n",
              "      <td>83.000000</td>\n",
              "      <td>74.000000</td>\n",
              "      <td>84.000000</td>\n",
              "      <td>83</td>\n",
              "      <td>82.000000</td>\n",
              "      <td>80</td>\n",
              "      <td>65</td>\n",
              "      <td>66</td>\n",
              "      <td>82.000000</td>\n",
              "      <td>77</td>\n",
              "      <td>85.00000</td>\n",
              "      <td>74.000000</td>\n",
              "      <td>74.000000</td>\n",
              "      <td>78</td>\n",
              "      <td>80.000000</td>\n",
              "      <td>81</td>\n",
              "      <td>56</td>\n",
              "      <td>80.000000</td>\n",
              "      <td>82.000000</td>\n",
              "      <td>81.000000</td>\n",
              "      <td>86.000000</td>\n",
              "      <td>57</td>\n",
              "      <td>55</td>\n",
              "      <td>40</td>\n",
              "      <td>4</td>\n",
              "    </tr>\n",
              "  </tbody>\n",
              "</table>\n",
              "</div>"
            ],
            "text/plain": [
              "    Position   Crossing  ...  SlidingTackle  International Reputation\n",
              "3         GK  67.803922  ...             13                         4\n",
              "4        RCM  93.000000  ...             51                         4\n",
              "5         LF  81.000000  ...             22                         4\n",
              "6        RCM  86.000000  ...             73                         4\n",
              "8        RCB  66.000000  ...             91                         4\n",
              "10        ST  62.000000  ...             19                         4\n",
              "11       LCM  88.000000  ...             69                         4\n",
              "13       LCM  84.000000  ...             29                         4\n",
              "17       CAM  82.000000  ...             48                         4\n",
              "19        GK  67.803922  ...             16                         4\n",
              "20       CDM  62.000000  ...             80                         4\n",
              "21        LS  70.000000  ...             39                         4\n",
              "23        ST  70.000000  ...             12                         4\n",
              "24       LCB  58.000000  ...             90                         4\n",
              "28       LAM  90.000000  ...             44                         4\n",
              "34       LCB  64.000000  ...             88                         4\n",
              "35        LB  90.000000  ...             86                         4\n",
              "36        ST  87.000000  ...             52                         4\n",
              "37        GK  67.803922  ...             18                         4\n",
              "38        LS  68.000000  ...             18                         4\n",
              "39       RCB  60.000000  ...             85                         4\n",
              "41        GK  67.803922  ...             11                         4\n",
              "45       RDM  80.000000  ...             68                         4\n",
              "53       RCM  84.000000  ...             70                         4\n",
              "54       RCB  57.000000  ...             84                         4\n",
              "66       CAM  79.000000  ...             44                         4\n",
              "68        LM  79.000000  ...             45                         4\n",
              "74       CAM  83.000000  ...             19                         4\n",
              "76        LF  77.000000  ...             56                         4\n",
              "85        LB  81.000000  ...             80                         4\n",
              "93        RW  77.000000  ...             35                         4\n",
              "95       RCB  69.000000  ...             87                         4\n",
              "96       CAM  76.000000  ...             86                         4\n",
              "100       LS  65.000000  ...             34                         4\n",
              "105       ST  75.000000  ...             12                         4\n",
              "107       CB  61.000000  ...             84                         4\n",
              "108      RCB  46.000000  ...             82                         4\n",
              "138       RM  83.000000  ...             56                         4\n",
              "154       RM  80.000000  ...             26                         4\n",
              "206       LS  68.000000  ...             20                         4\n",
              "209      LCB  68.000000  ...             82                         4\n",
              "219       CM  85.000000  ...             58                         4\n",
              "221       LM  80.000000  ...             26                         4\n",
              "280       CM  78.000000  ...             57                         4\n",
              "314       RB  85.000000  ...             82                         4\n",
              "317       GK  67.803922  ...             12                         4\n",
              "318       GK  67.803922  ...             13                         4\n",
              "378      RCM  76.000000  ...             28                         4\n",
              "547      LDM  63.000000  ...             82                         4\n",
              "550      LCB  76.000000  ...             75                         4\n",
              "552       ST  77.000000  ...             40                         4\n",
              "\n",
              "[51 rows x 30 columns]"
            ]
          },
          "metadata": {},
          "execution_count": 704
        }
      ]
    },
    {
      "cell_type": "code",
      "metadata": {
        "colab": {
          "base_uri": "https://localhost:8080/",
          "height": 270
        },
        "id": "Q8r4QKdWCmxw",
        "outputId": "53edd556-b379-4119-f671-d879b301e62d"
      },
      "source": [
        "rep_5"
      ],
      "execution_count": 705,
      "outputs": [
        {
          "output_type": "execute_result",
          "data": {
            "text/html": [
              "<div>\n",
              "<style scoped>\n",
              "    .dataframe tbody tr th:only-of-type {\n",
              "        vertical-align: middle;\n",
              "    }\n",
              "\n",
              "    .dataframe tbody tr th {\n",
              "        vertical-align: top;\n",
              "    }\n",
              "\n",
              "    .dataframe thead th {\n",
              "        text-align: right;\n",
              "    }\n",
              "</style>\n",
              "<table border=\"1\" class=\"dataframe\">\n",
              "  <thead>\n",
              "    <tr style=\"text-align: right;\">\n",
              "      <th></th>\n",
              "      <th>Position</th>\n",
              "      <th>Crossing</th>\n",
              "      <th>Finishing</th>\n",
              "      <th>HeadingAccuracy</th>\n",
              "      <th>ShortPassing</th>\n",
              "      <th>Volleys</th>\n",
              "      <th>Dribbling</th>\n",
              "      <th>Curve</th>\n",
              "      <th>FKAccuracy</th>\n",
              "      <th>LongPassing</th>\n",
              "      <th>BallControl</th>\n",
              "      <th>SprintSpeed</th>\n",
              "      <th>Agility</th>\n",
              "      <th>Reactions</th>\n",
              "      <th>Balance</th>\n",
              "      <th>ShotPower</th>\n",
              "      <th>Jumping</th>\n",
              "      <th>Stamina</th>\n",
              "      <th>Strength</th>\n",
              "      <th>LongShots</th>\n",
              "      <th>Aggression</th>\n",
              "      <th>Interceptions</th>\n",
              "      <th>Positioning</th>\n",
              "      <th>Vision</th>\n",
              "      <th>Penalties</th>\n",
              "      <th>Composure</th>\n",
              "      <th>Marking</th>\n",
              "      <th>StandingTackle</th>\n",
              "      <th>SlidingTackle</th>\n",
              "      <th>International Reputation</th>\n",
              "    </tr>\n",
              "  </thead>\n",
              "  <tbody>\n",
              "    <tr>\n",
              "      <th>0</th>\n",
              "      <td>RF</td>\n",
              "      <td>84.000000</td>\n",
              "      <td>95.0</td>\n",
              "      <td>70.000000</td>\n",
              "      <td>82.416667</td>\n",
              "      <td>86.000000</td>\n",
              "      <td>97.0</td>\n",
              "      <td>93</td>\n",
              "      <td>94.000000</td>\n",
              "      <td>87</td>\n",
              "      <td>96.0</td>\n",
              "      <td>86</td>\n",
              "      <td>91.000000</td>\n",
              "      <td>95</td>\n",
              "      <td>95</td>\n",
              "      <td>85.000000</td>\n",
              "      <td>68</td>\n",
              "      <td>72</td>\n",
              "      <td>59</td>\n",
              "      <td>94.000000</td>\n",
              "      <td>48</td>\n",
              "      <td>22</td>\n",
              "      <td>94.000000</td>\n",
              "      <td>94</td>\n",
              "      <td>75</td>\n",
              "      <td>96.000000</td>\n",
              "      <td>33.000000</td>\n",
              "      <td>28</td>\n",
              "      <td>26.0</td>\n",
              "      <td>5</td>\n",
              "    </tr>\n",
              "    <tr>\n",
              "      <th>1</th>\n",
              "      <td>ST</td>\n",
              "      <td>84.000000</td>\n",
              "      <td>94.0</td>\n",
              "      <td>89.000000</td>\n",
              "      <td>81.000000</td>\n",
              "      <td>87.000000</td>\n",
              "      <td>88.0</td>\n",
              "      <td>81</td>\n",
              "      <td>76.000000</td>\n",
              "      <td>77</td>\n",
              "      <td>94.0</td>\n",
              "      <td>91</td>\n",
              "      <td>87.000000</td>\n",
              "      <td>96</td>\n",
              "      <td>70</td>\n",
              "      <td>95.000000</td>\n",
              "      <td>73</td>\n",
              "      <td>88</td>\n",
              "      <td>79</td>\n",
              "      <td>93.000000</td>\n",
              "      <td>63</td>\n",
              "      <td>29</td>\n",
              "      <td>95.000000</td>\n",
              "      <td>82</td>\n",
              "      <td>85</td>\n",
              "      <td>95.000000</td>\n",
              "      <td>28.000000</td>\n",
              "      <td>31</td>\n",
              "      <td>23.0</td>\n",
              "      <td>5</td>\n",
              "    </tr>\n",
              "    <tr>\n",
              "      <th>2</th>\n",
              "      <td>LW</td>\n",
              "      <td>79.000000</td>\n",
              "      <td>87.0</td>\n",
              "      <td>62.000000</td>\n",
              "      <td>84.000000</td>\n",
              "      <td>84.000000</td>\n",
              "      <td>96.0</td>\n",
              "      <td>88</td>\n",
              "      <td>87.000000</td>\n",
              "      <td>78</td>\n",
              "      <td>95.0</td>\n",
              "      <td>90</td>\n",
              "      <td>96.000000</td>\n",
              "      <td>94</td>\n",
              "      <td>84</td>\n",
              "      <td>80.000000</td>\n",
              "      <td>61</td>\n",
              "      <td>81</td>\n",
              "      <td>49</td>\n",
              "      <td>82.000000</td>\n",
              "      <td>56</td>\n",
              "      <td>36</td>\n",
              "      <td>89.000000</td>\n",
              "      <td>87</td>\n",
              "      <td>81</td>\n",
              "      <td>94.000000</td>\n",
              "      <td>27.000000</td>\n",
              "      <td>24</td>\n",
              "      <td>33.0</td>\n",
              "      <td>5</td>\n",
              "    </tr>\n",
              "    <tr>\n",
              "      <th>7</th>\n",
              "      <td>RS</td>\n",
              "      <td>77.000000</td>\n",
              "      <td>93.0</td>\n",
              "      <td>77.000000</td>\n",
              "      <td>82.000000</td>\n",
              "      <td>88.000000</td>\n",
              "      <td>87.0</td>\n",
              "      <td>86</td>\n",
              "      <td>84.000000</td>\n",
              "      <td>64</td>\n",
              "      <td>90.0</td>\n",
              "      <td>75</td>\n",
              "      <td>82.000000</td>\n",
              "      <td>92</td>\n",
              "      <td>83</td>\n",
              "      <td>86.000000</td>\n",
              "      <td>69</td>\n",
              "      <td>90</td>\n",
              "      <td>83</td>\n",
              "      <td>85.000000</td>\n",
              "      <td>87</td>\n",
              "      <td>41</td>\n",
              "      <td>92.000000</td>\n",
              "      <td>84</td>\n",
              "      <td>85</td>\n",
              "      <td>85.000000</td>\n",
              "      <td>35.083333</td>\n",
              "      <td>45</td>\n",
              "      <td>38.0</td>\n",
              "      <td>5</td>\n",
              "    </tr>\n",
              "    <tr>\n",
              "      <th>22</th>\n",
              "      <td>GK</td>\n",
              "      <td>68.666667</td>\n",
              "      <td>78.0</td>\n",
              "      <td>67.666667</td>\n",
              "      <td>78.500000</td>\n",
              "      <td>73.666667</td>\n",
              "      <td>79.5</td>\n",
              "      <td>74</td>\n",
              "      <td>72.333333</td>\n",
              "      <td>59</td>\n",
              "      <td>84.5</td>\n",
              "      <td>60</td>\n",
              "      <td>80.333333</td>\n",
              "      <td>84</td>\n",
              "      <td>35</td>\n",
              "      <td>76.833333</td>\n",
              "      <td>77</td>\n",
              "      <td>43</td>\n",
              "      <td>80</td>\n",
              "      <td>75.333333</td>\n",
              "      <td>29</td>\n",
              "      <td>30</td>\n",
              "      <td>77.833333</td>\n",
              "      <td>70</td>\n",
              "      <td>77</td>\n",
              "      <td>88.333333</td>\n",
              "      <td>32.500000</td>\n",
              "      <td>10</td>\n",
              "      <td>11.0</td>\n",
              "      <td>5</td>\n",
              "    </tr>\n",
              "    <tr>\n",
              "      <th>109</th>\n",
              "      <td>RS</td>\n",
              "      <td>73.000000</td>\n",
              "      <td>86.0</td>\n",
              "      <td>83.000000</td>\n",
              "      <td>79.000000</td>\n",
              "      <td>86.000000</td>\n",
              "      <td>79.0</td>\n",
              "      <td>82</td>\n",
              "      <td>82.000000</td>\n",
              "      <td>73</td>\n",
              "      <td>84.0</td>\n",
              "      <td>59</td>\n",
              "      <td>75.000000</td>\n",
              "      <td>82</td>\n",
              "      <td>39</td>\n",
              "      <td>90.000000</td>\n",
              "      <td>68</td>\n",
              "      <td>61</td>\n",
              "      <td>86</td>\n",
              "      <td>82.000000</td>\n",
              "      <td>84</td>\n",
              "      <td>20</td>\n",
              "      <td>85.000000</td>\n",
              "      <td>79</td>\n",
              "      <td>89</td>\n",
              "      <td>90.000000</td>\n",
              "      <td>28.000000</td>\n",
              "      <td>37</td>\n",
              "      <td>24.0</td>\n",
              "      <td>5</td>\n",
              "    </tr>\n",
              "  </tbody>\n",
              "</table>\n",
              "</div>"
            ],
            "text/plain": [
              "    Position   Crossing  ...  SlidingTackle  International Reputation\n",
              "0         RF  84.000000  ...           26.0                         5\n",
              "1         ST  84.000000  ...           23.0                         5\n",
              "2         LW  79.000000  ...           33.0                         5\n",
              "7         RS  77.000000  ...           38.0                         5\n",
              "22        GK  68.666667  ...           11.0                         5\n",
              "109       RS  73.000000  ...           24.0                         5\n",
              "\n",
              "[6 rows x 30 columns]"
            ]
          },
          "metadata": {},
          "execution_count": 705
        }
      ]
    },
    {
      "cell_type": "code",
      "metadata": {
        "colab": {
          "base_uri": "https://localhost:8080/"
        },
        "id": "2KK7A9tVCnvz",
        "outputId": "a35b4f41-8f8f-45a6-9400-5a3c7758537b"
      },
      "source": [
        "print(rep_1['Crossing'].count())\n",
        "print(rep_2['Crossing'].count())\n",
        "print(rep_3['Crossing'].count())\n",
        "print(rep_4['Crossing'].count())\n",
        "print(rep_5['Crossing'].count())"
      ],
      "execution_count": 709,
      "outputs": [
        {
          "output_type": "stream",
          "name": "stdout",
          "text": [
            "16520\n",
            "1261\n",
            "309\n",
            "51\n",
            "6\n"
          ]
        }
      ]
    },
    {
      "cell_type": "code",
      "metadata": {
        "id": "d6QpSlWNCp7v"
      },
      "source": [
        "a=rep_1.append(rep_2)"
      ],
      "execution_count": 711,
      "outputs": []
    },
    {
      "cell_type": "code",
      "metadata": {
        "id": "TPDqMjUXDGAU"
      },
      "source": [
        "b=a.append(rep_3)"
      ],
      "execution_count": 712,
      "outputs": []
    },
    {
      "cell_type": "code",
      "metadata": {
        "id": "IjvGOdlEDOg5"
      },
      "source": [
        "c=b.append(rep_4)"
      ],
      "execution_count": 713,
      "outputs": []
    },
    {
      "cell_type": "code",
      "metadata": {
        "id": "cj0rxd3dDRjr"
      },
      "source": [
        "result=c.append(rep_5)"
      ],
      "execution_count": 714,
      "outputs": []
    },
    {
      "cell_type": "code",
      "metadata": {
        "colab": {
          "base_uri": "https://localhost:8080/",
          "height": 454
        },
        "id": "ih7IAIJTDW2P",
        "outputId": "bfdeddac-a954-4de4-e4ec-cbd41ed046dd"
      },
      "source": [
        "result"
      ],
      "execution_count": 715,
      "outputs": [
        {
          "output_type": "execute_result",
          "data": {
            "text/html": [
              "<div>\n",
              "<style scoped>\n",
              "    .dataframe tbody tr th:only-of-type {\n",
              "        vertical-align: middle;\n",
              "    }\n",
              "\n",
              "    .dataframe tbody tr th {\n",
              "        vertical-align: top;\n",
              "    }\n",
              "\n",
              "    .dataframe thead th {\n",
              "        text-align: right;\n",
              "    }\n",
              "</style>\n",
              "<table border=\"1\" class=\"dataframe\">\n",
              "  <thead>\n",
              "    <tr style=\"text-align: right;\">\n",
              "      <th></th>\n",
              "      <th>Position</th>\n",
              "      <th>Crossing</th>\n",
              "      <th>Finishing</th>\n",
              "      <th>HeadingAccuracy</th>\n",
              "      <th>ShortPassing</th>\n",
              "      <th>Volleys</th>\n",
              "      <th>Dribbling</th>\n",
              "      <th>Curve</th>\n",
              "      <th>FKAccuracy</th>\n",
              "      <th>LongPassing</th>\n",
              "      <th>BallControl</th>\n",
              "      <th>SprintSpeed</th>\n",
              "      <th>Agility</th>\n",
              "      <th>Reactions</th>\n",
              "      <th>Balance</th>\n",
              "      <th>ShotPower</th>\n",
              "      <th>Jumping</th>\n",
              "      <th>Stamina</th>\n",
              "      <th>Strength</th>\n",
              "      <th>LongShots</th>\n",
              "      <th>Aggression</th>\n",
              "      <th>Interceptions</th>\n",
              "      <th>Positioning</th>\n",
              "      <th>Vision</th>\n",
              "      <th>Penalties</th>\n",
              "      <th>Composure</th>\n",
              "      <th>Marking</th>\n",
              "      <th>StandingTackle</th>\n",
              "      <th>SlidingTackle</th>\n",
              "      <th>International Reputation</th>\n",
              "    </tr>\n",
              "  </thead>\n",
              "  <tbody>\n",
              "    <tr>\n",
              "      <th>77</th>\n",
              "      <td>LCB</td>\n",
              "      <td>40.000000</td>\n",
              "      <td>42.0</td>\n",
              "      <td>80.000000</td>\n",
              "      <td>70.0</td>\n",
              "      <td>40.000000</td>\n",
              "      <td>59.0</td>\n",
              "      <td>34.0</td>\n",
              "      <td>30.000000</td>\n",
              "      <td>68.0</td>\n",
              "      <td>67.0</td>\n",
              "      <td>73.0</td>\n",
              "      <td>48.000000</td>\n",
              "      <td>81.000000</td>\n",
              "      <td>48.0</td>\n",
              "      <td>50.000000</td>\n",
              "      <td>78.0</td>\n",
              "      <td>77.0</td>\n",
              "      <td>83.0</td>\n",
              "      <td>30.000000</td>\n",
              "      <td>86.0</td>\n",
              "      <td>86</td>\n",
              "      <td>30.000000</td>\n",
              "      <td>57.0</td>\n",
              "      <td>56.0</td>\n",
              "      <td>80.000000</td>\n",
              "      <td>92.000000</td>\n",
              "      <td>88</td>\n",
              "      <td>82.0</td>\n",
              "      <td>1</td>\n",
              "    </tr>\n",
              "    <tr>\n",
              "      <th>157</th>\n",
              "      <td>RW</td>\n",
              "      <td>83.000000</td>\n",
              "      <td>74.0</td>\n",
              "      <td>64.000000</td>\n",
              "      <td>83.0</td>\n",
              "      <td>76.000000</td>\n",
              "      <td>85.0</td>\n",
              "      <td>86.0</td>\n",
              "      <td>78.000000</td>\n",
              "      <td>82.0</td>\n",
              "      <td>83.0</td>\n",
              "      <td>87.0</td>\n",
              "      <td>85.000000</td>\n",
              "      <td>60.778818</td>\n",
              "      <td>76.0</td>\n",
              "      <td>56.700621</td>\n",
              "      <td>64.0</td>\n",
              "      <td>86.0</td>\n",
              "      <td>70.0</td>\n",
              "      <td>78.000000</td>\n",
              "      <td>62.0</td>\n",
              "      <td>40</td>\n",
              "      <td>82.000000</td>\n",
              "      <td>83.0</td>\n",
              "      <td>77.0</td>\n",
              "      <td>81.000000</td>\n",
              "      <td>24.000000</td>\n",
              "      <td>35</td>\n",
              "      <td>33.0</td>\n",
              "      <td>1</td>\n",
              "    </tr>\n",
              "    <tr>\n",
              "      <th>158</th>\n",
              "      <td>LCB</td>\n",
              "      <td>40.000000</td>\n",
              "      <td>38.0</td>\n",
              "      <td>83.000000</td>\n",
              "      <td>74.0</td>\n",
              "      <td>44.000000</td>\n",
              "      <td>56.0</td>\n",
              "      <td>45.0</td>\n",
              "      <td>49.000000</td>\n",
              "      <td>61.0</td>\n",
              "      <td>70.0</td>\n",
              "      <td>78.0</td>\n",
              "      <td>77.000000</td>\n",
              "      <td>60.778818</td>\n",
              "      <td>68.0</td>\n",
              "      <td>53.000000</td>\n",
              "      <td>69.0</td>\n",
              "      <td>76.0</td>\n",
              "      <td>73.0</td>\n",
              "      <td>41.000000</td>\n",
              "      <td>88.0</td>\n",
              "      <td>84</td>\n",
              "      <td>38.000000</td>\n",
              "      <td>42.0</td>\n",
              "      <td>56.0</td>\n",
              "      <td>71.000000</td>\n",
              "      <td>85.000000</td>\n",
              "      <td>87</td>\n",
              "      <td>82.0</td>\n",
              "      <td>1</td>\n",
              "    </tr>\n",
              "    <tr>\n",
              "      <th>159</th>\n",
              "      <td>ST</td>\n",
              "      <td>56.000000</td>\n",
              "      <td>85.0</td>\n",
              "      <td>83.000000</td>\n",
              "      <td>73.0</td>\n",
              "      <td>82.000000</td>\n",
              "      <td>75.0</td>\n",
              "      <td>59.0</td>\n",
              "      <td>67.000000</td>\n",
              "      <td>47.0</td>\n",
              "      <td>74.0</td>\n",
              "      <td>83.0</td>\n",
              "      <td>55.000000</td>\n",
              "      <td>60.778818</td>\n",
              "      <td>55.0</td>\n",
              "      <td>56.700621</td>\n",
              "      <td>84.0</td>\n",
              "      <td>56.0</td>\n",
              "      <td>87.0</td>\n",
              "      <td>82.000000</td>\n",
              "      <td>65.0</td>\n",
              "      <td>32</td>\n",
              "      <td>83.000000</td>\n",
              "      <td>58.0</td>\n",
              "      <td>77.0</td>\n",
              "      <td>79.000000</td>\n",
              "      <td>26.000000</td>\n",
              "      <td>27</td>\n",
              "      <td>24.0</td>\n",
              "      <td>1</td>\n",
              "    </tr>\n",
              "    <tr>\n",
              "      <th>174</th>\n",
              "      <td>LS</td>\n",
              "      <td>61.000000</td>\n",
              "      <td>83.0</td>\n",
              "      <td>80.000000</td>\n",
              "      <td>78.0</td>\n",
              "      <td>79.000000</td>\n",
              "      <td>78.0</td>\n",
              "      <td>71.0</td>\n",
              "      <td>56.000000</td>\n",
              "      <td>56.0</td>\n",
              "      <td>81.0</td>\n",
              "      <td>80.0</td>\n",
              "      <td>70.000000</td>\n",
              "      <td>82.000000</td>\n",
              "      <td>69.0</td>\n",
              "      <td>56.700621</td>\n",
              "      <td>72.0</td>\n",
              "      <td>72.0</td>\n",
              "      <td>74.0</td>\n",
              "      <td>77.000000</td>\n",
              "      <td>55.0</td>\n",
              "      <td>40</td>\n",
              "      <td>83.000000</td>\n",
              "      <td>58.0</td>\n",
              "      <td>73.0</td>\n",
              "      <td>72.000000</td>\n",
              "      <td>43.000000</td>\n",
              "      <td>41</td>\n",
              "      <td>41.0</td>\n",
              "      <td>1</td>\n",
              "    </tr>\n",
              "    <tr>\n",
              "      <th>...</th>\n",
              "      <td>...</td>\n",
              "      <td>...</td>\n",
              "      <td>...</td>\n",
              "      <td>...</td>\n",
              "      <td>...</td>\n",
              "      <td>...</td>\n",
              "      <td>...</td>\n",
              "      <td>...</td>\n",
              "      <td>...</td>\n",
              "      <td>...</td>\n",
              "      <td>...</td>\n",
              "      <td>...</td>\n",
              "      <td>...</td>\n",
              "      <td>...</td>\n",
              "      <td>...</td>\n",
              "      <td>...</td>\n",
              "      <td>...</td>\n",
              "      <td>...</td>\n",
              "      <td>...</td>\n",
              "      <td>...</td>\n",
              "      <td>...</td>\n",
              "      <td>...</td>\n",
              "      <td>...</td>\n",
              "      <td>...</td>\n",
              "      <td>...</td>\n",
              "      <td>...</td>\n",
              "      <td>...</td>\n",
              "      <td>...</td>\n",
              "      <td>...</td>\n",
              "      <td>...</td>\n",
              "    </tr>\n",
              "    <tr>\n",
              "      <th>1</th>\n",
              "      <td>ST</td>\n",
              "      <td>84.000000</td>\n",
              "      <td>94.0</td>\n",
              "      <td>89.000000</td>\n",
              "      <td>81.0</td>\n",
              "      <td>87.000000</td>\n",
              "      <td>88.0</td>\n",
              "      <td>81.0</td>\n",
              "      <td>76.000000</td>\n",
              "      <td>77.0</td>\n",
              "      <td>94.0</td>\n",
              "      <td>91.0</td>\n",
              "      <td>87.000000</td>\n",
              "      <td>96.000000</td>\n",
              "      <td>70.0</td>\n",
              "      <td>95.000000</td>\n",
              "      <td>73.0</td>\n",
              "      <td>88.0</td>\n",
              "      <td>79.0</td>\n",
              "      <td>93.000000</td>\n",
              "      <td>63.0</td>\n",
              "      <td>29</td>\n",
              "      <td>95.000000</td>\n",
              "      <td>82.0</td>\n",
              "      <td>85.0</td>\n",
              "      <td>95.000000</td>\n",
              "      <td>28.000000</td>\n",
              "      <td>31</td>\n",
              "      <td>23.0</td>\n",
              "      <td>5</td>\n",
              "    </tr>\n",
              "    <tr>\n",
              "      <th>2</th>\n",
              "      <td>LW</td>\n",
              "      <td>79.000000</td>\n",
              "      <td>87.0</td>\n",
              "      <td>62.000000</td>\n",
              "      <td>84.0</td>\n",
              "      <td>84.000000</td>\n",
              "      <td>96.0</td>\n",
              "      <td>88.0</td>\n",
              "      <td>87.000000</td>\n",
              "      <td>78.0</td>\n",
              "      <td>95.0</td>\n",
              "      <td>90.0</td>\n",
              "      <td>96.000000</td>\n",
              "      <td>94.000000</td>\n",
              "      <td>84.0</td>\n",
              "      <td>80.000000</td>\n",
              "      <td>61.0</td>\n",
              "      <td>81.0</td>\n",
              "      <td>49.0</td>\n",
              "      <td>82.000000</td>\n",
              "      <td>56.0</td>\n",
              "      <td>36</td>\n",
              "      <td>89.000000</td>\n",
              "      <td>87.0</td>\n",
              "      <td>81.0</td>\n",
              "      <td>94.000000</td>\n",
              "      <td>27.000000</td>\n",
              "      <td>24</td>\n",
              "      <td>33.0</td>\n",
              "      <td>5</td>\n",
              "    </tr>\n",
              "    <tr>\n",
              "      <th>7</th>\n",
              "      <td>RS</td>\n",
              "      <td>77.000000</td>\n",
              "      <td>93.0</td>\n",
              "      <td>77.000000</td>\n",
              "      <td>82.0</td>\n",
              "      <td>88.000000</td>\n",
              "      <td>87.0</td>\n",
              "      <td>86.0</td>\n",
              "      <td>84.000000</td>\n",
              "      <td>64.0</td>\n",
              "      <td>90.0</td>\n",
              "      <td>75.0</td>\n",
              "      <td>82.000000</td>\n",
              "      <td>92.000000</td>\n",
              "      <td>83.0</td>\n",
              "      <td>86.000000</td>\n",
              "      <td>69.0</td>\n",
              "      <td>90.0</td>\n",
              "      <td>83.0</td>\n",
              "      <td>85.000000</td>\n",
              "      <td>87.0</td>\n",
              "      <td>41</td>\n",
              "      <td>92.000000</td>\n",
              "      <td>84.0</td>\n",
              "      <td>85.0</td>\n",
              "      <td>85.000000</td>\n",
              "      <td>35.083333</td>\n",
              "      <td>45</td>\n",
              "      <td>38.0</td>\n",
              "      <td>5</td>\n",
              "    </tr>\n",
              "    <tr>\n",
              "      <th>22</th>\n",
              "      <td>GK</td>\n",
              "      <td>68.666667</td>\n",
              "      <td>78.0</td>\n",
              "      <td>67.666667</td>\n",
              "      <td>78.5</td>\n",
              "      <td>73.666667</td>\n",
              "      <td>79.5</td>\n",
              "      <td>74.0</td>\n",
              "      <td>72.333333</td>\n",
              "      <td>59.0</td>\n",
              "      <td>84.5</td>\n",
              "      <td>60.0</td>\n",
              "      <td>80.333333</td>\n",
              "      <td>84.000000</td>\n",
              "      <td>35.0</td>\n",
              "      <td>76.833333</td>\n",
              "      <td>77.0</td>\n",
              "      <td>43.0</td>\n",
              "      <td>80.0</td>\n",
              "      <td>75.333333</td>\n",
              "      <td>29.0</td>\n",
              "      <td>30</td>\n",
              "      <td>77.833333</td>\n",
              "      <td>70.0</td>\n",
              "      <td>77.0</td>\n",
              "      <td>88.333333</td>\n",
              "      <td>32.500000</td>\n",
              "      <td>10</td>\n",
              "      <td>11.0</td>\n",
              "      <td>5</td>\n",
              "    </tr>\n",
              "    <tr>\n",
              "      <th>109</th>\n",
              "      <td>RS</td>\n",
              "      <td>73.000000</td>\n",
              "      <td>86.0</td>\n",
              "      <td>83.000000</td>\n",
              "      <td>79.0</td>\n",
              "      <td>86.000000</td>\n",
              "      <td>79.0</td>\n",
              "      <td>82.0</td>\n",
              "      <td>82.000000</td>\n",
              "      <td>73.0</td>\n",
              "      <td>84.0</td>\n",
              "      <td>59.0</td>\n",
              "      <td>75.000000</td>\n",
              "      <td>82.000000</td>\n",
              "      <td>39.0</td>\n",
              "      <td>90.000000</td>\n",
              "      <td>68.0</td>\n",
              "      <td>61.0</td>\n",
              "      <td>86.0</td>\n",
              "      <td>82.000000</td>\n",
              "      <td>84.0</td>\n",
              "      <td>20</td>\n",
              "      <td>85.000000</td>\n",
              "      <td>79.0</td>\n",
              "      <td>89.0</td>\n",
              "      <td>90.000000</td>\n",
              "      <td>28.000000</td>\n",
              "      <td>37</td>\n",
              "      <td>24.0</td>\n",
              "      <td>5</td>\n",
              "    </tr>\n",
              "  </tbody>\n",
              "</table>\n",
              "<p>18147 rows × 30 columns</p>\n",
              "</div>"
            ],
            "text/plain": [
              "    Position   Crossing  ...  SlidingTackle  International Reputation\n",
              "77       LCB  40.000000  ...           82.0                         1\n",
              "157       RW  83.000000  ...           33.0                         1\n",
              "158      LCB  40.000000  ...           82.0                         1\n",
              "159       ST  56.000000  ...           24.0                         1\n",
              "174       LS  61.000000  ...           41.0                         1\n",
              "..       ...        ...  ...            ...                       ...\n",
              "1         ST  84.000000  ...           23.0                         5\n",
              "2         LW  79.000000  ...           33.0                         5\n",
              "7         RS  77.000000  ...           38.0                         5\n",
              "22        GK  68.666667  ...           11.0                         5\n",
              "109       RS  73.000000  ...           24.0                         5\n",
              "\n",
              "[18147 rows x 30 columns]"
            ]
          },
          "metadata": {},
          "execution_count": 715
        }
      ]
    },
    {
      "cell_type": "code",
      "metadata": {
        "colab": {
          "base_uri": "https://localhost:8080/"
        },
        "id": "bd2LFvD_DYBK",
        "outputId": "120a038d-e278-4abe-b753-2deff667d063"
      },
      "source": [
        "16520+1261+309+51+6"
      ],
      "execution_count": 716,
      "outputs": [
        {
          "output_type": "execute_result",
          "data": {
            "text/plain": [
              "18147"
            ]
          },
          "metadata": {},
          "execution_count": 716
        }
      ]
    },
    {
      "cell_type": "code",
      "metadata": {
        "id": "ywMEuUF0DdWx"
      },
      "source": [
        "result.to_excel('ML Final football.xlsx')"
      ],
      "execution_count": 717,
      "outputs": []
    },
    {
      "cell_type": "code",
      "metadata": {
        "id": "5pkGGQ6sDwlE"
      },
      "source": [
        ""
      ],
      "execution_count": null,
      "outputs": []
    }
  ]
}