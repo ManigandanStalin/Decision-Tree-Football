{
  "nbformat": 4,
  "nbformat_minor": 0,
  "metadata": {
    "colab": {
      "name": "ML project Mini .ipynb",
      "provenance": [],
      "authorship_tag": "ABX9TyO0c5QAXsK9LneimUEcq6kp",
      "include_colab_link": true
    },
    "kernelspec": {
      "display_name": "Python 3",
      "name": "python3"
    },
    "language_info": {
      "name": "python"
    }
  },
  "cells": [
    {
      "cell_type": "markdown",
      "metadata": {
        "id": "view-in-github",
        "colab_type": "text"
      },
      "source": [
        "<a href=\"https://colab.research.google.com/github/ManigandanStalin/Decision-Tree-Football/blob/branch1/ML_project_Mini_.ipynb\" target=\"_parent\"><img src=\"https://colab.research.google.com/assets/colab-badge.svg\" alt=\"Open In Colab\"/></a>"
      ]
    },
    {
      "cell_type": "code",
      "metadata": {
        "id": "zr-5_6w392ks"
      },
      "source": [
        "# import libraries\n",
        "import numpy as np\n",
        "import pandas as pd \n",
        "import matplotlib.pyplot as plt\n",
        "from google.colab import files\n"
      ],
      "execution_count": 1,
      "outputs": []
    },
    {
      "cell_type": "code",
      "metadata": {
        "colab": {
          "resources": {
            "http://localhost:8080/nbextensions/google.colab/files.js": {
              "data": "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",
              "ok": true,
              "headers": [
                [
                  "content-type",
                  "application/javascript"
                ]
              ],
              "status": 200,
              "status_text": ""
            }
          },
          "base_uri": "https://localhost:8080/",
          "height": 90
        },
        "id": "GT3--2tX-Cme",
        "outputId": "5b5b9158-732c-4b58-83ae-8f8d54bd214c"
      },
      "source": [
        "uploaded=files.upload()"
      ],
      "execution_count": 2,
      "outputs": [
        {
          "output_type": "display_data",
          "data": {
            "text/html": [
              "\n",
              "     <input type=\"file\" id=\"files-2e15ce8f-dc6d-4cdf-8eb2-814b5b11d961\" name=\"files[]\" multiple disabled\n",
              "        style=\"border:none\" />\n",
              "     <output id=\"result-2e15ce8f-dc6d-4cdf-8eb2-814b5b11d961\">\n",
              "      Upload widget is only available when the cell has been executed in the\n",
              "      current browser session. Please rerun this cell to enable.\n",
              "      </output>\n",
              "      <script src=\"/nbextensions/google.colab/files.js\"></script> "
            ],
            "text/plain": [
              "<IPython.core.display.HTML object>"
            ]
          },
          "metadata": {}
        },
        {
          "output_type": "stream",
          "name": "stdout",
          "text": [
            "Saving ML Final football.xlsx to ML Final football.xlsx\n"
          ]
        }
      ]
    },
    {
      "cell_type": "code",
      "metadata": {
        "id": "nmDV7VFB-Gg_"
      },
      "source": [
        "# read file using pandas\n",
        "df=pd.read_excel('ML Final football.xlsx') "
      ],
      "execution_count": 3,
      "outputs": []
    },
    {
      "cell_type": "code",
      "metadata": {
        "colab": {
          "base_uri": "https://localhost:8080/",
          "height": 240
        },
        "id": "zefytCCP-Xo2",
        "outputId": "3cb4caf5-f669-4b51-c53b-418682b021da"
      },
      "source": [
        "# View first 5 data points\n",
        "df.head()"
      ],
      "execution_count": 4,
      "outputs": [
        {
          "output_type": "execute_result",
          "data": {
            "text/html": [
              "<div>\n",
              "<style scoped>\n",
              "    .dataframe tbody tr th:only-of-type {\n",
              "        vertical-align: middle;\n",
              "    }\n",
              "\n",
              "    .dataframe tbody tr th {\n",
              "        vertical-align: top;\n",
              "    }\n",
              "\n",
              "    .dataframe thead th {\n",
              "        text-align: right;\n",
              "    }\n",
              "</style>\n",
              "<table border=\"1\" class=\"dataframe\">\n",
              "  <thead>\n",
              "    <tr style=\"text-align: right;\">\n",
              "      <th></th>\n",
              "      <th>Position</th>\n",
              "      <th>Crossing</th>\n",
              "      <th>Finishing</th>\n",
              "      <th>HeadingAccuracy</th>\n",
              "      <th>ShortPassing</th>\n",
              "      <th>Volleys</th>\n",
              "      <th>Dribbling</th>\n",
              "      <th>Curve</th>\n",
              "      <th>FKAccuracy</th>\n",
              "      <th>LongPassing</th>\n",
              "      <th>BallControl</th>\n",
              "      <th>SprintSpeed</th>\n",
              "      <th>Agility</th>\n",
              "      <th>Reactions</th>\n",
              "      <th>Balance</th>\n",
              "      <th>ShotPower</th>\n",
              "      <th>Jumping</th>\n",
              "      <th>Stamina</th>\n",
              "      <th>Strength</th>\n",
              "      <th>LongShots</th>\n",
              "      <th>Aggression</th>\n",
              "      <th>Interceptions</th>\n",
              "      <th>Positioning</th>\n",
              "      <th>Vision</th>\n",
              "      <th>Penalties</th>\n",
              "      <th>Composure</th>\n",
              "      <th>Marking</th>\n",
              "      <th>StandingTackle</th>\n",
              "      <th>SlidingTackle</th>\n",
              "      <th>International Reputation</th>\n",
              "    </tr>\n",
              "  </thead>\n",
              "  <tbody>\n",
              "    <tr>\n",
              "      <th>0</th>\n",
              "      <td>LCB</td>\n",
              "      <td>40.0</td>\n",
              "      <td>42.0</td>\n",
              "      <td>80.0</td>\n",
              "      <td>70.0</td>\n",
              "      <td>40.0</td>\n",
              "      <td>59.0</td>\n",
              "      <td>34.0</td>\n",
              "      <td>30.0</td>\n",
              "      <td>68.0</td>\n",
              "      <td>67.0</td>\n",
              "      <td>73.0</td>\n",
              "      <td>48.0</td>\n",
              "      <td>81.000000</td>\n",
              "      <td>48.0</td>\n",
              "      <td>50.000000</td>\n",
              "      <td>78.0</td>\n",
              "      <td>77.0</td>\n",
              "      <td>83.0</td>\n",
              "      <td>30.0</td>\n",
              "      <td>86.0</td>\n",
              "      <td>86</td>\n",
              "      <td>30.0</td>\n",
              "      <td>57.0</td>\n",
              "      <td>56.0</td>\n",
              "      <td>80.0</td>\n",
              "      <td>92.0</td>\n",
              "      <td>88</td>\n",
              "      <td>82</td>\n",
              "      <td>1</td>\n",
              "    </tr>\n",
              "    <tr>\n",
              "      <th>1</th>\n",
              "      <td>RW</td>\n",
              "      <td>83.0</td>\n",
              "      <td>74.0</td>\n",
              "      <td>64.0</td>\n",
              "      <td>83.0</td>\n",
              "      <td>76.0</td>\n",
              "      <td>85.0</td>\n",
              "      <td>86.0</td>\n",
              "      <td>78.0</td>\n",
              "      <td>82.0</td>\n",
              "      <td>83.0</td>\n",
              "      <td>87.0</td>\n",
              "      <td>85.0</td>\n",
              "      <td>60.778818</td>\n",
              "      <td>76.0</td>\n",
              "      <td>56.700621</td>\n",
              "      <td>64.0</td>\n",
              "      <td>86.0</td>\n",
              "      <td>70.0</td>\n",
              "      <td>78.0</td>\n",
              "      <td>62.0</td>\n",
              "      <td>40</td>\n",
              "      <td>82.0</td>\n",
              "      <td>83.0</td>\n",
              "      <td>77.0</td>\n",
              "      <td>81.0</td>\n",
              "      <td>24.0</td>\n",
              "      <td>35</td>\n",
              "      <td>33</td>\n",
              "      <td>1</td>\n",
              "    </tr>\n",
              "    <tr>\n",
              "      <th>2</th>\n",
              "      <td>LCB</td>\n",
              "      <td>40.0</td>\n",
              "      <td>38.0</td>\n",
              "      <td>83.0</td>\n",
              "      <td>74.0</td>\n",
              "      <td>44.0</td>\n",
              "      <td>56.0</td>\n",
              "      <td>45.0</td>\n",
              "      <td>49.0</td>\n",
              "      <td>61.0</td>\n",
              "      <td>70.0</td>\n",
              "      <td>78.0</td>\n",
              "      <td>77.0</td>\n",
              "      <td>60.778818</td>\n",
              "      <td>68.0</td>\n",
              "      <td>53.000000</td>\n",
              "      <td>69.0</td>\n",
              "      <td>76.0</td>\n",
              "      <td>73.0</td>\n",
              "      <td>41.0</td>\n",
              "      <td>88.0</td>\n",
              "      <td>84</td>\n",
              "      <td>38.0</td>\n",
              "      <td>42.0</td>\n",
              "      <td>56.0</td>\n",
              "      <td>71.0</td>\n",
              "      <td>85.0</td>\n",
              "      <td>87</td>\n",
              "      <td>82</td>\n",
              "      <td>1</td>\n",
              "    </tr>\n",
              "    <tr>\n",
              "      <th>3</th>\n",
              "      <td>ST</td>\n",
              "      <td>56.0</td>\n",
              "      <td>85.0</td>\n",
              "      <td>83.0</td>\n",
              "      <td>73.0</td>\n",
              "      <td>82.0</td>\n",
              "      <td>75.0</td>\n",
              "      <td>59.0</td>\n",
              "      <td>67.0</td>\n",
              "      <td>47.0</td>\n",
              "      <td>74.0</td>\n",
              "      <td>83.0</td>\n",
              "      <td>55.0</td>\n",
              "      <td>60.778818</td>\n",
              "      <td>55.0</td>\n",
              "      <td>56.700621</td>\n",
              "      <td>84.0</td>\n",
              "      <td>56.0</td>\n",
              "      <td>87.0</td>\n",
              "      <td>82.0</td>\n",
              "      <td>65.0</td>\n",
              "      <td>32</td>\n",
              "      <td>83.0</td>\n",
              "      <td>58.0</td>\n",
              "      <td>77.0</td>\n",
              "      <td>79.0</td>\n",
              "      <td>26.0</td>\n",
              "      <td>27</td>\n",
              "      <td>24</td>\n",
              "      <td>1</td>\n",
              "    </tr>\n",
              "    <tr>\n",
              "      <th>4</th>\n",
              "      <td>LS</td>\n",
              "      <td>61.0</td>\n",
              "      <td>83.0</td>\n",
              "      <td>80.0</td>\n",
              "      <td>78.0</td>\n",
              "      <td>79.0</td>\n",
              "      <td>78.0</td>\n",
              "      <td>71.0</td>\n",
              "      <td>56.0</td>\n",
              "      <td>56.0</td>\n",
              "      <td>81.0</td>\n",
              "      <td>80.0</td>\n",
              "      <td>70.0</td>\n",
              "      <td>82.000000</td>\n",
              "      <td>69.0</td>\n",
              "      <td>56.700621</td>\n",
              "      <td>72.0</td>\n",
              "      <td>72.0</td>\n",
              "      <td>74.0</td>\n",
              "      <td>77.0</td>\n",
              "      <td>55.0</td>\n",
              "      <td>40</td>\n",
              "      <td>83.0</td>\n",
              "      <td>58.0</td>\n",
              "      <td>73.0</td>\n",
              "      <td>72.0</td>\n",
              "      <td>43.0</td>\n",
              "      <td>41</td>\n",
              "      <td>41</td>\n",
              "      <td>1</td>\n",
              "    </tr>\n",
              "  </tbody>\n",
              "</table>\n",
              "</div>"
            ],
            "text/plain": [
              "  Position  Crossing  ...  SlidingTackle  International Reputation\n",
              "0      LCB      40.0  ...             82                         1\n",
              "1       RW      83.0  ...             33                         1\n",
              "2      LCB      40.0  ...             82                         1\n",
              "3       ST      56.0  ...             24                         1\n",
              "4       LS      61.0  ...             41                         1\n",
              "\n",
              "[5 rows x 30 columns]"
            ]
          },
          "metadata": {},
          "execution_count": 4
        }
      ]
    },
    {
      "cell_type": "code",
      "metadata": {
        "colab": {
          "base_uri": "https://localhost:8080/"
        },
        "id": "e8EJKt1F-Y8C",
        "outputId": "eca874bd-1c25-4966-ff36-935e128e25ed"
      },
      "source": [
        "# check whether there are any null values\n",
        "df.isna().sum()"
      ],
      "execution_count": 5,
      "outputs": [
        {
          "output_type": "execute_result",
          "data": {
            "text/plain": [
              "Position                    0\n",
              "Crossing                    0\n",
              "Finishing                   0\n",
              "HeadingAccuracy             0\n",
              "ShortPassing                0\n",
              "Volleys                     0\n",
              "Dribbling                   0\n",
              "Curve                       0\n",
              "FKAccuracy                  0\n",
              "LongPassing                 0\n",
              "BallControl                 0\n",
              "SprintSpeed                 0\n",
              "Agility                     0\n",
              "Reactions                   0\n",
              "Balance                     0\n",
              "ShotPower                   0\n",
              "Jumping                     0\n",
              "Stamina                     0\n",
              "Strength                    0\n",
              "LongShots                   0\n",
              "Aggression                  0\n",
              "Interceptions               0\n",
              "Positioning                 0\n",
              "Vision                      0\n",
              "Penalties                   0\n",
              "Composure                   0\n",
              "Marking                     0\n",
              "StandingTackle              0\n",
              "SlidingTackle               0\n",
              "International Reputation    0\n",
              "dtype: int64"
            ]
          },
          "metadata": {},
          "execution_count": 5
        }
      ]
    },
    {
      "cell_type": "code",
      "metadata": {
        "id": "cuwTdjOdMHaw"
      },
      "source": [
        "import warnings\n",
        "warnings.filterwarnings('ignore')"
      ],
      "execution_count": 7,
      "outputs": []
    },
    {
      "cell_type": "code",
      "metadata": {
        "colab": {
          "base_uri": "https://localhost:8080/"
        },
        "id": "n4KiwYe4N6q_",
        "outputId": "ccc72be3-e112-49b5-b392-b96e5c2703d8"
      },
      "source": [
        "# Information about data\n",
        "df.info()"
      ],
      "execution_count": 8,
      "outputs": [
        {
          "output_type": "stream",
          "name": "stdout",
          "text": [
            "<class 'pandas.core.frame.DataFrame'>\n",
            "RangeIndex: 18147 entries, 0 to 18146\n",
            "Data columns (total 30 columns):\n",
            " #   Column                    Non-Null Count  Dtype  \n",
            "---  ------                    --------------  -----  \n",
            " 0   Position                  18147 non-null  object \n",
            " 1   Crossing                  18147 non-null  float64\n",
            " 2   Finishing                 18147 non-null  float64\n",
            " 3   HeadingAccuracy           18147 non-null  float64\n",
            " 4   ShortPassing              18147 non-null  float64\n",
            " 5   Volleys                   18147 non-null  float64\n",
            " 6   Dribbling                 18147 non-null  float64\n",
            " 7   Curve                     18147 non-null  float64\n",
            " 8   FKAccuracy                18147 non-null  float64\n",
            " 9   LongPassing               18147 non-null  float64\n",
            " 10  BallControl               18147 non-null  float64\n",
            " 11  SprintSpeed               18147 non-null  float64\n",
            " 12  Agility                   18147 non-null  float64\n",
            " 13  Reactions                 18147 non-null  float64\n",
            " 14  Balance                   18147 non-null  float64\n",
            " 15  ShotPower                 18147 non-null  float64\n",
            " 16  Jumping                   18147 non-null  float64\n",
            " 17  Stamina                   18147 non-null  float64\n",
            " 18  Strength                  18147 non-null  float64\n",
            " 19  LongShots                 18147 non-null  float64\n",
            " 20  Aggression                18147 non-null  float64\n",
            " 21  Interceptions             18147 non-null  int64  \n",
            " 22  Positioning               18147 non-null  float64\n",
            " 23  Vision                    18147 non-null  float64\n",
            " 24  Penalties                 18147 non-null  float64\n",
            " 25  Composure                 18147 non-null  float64\n",
            " 26  Marking                   18147 non-null  float64\n",
            " 27  StandingTackle            18147 non-null  int64  \n",
            " 28  SlidingTackle             18147 non-null  int64  \n",
            " 29  International Reputation  18147 non-null  int64  \n",
            "dtypes: float64(25), int64(4), object(1)\n",
            "memory usage: 4.2+ MB\n"
          ]
        }
      ]
    },
    {
      "cell_type": "code",
      "metadata": {
        "colab": {
          "base_uri": "https://localhost:8080/",
          "height": 454
        },
        "id": "B7Xc-kzXOPIB",
        "outputId": "7c8f8f05-7d42-4862-acb0-24c590ee0164"
      },
      "source": [
        "df"
      ],
      "execution_count": 9,
      "outputs": [
        {
          "output_type": "execute_result",
          "data": {
            "text/html": [
              "<div>\n",
              "<style scoped>\n",
              "    .dataframe tbody tr th:only-of-type {\n",
              "        vertical-align: middle;\n",
              "    }\n",
              "\n",
              "    .dataframe tbody tr th {\n",
              "        vertical-align: top;\n",
              "    }\n",
              "\n",
              "    .dataframe thead th {\n",
              "        text-align: right;\n",
              "    }\n",
              "</style>\n",
              "<table border=\"1\" class=\"dataframe\">\n",
              "  <thead>\n",
              "    <tr style=\"text-align: right;\">\n",
              "      <th></th>\n",
              "      <th>Position</th>\n",
              "      <th>Crossing</th>\n",
              "      <th>Finishing</th>\n",
              "      <th>HeadingAccuracy</th>\n",
              "      <th>ShortPassing</th>\n",
              "      <th>Volleys</th>\n",
              "      <th>Dribbling</th>\n",
              "      <th>Curve</th>\n",
              "      <th>FKAccuracy</th>\n",
              "      <th>LongPassing</th>\n",
              "      <th>BallControl</th>\n",
              "      <th>SprintSpeed</th>\n",
              "      <th>Agility</th>\n",
              "      <th>Reactions</th>\n",
              "      <th>Balance</th>\n",
              "      <th>ShotPower</th>\n",
              "      <th>Jumping</th>\n",
              "      <th>Stamina</th>\n",
              "      <th>Strength</th>\n",
              "      <th>LongShots</th>\n",
              "      <th>Aggression</th>\n",
              "      <th>Interceptions</th>\n",
              "      <th>Positioning</th>\n",
              "      <th>Vision</th>\n",
              "      <th>Penalties</th>\n",
              "      <th>Composure</th>\n",
              "      <th>Marking</th>\n",
              "      <th>StandingTackle</th>\n",
              "      <th>SlidingTackle</th>\n",
              "      <th>International Reputation</th>\n",
              "    </tr>\n",
              "  </thead>\n",
              "  <tbody>\n",
              "    <tr>\n",
              "      <th>0</th>\n",
              "      <td>LCB</td>\n",
              "      <td>40.000000</td>\n",
              "      <td>42.0</td>\n",
              "      <td>80.000000</td>\n",
              "      <td>70.0</td>\n",
              "      <td>40.000000</td>\n",
              "      <td>59.0</td>\n",
              "      <td>34.0</td>\n",
              "      <td>30.000000</td>\n",
              "      <td>68.0</td>\n",
              "      <td>67.0</td>\n",
              "      <td>73.0</td>\n",
              "      <td>48.000000</td>\n",
              "      <td>81.000000</td>\n",
              "      <td>48.0</td>\n",
              "      <td>50.000000</td>\n",
              "      <td>78.0</td>\n",
              "      <td>77.0</td>\n",
              "      <td>83.0</td>\n",
              "      <td>30.000000</td>\n",
              "      <td>86.0</td>\n",
              "      <td>86</td>\n",
              "      <td>30.000000</td>\n",
              "      <td>57.0</td>\n",
              "      <td>56.0</td>\n",
              "      <td>80.000000</td>\n",
              "      <td>92.000000</td>\n",
              "      <td>88</td>\n",
              "      <td>82</td>\n",
              "      <td>1</td>\n",
              "    </tr>\n",
              "    <tr>\n",
              "      <th>1</th>\n",
              "      <td>RW</td>\n",
              "      <td>83.000000</td>\n",
              "      <td>74.0</td>\n",
              "      <td>64.000000</td>\n",
              "      <td>83.0</td>\n",
              "      <td>76.000000</td>\n",
              "      <td>85.0</td>\n",
              "      <td>86.0</td>\n",
              "      <td>78.000000</td>\n",
              "      <td>82.0</td>\n",
              "      <td>83.0</td>\n",
              "      <td>87.0</td>\n",
              "      <td>85.000000</td>\n",
              "      <td>60.778818</td>\n",
              "      <td>76.0</td>\n",
              "      <td>56.700621</td>\n",
              "      <td>64.0</td>\n",
              "      <td>86.0</td>\n",
              "      <td>70.0</td>\n",
              "      <td>78.000000</td>\n",
              "      <td>62.0</td>\n",
              "      <td>40</td>\n",
              "      <td>82.000000</td>\n",
              "      <td>83.0</td>\n",
              "      <td>77.0</td>\n",
              "      <td>81.000000</td>\n",
              "      <td>24.000000</td>\n",
              "      <td>35</td>\n",
              "      <td>33</td>\n",
              "      <td>1</td>\n",
              "    </tr>\n",
              "    <tr>\n",
              "      <th>2</th>\n",
              "      <td>LCB</td>\n",
              "      <td>40.000000</td>\n",
              "      <td>38.0</td>\n",
              "      <td>83.000000</td>\n",
              "      <td>74.0</td>\n",
              "      <td>44.000000</td>\n",
              "      <td>56.0</td>\n",
              "      <td>45.0</td>\n",
              "      <td>49.000000</td>\n",
              "      <td>61.0</td>\n",
              "      <td>70.0</td>\n",
              "      <td>78.0</td>\n",
              "      <td>77.000000</td>\n",
              "      <td>60.778818</td>\n",
              "      <td>68.0</td>\n",
              "      <td>53.000000</td>\n",
              "      <td>69.0</td>\n",
              "      <td>76.0</td>\n",
              "      <td>73.0</td>\n",
              "      <td>41.000000</td>\n",
              "      <td>88.0</td>\n",
              "      <td>84</td>\n",
              "      <td>38.000000</td>\n",
              "      <td>42.0</td>\n",
              "      <td>56.0</td>\n",
              "      <td>71.000000</td>\n",
              "      <td>85.000000</td>\n",
              "      <td>87</td>\n",
              "      <td>82</td>\n",
              "      <td>1</td>\n",
              "    </tr>\n",
              "    <tr>\n",
              "      <th>3</th>\n",
              "      <td>ST</td>\n",
              "      <td>56.000000</td>\n",
              "      <td>85.0</td>\n",
              "      <td>83.000000</td>\n",
              "      <td>73.0</td>\n",
              "      <td>82.000000</td>\n",
              "      <td>75.0</td>\n",
              "      <td>59.0</td>\n",
              "      <td>67.000000</td>\n",
              "      <td>47.0</td>\n",
              "      <td>74.0</td>\n",
              "      <td>83.0</td>\n",
              "      <td>55.000000</td>\n",
              "      <td>60.778818</td>\n",
              "      <td>55.0</td>\n",
              "      <td>56.700621</td>\n",
              "      <td>84.0</td>\n",
              "      <td>56.0</td>\n",
              "      <td>87.0</td>\n",
              "      <td>82.000000</td>\n",
              "      <td>65.0</td>\n",
              "      <td>32</td>\n",
              "      <td>83.000000</td>\n",
              "      <td>58.0</td>\n",
              "      <td>77.0</td>\n",
              "      <td>79.000000</td>\n",
              "      <td>26.000000</td>\n",
              "      <td>27</td>\n",
              "      <td>24</td>\n",
              "      <td>1</td>\n",
              "    </tr>\n",
              "    <tr>\n",
              "      <th>4</th>\n",
              "      <td>LS</td>\n",
              "      <td>61.000000</td>\n",
              "      <td>83.0</td>\n",
              "      <td>80.000000</td>\n",
              "      <td>78.0</td>\n",
              "      <td>79.000000</td>\n",
              "      <td>78.0</td>\n",
              "      <td>71.0</td>\n",
              "      <td>56.000000</td>\n",
              "      <td>56.0</td>\n",
              "      <td>81.0</td>\n",
              "      <td>80.0</td>\n",
              "      <td>70.000000</td>\n",
              "      <td>82.000000</td>\n",
              "      <td>69.0</td>\n",
              "      <td>56.700621</td>\n",
              "      <td>72.0</td>\n",
              "      <td>72.0</td>\n",
              "      <td>74.0</td>\n",
              "      <td>77.000000</td>\n",
              "      <td>55.0</td>\n",
              "      <td>40</td>\n",
              "      <td>83.000000</td>\n",
              "      <td>58.0</td>\n",
              "      <td>73.0</td>\n",
              "      <td>72.000000</td>\n",
              "      <td>43.000000</td>\n",
              "      <td>41</td>\n",
              "      <td>41</td>\n",
              "      <td>1</td>\n",
              "    </tr>\n",
              "    <tr>\n",
              "      <th>...</th>\n",
              "      <td>...</td>\n",
              "      <td>...</td>\n",
              "      <td>...</td>\n",
              "      <td>...</td>\n",
              "      <td>...</td>\n",
              "      <td>...</td>\n",
              "      <td>...</td>\n",
              "      <td>...</td>\n",
              "      <td>...</td>\n",
              "      <td>...</td>\n",
              "      <td>...</td>\n",
              "      <td>...</td>\n",
              "      <td>...</td>\n",
              "      <td>...</td>\n",
              "      <td>...</td>\n",
              "      <td>...</td>\n",
              "      <td>...</td>\n",
              "      <td>...</td>\n",
              "      <td>...</td>\n",
              "      <td>...</td>\n",
              "      <td>...</td>\n",
              "      <td>...</td>\n",
              "      <td>...</td>\n",
              "      <td>...</td>\n",
              "      <td>...</td>\n",
              "      <td>...</td>\n",
              "      <td>...</td>\n",
              "      <td>...</td>\n",
              "      <td>...</td>\n",
              "      <td>...</td>\n",
              "    </tr>\n",
              "    <tr>\n",
              "      <th>18142</th>\n",
              "      <td>ST</td>\n",
              "      <td>84.000000</td>\n",
              "      <td>94.0</td>\n",
              "      <td>89.000000</td>\n",
              "      <td>81.0</td>\n",
              "      <td>87.000000</td>\n",
              "      <td>88.0</td>\n",
              "      <td>81.0</td>\n",
              "      <td>76.000000</td>\n",
              "      <td>77.0</td>\n",
              "      <td>94.0</td>\n",
              "      <td>91.0</td>\n",
              "      <td>87.000000</td>\n",
              "      <td>96.000000</td>\n",
              "      <td>70.0</td>\n",
              "      <td>95.000000</td>\n",
              "      <td>73.0</td>\n",
              "      <td>88.0</td>\n",
              "      <td>79.0</td>\n",
              "      <td>93.000000</td>\n",
              "      <td>63.0</td>\n",
              "      <td>29</td>\n",
              "      <td>95.000000</td>\n",
              "      <td>82.0</td>\n",
              "      <td>85.0</td>\n",
              "      <td>95.000000</td>\n",
              "      <td>28.000000</td>\n",
              "      <td>31</td>\n",
              "      <td>23</td>\n",
              "      <td>5</td>\n",
              "    </tr>\n",
              "    <tr>\n",
              "      <th>18143</th>\n",
              "      <td>LW</td>\n",
              "      <td>79.000000</td>\n",
              "      <td>87.0</td>\n",
              "      <td>62.000000</td>\n",
              "      <td>84.0</td>\n",
              "      <td>84.000000</td>\n",
              "      <td>96.0</td>\n",
              "      <td>88.0</td>\n",
              "      <td>87.000000</td>\n",
              "      <td>78.0</td>\n",
              "      <td>95.0</td>\n",
              "      <td>90.0</td>\n",
              "      <td>96.000000</td>\n",
              "      <td>94.000000</td>\n",
              "      <td>84.0</td>\n",
              "      <td>80.000000</td>\n",
              "      <td>61.0</td>\n",
              "      <td>81.0</td>\n",
              "      <td>49.0</td>\n",
              "      <td>82.000000</td>\n",
              "      <td>56.0</td>\n",
              "      <td>36</td>\n",
              "      <td>89.000000</td>\n",
              "      <td>87.0</td>\n",
              "      <td>81.0</td>\n",
              "      <td>94.000000</td>\n",
              "      <td>27.000000</td>\n",
              "      <td>24</td>\n",
              "      <td>33</td>\n",
              "      <td>5</td>\n",
              "    </tr>\n",
              "    <tr>\n",
              "      <th>18144</th>\n",
              "      <td>RS</td>\n",
              "      <td>77.000000</td>\n",
              "      <td>93.0</td>\n",
              "      <td>77.000000</td>\n",
              "      <td>82.0</td>\n",
              "      <td>88.000000</td>\n",
              "      <td>87.0</td>\n",
              "      <td>86.0</td>\n",
              "      <td>84.000000</td>\n",
              "      <td>64.0</td>\n",
              "      <td>90.0</td>\n",
              "      <td>75.0</td>\n",
              "      <td>82.000000</td>\n",
              "      <td>92.000000</td>\n",
              "      <td>83.0</td>\n",
              "      <td>86.000000</td>\n",
              "      <td>69.0</td>\n",
              "      <td>90.0</td>\n",
              "      <td>83.0</td>\n",
              "      <td>85.000000</td>\n",
              "      <td>87.0</td>\n",
              "      <td>41</td>\n",
              "      <td>92.000000</td>\n",
              "      <td>84.0</td>\n",
              "      <td>85.0</td>\n",
              "      <td>85.000000</td>\n",
              "      <td>35.083333</td>\n",
              "      <td>45</td>\n",
              "      <td>38</td>\n",
              "      <td>5</td>\n",
              "    </tr>\n",
              "    <tr>\n",
              "      <th>18145</th>\n",
              "      <td>GK</td>\n",
              "      <td>68.666667</td>\n",
              "      <td>78.0</td>\n",
              "      <td>67.666667</td>\n",
              "      <td>78.5</td>\n",
              "      <td>73.666667</td>\n",
              "      <td>79.5</td>\n",
              "      <td>74.0</td>\n",
              "      <td>72.333333</td>\n",
              "      <td>59.0</td>\n",
              "      <td>84.5</td>\n",
              "      <td>60.0</td>\n",
              "      <td>80.333333</td>\n",
              "      <td>84.000000</td>\n",
              "      <td>35.0</td>\n",
              "      <td>76.833333</td>\n",
              "      <td>77.0</td>\n",
              "      <td>43.0</td>\n",
              "      <td>80.0</td>\n",
              "      <td>75.333333</td>\n",
              "      <td>29.0</td>\n",
              "      <td>30</td>\n",
              "      <td>77.833333</td>\n",
              "      <td>70.0</td>\n",
              "      <td>77.0</td>\n",
              "      <td>88.333333</td>\n",
              "      <td>32.500000</td>\n",
              "      <td>10</td>\n",
              "      <td>11</td>\n",
              "      <td>5</td>\n",
              "    </tr>\n",
              "    <tr>\n",
              "      <th>18146</th>\n",
              "      <td>RS</td>\n",
              "      <td>73.000000</td>\n",
              "      <td>86.0</td>\n",
              "      <td>83.000000</td>\n",
              "      <td>79.0</td>\n",
              "      <td>86.000000</td>\n",
              "      <td>79.0</td>\n",
              "      <td>82.0</td>\n",
              "      <td>82.000000</td>\n",
              "      <td>73.0</td>\n",
              "      <td>84.0</td>\n",
              "      <td>59.0</td>\n",
              "      <td>75.000000</td>\n",
              "      <td>82.000000</td>\n",
              "      <td>39.0</td>\n",
              "      <td>90.000000</td>\n",
              "      <td>68.0</td>\n",
              "      <td>61.0</td>\n",
              "      <td>86.0</td>\n",
              "      <td>82.000000</td>\n",
              "      <td>84.0</td>\n",
              "      <td>20</td>\n",
              "      <td>85.000000</td>\n",
              "      <td>79.0</td>\n",
              "      <td>89.0</td>\n",
              "      <td>90.000000</td>\n",
              "      <td>28.000000</td>\n",
              "      <td>37</td>\n",
              "      <td>24</td>\n",
              "      <td>5</td>\n",
              "    </tr>\n",
              "  </tbody>\n",
              "</table>\n",
              "<p>18147 rows × 30 columns</p>\n",
              "</div>"
            ],
            "text/plain": [
              "      Position   Crossing  ...  SlidingTackle  International Reputation\n",
              "0          LCB  40.000000  ...             82                         1\n",
              "1           RW  83.000000  ...             33                         1\n",
              "2          LCB  40.000000  ...             82                         1\n",
              "3           ST  56.000000  ...             24                         1\n",
              "4           LS  61.000000  ...             41                         1\n",
              "...        ...        ...  ...            ...                       ...\n",
              "18142       ST  84.000000  ...             23                         5\n",
              "18143       LW  79.000000  ...             33                         5\n",
              "18144       RS  77.000000  ...             38                         5\n",
              "18145       GK  68.666667  ...             11                         5\n",
              "18146       RS  73.000000  ...             24                         5\n",
              "\n",
              "[18147 rows x 30 columns]"
            ]
          },
          "metadata": {},
          "execution_count": 9
        }
      ]
    },
    {
      "cell_type": "code",
      "metadata": {
        "id": "b842hFVZ_699"
      },
      "source": [
        "# Decision Tree Classification\n",
        "X=df.iloc[:,1:-1].values\n",
        "Y=df.iloc[:,-1].values"
      ],
      "execution_count": 49,
      "outputs": []
    },
    {
      "cell_type": "code",
      "metadata": {
        "colab": {
          "base_uri": "https://localhost:8080/"
        },
        "id": "Os9aKUwxAeOv",
        "outputId": "c8d931ce-9f62-4bf8-8584-bf288d9efa14"
      },
      "source": [
        "X,Y"
      ],
      "execution_count": 50,
      "outputs": [
        {
          "output_type": "execute_result",
          "data": {
            "text/plain": [
              "(array([[40.        , 42.        , 80.        , ..., 92.        ,\n",
              "         88.        , 82.        ],\n",
              "        [83.        , 74.        , 64.        , ..., 24.        ,\n",
              "         35.        , 33.        ],\n",
              "        [40.        , 38.        , 83.        , ..., 85.        ,\n",
              "         87.        , 82.        ],\n",
              "        ...,\n",
              "        [77.        , 93.        , 77.        , ..., 35.08333333,\n",
              "         45.        , 38.        ],\n",
              "        [68.66666667, 78.        , 67.66666667, ..., 32.5       ,\n",
              "         10.        , 11.        ],\n",
              "        [73.        , 86.        , 83.        , ..., 28.        ,\n",
              "         37.        , 24.        ]]), array([1, 1, 1, ..., 5, 5, 5]))"
            ]
          },
          "metadata": {},
          "execution_count": 50
        }
      ]
    },
    {
      "cell_type": "code",
      "metadata": {
        "colab": {
          "base_uri": "https://localhost:8080/"
        },
        "id": "wRPaxU_DAlT5",
        "outputId": "727cac22-8356-462a-aee9-613bf517d902"
      },
      "source": [
        "# Splitting the dataset into the Training set and Test set\n",
        "from sklearn.model_selection import train_test_split\n",
        "X_train, X_test, Y_train, Y_test =train_test_split(X, Y, test_size = 0.30, random_state = 0)\n",
        "print(X_train)\n",
        "print(Y_train)\n",
        "print(X_test)\n",
        "print(Y_test)"
      ],
      "execution_count": 51,
      "outputs": [
        {
          "output_type": "stream",
          "name": "stdout",
          "text": [
            "[[65.         47.         47.         ... 59.         57.\n",
            "  54.        ]\n",
            " [62.         56.         49.         ... 58.         62.\n",
            "  60.        ]\n",
            " [20.         11.         20.         ... 20.         20.\n",
            "  19.        ]\n",
            " ...\n",
            " [24.         19.         59.         ... 66.         67.\n",
            "  65.        ]\n",
            " [63.         24.         50.         ... 55.         61.\n",
            "  58.        ]\n",
            " [11.         12.         51.40393462 ... 18.         14.\n",
            "  10.        ]]\n",
            "[1 1 1 ... 1 1 1]\n",
            "[[49. 45. 33. ... 27. 23. 24.]\n",
            " [57. 31. 65. ... 52. 68. 69.]\n",
            " [43. 42. 47. ... 46. 48. 42.]\n",
            " ...\n",
            " [54. 57. 40. ... 47. 50. 45.]\n",
            " [55. 61. 43. ... 39. 27. 29.]\n",
            " [33. 67. 64. ... 36. 17. 10.]]\n",
            "[1 1 1 ... 1 1 1]\n"
          ]
        }
      ]
    },
    {
      "cell_type": "code",
      "metadata": {
        "colab": {
          "base_uri": "https://localhost:8080/"
        },
        "id": "c54p6R-ThAPE",
        "outputId": "f586cd3e-7548-46ac-dd3b-aaa71f7486ad"
      },
      "source": [
        "# Feature Scaling\n",
        "from sklearn.preprocessing import StandardScaler\n",
        "sc = StandardScaler()\n",
        "X_train = sc.fit_transform(X_train)\n",
        "X_test = sc.transform(X_test)\n",
        "print(X_train)\n",
        "print(X_test)"
      ],
      "execution_count": 52,
      "outputs": [
        {
          "output_type": "stream",
          "name": "stdout",
          "text": [
            "[[ 0.81495432  0.07191832 -0.66741033 ...  0.58329581  0.41974934\n",
            "   0.38236359]\n",
            " [ 0.64979125  0.53304932 -0.51167516 ...  0.53290061  0.65127058\n",
            "   0.66488797]\n",
            " [-1.66249175 -1.77260565 -2.76983515 ... -1.38211723 -1.29350778\n",
            "  -1.26569526]\n",
            " ...\n",
            " [-1.44227432 -1.36271144  0.2670007  ...  0.93606226  0.88279181\n",
            "   0.90032495]\n",
            " [ 0.70484561 -1.10652755 -0.43380757 ...  0.38171499  0.60496633\n",
            "   0.57071317]\n",
            " [-2.15798096 -1.72136888 -0.32448657 ... -1.48290764 -1.57133326\n",
            "  -1.68948182]]\n",
            "[[-0.06591539 -0.03055523 -1.75755653 ... -1.02935078 -1.15459504\n",
            "  -1.03025828]\n",
            " [ 0.37451946 -0.74787011  0.73420621 ...  0.23052937  0.92909605\n",
            "   1.08867453]\n",
            " [-0.39624153 -0.18426556 -0.66741033 ... -0.07184187  0.00301112\n",
            "  -0.18268516]\n",
            " ...\n",
            " [ 0.20935639  0.58428609 -1.21248343 ... -0.02144666  0.09561962\n",
            "  -0.04142297]\n",
            " [ 0.26441075  0.7892332  -0.97888068 ... -0.42460831 -0.96937805\n",
            "  -0.7948213 ]\n",
            " [-0.94678511  1.09665386  0.65633863 ... -0.57579393 -1.43242052\n",
            "  -1.68948182]]\n"
          ]
        }
      ]
    },
    {
      "cell_type": "code",
      "metadata": {
        "colab": {
          "base_uri": "https://localhost:8080/"
        },
        "id": "h9p2RT-PwjRQ",
        "outputId": "e32263e1-8d74-4116-9fb6-a4d71f8fa157"
      },
      "source": [
        "# Training the Decision Tree Classification model on the Training set\n",
        "from sklearn.tree import DecisionTreeClassifier\n",
        "classifier = DecisionTreeClassifier(criterion = 'entropy', random_state = 0)\n",
        "classifier.fit(X_train, Y_train)"
      ],
      "execution_count": 53,
      "outputs": [
        {
          "output_type": "execute_result",
          "data": {
            "text/plain": [
              "DecisionTreeClassifier(ccp_alpha=0.0, class_weight=None, criterion='entropy',\n",
              "                       max_depth=None, max_features=None, max_leaf_nodes=None,\n",
              "                       min_impurity_decrease=0.0, min_impurity_split=None,\n",
              "                       min_samples_leaf=1, min_samples_split=2,\n",
              "                       min_weight_fraction_leaf=0.0, presort='deprecated',\n",
              "                       random_state=0, splitter='best')"
            ]
          },
          "metadata": {},
          "execution_count": 53
        }
      ]
    },
    {
      "cell_type": "code",
      "metadata": {
        "colab": {
          "base_uri": "https://localhost:8080/"
        },
        "id": "sZjmJ3Ar1jzs",
        "outputId": "bcd33884-b583-4f5b-f6f8-a7e0f097cf9f"
      },
      "source": [
        "# Predicting a new result\n",
        "print(classifier.predict(sc.transform([[85,85,80,82,86,88,82,87,87,82,93,87,85,86,86,89,80,82,86,84,80,80,82,83,85,80,81,84]])))"
      ],
      "execution_count": 54,
      "outputs": [
        {
          "output_type": "stream",
          "name": "stdout",
          "text": [
            "[4]\n"
          ]
        }
      ]
    },
    {
      "cell_type": "code",
      "metadata": {
        "colab": {
          "base_uri": "https://localhost:8080/"
        },
        "id": "Uz-IA6cA3wFO",
        "outputId": "343432f2-c20e-4d94-d3a9-2335a9883097"
      },
      "source": [
        "# Predicting the Test set results\n",
        "Y_pred = classifier.predict(X_test)\n",
        "print(np.concatenate((Y_pred.reshape(len(Y_pred),1), Y_test.reshape(len(Y_test),1)),1))\n"
      ],
      "execution_count": 30,
      "outputs": [
        {
          "output_type": "stream",
          "name": "stdout",
          "text": [
            "[[1 1]\n",
            " [1 1]\n",
            " [1 1]\n",
            " ...\n",
            " [1 1]\n",
            " [1 1]\n",
            " [1 1]]\n"
          ]
        }
      ]
    },
    {
      "cell_type": "code",
      "metadata": {
        "colab": {
          "base_uri": "https://localhost:8080/"
        },
        "id": "A52pmyVw6SYG",
        "outputId": "38a9225a-a671-43d7-b5c3-2a5952d958e5"
      },
      "source": [
        "# Making the Confusion Matrix\n",
        "from sklearn.metrics import confusion_matrix, accuracy_score\n",
        "cm = confusion_matrix(Y_test, Y_pred)\n",
        "print(cm)\n",
        "accuracy_score(Y_test, Y_pred)"
      ],
      "execution_count": 31,
      "outputs": [
        {
          "output_type": "stream",
          "name": "stdout",
          "text": [
            "[[4826  126   18    1    0]\n",
            " [ 113  231   25    5    0]\n",
            " [  16   15   49    1    0]\n",
            " [   1    3    5    7    0]\n",
            " [   0    0    0    1    2]]\n"
          ]
        },
        {
          "output_type": "execute_result",
          "data": {
            "text/plain": [
              "0.9393939393939394"
            ]
          },
          "metadata": {},
          "execution_count": 31
        }
      ]
    },
    {
      "cell_type": "code",
      "metadata": {
        "id": "InzMUQ7_fV5B"
      },
      "source": [
        "## decision tree .25"
      ],
      "execution_count": 59,
      "outputs": []
    },
    {
      "cell_type": "code",
      "metadata": {
        "id": "3qNo-J316YC9"
      },
      "source": [
        "# Splitting the dataset into the Training set and Test set test size=.25\n",
        "from sklearn.model_selection import train_test_split\n",
        "X_train, X_test, Y_train, Y_test =train_test_split(X, Y, test_size = 0.25, random_state = 0)\n",
        "print(X_train)\n",
        "print(Y_train)\n",
        "print(X_test)\n",
        "print(Y_test)"
      ],
      "execution_count": null,
      "outputs": []
    },
    {
      "cell_type": "code",
      "metadata": {
        "colab": {
          "base_uri": "https://localhost:8080/"
        },
        "id": "hgzVXI9BZQY2",
        "outputId": "b807bc67-3674-4390-8bb9-cfe3d7837581"
      },
      "source": [
        "# Feature Scaling\n",
        "from sklearn.preprocessing import StandardScaler\n",
        "sc = StandardScaler()\n",
        "X_train = sc.fit_transform(X_train)\n",
        "X_test = sc.transform(X_test)\n",
        "print(X_train)\n",
        "print(X_test)"
      ],
      "execution_count": 44,
      "outputs": [
        {
          "output_type": "stream",
          "name": "stdout",
          "text": [
            "[[ 0.26247607 -0.90216336 -0.27987942 ...  0.18365181  0.42328401\n",
            "   0.52691201]\n",
            " [ 0.09728612 -0.39019854  1.75131685 ...  1.5426668   1.48660632\n",
            "   1.46753011]\n",
            " [-1.44448678 -1.26053874  0.89196458 ...  0.78765847  0.79313525\n",
            "   0.76206653]\n",
            " ...\n",
            " [-1.44448678 -1.3629317   0.26698112 ...  0.93866014  0.88559806\n",
            "   0.90315925]\n",
            " [ 0.70298261 -1.10694929 -0.43612528 ...  0.38498737  0.60820963\n",
            "   0.57394291]\n",
            " [-2.16030992 -1.72130708 -0.32644579 ... -1.4773665  -1.5646664\n",
            "  -1.68354054]]\n",
            "[[-0.06790384 -0.03182316 -1.76421515 ... -1.0243615  -1.14858376\n",
            "  -1.02510787]\n",
            " [ 0.37260271 -0.74857391  0.73571872 ...  0.2339857   0.93182946\n",
            "   1.09128287]\n",
            " [-0.39828374 -0.18541261 -0.67049409 ... -0.06801763  0.00720137\n",
            "  -0.17855157]\n",
            " ...\n",
            " [-0.23309379  0.12176629 -1.37360049 ... -0.52102262 -0.82496392\n",
            "  -0.69589153]\n",
            " [ 0.59285598  0.12176629 -1.52984635 ... -0.57135651  0.05343277\n",
            "  -0.17855157]\n",
            " [ 0.53779266  0.99210649  0.11073525 ...  1.29099736  1.02429227\n",
            "   0.99722106]]\n"
          ]
        }
      ]
    },
    {
      "cell_type": "code",
      "metadata": {
        "colab": {
          "base_uri": "https://localhost:8080/"
        },
        "id": "0-R98Pj0ZT-j",
        "outputId": "19f8f64f-91ab-42f0-e805-66ae530a8e4d"
      },
      "source": [
        "# Training the Decision Tree Classification model on the Training set # random state 50\n",
        "from sklearn.tree import DecisionTreeClassifier\n",
        "classifier = DecisionTreeClassifier(criterion = 'entropy', random_state = 50)\n",
        "classifier.fit(X_train, Y_train)"
      ],
      "execution_count": 45,
      "outputs": [
        {
          "output_type": "execute_result",
          "data": {
            "text/plain": [
              "DecisionTreeClassifier(ccp_alpha=0.0, class_weight=None, criterion='entropy',\n",
              "                       max_depth=None, max_features=None, max_leaf_nodes=None,\n",
              "                       min_impurity_decrease=0.0, min_impurity_split=None,\n",
              "                       min_samples_leaf=1, min_samples_split=2,\n",
              "                       min_weight_fraction_leaf=0.0, presort='deprecated',\n",
              "                       random_state=50, splitter='best')"
            ]
          },
          "metadata": {},
          "execution_count": 45
        }
      ]
    },
    {
      "cell_type": "code",
      "metadata": {
        "colab": {
          "base_uri": "https://localhost:8080/"
        },
        "id": "nTEMdRCKZXxQ",
        "outputId": "dfbb50c7-bf21-430a-e95a-3fc6875a5b3e"
      },
      "source": [
        "# Predicting a new result\n",
        "print(classifier.predict(sc.transform([[85,85,80,82,86,88,82,87,87,82,93,87,85,86,86,89,80,82,86,84,80,80,82,83,85,80,81,84]])))"
      ],
      "execution_count": 47,
      "outputs": [
        {
          "output_type": "stream",
          "name": "stdout",
          "text": [
            "[4]\n"
          ]
        }
      ]
    },
    {
      "cell_type": "code",
      "metadata": {
        "colab": {
          "base_uri": "https://localhost:8080/"
        },
        "id": "OperUptsZcMe",
        "outputId": "3e6f924d-386f-4d61-edf8-24c12ebfcc9e"
      },
      "source": [
        "# Predicting the Test set results\n",
        "Y_pred = classifier.predict(X_test)\n",
        "print(np.concatenate((Y_pred.reshape(len(Y_pred),1), Y_test.reshape(len(Y_test),1)),1))"
      ],
      "execution_count": 36,
      "outputs": [
        {
          "output_type": "stream",
          "name": "stdout",
          "text": [
            "[[1 1]\n",
            " [1 1]\n",
            " [1 1]\n",
            " ...\n",
            " [1 1]\n",
            " [1 1]\n",
            " [1 1]]\n"
          ]
        }
      ]
    },
    {
      "cell_type": "code",
      "metadata": {
        "colab": {
          "base_uri": "https://localhost:8080/"
        },
        "id": "g4S4XmaoZf7o",
        "outputId": "a0f5054c-2833-4246-b79d-501bc4374dce"
      },
      "source": [
        "# Making the Confusion Matrix\n",
        "from sklearn.metrics import confusion_matrix, accuracy_score\n",
        "cm = confusion_matrix(Y_test, Y_pred)\n",
        "print(cm)\n",
        "accuracy_score(Y_test, Y_pred)"
      ],
      "execution_count": 37,
      "outputs": [
        {
          "output_type": "stream",
          "name": "stdout",
          "text": [
            "[[4049   88   14    0    0]\n",
            " [  85  190   20    7    0]\n",
            " [  15   17   36    2    0]\n",
            " [   0    2    7    1    1]\n",
            " [   0    0    0    1    2]]\n"
          ]
        },
        {
          "output_type": "execute_result",
          "data": {
            "text/plain": [
              "0.9429138197046506"
            ]
          },
          "metadata": {},
          "execution_count": 37
        }
      ]
    },
    {
      "cell_type": "code",
      "metadata": {
        "id": "LBM8pXiNZkg2"
      },
      "source": [
        "## KNN Algorithm"
      ],
      "execution_count": 55,
      "outputs": []
    },
    {
      "cell_type": "code",
      "metadata": {
        "id": "2JSEJ24ZfH22"
      },
      "source": [
        "# Splitting the dataset into the Training set and Test set test size=.25\n",
        "from sklearn.model_selection import train_test_split\n",
        "X_train, X_test, Y_train, Y_test =train_test_split(X, Y, test_size = 0.25, random_state = 0)\n",
        "print(X_train)\n",
        "print(Y_train)\n",
        "print(X_test)\n",
        "print(Y_test)"
      ],
      "execution_count": null,
      "outputs": []
    },
    {
      "cell_type": "code",
      "metadata": {
        "colab": {
          "base_uri": "https://localhost:8080/"
        },
        "id": "APdMmKN7f6LA",
        "outputId": "853d713d-aef0-4aef-dba3-791d9cc39c04"
      },
      "source": [
        "# Feature Scaling\n",
        "from sklearn.preprocessing import StandardScaler\n",
        "sc = StandardScaler()\n",
        "X_train = sc.fit_transform(X_train)\n",
        "X_test = sc.transform(X_test)\n",
        "print(X_train)\n",
        "print(X_test)"
      ],
      "execution_count": 60,
      "outputs": [
        {
          "output_type": "stream",
          "name": "stdout",
          "text": [
            "[[ 0.81495432  0.07191832 -0.66741033 ...  0.58329581  0.41974934\n",
            "   0.38236359]\n",
            " [ 0.64979125  0.53304932 -0.51167516 ...  0.53290061  0.65127058\n",
            "   0.66488797]\n",
            " [-1.66249175 -1.77260565 -2.76983515 ... -1.38211723 -1.29350778\n",
            "  -1.26569526]\n",
            " ...\n",
            " [-1.44227432 -1.36271144  0.2670007  ...  0.93606226  0.88279181\n",
            "   0.90032495]\n",
            " [ 0.70484561 -1.10652755 -0.43380757 ...  0.38171499  0.60496633\n",
            "   0.57071317]\n",
            " [-2.15798096 -1.72136888 -0.32448657 ... -1.48290764 -1.57133326\n",
            "  -1.68948182]]\n",
            "[[-0.06591539 -0.03055523 -1.75755653 ... -1.02935078 -1.15459504\n",
            "  -1.03025828]\n",
            " [ 0.37451946 -0.74787011  0.73420621 ...  0.23052937  0.92909605\n",
            "   1.08867453]\n",
            " [-0.39624153 -0.18426556 -0.66741033 ... -0.07184187  0.00301112\n",
            "  -0.18268516]\n",
            " ...\n",
            " [ 0.20935639  0.58428609 -1.21248343 ... -0.02144666  0.09561962\n",
            "  -0.04142297]\n",
            " [ 0.26441075  0.7892332  -0.97888068 ... -0.42460831 -0.96937805\n",
            "  -0.7948213 ]\n",
            " [-0.94678511  1.09665386  0.65633863 ... -0.57579393 -1.43242052\n",
            "  -1.68948182]]\n"
          ]
        }
      ]
    },
    {
      "cell_type": "code",
      "metadata": {
        "colab": {
          "base_uri": "https://localhost:8080/"
        },
        "id": "8t015bsegl93",
        "outputId": "d1e0585c-d634-40cb-81d7-4853c3e4b360"
      },
      "source": [
        "## set Neighbour Value. squareroot of n\n",
        "np.sqrt(18147)"
      ],
      "execution_count": 63,
      "outputs": [
        {
          "output_type": "execute_result",
          "data": {
            "text/plain": [
              "134.7108013486669"
            ]
          },
          "metadata": {},
          "execution_count": 63
        }
      ]
    },
    {
      "cell_type": "code",
      "metadata": {
        "colab": {
          "base_uri": "https://localhost:8080/"
        },
        "id": "p_dNOHIagol5",
        "outputId": "037f5806-1582-41e5-8b6e-56b265266400"
      },
      "source": [
        "# Training the K-NN model on the Training set\n",
        "from sklearn.neighbors import KNeighborsClassifier\n",
        "classifier = KNeighborsClassifier(n_neighbors = 10, metric = 'minkowski', p = 2)\n",
        "classifier.fit(X_train, Y_train)"
      ],
      "execution_count": 74,
      "outputs": [
        {
          "output_type": "execute_result",
          "data": {
            "text/plain": [
              "KNeighborsClassifier(algorithm='auto', leaf_size=30, metric='minkowski',\n",
              "                     metric_params=None, n_jobs=None, n_neighbors=10, p=2,\n",
              "                     weights='uniform')"
            ]
          },
          "metadata": {},
          "execution_count": 74
        }
      ]
    },
    {
      "cell_type": "code",
      "metadata": {
        "colab": {
          "base_uri": "https://localhost:8080/"
        },
        "id": "kAqAkhg7hxwn",
        "outputId": "eb761cd5-4474-4a3d-d284-d32dd101b264"
      },
      "source": [
        "# Predicting a new result\n",
        "print(classifier.predict(sc.transform([[85,85,80,82,86,88,82,87,87,82,93,87,85,86,86,89,80,82,86,84,80,80,82,83,85,80,81,84]])))\n"
      ],
      "execution_count": 75,
      "outputs": [
        {
          "output_type": "stream",
          "name": "stdout",
          "text": [
            "[4]\n"
          ]
        }
      ]
    },
    {
      "cell_type": "code",
      "metadata": {
        "colab": {
          "base_uri": "https://localhost:8080/"
        },
        "id": "ixl0H9Qjh6RN",
        "outputId": "177d1a8f-16f1-4cfd-e852-b6723d52e3c2"
      },
      "source": [
        "# Predicting the Test set results\n",
        "Y_pred = classifier.predict(X_test)\n",
        "print(np.concatenate((Y_pred.reshape(len(Y_pred),1), Y_test.reshape(len(Y_test),1)),1))"
      ],
      "execution_count": 76,
      "outputs": [
        {
          "output_type": "stream",
          "name": "stdout",
          "text": [
            "[[1 1]\n",
            " [1 1]\n",
            " [1 1]\n",
            " ...\n",
            " [1 1]\n",
            " [1 1]\n",
            " [1 1]]\n"
          ]
        }
      ]
    },
    {
      "cell_type": "code",
      "metadata": {
        "colab": {
          "base_uri": "https://localhost:8080/"
        },
        "id": "A7GEVfZIiCi_",
        "outputId": "f03bebe4-9486-4dc3-95ac-02f48d31fa36"
      },
      "source": [
        "# Making the Confusion Matrix\n",
        "from sklearn.metrics import confusion_matrix, accuracy_score\n",
        "cm = confusion_matrix(Y_test, Y_pred)\n",
        "print(cm)\n",
        "accuracy_score(Y_test, Y_pred)"
      ],
      "execution_count": 77,
      "outputs": [
        {
          "output_type": "stream",
          "name": "stdout",
          "text": [
            "[[4929   40    2    0    0]\n",
            " [ 200  165    9    0    0]\n",
            " [  18   40   22    1    0]\n",
            " [   0    5   11    0    0]\n",
            " [   0    0    3    0    0]]\n"
          ]
        },
        {
          "output_type": "execute_result",
          "data": {
            "text/plain": [
              "0.9395775941230486"
            ]
          },
          "metadata": {},
          "execution_count": 77
        }
      ]
    },
    {
      "cell_type": "markdown",
      "metadata": {
        "id": "Qv7sKL-klAi2"
      },
      "source": [
        "# KNN 30 test "
      ]
    },
    {
      "cell_type": "code",
      "metadata": {
        "colab": {
          "base_uri": "https://localhost:8080/"
        },
        "id": "cef_fn-uip_N",
        "outputId": "a03097ba-02e5-4c33-fe87-27867890e3d8"
      },
      "source": [
        "# Splitting the dataset into the Training set and Test set test size=.25\n",
        "from sklearn.model_selection import train_test_split\n",
        "X_train, X_test, Y_train, Y_test =train_test_split(X, Y, test_size = 0.30, random_state = 0)\n",
        "print(X_train)\n",
        "print(Y_train)\n",
        "print(X_test)\n",
        "print(Y_test)"
      ],
      "execution_count": 78,
      "outputs": [
        {
          "output_type": "stream",
          "name": "stdout",
          "text": [
            "[[65.         47.         47.         ... 59.         57.\n",
            "  54.        ]\n",
            " [62.         56.         49.         ... 58.         62.\n",
            "  60.        ]\n",
            " [20.         11.         20.         ... 20.         20.\n",
            "  19.        ]\n",
            " ...\n",
            " [24.         19.         59.         ... 66.         67.\n",
            "  65.        ]\n",
            " [63.         24.         50.         ... 55.         61.\n",
            "  58.        ]\n",
            " [11.         12.         51.40393462 ... 18.         14.\n",
            "  10.        ]]\n",
            "[1 1 1 ... 1 1 1]\n",
            "[[49. 45. 33. ... 27. 23. 24.]\n",
            " [57. 31. 65. ... 52. 68. 69.]\n",
            " [43. 42. 47. ... 46. 48. 42.]\n",
            " ...\n",
            " [54. 57. 40. ... 47. 50. 45.]\n",
            " [55. 61. 43. ... 39. 27. 29.]\n",
            " [33. 67. 64. ... 36. 17. 10.]]\n",
            "[1 1 1 ... 1 1 1]\n"
          ]
        }
      ]
    },
    {
      "cell_type": "code",
      "metadata": {
        "colab": {
          "base_uri": "https://localhost:8080/"
        },
        "id": "79SCZhJ-l8kY",
        "outputId": "d098bfaf-a8fe-468b-c972-16ff7b4e7955"
      },
      "source": [
        "# Feature Scaling\n",
        "from sklearn.preprocessing import StandardScaler\n",
        "sc = StandardScaler()\n",
        "X_train = sc.fit_transform(X_train)\n",
        "X_test = sc.transform(X_test)\n",
        "print(X_train)\n",
        "print(X_test)"
      ],
      "execution_count": 79,
      "outputs": [
        {
          "output_type": "stream",
          "name": "stdout",
          "text": [
            "[[ 0.81495432  0.07191832 -0.66741033 ...  0.58329581  0.41974934\n",
            "   0.38236359]\n",
            " [ 0.64979125  0.53304932 -0.51167516 ...  0.53290061  0.65127058\n",
            "   0.66488797]\n",
            " [-1.66249175 -1.77260565 -2.76983515 ... -1.38211723 -1.29350778\n",
            "  -1.26569526]\n",
            " ...\n",
            " [-1.44227432 -1.36271144  0.2670007  ...  0.93606226  0.88279181\n",
            "   0.90032495]\n",
            " [ 0.70484561 -1.10652755 -0.43380757 ...  0.38171499  0.60496633\n",
            "   0.57071317]\n",
            " [-2.15798096 -1.72136888 -0.32448657 ... -1.48290764 -1.57133326\n",
            "  -1.68948182]]\n",
            "[[-0.06591539 -0.03055523 -1.75755653 ... -1.02935078 -1.15459504\n",
            "  -1.03025828]\n",
            " [ 0.37451946 -0.74787011  0.73420621 ...  0.23052937  0.92909605\n",
            "   1.08867453]\n",
            " [-0.39624153 -0.18426556 -0.66741033 ... -0.07184187  0.00301112\n",
            "  -0.18268516]\n",
            " ...\n",
            " [ 0.20935639  0.58428609 -1.21248343 ... -0.02144666  0.09561962\n",
            "  -0.04142297]\n",
            " [ 0.26441075  0.7892332  -0.97888068 ... -0.42460831 -0.96937805\n",
            "  -0.7948213 ]\n",
            " [-0.94678511  1.09665386  0.65633863 ... -0.57579393 -1.43242052\n",
            "  -1.68948182]]\n"
          ]
        }
      ]
    },
    {
      "cell_type": "code",
      "metadata": {
        "colab": {
          "base_uri": "https://localhost:8080/"
        },
        "id": "dBEL9fACmCFe",
        "outputId": "66d5c536-118c-40f6-e6f7-2f2b07eacf29"
      },
      "source": [
        "# Training the K-NN model on the Training set\n",
        "from sklearn.neighbors import KNeighborsClassifier\n",
        "classifier = KNeighborsClassifier(n_neighbors = 5, metric = 'minkowski', p = 1)\n",
        "classifier.fit(X_train, Y_train)"
      ],
      "execution_count": 81,
      "outputs": [
        {
          "output_type": "execute_result",
          "data": {
            "text/plain": [
              "KNeighborsClassifier(algorithm='auto', leaf_size=30, metric='minkowski',\n",
              "                     metric_params=None, n_jobs=None, n_neighbors=5, p=1,\n",
              "                     weights='uniform')"
            ]
          },
          "metadata": {},
          "execution_count": 81
        }
      ]
    },
    {
      "cell_type": "code",
      "metadata": {
        "colab": {
          "base_uri": "https://localhost:8080/"
        },
        "id": "64orDP2dmOSL",
        "outputId": "a7ab37a3-2548-4cfc-f3ed-037ad10bf3db"
      },
      "source": [
        "# Predicting a new result\n",
        "print(classifier.predict(sc.transform([[85,85,80,82,86,88,82,87,87,82,93,87,85,86,86,89,80,82,86,84,80,80,82,83,85,80,81,84]])))\n"
      ],
      "execution_count": 83,
      "outputs": [
        {
          "output_type": "stream",
          "name": "stdout",
          "text": [
            "[4]\n"
          ]
        }
      ]
    },
    {
      "cell_type": "code",
      "metadata": {
        "colab": {
          "base_uri": "https://localhost:8080/"
        },
        "id": "gpSoZV30mWDa",
        "outputId": "870fc50c-956f-4790-b880-d7d9fcea835f"
      },
      "source": [
        "# Predicting the Test set results\n",
        "Y_pred = classifier.predict(X_test)\n",
        "print(np.concatenate((Y_pred.reshape(len(Y_pred),1), Y_test.reshape(len(Y_test),1)),1))"
      ],
      "execution_count": 84,
      "outputs": [
        {
          "output_type": "stream",
          "name": "stdout",
          "text": [
            "[[1 1]\n",
            " [1 1]\n",
            " [1 1]\n",
            " ...\n",
            " [1 1]\n",
            " [1 1]\n",
            " [1 1]]\n"
          ]
        }
      ]
    },
    {
      "cell_type": "code",
      "metadata": {
        "colab": {
          "base_uri": "https://localhost:8080/"
        },
        "id": "4hfvmVKKmili",
        "outputId": "786692db-48b1-427f-b743-7673ed7d4fa7"
      },
      "source": [
        "\n",
        "# Making the Confusion Matrix\n",
        "from sklearn.metrics import confusion_matrix, accuracy_score\n",
        "cm = confusion_matrix(Y_test, Y_pred)\n",
        "print(cm)\n",
        "accuracy_score(Y_test, Y_pred)"
      ],
      "execution_count": 85,
      "outputs": [
        {
          "output_type": "stream",
          "name": "stdout",
          "text": [
            "[[4896   75    0    0    0]\n",
            " [ 164  193   17    0    0]\n",
            " [  16   37   27    1    0]\n",
            " [   0    4   10    2    0]\n",
            " [   0    0    3    0    0]]\n"
          ]
        },
        {
          "output_type": "execute_result",
          "data": {
            "text/plain": [
              "0.9399449035812673"
            ]
          },
          "metadata": {},
          "execution_count": 85
        }
      ]
    },
    {
      "cell_type": "code",
      "metadata": {
        "id": "wXYleI71mnv1"
      },
      "source": [
        ""
      ],
      "execution_count": null,
      "outputs": []
    }
  ]
}